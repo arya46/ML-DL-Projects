{
  "cells": [
    {
      "attachments": {},
      "cell_type": "markdown",
      "metadata": {
        "id": "jXiPGEaUl5Se"
      },
      "source": [
        "<h1 style=\"color:blue;\"> Predicting the Chance for Graduate Admission</h1>"
      ]
    },
    {
      "attachments": {},
      "cell_type": "markdown",
      "metadata": {
        "id": "Z6Xb98oDodWA"
      },
      "source": [
        "# Business Problem:\n",
        "\n",
        "Analyze the data to understand what factors are important in graduate admissions and how these factors are interrelated among themselves."
      ]
    },
    {
      "cell_type": "markdown",
      "metadata": {
        "id": "T2see2Iyiy08"
      },
      "source": [
        "# Importing Libaries"
      ]
    },
    {
      "cell_type": "code",
      "execution_count": 2,
      "metadata": {
        "id": "0i3jw5CRhL7M"
      },
      "outputs": [],
      "source": [
        "import pandas as pd\n",
        "import matplotlib.pyplot as plt\n",
        "import seaborn as sns\n",
        "import numpy as np\n",
        "from scipy import stats\n",
        "import warnings\n",
        "warnings.filterwarnings('ignore')\n",
        "%matplotlib inline\n",
        "%load_ext autoreload\n",
        "%autoreload 2\n",
        "from prettytable import PrettyTable"
      ]
    },
    {
      "cell_type": "markdown",
      "metadata": {
        "id": "l0WEEkqbmi0U"
      },
      "source": [
        "# Understanding the Data"
      ]
    },
    {
      "cell_type": "markdown",
      "metadata": {
        "id": "5XmV3nLNp_wI"
      },
      "source": [
        "## Quick Look at the data"
      ]
    },
    {
      "cell_type": "markdown",
      "metadata": {
        "id": "M5LONEefnArz"
      },
      "source": [
        "__Loading the Data__"
      ]
    },
    {
      "cell_type": "code",
      "execution_count": 3,
      "metadata": {
        "id": "lFzLmByJm3VX"
      },
      "outputs": [],
      "source": [
        "data_path = 'data.csv'\n",
        "df = pd.read_csv(data_path)"
      ]
    },
    {
      "cell_type": "markdown",
      "metadata": {
        "id": "iNV4hF0qnGNi"
      },
      "source": [
        "__Data Dimension__"
      ]
    },
    {
      "cell_type": "code",
      "execution_count": 4,
      "metadata": {
        "colab": {
          "base_uri": "https://localhost:8080/"
        },
        "id": "gDtlo_UAm3LD",
        "outputId": "70235f7c-db82-4cf9-e4af-accfa4c86b61"
      },
      "outputs": [
        {
          "data": {
            "text/plain": [
              "(500, 9)"
            ]
          },
          "execution_count": 4,
          "metadata": {},
          "output_type": "execute_result"
        }
      ],
      "source": [
        "df.shape"
      ]
    },
    {
      "cell_type": "markdown",
      "metadata": {
        "id": "11FIn29hvHZt"
      },
      "source": [
        "__Summary:__\n",
        "\n",
        "We have 500  data points, and 9 features"
      ]
    },
    {
      "cell_type": "markdown",
      "metadata": {
        "id": "rsUgn7XNndRz"
      },
      "source": [
        "__How the data looks like?__"
      ]
    },
    {
      "cell_type": "code",
      "execution_count": 5,
      "metadata": {
        "colab": {
          "base_uri": "https://localhost:8080/",
          "height": 206
        },
        "id": "wHN7vGH8ny1k",
        "outputId": "23d6c078-3831-40c9-d8f7-0565b26d8da9"
      },
      "outputs": [
        {
          "data": {
            "text/html": [
              "\n",
              "  <div id=\"df-89b75754-b2dc-4a19-be4f-cf6867f580f3\">\n",
              "    <div class=\"colab-df-container\">\n",
              "      <div>\n",
              "<style scoped>\n",
              "    .dataframe tbody tr th:only-of-type {\n",
              "        vertical-align: middle;\n",
              "    }\n",
              "\n",
              "    .dataframe tbody tr th {\n",
              "        vertical-align: top;\n",
              "    }\n",
              "\n",
              "    .dataframe thead th {\n",
              "        text-align: right;\n",
              "    }\n",
              "</style>\n",
              "<table border=\"1\" class=\"dataframe\">\n",
              "  <thead>\n",
              "    <tr style=\"text-align: right;\">\n",
              "      <th></th>\n",
              "      <th>Serial No.</th>\n",
              "      <th>GRE Score</th>\n",
              "      <th>TOEFL Score</th>\n",
              "      <th>University Rating</th>\n",
              "      <th>SOP</th>\n",
              "      <th>LOR</th>\n",
              "      <th>CGPA</th>\n",
              "      <th>Research</th>\n",
              "      <th>Chance of Admit</th>\n",
              "    </tr>\n",
              "  </thead>\n",
              "  <tbody>\n",
              "    <tr>\n",
              "      <th>0</th>\n",
              "      <td>1</td>\n",
              "      <td>337</td>\n",
              "      <td>118</td>\n",
              "      <td>4</td>\n",
              "      <td>4.5</td>\n",
              "      <td>4.5</td>\n",
              "      <td>9.65</td>\n",
              "      <td>1</td>\n",
              "      <td>0.92</td>\n",
              "    </tr>\n",
              "    <tr>\n",
              "      <th>1</th>\n",
              "      <td>2</td>\n",
              "      <td>324</td>\n",
              "      <td>107</td>\n",
              "      <td>4</td>\n",
              "      <td>4.0</td>\n",
              "      <td>4.5</td>\n",
              "      <td>8.87</td>\n",
              "      <td>1</td>\n",
              "      <td>0.76</td>\n",
              "    </tr>\n",
              "    <tr>\n",
              "      <th>2</th>\n",
              "      <td>3</td>\n",
              "      <td>316</td>\n",
              "      <td>104</td>\n",
              "      <td>3</td>\n",
              "      <td>3.0</td>\n",
              "      <td>3.5</td>\n",
              "      <td>8.00</td>\n",
              "      <td>1</td>\n",
              "      <td>0.72</td>\n",
              "    </tr>\n",
              "    <tr>\n",
              "      <th>3</th>\n",
              "      <td>4</td>\n",
              "      <td>322</td>\n",
              "      <td>110</td>\n",
              "      <td>3</td>\n",
              "      <td>3.5</td>\n",
              "      <td>2.5</td>\n",
              "      <td>8.67</td>\n",
              "      <td>1</td>\n",
              "      <td>0.80</td>\n",
              "    </tr>\n",
              "    <tr>\n",
              "      <th>4</th>\n",
              "      <td>5</td>\n",
              "      <td>314</td>\n",
              "      <td>103</td>\n",
              "      <td>2</td>\n",
              "      <td>2.0</td>\n",
              "      <td>3.0</td>\n",
              "      <td>8.21</td>\n",
              "      <td>0</td>\n",
              "      <td>0.65</td>\n",
              "    </tr>\n",
              "  </tbody>\n",
              "</table>\n",
              "</div>\n",
              "      <button class=\"colab-df-convert\" onclick=\"convertToInteractive('df-89b75754-b2dc-4a19-be4f-cf6867f580f3')\"\n",
              "              title=\"Convert this dataframe to an interactive table.\"\n",
              "              style=\"display:none;\">\n",
              "        \n",
              "  <svg xmlns=\"http://www.w3.org/2000/svg\" height=\"24px\"viewBox=\"0 0 24 24\"\n",
              "       width=\"24px\">\n",
              "    <path d=\"M0 0h24v24H0V0z\" fill=\"none\"/>\n",
              "    <path d=\"M18.56 5.44l.94 2.06.94-2.06 2.06-.94-2.06-.94-.94-2.06-.94 2.06-2.06.94zm-11 1L8.5 8.5l.94-2.06 2.06-.94-2.06-.94L8.5 2.5l-.94 2.06-2.06.94zm10 10l.94 2.06.94-2.06 2.06-.94-2.06-.94-.94-2.06-.94 2.06-2.06.94z\"/><path d=\"M17.41 7.96l-1.37-1.37c-.4-.4-.92-.59-1.43-.59-.52 0-1.04.2-1.43.59L10.3 9.45l-7.72 7.72c-.78.78-.78 2.05 0 2.83L4 21.41c.39.39.9.59 1.41.59.51 0 1.02-.2 1.41-.59l7.78-7.78 2.81-2.81c.8-.78.8-2.07 0-2.86zM5.41 20L4 18.59l7.72-7.72 1.47 1.35L5.41 20z\"/>\n",
              "  </svg>\n",
              "      </button>\n",
              "      \n",
              "  <style>\n",
              "    .colab-df-container {\n",
              "      display:flex;\n",
              "      flex-wrap:wrap;\n",
              "      gap: 12px;\n",
              "    }\n",
              "\n",
              "    .colab-df-convert {\n",
              "      background-color: #E8F0FE;\n",
              "      border: none;\n",
              "      border-radius: 50%;\n",
              "      cursor: pointer;\n",
              "      display: none;\n",
              "      fill: #1967D2;\n",
              "      height: 32px;\n",
              "      padding: 0 0 0 0;\n",
              "      width: 32px;\n",
              "    }\n",
              "\n",
              "    .colab-df-convert:hover {\n",
              "      background-color: #E2EBFA;\n",
              "      box-shadow: 0px 1px 2px rgba(60, 64, 67, 0.3), 0px 1px 3px 1px rgba(60, 64, 67, 0.15);\n",
              "      fill: #174EA6;\n",
              "    }\n",
              "\n",
              "    [theme=dark] .colab-df-convert {\n",
              "      background-color: #3B4455;\n",
              "      fill: #D2E3FC;\n",
              "    }\n",
              "\n",
              "    [theme=dark] .colab-df-convert:hover {\n",
              "      background-color: #434B5C;\n",
              "      box-shadow: 0px 1px 3px 1px rgba(0, 0, 0, 0.15);\n",
              "      filter: drop-shadow(0px 1px 2px rgba(0, 0, 0, 0.3));\n",
              "      fill: #FFFFFF;\n",
              "    }\n",
              "  </style>\n",
              "\n",
              "      <script>\n",
              "        const buttonEl =\n",
              "          document.querySelector('#df-89b75754-b2dc-4a19-be4f-cf6867f580f3 button.colab-df-convert');\n",
              "        buttonEl.style.display =\n",
              "          google.colab.kernel.accessAllowed ? 'block' : 'none';\n",
              "\n",
              "        async function convertToInteractive(key) {\n",
              "          const element = document.querySelector('#df-89b75754-b2dc-4a19-be4f-cf6867f580f3');\n",
              "          const dataTable =\n",
              "            await google.colab.kernel.invokeFunction('convertToInteractive',\n",
              "                                                     [key], {});\n",
              "          if (!dataTable) return;\n",
              "\n",
              "          const docLinkHtml = 'Like what you see? Visit the ' +\n",
              "            '<a target=\"_blank\" href=https://colab.research.google.com/notebooks/data_table.ipynb>data table notebook</a>'\n",
              "            + ' to learn more about interactive tables.';\n",
              "          element.innerHTML = '';\n",
              "          dataTable['output_type'] = 'display_data';\n",
              "          await google.colab.output.renderOutput(dataTable, element);\n",
              "          const docLink = document.createElement('div');\n",
              "          docLink.innerHTML = docLinkHtml;\n",
              "          element.appendChild(docLink);\n",
              "        }\n",
              "      </script>\n",
              "    </div>\n",
              "  </div>\n",
              "  "
            ],
            "text/plain": [
              "   Serial No.  GRE Score  TOEFL Score  University Rating  SOP  LOR   CGPA  \\\n",
              "0           1        337          118                  4  4.5   4.5  9.65   \n",
              "1           2        324          107                  4  4.0   4.5  8.87   \n",
              "2           3        316          104                  3  3.0   3.5  8.00   \n",
              "3           4        322          110                  3  3.5   2.5  8.67   \n",
              "4           5        314          103                  2  2.0   3.0  8.21   \n",
              "\n",
              "   Research  Chance of Admit   \n",
              "0         1              0.92  \n",
              "1         1              0.76  \n",
              "2         1              0.72  \n",
              "3         1              0.80  \n",
              "4         0              0.65  "
            ]
          },
          "execution_count": 5,
          "metadata": {},
          "output_type": "execute_result"
        }
      ],
      "source": [
        "df.head()"
      ]
    },
    {
      "cell_type": "markdown",
      "metadata": {
        "id": "cALvGBHWpS0R"
      },
      "source": [
        "__Column names:__"
      ]
    },
    {
      "cell_type": "code",
      "execution_count": 6,
      "metadata": {
        "colab": {
          "base_uri": "https://localhost:8080/"
        },
        "id": "2wacvzd3pWLm",
        "outputId": "8ef7b8a5-0c00-4742-c330-73d2ab1ee33d"
      },
      "outputs": [
        {
          "data": {
            "text/plain": [
              "Index(['Serial No.', 'GRE Score', 'TOEFL Score', 'University Rating', 'SOP',\n",
              "       'LOR ', 'CGPA', 'Research', 'Chance of Admit '],\n",
              "      dtype='object')"
            ]
          },
          "execution_count": 6,
          "metadata": {},
          "output_type": "execute_result"
        }
      ],
      "source": [
        "df.columns"
      ]
    },
    {
      "cell_type": "markdown",
      "metadata": {
        "id": "C_9S-fC-iUXA"
      },
      "source": [
        "**We have following informations about the columns:**\n",
        "<ul>\n",
        "<li>Serial No. (Unique row ID)</li>\n",
        "<li>GRE Scores (out of 340)</li>\n",
        "<li>TOEFL Scores (out of 120)</li>\n",
        "<li>University Rating (out of 5)</li>\n",
        "<li>Statement of Purpose and Letter of Recommendation Strength (out of 5)</li>\n",
        "<li>Undergraduate GPA (out of 10)</li>\n",
        "<li>Research Experience (either 0 or 1)</li>\n",
        "<li>Chance of Admit (ranging from 0 to 1)</li>\n",
        "</ul>"
      ]
    },
    {
      "cell_type": "markdown",
      "metadata": {
        "id": "eDIcGIcUbKQs"
      },
      "source": [
        "Here `Serial No` is a unique identifier. So we will drop it from our further analysis."
      ]
    },
    {
      "cell_type": "code",
      "execution_count": 7,
      "metadata": {
        "colab": {
          "base_uri": "https://localhost:8080/",
          "height": 206
        },
        "id": "ArBmc6V7bS7r",
        "outputId": "8b12d2e1-7688-49cc-b218-db0e6dfc2085"
      },
      "outputs": [
        {
          "data": {
            "text/html": [
              "\n",
              "  <div id=\"df-f5c9cef4-ed12-4e36-a14c-256a66253ff5\">\n",
              "    <div class=\"colab-df-container\">\n",
              "      <div>\n",
              "<style scoped>\n",
              "    .dataframe tbody tr th:only-of-type {\n",
              "        vertical-align: middle;\n",
              "    }\n",
              "\n",
              "    .dataframe tbody tr th {\n",
              "        vertical-align: top;\n",
              "    }\n",
              "\n",
              "    .dataframe thead th {\n",
              "        text-align: right;\n",
              "    }\n",
              "</style>\n",
              "<table border=\"1\" class=\"dataframe\">\n",
              "  <thead>\n",
              "    <tr style=\"text-align: right;\">\n",
              "      <th></th>\n",
              "      <th>GRE Score</th>\n",
              "      <th>TOEFL Score</th>\n",
              "      <th>University Rating</th>\n",
              "      <th>SOP</th>\n",
              "      <th>LOR</th>\n",
              "      <th>CGPA</th>\n",
              "      <th>Research</th>\n",
              "      <th>Chance of Admit</th>\n",
              "    </tr>\n",
              "  </thead>\n",
              "  <tbody>\n",
              "    <tr>\n",
              "      <th>0</th>\n",
              "      <td>337</td>\n",
              "      <td>118</td>\n",
              "      <td>4</td>\n",
              "      <td>4.5</td>\n",
              "      <td>4.5</td>\n",
              "      <td>9.65</td>\n",
              "      <td>1</td>\n",
              "      <td>0.92</td>\n",
              "    </tr>\n",
              "    <tr>\n",
              "      <th>1</th>\n",
              "      <td>324</td>\n",
              "      <td>107</td>\n",
              "      <td>4</td>\n",
              "      <td>4.0</td>\n",
              "      <td>4.5</td>\n",
              "      <td>8.87</td>\n",
              "      <td>1</td>\n",
              "      <td>0.76</td>\n",
              "    </tr>\n",
              "    <tr>\n",
              "      <th>2</th>\n",
              "      <td>316</td>\n",
              "      <td>104</td>\n",
              "      <td>3</td>\n",
              "      <td>3.0</td>\n",
              "      <td>3.5</td>\n",
              "      <td>8.00</td>\n",
              "      <td>1</td>\n",
              "      <td>0.72</td>\n",
              "    </tr>\n",
              "    <tr>\n",
              "      <th>3</th>\n",
              "      <td>322</td>\n",
              "      <td>110</td>\n",
              "      <td>3</td>\n",
              "      <td>3.5</td>\n",
              "      <td>2.5</td>\n",
              "      <td>8.67</td>\n",
              "      <td>1</td>\n",
              "      <td>0.80</td>\n",
              "    </tr>\n",
              "    <tr>\n",
              "      <th>4</th>\n",
              "      <td>314</td>\n",
              "      <td>103</td>\n",
              "      <td>2</td>\n",
              "      <td>2.0</td>\n",
              "      <td>3.0</td>\n",
              "      <td>8.21</td>\n",
              "      <td>0</td>\n",
              "      <td>0.65</td>\n",
              "    </tr>\n",
              "  </tbody>\n",
              "</table>\n",
              "</div>\n",
              "      <button class=\"colab-df-convert\" onclick=\"convertToInteractive('df-f5c9cef4-ed12-4e36-a14c-256a66253ff5')\"\n",
              "              title=\"Convert this dataframe to an interactive table.\"\n",
              "              style=\"display:none;\">\n",
              "        \n",
              "  <svg xmlns=\"http://www.w3.org/2000/svg\" height=\"24px\"viewBox=\"0 0 24 24\"\n",
              "       width=\"24px\">\n",
              "    <path d=\"M0 0h24v24H0V0z\" fill=\"none\"/>\n",
              "    <path d=\"M18.56 5.44l.94 2.06.94-2.06 2.06-.94-2.06-.94-.94-2.06-.94 2.06-2.06.94zm-11 1L8.5 8.5l.94-2.06 2.06-.94-2.06-.94L8.5 2.5l-.94 2.06-2.06.94zm10 10l.94 2.06.94-2.06 2.06-.94-2.06-.94-.94-2.06-.94 2.06-2.06.94z\"/><path d=\"M17.41 7.96l-1.37-1.37c-.4-.4-.92-.59-1.43-.59-.52 0-1.04.2-1.43.59L10.3 9.45l-7.72 7.72c-.78.78-.78 2.05 0 2.83L4 21.41c.39.39.9.59 1.41.59.51 0 1.02-.2 1.41-.59l7.78-7.78 2.81-2.81c.8-.78.8-2.07 0-2.86zM5.41 20L4 18.59l7.72-7.72 1.47 1.35L5.41 20z\"/>\n",
              "  </svg>\n",
              "      </button>\n",
              "      \n",
              "  <style>\n",
              "    .colab-df-container {\n",
              "      display:flex;\n",
              "      flex-wrap:wrap;\n",
              "      gap: 12px;\n",
              "    }\n",
              "\n",
              "    .colab-df-convert {\n",
              "      background-color: #E8F0FE;\n",
              "      border: none;\n",
              "      border-radius: 50%;\n",
              "      cursor: pointer;\n",
              "      display: none;\n",
              "      fill: #1967D2;\n",
              "      height: 32px;\n",
              "      padding: 0 0 0 0;\n",
              "      width: 32px;\n",
              "    }\n",
              "\n",
              "    .colab-df-convert:hover {\n",
              "      background-color: #E2EBFA;\n",
              "      box-shadow: 0px 1px 2px rgba(60, 64, 67, 0.3), 0px 1px 3px 1px rgba(60, 64, 67, 0.15);\n",
              "      fill: #174EA6;\n",
              "    }\n",
              "\n",
              "    [theme=dark] .colab-df-convert {\n",
              "      background-color: #3B4455;\n",
              "      fill: #D2E3FC;\n",
              "    }\n",
              "\n",
              "    [theme=dark] .colab-df-convert:hover {\n",
              "      background-color: #434B5C;\n",
              "      box-shadow: 0px 1px 3px 1px rgba(0, 0, 0, 0.15);\n",
              "      filter: drop-shadow(0px 1px 2px rgba(0, 0, 0, 0.3));\n",
              "      fill: #FFFFFF;\n",
              "    }\n",
              "  </style>\n",
              "\n",
              "      <script>\n",
              "        const buttonEl =\n",
              "          document.querySelector('#df-f5c9cef4-ed12-4e36-a14c-256a66253ff5 button.colab-df-convert');\n",
              "        buttonEl.style.display =\n",
              "          google.colab.kernel.accessAllowed ? 'block' : 'none';\n",
              "\n",
              "        async function convertToInteractive(key) {\n",
              "          const element = document.querySelector('#df-f5c9cef4-ed12-4e36-a14c-256a66253ff5');\n",
              "          const dataTable =\n",
              "            await google.colab.kernel.invokeFunction('convertToInteractive',\n",
              "                                                     [key], {});\n",
              "          if (!dataTable) return;\n",
              "\n",
              "          const docLinkHtml = 'Like what you see? Visit the ' +\n",
              "            '<a target=\"_blank\" href=https://colab.research.google.com/notebooks/data_table.ipynb>data table notebook</a>'\n",
              "            + ' to learn more about interactive tables.';\n",
              "          element.innerHTML = '';\n",
              "          dataTable['output_type'] = 'display_data';\n",
              "          await google.colab.output.renderOutput(dataTable, element);\n",
              "          const docLink = document.createElement('div');\n",
              "          docLink.innerHTML = docLinkHtml;\n",
              "          element.appendChild(docLink);\n",
              "        }\n",
              "      </script>\n",
              "    </div>\n",
              "  </div>\n",
              "  "
            ],
            "text/plain": [
              "   GRE Score  TOEFL Score  University Rating  SOP  LOR   CGPA  Research  \\\n",
              "0        337          118                  4  4.5   4.5  9.65         1   \n",
              "1        324          107                  4  4.0   4.5  8.87         1   \n",
              "2        316          104                  3  3.0   3.5  8.00         1   \n",
              "3        322          110                  3  3.5   2.5  8.67         1   \n",
              "4        314          103                  2  2.0   3.0  8.21         0   \n",
              "\n",
              "   Chance of Admit   \n",
              "0              0.92  \n",
              "1              0.76  \n",
              "2              0.72  \n",
              "3              0.80  \n",
              "4              0.65  "
            ]
          },
          "execution_count": 7,
          "metadata": {},
          "output_type": "execute_result"
        }
      ],
      "source": [
        "df.drop(columns=['Serial No.'], inplace=True)\n",
        "df.head()"
      ]
    },
    {
      "cell_type": "markdown",
      "metadata": {
        "id": "YIb2c4bupeU3"
      },
      "source": [
        "__Checking the data types of the columns__"
      ]
    },
    {
      "cell_type": "code",
      "execution_count": 8,
      "metadata": {
        "colab": {
          "base_uri": "https://localhost:8080/"
        },
        "id": "Aius4MQIpC6A",
        "outputId": "50af08dc-41da-4241-d61a-d0fbc0e6ec1b"
      },
      "outputs": [
        {
          "name": "stdout",
          "output_type": "stream",
          "text": [
            "<class 'pandas.core.frame.DataFrame'>\n",
            "RangeIndex: 500 entries, 0 to 499\n",
            "Data columns (total 8 columns):\n",
            " #   Column             Non-Null Count  Dtype  \n",
            "---  ------             --------------  -----  \n",
            " 0   GRE Score          500 non-null    int64  \n",
            " 1   TOEFL Score        500 non-null    int64  \n",
            " 2   University Rating  500 non-null    int64  \n",
            " 3   SOP                500 non-null    float64\n",
            " 4   LOR                500 non-null    float64\n",
            " 5   CGPA               500 non-null    float64\n",
            " 6   Research           500 non-null    int64  \n",
            " 7   Chance of Admit    500 non-null    float64\n",
            "dtypes: float64(4), int64(4)\n",
            "memory usage: 31.4 KB\n"
          ]
        }
      ],
      "source": [
        "df.info()"
      ]
    },
    {
      "cell_type": "markdown",
      "metadata": {
        "id": "A7FvcQGUtuq1"
      },
      "source": [
        "__Summary__\n",
        "\n",
        "- We have following types of attributes: `float` and `int`\n"
      ]
    },
    {
      "cell_type": "markdown",
      "metadata": {
        "id": "X18vSE0B0IZI"
      },
      "source": [
        "## Some basic checks\n"
      ]
    },
    {
      "cell_type": "markdown",
      "metadata": {
        "id": "s61iig6N3yqo"
      },
      "source": [
        "### Fixing any discrepansies in dtype"
      ]
    },
    {
      "cell_type": "code",
      "execution_count": 9,
      "metadata": {
        "id": "E5lJ08ipbOUK"
      },
      "outputs": [],
      "source": [
        "def iqr(x):\n",
        "    return x.quantile(q=0.75) - x.quantile(q=0.25)\n",
        "\n",
        "def quantile_boundaries(x):\n",
        "    upper_out = x.quantile(q=0.75) + 1.5 * iqr(x)\n",
        "    lower_out = x.quantile(q=0.25) - 1.5 * iqr(x)\n",
        "    return (lower_out, upper_out)\n",
        "\n",
        "## Outlier > 75th %tile + 1.5IQR & < 25th %tile - 1.5IQR\n",
        "def outlier_count(x):\n",
        "    upper_out = x.quantile(q=0.75) + 1.5 * iqr(x)\n",
        "    lower_out = x.quantile(q=0.25) - 1.5 * iqr(x)\n",
        "\n",
        "    return len(x[x > upper_out]) + len(x[x < lower_out])"
      ]
    },
    {
      "cell_type": "code",
      "execution_count": 10,
      "metadata": {
        "id": "I7brCVYwAJdX"
      },
      "outputs": [],
      "source": [
        "def stats_summary(df, type):\n",
        "    \"\"\"\n",
        "    Method to display statistical summaries for categorical and numerical columns\n",
        "\n",
        "    Arguments:\n",
        "        df: a data frame object\n",
        "        type: the dtype for which summaries will be computed.\n",
        "            Accepts two values: either 'numeric' or 'category'\n",
        "\n",
        "    Returns:\n",
        "        A dataframe object containing statistical summaries\n",
        "    \"\"\"\n",
        "    if type=='numeric':\n",
        "        df_num = df._get_numeric_data()\n",
        "        df_stats = df_num.describe().T\n",
        "        try:\n",
        "            vals = []\n",
        "            unique = []\n",
        "            for c in df_num.columns:\n",
        "                vals.append(outlier_count(df_num[c]))\n",
        "                unique.append(df_num[c].nunique())\n",
        "            df_stats['Count of Outliers'] = vals\n",
        "            df_stats['Unique Values'] = unique\n",
        "        except:\n",
        "            pass\n",
        "        return df_stats\n",
        "\n",
        "    elif type=='category':\n",
        "        df_cat = df.select_dtypes(['category'])\n",
        "        df_stats = df_cat.describe().T\n",
        "\n",
        "        try:\n",
        "            vals = []\n",
        "            for c in df_cat.columns:\n",
        "                vals.append((df_cat[df_cat[c].isnull()].shape[0]*100) / df_cat.shape[0])\n",
        "            df_stats['Missing Percentage'] = vals\n",
        "        except:\n",
        "            pass\n",
        "        return df_stats\n",
        "\n",
        "    else:\n",
        "        raise Exception('Legal type params are {\"numeric\", \"category\"}') "
      ]
    },
    {
      "cell_type": "code",
      "execution_count": 11,
      "metadata": {
        "id": "VYZzPY7xaEb2"
      },
      "outputs": [],
      "source": [
        "def datatype_conversion(df, columns, target_type):\n",
        "    \"\"\"\n",
        "    Method to convert the type of columns in \"columns\" to \"target_type\"\n",
        "    \"\"\"\n",
        "    convert_dict = dict(zip(columns, [target_type]*len(columns)))\n",
        "    df = df.astype(convert_dict)\n",
        "    return df\n",
        "\n",
        "def datatype_information(df):\n",
        "    \"\"\"\n",
        "    Method to display \"dtype\" for each column\n",
        "    \"\"\"\n",
        "    datatype_info = pd.DataFrame(columns=df.columns)\n",
        "    for col in df.columns:\n",
        "        datatype_info.loc[0, col] = df[col].dtype\n",
        "    return datatype_info"
      ]
    },
    {
      "cell_type": "code",
      "execution_count": 12,
      "metadata": {
        "colab": {
          "base_uri": "https://localhost:8080/",
          "height": 206
        },
        "id": "oA7vlUDbddZ0",
        "outputId": "c8f6a1cc-7b77-4f8e-9d25-60f8c76ad2ad"
      },
      "outputs": [
        {
          "data": {
            "text/html": [
              "\n",
              "  <div id=\"df-94034139-8d4f-4493-9154-604ebacfedd2\">\n",
              "    <div class=\"colab-df-container\">\n",
              "      <div>\n",
              "<style scoped>\n",
              "    .dataframe tbody tr th:only-of-type {\n",
              "        vertical-align: middle;\n",
              "    }\n",
              "\n",
              "    .dataframe tbody tr th {\n",
              "        vertical-align: top;\n",
              "    }\n",
              "\n",
              "    .dataframe thead th {\n",
              "        text-align: right;\n",
              "    }\n",
              "</style>\n",
              "<table border=\"1\" class=\"dataframe\">\n",
              "  <thead>\n",
              "    <tr style=\"text-align: right;\">\n",
              "      <th></th>\n",
              "      <th>GRE Score</th>\n",
              "      <th>TOEFL Score</th>\n",
              "      <th>University Rating</th>\n",
              "      <th>SOP</th>\n",
              "      <th>LOR</th>\n",
              "      <th>CGPA</th>\n",
              "      <th>Research</th>\n",
              "      <th>Chance of Admit</th>\n",
              "    </tr>\n",
              "  </thead>\n",
              "  <tbody>\n",
              "    <tr>\n",
              "      <th>0</th>\n",
              "      <td>337</td>\n",
              "      <td>118</td>\n",
              "      <td>4</td>\n",
              "      <td>4.5</td>\n",
              "      <td>4.5</td>\n",
              "      <td>9.65</td>\n",
              "      <td>1</td>\n",
              "      <td>0.92</td>\n",
              "    </tr>\n",
              "    <tr>\n",
              "      <th>1</th>\n",
              "      <td>324</td>\n",
              "      <td>107</td>\n",
              "      <td>4</td>\n",
              "      <td>4.0</td>\n",
              "      <td>4.5</td>\n",
              "      <td>8.87</td>\n",
              "      <td>1</td>\n",
              "      <td>0.76</td>\n",
              "    </tr>\n",
              "    <tr>\n",
              "      <th>2</th>\n",
              "      <td>316</td>\n",
              "      <td>104</td>\n",
              "      <td>3</td>\n",
              "      <td>3.0</td>\n",
              "      <td>3.5</td>\n",
              "      <td>8.00</td>\n",
              "      <td>1</td>\n",
              "      <td>0.72</td>\n",
              "    </tr>\n",
              "    <tr>\n",
              "      <th>3</th>\n",
              "      <td>322</td>\n",
              "      <td>110</td>\n",
              "      <td>3</td>\n",
              "      <td>3.5</td>\n",
              "      <td>2.5</td>\n",
              "      <td>8.67</td>\n",
              "      <td>1</td>\n",
              "      <td>0.80</td>\n",
              "    </tr>\n",
              "    <tr>\n",
              "      <th>4</th>\n",
              "      <td>314</td>\n",
              "      <td>103</td>\n",
              "      <td>2</td>\n",
              "      <td>2.0</td>\n",
              "      <td>3.0</td>\n",
              "      <td>8.21</td>\n",
              "      <td>0</td>\n",
              "      <td>0.65</td>\n",
              "    </tr>\n",
              "  </tbody>\n",
              "</table>\n",
              "</div>\n",
              "      <button class=\"colab-df-convert\" onclick=\"convertToInteractive('df-94034139-8d4f-4493-9154-604ebacfedd2')\"\n",
              "              title=\"Convert this dataframe to an interactive table.\"\n",
              "              style=\"display:none;\">\n",
              "        \n",
              "  <svg xmlns=\"http://www.w3.org/2000/svg\" height=\"24px\"viewBox=\"0 0 24 24\"\n",
              "       width=\"24px\">\n",
              "    <path d=\"M0 0h24v24H0V0z\" fill=\"none\"/>\n",
              "    <path d=\"M18.56 5.44l.94 2.06.94-2.06 2.06-.94-2.06-.94-.94-2.06-.94 2.06-2.06.94zm-11 1L8.5 8.5l.94-2.06 2.06-.94-2.06-.94L8.5 2.5l-.94 2.06-2.06.94zm10 10l.94 2.06.94-2.06 2.06-.94-2.06-.94-.94-2.06-.94 2.06-2.06.94z\"/><path d=\"M17.41 7.96l-1.37-1.37c-.4-.4-.92-.59-1.43-.59-.52 0-1.04.2-1.43.59L10.3 9.45l-7.72 7.72c-.78.78-.78 2.05 0 2.83L4 21.41c.39.39.9.59 1.41.59.51 0 1.02-.2 1.41-.59l7.78-7.78 2.81-2.81c.8-.78.8-2.07 0-2.86zM5.41 20L4 18.59l7.72-7.72 1.47 1.35L5.41 20z\"/>\n",
              "  </svg>\n",
              "      </button>\n",
              "      \n",
              "  <style>\n",
              "    .colab-df-container {\n",
              "      display:flex;\n",
              "      flex-wrap:wrap;\n",
              "      gap: 12px;\n",
              "    }\n",
              "\n",
              "    .colab-df-convert {\n",
              "      background-color: #E8F0FE;\n",
              "      border: none;\n",
              "      border-radius: 50%;\n",
              "      cursor: pointer;\n",
              "      display: none;\n",
              "      fill: #1967D2;\n",
              "      height: 32px;\n",
              "      padding: 0 0 0 0;\n",
              "      width: 32px;\n",
              "    }\n",
              "\n",
              "    .colab-df-convert:hover {\n",
              "      background-color: #E2EBFA;\n",
              "      box-shadow: 0px 1px 2px rgba(60, 64, 67, 0.3), 0px 1px 3px 1px rgba(60, 64, 67, 0.15);\n",
              "      fill: #174EA6;\n",
              "    }\n",
              "\n",
              "    [theme=dark] .colab-df-convert {\n",
              "      background-color: #3B4455;\n",
              "      fill: #D2E3FC;\n",
              "    }\n",
              "\n",
              "    [theme=dark] .colab-df-convert:hover {\n",
              "      background-color: #434B5C;\n",
              "      box-shadow: 0px 1px 3px 1px rgba(0, 0, 0, 0.15);\n",
              "      filter: drop-shadow(0px 1px 2px rgba(0, 0, 0, 0.3));\n",
              "      fill: #FFFFFF;\n",
              "    }\n",
              "  </style>\n",
              "\n",
              "      <script>\n",
              "        const buttonEl =\n",
              "          document.querySelector('#df-94034139-8d4f-4493-9154-604ebacfedd2 button.colab-df-convert');\n",
              "        buttonEl.style.display =\n",
              "          google.colab.kernel.accessAllowed ? 'block' : 'none';\n",
              "\n",
              "        async function convertToInteractive(key) {\n",
              "          const element = document.querySelector('#df-94034139-8d4f-4493-9154-604ebacfedd2');\n",
              "          const dataTable =\n",
              "            await google.colab.kernel.invokeFunction('convertToInteractive',\n",
              "                                                     [key], {});\n",
              "          if (!dataTable) return;\n",
              "\n",
              "          const docLinkHtml = 'Like what you see? Visit the ' +\n",
              "            '<a target=\"_blank\" href=https://colab.research.google.com/notebooks/data_table.ipynb>data table notebook</a>'\n",
              "            + ' to learn more about interactive tables.';\n",
              "          element.innerHTML = '';\n",
              "          dataTable['output_type'] = 'display_data';\n",
              "          await google.colab.output.renderOutput(dataTable, element);\n",
              "          const docLink = document.createElement('div');\n",
              "          docLink.innerHTML = docLinkHtml;\n",
              "          element.appendChild(docLink);\n",
              "        }\n",
              "      </script>\n",
              "    </div>\n",
              "  </div>\n",
              "  "
            ],
            "text/plain": [
              "   GRE Score  TOEFL Score  University Rating  SOP  LOR   CGPA  Research  \\\n",
              "0        337          118                  4  4.5   4.5  9.65         1   \n",
              "1        324          107                  4  4.0   4.5  8.87         1   \n",
              "2        316          104                  3  3.0   3.5  8.00         1   \n",
              "3        322          110                  3  3.5   2.5  8.67         1   \n",
              "4        314          103                  2  2.0   3.0  8.21         0   \n",
              "\n",
              "   Chance of Admit   \n",
              "0              0.92  \n",
              "1              0.76  \n",
              "2              0.72  \n",
              "3              0.80  \n",
              "4              0.65  "
            ]
          },
          "execution_count": 12,
          "metadata": {},
          "output_type": "execute_result"
        }
      ],
      "source": [
        "df.select_dtypes([np.number]).head()"
      ]
    },
    {
      "cell_type": "code",
      "execution_count": 13,
      "metadata": {
        "colab": {
          "base_uri": "https://localhost:8080/",
          "height": 300
        },
        "id": "tVkrE4cWp2-7",
        "outputId": "c43db3d9-5060-4fb6-8da9-38713b3909d6"
      },
      "outputs": [
        {
          "data": {
            "text/html": [
              "\n",
              "  <div id=\"df-834ab47e-aa1e-481f-ab9e-51ab276ee0f6\">\n",
              "    <div class=\"colab-df-container\">\n",
              "      <div>\n",
              "<style scoped>\n",
              "    .dataframe tbody tr th:only-of-type {\n",
              "        vertical-align: middle;\n",
              "    }\n",
              "\n",
              "    .dataframe tbody tr th {\n",
              "        vertical-align: top;\n",
              "    }\n",
              "\n",
              "    .dataframe thead th {\n",
              "        text-align: right;\n",
              "    }\n",
              "</style>\n",
              "<table border=\"1\" class=\"dataframe\">\n",
              "  <thead>\n",
              "    <tr style=\"text-align: right;\">\n",
              "      <th></th>\n",
              "      <th>count</th>\n",
              "      <th>mean</th>\n",
              "      <th>std</th>\n",
              "      <th>min</th>\n",
              "      <th>25%</th>\n",
              "      <th>50%</th>\n",
              "      <th>75%</th>\n",
              "      <th>max</th>\n",
              "      <th>Count of Outliers</th>\n",
              "      <th>Unique Values</th>\n",
              "    </tr>\n",
              "  </thead>\n",
              "  <tbody>\n",
              "    <tr>\n",
              "      <th>GRE Score</th>\n",
              "      <td>500.0</td>\n",
              "      <td>316.47200</td>\n",
              "      <td>11.295148</td>\n",
              "      <td>290.00</td>\n",
              "      <td>308.0000</td>\n",
              "      <td>317.00</td>\n",
              "      <td>325.00</td>\n",
              "      <td>340.00</td>\n",
              "      <td>0</td>\n",
              "      <td>49</td>\n",
              "    </tr>\n",
              "    <tr>\n",
              "      <th>TOEFL Score</th>\n",
              "      <td>500.0</td>\n",
              "      <td>107.19200</td>\n",
              "      <td>6.081868</td>\n",
              "      <td>92.00</td>\n",
              "      <td>103.0000</td>\n",
              "      <td>107.00</td>\n",
              "      <td>112.00</td>\n",
              "      <td>120.00</td>\n",
              "      <td>0</td>\n",
              "      <td>29</td>\n",
              "    </tr>\n",
              "    <tr>\n",
              "      <th>University Rating</th>\n",
              "      <td>500.0</td>\n",
              "      <td>3.11400</td>\n",
              "      <td>1.143512</td>\n",
              "      <td>1.00</td>\n",
              "      <td>2.0000</td>\n",
              "      <td>3.00</td>\n",
              "      <td>4.00</td>\n",
              "      <td>5.00</td>\n",
              "      <td>0</td>\n",
              "      <td>5</td>\n",
              "    </tr>\n",
              "    <tr>\n",
              "      <th>SOP</th>\n",
              "      <td>500.0</td>\n",
              "      <td>3.37400</td>\n",
              "      <td>0.991004</td>\n",
              "      <td>1.00</td>\n",
              "      <td>2.5000</td>\n",
              "      <td>3.50</td>\n",
              "      <td>4.00</td>\n",
              "      <td>5.00</td>\n",
              "      <td>0</td>\n",
              "      <td>9</td>\n",
              "    </tr>\n",
              "    <tr>\n",
              "      <th>LOR</th>\n",
              "      <td>500.0</td>\n",
              "      <td>3.48400</td>\n",
              "      <td>0.925450</td>\n",
              "      <td>1.00</td>\n",
              "      <td>3.0000</td>\n",
              "      <td>3.50</td>\n",
              "      <td>4.00</td>\n",
              "      <td>5.00</td>\n",
              "      <td>1</td>\n",
              "      <td>9</td>\n",
              "    </tr>\n",
              "    <tr>\n",
              "      <th>CGPA</th>\n",
              "      <td>500.0</td>\n",
              "      <td>8.57644</td>\n",
              "      <td>0.604813</td>\n",
              "      <td>6.80</td>\n",
              "      <td>8.1275</td>\n",
              "      <td>8.56</td>\n",
              "      <td>9.04</td>\n",
              "      <td>9.92</td>\n",
              "      <td>0</td>\n",
              "      <td>184</td>\n",
              "    </tr>\n",
              "    <tr>\n",
              "      <th>Research</th>\n",
              "      <td>500.0</td>\n",
              "      <td>0.56000</td>\n",
              "      <td>0.496884</td>\n",
              "      <td>0.00</td>\n",
              "      <td>0.0000</td>\n",
              "      <td>1.00</td>\n",
              "      <td>1.00</td>\n",
              "      <td>1.00</td>\n",
              "      <td>0</td>\n",
              "      <td>2</td>\n",
              "    </tr>\n",
              "    <tr>\n",
              "      <th>Chance of Admit</th>\n",
              "      <td>500.0</td>\n",
              "      <td>0.72174</td>\n",
              "      <td>0.141140</td>\n",
              "      <td>0.34</td>\n",
              "      <td>0.6300</td>\n",
              "      <td>0.72</td>\n",
              "      <td>0.82</td>\n",
              "      <td>0.97</td>\n",
              "      <td>2</td>\n",
              "      <td>61</td>\n",
              "    </tr>\n",
              "  </tbody>\n",
              "</table>\n",
              "</div>\n",
              "      <button class=\"colab-df-convert\" onclick=\"convertToInteractive('df-834ab47e-aa1e-481f-ab9e-51ab276ee0f6')\"\n",
              "              title=\"Convert this dataframe to an interactive table.\"\n",
              "              style=\"display:none;\">\n",
              "        \n",
              "  <svg xmlns=\"http://www.w3.org/2000/svg\" height=\"24px\"viewBox=\"0 0 24 24\"\n",
              "       width=\"24px\">\n",
              "    <path d=\"M0 0h24v24H0V0z\" fill=\"none\"/>\n",
              "    <path d=\"M18.56 5.44l.94 2.06.94-2.06 2.06-.94-2.06-.94-.94-2.06-.94 2.06-2.06.94zm-11 1L8.5 8.5l.94-2.06 2.06-.94-2.06-.94L8.5 2.5l-.94 2.06-2.06.94zm10 10l.94 2.06.94-2.06 2.06-.94-2.06-.94-.94-2.06-.94 2.06-2.06.94z\"/><path d=\"M17.41 7.96l-1.37-1.37c-.4-.4-.92-.59-1.43-.59-.52 0-1.04.2-1.43.59L10.3 9.45l-7.72 7.72c-.78.78-.78 2.05 0 2.83L4 21.41c.39.39.9.59 1.41.59.51 0 1.02-.2 1.41-.59l7.78-7.78 2.81-2.81c.8-.78.8-2.07 0-2.86zM5.41 20L4 18.59l7.72-7.72 1.47 1.35L5.41 20z\"/>\n",
              "  </svg>\n",
              "      </button>\n",
              "      \n",
              "  <style>\n",
              "    .colab-df-container {\n",
              "      display:flex;\n",
              "      flex-wrap:wrap;\n",
              "      gap: 12px;\n",
              "    }\n",
              "\n",
              "    .colab-df-convert {\n",
              "      background-color: #E8F0FE;\n",
              "      border: none;\n",
              "      border-radius: 50%;\n",
              "      cursor: pointer;\n",
              "      display: none;\n",
              "      fill: #1967D2;\n",
              "      height: 32px;\n",
              "      padding: 0 0 0 0;\n",
              "      width: 32px;\n",
              "    }\n",
              "\n",
              "    .colab-df-convert:hover {\n",
              "      background-color: #E2EBFA;\n",
              "      box-shadow: 0px 1px 2px rgba(60, 64, 67, 0.3), 0px 1px 3px 1px rgba(60, 64, 67, 0.15);\n",
              "      fill: #174EA6;\n",
              "    }\n",
              "\n",
              "    [theme=dark] .colab-df-convert {\n",
              "      background-color: #3B4455;\n",
              "      fill: #D2E3FC;\n",
              "    }\n",
              "\n",
              "    [theme=dark] .colab-df-convert:hover {\n",
              "      background-color: #434B5C;\n",
              "      box-shadow: 0px 1px 3px 1px rgba(0, 0, 0, 0.15);\n",
              "      filter: drop-shadow(0px 1px 2px rgba(0, 0, 0, 0.3));\n",
              "      fill: #FFFFFF;\n",
              "    }\n",
              "  </style>\n",
              "\n",
              "      <script>\n",
              "        const buttonEl =\n",
              "          document.querySelector('#df-834ab47e-aa1e-481f-ab9e-51ab276ee0f6 button.colab-df-convert');\n",
              "        buttonEl.style.display =\n",
              "          google.colab.kernel.accessAllowed ? 'block' : 'none';\n",
              "\n",
              "        async function convertToInteractive(key) {\n",
              "          const element = document.querySelector('#df-834ab47e-aa1e-481f-ab9e-51ab276ee0f6');\n",
              "          const dataTable =\n",
              "            await google.colab.kernel.invokeFunction('convertToInteractive',\n",
              "                                                     [key], {});\n",
              "          if (!dataTable) return;\n",
              "\n",
              "          const docLinkHtml = 'Like what you see? Visit the ' +\n",
              "            '<a target=\"_blank\" href=https://colab.research.google.com/notebooks/data_table.ipynb>data table notebook</a>'\n",
              "            + ' to learn more about interactive tables.';\n",
              "          element.innerHTML = '';\n",
              "          dataTable['output_type'] = 'display_data';\n",
              "          await google.colab.output.renderOutput(dataTable, element);\n",
              "          const docLink = document.createElement('div');\n",
              "          docLink.innerHTML = docLinkHtml;\n",
              "          element.appendChild(docLink);\n",
              "        }\n",
              "      </script>\n",
              "    </div>\n",
              "  </div>\n",
              "  "
            ],
            "text/plain": [
              "                   count       mean        std     min       25%     50%  \\\n",
              "GRE Score          500.0  316.47200  11.295148  290.00  308.0000  317.00   \n",
              "TOEFL Score        500.0  107.19200   6.081868   92.00  103.0000  107.00   \n",
              "University Rating  500.0    3.11400   1.143512    1.00    2.0000    3.00   \n",
              "SOP                500.0    3.37400   0.991004    1.00    2.5000    3.50   \n",
              "LOR                500.0    3.48400   0.925450    1.00    3.0000    3.50   \n",
              "CGPA               500.0    8.57644   0.604813    6.80    8.1275    8.56   \n",
              "Research           500.0    0.56000   0.496884    0.00    0.0000    1.00   \n",
              "Chance of Admit    500.0    0.72174   0.141140    0.34    0.6300    0.72   \n",
              "\n",
              "                      75%     max  Count of Outliers  Unique Values  \n",
              "GRE Score          325.00  340.00                  0             49  \n",
              "TOEFL Score        112.00  120.00                  0             29  \n",
              "University Rating    4.00    5.00                  0              5  \n",
              "SOP                  4.00    5.00                  0              9  \n",
              "LOR                  4.00    5.00                  1              9  \n",
              "CGPA                 9.04    9.92                  0            184  \n",
              "Research             1.00    1.00                  0              2  \n",
              "Chance of Admit      0.82    0.97                  2             61  "
            ]
          },
          "execution_count": 13,
          "metadata": {},
          "output_type": "execute_result"
        }
      ],
      "source": [
        "stats_summary(df, 'numeric')"
      ]
    },
    {
      "cell_type": "markdown",
      "metadata": {
        "id": "kGeevlQMqbAR"
      },
      "source": [
        "__Findings:__\n",
        "- The unique values count for the attributes \"University Rating\", \"SOP\", \"LOR\", and \"Research\" are less. We can treat them as categorical."
      ]
    },
    {
      "cell_type": "markdown",
      "metadata": {
        "id": "Qk28OpcD2j2h"
      },
      "source": [
        "__Fixing the dtype:__"
      ]
    },
    {
      "cell_type": "code",
      "execution_count": 14,
      "metadata": {
        "colab": {
          "base_uri": "https://localhost:8080/",
          "height": 81
        },
        "id": "POA6bjdT2EyJ",
        "outputId": "06751174-3e7b-40a9-f919-670549558766"
      },
      "outputs": [
        {
          "data": {
            "text/html": [
              "\n",
              "  <div id=\"df-b654b7fd-7193-437f-a6ea-6053592ce175\">\n",
              "    <div class=\"colab-df-container\">\n",
              "      <div>\n",
              "<style scoped>\n",
              "    .dataframe tbody tr th:only-of-type {\n",
              "        vertical-align: middle;\n",
              "    }\n",
              "\n",
              "    .dataframe tbody tr th {\n",
              "        vertical-align: top;\n",
              "    }\n",
              "\n",
              "    .dataframe thead th {\n",
              "        text-align: right;\n",
              "    }\n",
              "</style>\n",
              "<table border=\"1\" class=\"dataframe\">\n",
              "  <thead>\n",
              "    <tr style=\"text-align: right;\">\n",
              "      <th></th>\n",
              "      <th>GRE Score</th>\n",
              "      <th>TOEFL Score</th>\n",
              "      <th>University Rating</th>\n",
              "      <th>SOP</th>\n",
              "      <th>LOR</th>\n",
              "      <th>CGPA</th>\n",
              "      <th>Research</th>\n",
              "      <th>Chance of Admit</th>\n",
              "    </tr>\n",
              "  </thead>\n",
              "  <tbody>\n",
              "    <tr>\n",
              "      <th>0</th>\n",
              "      <td>int64</td>\n",
              "      <td>int64</td>\n",
              "      <td>category</td>\n",
              "      <td>category</td>\n",
              "      <td>category</td>\n",
              "      <td>float64</td>\n",
              "      <td>category</td>\n",
              "      <td>float64</td>\n",
              "    </tr>\n",
              "  </tbody>\n",
              "</table>\n",
              "</div>\n",
              "      <button class=\"colab-df-convert\" onclick=\"convertToInteractive('df-b654b7fd-7193-437f-a6ea-6053592ce175')\"\n",
              "              title=\"Convert this dataframe to an interactive table.\"\n",
              "              style=\"display:none;\">\n",
              "        \n",
              "  <svg xmlns=\"http://www.w3.org/2000/svg\" height=\"24px\"viewBox=\"0 0 24 24\"\n",
              "       width=\"24px\">\n",
              "    <path d=\"M0 0h24v24H0V0z\" fill=\"none\"/>\n",
              "    <path d=\"M18.56 5.44l.94 2.06.94-2.06 2.06-.94-2.06-.94-.94-2.06-.94 2.06-2.06.94zm-11 1L8.5 8.5l.94-2.06 2.06-.94-2.06-.94L8.5 2.5l-.94 2.06-2.06.94zm10 10l.94 2.06.94-2.06 2.06-.94-2.06-.94-.94-2.06-.94 2.06-2.06.94z\"/><path d=\"M17.41 7.96l-1.37-1.37c-.4-.4-.92-.59-1.43-.59-.52 0-1.04.2-1.43.59L10.3 9.45l-7.72 7.72c-.78.78-.78 2.05 0 2.83L4 21.41c.39.39.9.59 1.41.59.51 0 1.02-.2 1.41-.59l7.78-7.78 2.81-2.81c.8-.78.8-2.07 0-2.86zM5.41 20L4 18.59l7.72-7.72 1.47 1.35L5.41 20z\"/>\n",
              "  </svg>\n",
              "      </button>\n",
              "      \n",
              "  <style>\n",
              "    .colab-df-container {\n",
              "      display:flex;\n",
              "      flex-wrap:wrap;\n",
              "      gap: 12px;\n",
              "    }\n",
              "\n",
              "    .colab-df-convert {\n",
              "      background-color: #E8F0FE;\n",
              "      border: none;\n",
              "      border-radius: 50%;\n",
              "      cursor: pointer;\n",
              "      display: none;\n",
              "      fill: #1967D2;\n",
              "      height: 32px;\n",
              "      padding: 0 0 0 0;\n",
              "      width: 32px;\n",
              "    }\n",
              "\n",
              "    .colab-df-convert:hover {\n",
              "      background-color: #E2EBFA;\n",
              "      box-shadow: 0px 1px 2px rgba(60, 64, 67, 0.3), 0px 1px 3px 1px rgba(60, 64, 67, 0.15);\n",
              "      fill: #174EA6;\n",
              "    }\n",
              "\n",
              "    [theme=dark] .colab-df-convert {\n",
              "      background-color: #3B4455;\n",
              "      fill: #D2E3FC;\n",
              "    }\n",
              "\n",
              "    [theme=dark] .colab-df-convert:hover {\n",
              "      background-color: #434B5C;\n",
              "      box-shadow: 0px 1px 3px 1px rgba(0, 0, 0, 0.15);\n",
              "      filter: drop-shadow(0px 1px 2px rgba(0, 0, 0, 0.3));\n",
              "      fill: #FFFFFF;\n",
              "    }\n",
              "  </style>\n",
              "\n",
              "      <script>\n",
              "        const buttonEl =\n",
              "          document.querySelector('#df-b654b7fd-7193-437f-a6ea-6053592ce175 button.colab-df-convert');\n",
              "        buttonEl.style.display =\n",
              "          google.colab.kernel.accessAllowed ? 'block' : 'none';\n",
              "\n",
              "        async function convertToInteractive(key) {\n",
              "          const element = document.querySelector('#df-b654b7fd-7193-437f-a6ea-6053592ce175');\n",
              "          const dataTable =\n",
              "            await google.colab.kernel.invokeFunction('convertToInteractive',\n",
              "                                                     [key], {});\n",
              "          if (!dataTable) return;\n",
              "\n",
              "          const docLinkHtml = 'Like what you see? Visit the ' +\n",
              "            '<a target=\"_blank\" href=https://colab.research.google.com/notebooks/data_table.ipynb>data table notebook</a>'\n",
              "            + ' to learn more about interactive tables.';\n",
              "          element.innerHTML = '';\n",
              "          dataTable['output_type'] = 'display_data';\n",
              "          await google.colab.output.renderOutput(dataTable, element);\n",
              "          const docLink = document.createElement('div');\n",
              "          docLink.innerHTML = docLinkHtml;\n",
              "          element.appendChild(docLink);\n",
              "        }\n",
              "      </script>\n",
              "    </div>\n",
              "  </div>\n",
              "  "
            ],
            "text/plain": [
              "  GRE Score TOEFL Score University Rating       SOP      LOR      CGPA  \\\n",
              "0     int64       int64          category  category  category  float64   \n",
              "\n",
              "   Research Chance of Admit   \n",
              "0  category          float64  "
            ]
          },
          "execution_count": 14,
          "metadata": {},
          "output_type": "execute_result"
        }
      ],
      "source": [
        "df = datatype_conversion(df, ['University Rating', 'SOP', 'LOR ', 'Research'], 'category')\n",
        "datatype_information(df)"
      ]
    },
    {
      "cell_type": "markdown",
      "metadata": {
        "id": "vIKlQC389yLO"
      },
      "source": [
        "__Summary__\n",
        "\n",
        "- We fixed the incorrect datatypes"
      ]
    },
    {
      "cell_type": "markdown",
      "metadata": {
        "id": "LvBNlAXWjV2a"
      },
      "source": [
        "### Checking missing values"
      ]
    },
    {
      "cell_type": "code",
      "execution_count": 15,
      "metadata": {
        "id": "eQb7bZMn4IkG"
      },
      "outputs": [],
      "source": [
        "def missing_val_overview(df):\n",
        "\n",
        "    ## Creating Empty Data Frame\n",
        "    data_info = pd.DataFrame(np.random.randn(0, 5) * 0,\n",
        "                             columns=['No. of Rows with missing values',\n",
        "                                      'No. of columns with zero missing cases',\n",
        "                                      'No. of columns with >0 and <=50% missing cases',\n",
        "                                      'No. of columns with >50% missing cases',\n",
        "                                      'No. of columns with >90% missing cases'])\n",
        "\n",
        "    ## Data Inofrmation\n",
        "    data_info.loc[0, 'No. of Rows with missing values'] = df.isna().any(axis=1).sum()\n",
        "    \n",
        "    null_per = pd.DataFrame(df.isna().sum()/df.shape[0])\n",
        "    null_per.columns = ['null_per']\n",
        "    data_info.loc[0, 'No. of columns with zero missing cases']  = null_per[null_per.null_per == 0.0].shape[0] \n",
        "    data_info.loc[0, 'No. of columns with >0 and <=50% missing cases'] = null_per[(null_per.null_per <= 0.50) & (null_per.null_per > 0)].shape[0] \n",
        "    data_info.loc[0, 'No. of columns with >50% missing cases']  = null_per[null_per.null_per > 0.50].shape[0]\n",
        "    data_info.loc[0, 'No. of columns with >90% missing cases']  = null_per[null_per.null_per > 0.90].shape[0]\n",
        "    \n",
        "    ## Transposing Data to get in consumable format\n",
        "    data_info = data_info.transpose()\n",
        "    data_info.columns = ['Value']\n",
        "    data_info['Value'] = data_info['Value'].astype(int)\n",
        "\n",
        "    return data_info"
      ]
    },
    {
      "cell_type": "code",
      "execution_count": 16,
      "metadata": {
        "colab": {
          "base_uri": "https://localhost:8080/",
          "height": 206
        },
        "id": "bogaAnGH42mN",
        "outputId": "19004f61-1c89-4524-e3db-629e26fc937e"
      },
      "outputs": [
        {
          "data": {
            "text/html": [
              "\n",
              "  <div id=\"df-754de662-9306-4e87-af91-06c2a68bf195\">\n",
              "    <div class=\"colab-df-container\">\n",
              "      <div>\n",
              "<style scoped>\n",
              "    .dataframe tbody tr th:only-of-type {\n",
              "        vertical-align: middle;\n",
              "    }\n",
              "\n",
              "    .dataframe tbody tr th {\n",
              "        vertical-align: top;\n",
              "    }\n",
              "\n",
              "    .dataframe thead th {\n",
              "        text-align: right;\n",
              "    }\n",
              "</style>\n",
              "<table border=\"1\" class=\"dataframe\">\n",
              "  <thead>\n",
              "    <tr style=\"text-align: right;\">\n",
              "      <th></th>\n",
              "      <th>Value</th>\n",
              "    </tr>\n",
              "  </thead>\n",
              "  <tbody>\n",
              "    <tr>\n",
              "      <th>No. of Rows with missing values</th>\n",
              "      <td>0</td>\n",
              "    </tr>\n",
              "    <tr>\n",
              "      <th>No. of columns with zero missing cases</th>\n",
              "      <td>8</td>\n",
              "    </tr>\n",
              "    <tr>\n",
              "      <th>No. of columns with &gt;0 and &lt;=50% missing cases</th>\n",
              "      <td>0</td>\n",
              "    </tr>\n",
              "    <tr>\n",
              "      <th>No. of columns with &gt;50% missing cases</th>\n",
              "      <td>0</td>\n",
              "    </tr>\n",
              "    <tr>\n",
              "      <th>No. of columns with &gt;90% missing cases</th>\n",
              "      <td>0</td>\n",
              "    </tr>\n",
              "  </tbody>\n",
              "</table>\n",
              "</div>\n",
              "      <button class=\"colab-df-convert\" onclick=\"convertToInteractive('df-754de662-9306-4e87-af91-06c2a68bf195')\"\n",
              "              title=\"Convert this dataframe to an interactive table.\"\n",
              "              style=\"display:none;\">\n",
              "        \n",
              "  <svg xmlns=\"http://www.w3.org/2000/svg\" height=\"24px\"viewBox=\"0 0 24 24\"\n",
              "       width=\"24px\">\n",
              "    <path d=\"M0 0h24v24H0V0z\" fill=\"none\"/>\n",
              "    <path d=\"M18.56 5.44l.94 2.06.94-2.06 2.06-.94-2.06-.94-.94-2.06-.94 2.06-2.06.94zm-11 1L8.5 8.5l.94-2.06 2.06-.94-2.06-.94L8.5 2.5l-.94 2.06-2.06.94zm10 10l.94 2.06.94-2.06 2.06-.94-2.06-.94-.94-2.06-.94 2.06-2.06.94z\"/><path d=\"M17.41 7.96l-1.37-1.37c-.4-.4-.92-.59-1.43-.59-.52 0-1.04.2-1.43.59L10.3 9.45l-7.72 7.72c-.78.78-.78 2.05 0 2.83L4 21.41c.39.39.9.59 1.41.59.51 0 1.02-.2 1.41-.59l7.78-7.78 2.81-2.81c.8-.78.8-2.07 0-2.86zM5.41 20L4 18.59l7.72-7.72 1.47 1.35L5.41 20z\"/>\n",
              "  </svg>\n",
              "      </button>\n",
              "      \n",
              "  <style>\n",
              "    .colab-df-container {\n",
              "      display:flex;\n",
              "      flex-wrap:wrap;\n",
              "      gap: 12px;\n",
              "    }\n",
              "\n",
              "    .colab-df-convert {\n",
              "      background-color: #E8F0FE;\n",
              "      border: none;\n",
              "      border-radius: 50%;\n",
              "      cursor: pointer;\n",
              "      display: none;\n",
              "      fill: #1967D2;\n",
              "      height: 32px;\n",
              "      padding: 0 0 0 0;\n",
              "      width: 32px;\n",
              "    }\n",
              "\n",
              "    .colab-df-convert:hover {\n",
              "      background-color: #E2EBFA;\n",
              "      box-shadow: 0px 1px 2px rgba(60, 64, 67, 0.3), 0px 1px 3px 1px rgba(60, 64, 67, 0.15);\n",
              "      fill: #174EA6;\n",
              "    }\n",
              "\n",
              "    [theme=dark] .colab-df-convert {\n",
              "      background-color: #3B4455;\n",
              "      fill: #D2E3FC;\n",
              "    }\n",
              "\n",
              "    [theme=dark] .colab-df-convert:hover {\n",
              "      background-color: #434B5C;\n",
              "      box-shadow: 0px 1px 3px 1px rgba(0, 0, 0, 0.15);\n",
              "      filter: drop-shadow(0px 1px 2px rgba(0, 0, 0, 0.3));\n",
              "      fill: #FFFFFF;\n",
              "    }\n",
              "  </style>\n",
              "\n",
              "      <script>\n",
              "        const buttonEl =\n",
              "          document.querySelector('#df-754de662-9306-4e87-af91-06c2a68bf195 button.colab-df-convert');\n",
              "        buttonEl.style.display =\n",
              "          google.colab.kernel.accessAllowed ? 'block' : 'none';\n",
              "\n",
              "        async function convertToInteractive(key) {\n",
              "          const element = document.querySelector('#df-754de662-9306-4e87-af91-06c2a68bf195');\n",
              "          const dataTable =\n",
              "            await google.colab.kernel.invokeFunction('convertToInteractive',\n",
              "                                                     [key], {});\n",
              "          if (!dataTable) return;\n",
              "\n",
              "          const docLinkHtml = 'Like what you see? Visit the ' +\n",
              "            '<a target=\"_blank\" href=https://colab.research.google.com/notebooks/data_table.ipynb>data table notebook</a>'\n",
              "            + ' to learn more about interactive tables.';\n",
              "          element.innerHTML = '';\n",
              "          dataTable['output_type'] = 'display_data';\n",
              "          await google.colab.output.renderOutput(dataTable, element);\n",
              "          const docLink = document.createElement('div');\n",
              "          docLink.innerHTML = docLinkHtml;\n",
              "          element.appendChild(docLink);\n",
              "        }\n",
              "      </script>\n",
              "    </div>\n",
              "  </div>\n",
              "  "
            ],
            "text/plain": [
              "                                                Value\n",
              "No. of Rows with missing values                     0\n",
              "No. of columns with zero missing cases              8\n",
              "No. of columns with >0 and <=50% missing cases      0\n",
              "No. of columns with >50% missing cases              0\n",
              "No. of columns with >90% missing cases              0"
            ]
          },
          "execution_count": 16,
          "metadata": {},
          "output_type": "execute_result"
        }
      ],
      "source": [
        "missing_val_overview(df)"
      ]
    },
    {
      "cell_type": "markdown",
      "metadata": {
        "id": "YfEwP66iGymV"
      },
      "source": [
        "**Summary**\n",
        "- There are no missing values in the dataset"
      ]
    },
    {
      "cell_type": "markdown",
      "metadata": {
        "id": "m-8_LtkDqFUP"
      },
      "source": [
        "## Statistical Summary:"
      ]
    },
    {
      "cell_type": "markdown",
      "metadata": {
        "id": "Xjdsht_zADDX"
      },
      "source": [
        "### Numerical Stats"
      ]
    },
    {
      "cell_type": "code",
      "execution_count": 17,
      "metadata": {
        "colab": {
          "base_uri": "https://localhost:8080/",
          "height": 175
        },
        "id": "ZIpCOBfV-kZw",
        "outputId": "114f4948-7f4c-4bbc-8d5f-66b6bc41db93"
      },
      "outputs": [
        {
          "data": {
            "text/html": [
              "\n",
              "  <div id=\"df-5d3de0d7-edaf-4da0-b2e3-5d19981520ec\">\n",
              "    <div class=\"colab-df-container\">\n",
              "      <div>\n",
              "<style scoped>\n",
              "    .dataframe tbody tr th:only-of-type {\n",
              "        vertical-align: middle;\n",
              "    }\n",
              "\n",
              "    .dataframe tbody tr th {\n",
              "        vertical-align: top;\n",
              "    }\n",
              "\n",
              "    .dataframe thead th {\n",
              "        text-align: right;\n",
              "    }\n",
              "</style>\n",
              "<table border=\"1\" class=\"dataframe\">\n",
              "  <thead>\n",
              "    <tr style=\"text-align: right;\">\n",
              "      <th></th>\n",
              "      <th>count</th>\n",
              "      <th>mean</th>\n",
              "      <th>std</th>\n",
              "      <th>min</th>\n",
              "      <th>25%</th>\n",
              "      <th>50%</th>\n",
              "      <th>75%</th>\n",
              "      <th>max</th>\n",
              "      <th>Count of Outliers</th>\n",
              "      <th>Unique Values</th>\n",
              "    </tr>\n",
              "  </thead>\n",
              "  <tbody>\n",
              "    <tr>\n",
              "      <th>GRE Score</th>\n",
              "      <td>500.0</td>\n",
              "      <td>316.47200</td>\n",
              "      <td>11.295148</td>\n",
              "      <td>290.00</td>\n",
              "      <td>308.0000</td>\n",
              "      <td>317.00</td>\n",
              "      <td>325.00</td>\n",
              "      <td>340.00</td>\n",
              "      <td>0</td>\n",
              "      <td>49</td>\n",
              "    </tr>\n",
              "    <tr>\n",
              "      <th>TOEFL Score</th>\n",
              "      <td>500.0</td>\n",
              "      <td>107.19200</td>\n",
              "      <td>6.081868</td>\n",
              "      <td>92.00</td>\n",
              "      <td>103.0000</td>\n",
              "      <td>107.00</td>\n",
              "      <td>112.00</td>\n",
              "      <td>120.00</td>\n",
              "      <td>0</td>\n",
              "      <td>29</td>\n",
              "    </tr>\n",
              "    <tr>\n",
              "      <th>CGPA</th>\n",
              "      <td>500.0</td>\n",
              "      <td>8.57644</td>\n",
              "      <td>0.604813</td>\n",
              "      <td>6.80</td>\n",
              "      <td>8.1275</td>\n",
              "      <td>8.56</td>\n",
              "      <td>9.04</td>\n",
              "      <td>9.92</td>\n",
              "      <td>0</td>\n",
              "      <td>184</td>\n",
              "    </tr>\n",
              "    <tr>\n",
              "      <th>Chance of Admit</th>\n",
              "      <td>500.0</td>\n",
              "      <td>0.72174</td>\n",
              "      <td>0.141140</td>\n",
              "      <td>0.34</td>\n",
              "      <td>0.6300</td>\n",
              "      <td>0.72</td>\n",
              "      <td>0.82</td>\n",
              "      <td>0.97</td>\n",
              "      <td>2</td>\n",
              "      <td>61</td>\n",
              "    </tr>\n",
              "  </tbody>\n",
              "</table>\n",
              "</div>\n",
              "      <button class=\"colab-df-convert\" onclick=\"convertToInteractive('df-5d3de0d7-edaf-4da0-b2e3-5d19981520ec')\"\n",
              "              title=\"Convert this dataframe to an interactive table.\"\n",
              "              style=\"display:none;\">\n",
              "        \n",
              "  <svg xmlns=\"http://www.w3.org/2000/svg\" height=\"24px\"viewBox=\"0 0 24 24\"\n",
              "       width=\"24px\">\n",
              "    <path d=\"M0 0h24v24H0V0z\" fill=\"none\"/>\n",
              "    <path d=\"M18.56 5.44l.94 2.06.94-2.06 2.06-.94-2.06-.94-.94-2.06-.94 2.06-2.06.94zm-11 1L8.5 8.5l.94-2.06 2.06-.94-2.06-.94L8.5 2.5l-.94 2.06-2.06.94zm10 10l.94 2.06.94-2.06 2.06-.94-2.06-.94-.94-2.06-.94 2.06-2.06.94z\"/><path d=\"M17.41 7.96l-1.37-1.37c-.4-.4-.92-.59-1.43-.59-.52 0-1.04.2-1.43.59L10.3 9.45l-7.72 7.72c-.78.78-.78 2.05 0 2.83L4 21.41c.39.39.9.59 1.41.59.51 0 1.02-.2 1.41-.59l7.78-7.78 2.81-2.81c.8-.78.8-2.07 0-2.86zM5.41 20L4 18.59l7.72-7.72 1.47 1.35L5.41 20z\"/>\n",
              "  </svg>\n",
              "      </button>\n",
              "      \n",
              "  <style>\n",
              "    .colab-df-container {\n",
              "      display:flex;\n",
              "      flex-wrap:wrap;\n",
              "      gap: 12px;\n",
              "    }\n",
              "\n",
              "    .colab-df-convert {\n",
              "      background-color: #E8F0FE;\n",
              "      border: none;\n",
              "      border-radius: 50%;\n",
              "      cursor: pointer;\n",
              "      display: none;\n",
              "      fill: #1967D2;\n",
              "      height: 32px;\n",
              "      padding: 0 0 0 0;\n",
              "      width: 32px;\n",
              "    }\n",
              "\n",
              "    .colab-df-convert:hover {\n",
              "      background-color: #E2EBFA;\n",
              "      box-shadow: 0px 1px 2px rgba(60, 64, 67, 0.3), 0px 1px 3px 1px rgba(60, 64, 67, 0.15);\n",
              "      fill: #174EA6;\n",
              "    }\n",
              "\n",
              "    [theme=dark] .colab-df-convert {\n",
              "      background-color: #3B4455;\n",
              "      fill: #D2E3FC;\n",
              "    }\n",
              "\n",
              "    [theme=dark] .colab-df-convert:hover {\n",
              "      background-color: #434B5C;\n",
              "      box-shadow: 0px 1px 3px 1px rgba(0, 0, 0, 0.15);\n",
              "      filter: drop-shadow(0px 1px 2px rgba(0, 0, 0, 0.3));\n",
              "      fill: #FFFFFF;\n",
              "    }\n",
              "  </style>\n",
              "\n",
              "      <script>\n",
              "        const buttonEl =\n",
              "          document.querySelector('#df-5d3de0d7-edaf-4da0-b2e3-5d19981520ec button.colab-df-convert');\n",
              "        buttonEl.style.display =\n",
              "          google.colab.kernel.accessAllowed ? 'block' : 'none';\n",
              "\n",
              "        async function convertToInteractive(key) {\n",
              "          const element = document.querySelector('#df-5d3de0d7-edaf-4da0-b2e3-5d19981520ec');\n",
              "          const dataTable =\n",
              "            await google.colab.kernel.invokeFunction('convertToInteractive',\n",
              "                                                     [key], {});\n",
              "          if (!dataTable) return;\n",
              "\n",
              "          const docLinkHtml = 'Like what you see? Visit the ' +\n",
              "            '<a target=\"_blank\" href=https://colab.research.google.com/notebooks/data_table.ipynb>data table notebook</a>'\n",
              "            + ' to learn more about interactive tables.';\n",
              "          element.innerHTML = '';\n",
              "          dataTable['output_type'] = 'display_data';\n",
              "          await google.colab.output.renderOutput(dataTable, element);\n",
              "          const docLink = document.createElement('div');\n",
              "          docLink.innerHTML = docLinkHtml;\n",
              "          element.appendChild(docLink);\n",
              "        }\n",
              "      </script>\n",
              "    </div>\n",
              "  </div>\n",
              "  "
            ],
            "text/plain": [
              "                  count       mean        std     min       25%     50%  \\\n",
              "GRE Score         500.0  316.47200  11.295148  290.00  308.0000  317.00   \n",
              "TOEFL Score       500.0  107.19200   6.081868   92.00  103.0000  107.00   \n",
              "CGPA              500.0    8.57644   0.604813    6.80    8.1275    8.56   \n",
              "Chance of Admit   500.0    0.72174   0.141140    0.34    0.6300    0.72   \n",
              "\n",
              "                     75%     max  Count of Outliers  Unique Values  \n",
              "GRE Score         325.00  340.00                  0             49  \n",
              "TOEFL Score       112.00  120.00                  0             29  \n",
              "CGPA                9.04    9.92                  0            184  \n",
              "Chance of Admit     0.82    0.97                  2             61  "
            ]
          },
          "execution_count": 17,
          "metadata": {},
          "output_type": "execute_result"
        }
      ],
      "source": [
        "stats_summary(df, 'numeric')"
      ]
    },
    {
      "cell_type": "markdown",
      "metadata": {
        "id": "Ysj9xFCyWhm0"
      },
      "source": [
        "__Observation__:\n",
        "- We have outliers in the numerical column. We will try to make sense of the outliers in our further analysis\n",
        "- There are no missing values"
      ]
    },
    {
      "cell_type": "markdown",
      "metadata": {
        "id": "1nPH7CnQlPMz"
      },
      "source": [
        "**Note:** The outliers are the data points lying outside the range `[25th %tile - 1.5IQR, 75th %tile + 1.5IQR]`\n",
        "\n",
        "The fence values are computed as illustrated in the image below:"
      ]
    },
    {
      "cell_type": "markdown",
      "metadata": {
        "id": "hFWgfEJ8lPM1"
      },
      "source": [
        "![](http://www.nathalievialaneix.eu/teaching/biostat1/img/boxplot_explanation.png)"
      ]
    },
    {
      "cell_type": "markdown",
      "metadata": {
        "id": "7jUvJR5GAF0z"
      },
      "source": [
        "### Categorical Count Stats"
      ]
    },
    {
      "cell_type": "code",
      "execution_count": 18,
      "metadata": {
        "colab": {
          "base_uri": "https://localhost:8080/",
          "height": 175
        },
        "id": "q2noQwqm_t2R",
        "outputId": "d56c8a7d-0d66-43ca-91d1-e44e417bcb7a"
      },
      "outputs": [
        {
          "data": {
            "text/html": [
              "\n",
              "  <div id=\"df-2249cf61-bec3-46c3-8cfc-7129f8929c45\">\n",
              "    <div class=\"colab-df-container\">\n",
              "      <div>\n",
              "<style scoped>\n",
              "    .dataframe tbody tr th:only-of-type {\n",
              "        vertical-align: middle;\n",
              "    }\n",
              "\n",
              "    .dataframe tbody tr th {\n",
              "        vertical-align: top;\n",
              "    }\n",
              "\n",
              "    .dataframe thead th {\n",
              "        text-align: right;\n",
              "    }\n",
              "</style>\n",
              "<table border=\"1\" class=\"dataframe\">\n",
              "  <thead>\n",
              "    <tr style=\"text-align: right;\">\n",
              "      <th></th>\n",
              "      <th>count</th>\n",
              "      <th>unique</th>\n",
              "      <th>top</th>\n",
              "      <th>freq</th>\n",
              "      <th>Missing Percentage</th>\n",
              "    </tr>\n",
              "  </thead>\n",
              "  <tbody>\n",
              "    <tr>\n",
              "      <th>University Rating</th>\n",
              "      <td>500.0</td>\n",
              "      <td>5.0</td>\n",
              "      <td>3.0</td>\n",
              "      <td>162.0</td>\n",
              "      <td>0.0</td>\n",
              "    </tr>\n",
              "    <tr>\n",
              "      <th>SOP</th>\n",
              "      <td>500.0</td>\n",
              "      <td>9.0</td>\n",
              "      <td>4.0</td>\n",
              "      <td>89.0</td>\n",
              "      <td>0.0</td>\n",
              "    </tr>\n",
              "    <tr>\n",
              "      <th>LOR</th>\n",
              "      <td>500.0</td>\n",
              "      <td>9.0</td>\n",
              "      <td>3.0</td>\n",
              "      <td>99.0</td>\n",
              "      <td>0.0</td>\n",
              "    </tr>\n",
              "    <tr>\n",
              "      <th>Research</th>\n",
              "      <td>500.0</td>\n",
              "      <td>2.0</td>\n",
              "      <td>1.0</td>\n",
              "      <td>280.0</td>\n",
              "      <td>0.0</td>\n",
              "    </tr>\n",
              "  </tbody>\n",
              "</table>\n",
              "</div>\n",
              "      <button class=\"colab-df-convert\" onclick=\"convertToInteractive('df-2249cf61-bec3-46c3-8cfc-7129f8929c45')\"\n",
              "              title=\"Convert this dataframe to an interactive table.\"\n",
              "              style=\"display:none;\">\n",
              "        \n",
              "  <svg xmlns=\"http://www.w3.org/2000/svg\" height=\"24px\"viewBox=\"0 0 24 24\"\n",
              "       width=\"24px\">\n",
              "    <path d=\"M0 0h24v24H0V0z\" fill=\"none\"/>\n",
              "    <path d=\"M18.56 5.44l.94 2.06.94-2.06 2.06-.94-2.06-.94-.94-2.06-.94 2.06-2.06.94zm-11 1L8.5 8.5l.94-2.06 2.06-.94-2.06-.94L8.5 2.5l-.94 2.06-2.06.94zm10 10l.94 2.06.94-2.06 2.06-.94-2.06-.94-.94-2.06-.94 2.06-2.06.94z\"/><path d=\"M17.41 7.96l-1.37-1.37c-.4-.4-.92-.59-1.43-.59-.52 0-1.04.2-1.43.59L10.3 9.45l-7.72 7.72c-.78.78-.78 2.05 0 2.83L4 21.41c.39.39.9.59 1.41.59.51 0 1.02-.2 1.41-.59l7.78-7.78 2.81-2.81c.8-.78.8-2.07 0-2.86zM5.41 20L4 18.59l7.72-7.72 1.47 1.35L5.41 20z\"/>\n",
              "  </svg>\n",
              "      </button>\n",
              "      \n",
              "  <style>\n",
              "    .colab-df-container {\n",
              "      display:flex;\n",
              "      flex-wrap:wrap;\n",
              "      gap: 12px;\n",
              "    }\n",
              "\n",
              "    .colab-df-convert {\n",
              "      background-color: #E8F0FE;\n",
              "      border: none;\n",
              "      border-radius: 50%;\n",
              "      cursor: pointer;\n",
              "      display: none;\n",
              "      fill: #1967D2;\n",
              "      height: 32px;\n",
              "      padding: 0 0 0 0;\n",
              "      width: 32px;\n",
              "    }\n",
              "\n",
              "    .colab-df-convert:hover {\n",
              "      background-color: #E2EBFA;\n",
              "      box-shadow: 0px 1px 2px rgba(60, 64, 67, 0.3), 0px 1px 3px 1px rgba(60, 64, 67, 0.15);\n",
              "      fill: #174EA6;\n",
              "    }\n",
              "\n",
              "    [theme=dark] .colab-df-convert {\n",
              "      background-color: #3B4455;\n",
              "      fill: #D2E3FC;\n",
              "    }\n",
              "\n",
              "    [theme=dark] .colab-df-convert:hover {\n",
              "      background-color: #434B5C;\n",
              "      box-shadow: 0px 1px 3px 1px rgba(0, 0, 0, 0.15);\n",
              "      filter: drop-shadow(0px 1px 2px rgba(0, 0, 0, 0.3));\n",
              "      fill: #FFFFFF;\n",
              "    }\n",
              "  </style>\n",
              "\n",
              "      <script>\n",
              "        const buttonEl =\n",
              "          document.querySelector('#df-2249cf61-bec3-46c3-8cfc-7129f8929c45 button.colab-df-convert');\n",
              "        buttonEl.style.display =\n",
              "          google.colab.kernel.accessAllowed ? 'block' : 'none';\n",
              "\n",
              "        async function convertToInteractive(key) {\n",
              "          const element = document.querySelector('#df-2249cf61-bec3-46c3-8cfc-7129f8929c45');\n",
              "          const dataTable =\n",
              "            await google.colab.kernel.invokeFunction('convertToInteractive',\n",
              "                                                     [key], {});\n",
              "          if (!dataTable) return;\n",
              "\n",
              "          const docLinkHtml = 'Like what you see? Visit the ' +\n",
              "            '<a target=\"_blank\" href=https://colab.research.google.com/notebooks/data_table.ipynb>data table notebook</a>'\n",
              "            + ' to learn more about interactive tables.';\n",
              "          element.innerHTML = '';\n",
              "          dataTable['output_type'] = 'display_data';\n",
              "          await google.colab.output.renderOutput(dataTable, element);\n",
              "          const docLink = document.createElement('div');\n",
              "          docLink.innerHTML = docLinkHtml;\n",
              "          element.appendChild(docLink);\n",
              "        }\n",
              "      </script>\n",
              "    </div>\n",
              "  </div>\n",
              "  "
            ],
            "text/plain": [
              "                   count  unique  top   freq  Missing Percentage\n",
              "University Rating  500.0     5.0  3.0  162.0                 0.0\n",
              "SOP                500.0     9.0  4.0   89.0                 0.0\n",
              "LOR                500.0     9.0  3.0   99.0                 0.0\n",
              "Research           500.0     2.0  1.0  280.0                 0.0"
            ]
          },
          "execution_count": 18,
          "metadata": {},
          "output_type": "execute_result"
        }
      ],
      "source": [
        "stats_summary(df, 'category')"
      ]
    },
    {
      "cell_type": "markdown",
      "metadata": {
        "id": "zh_Him7nW4Ob"
      },
      "source": [
        "__Observation:__\n",
        "- we have 4 categorical features\n",
        "- there are no missing values "
      ]
    },
    {
      "cell_type": "markdown",
      "metadata": {
        "id": "PZLEAuv1dmR4"
      },
      "source": [
        "# EDA\n",
        "\n",
        "We did some surface scratching and found some basic details. Now we will do in depth exploration of the dataset and try to come up with some possible actionable insights."
      ]
    },
    {
      "cell_type": "markdown",
      "metadata": {
        "id": "lmsN5MaEf-Il"
      },
      "source": [
        "## Univariate Analysis"
      ]
    },
    {
      "cell_type": "code",
      "execution_count": 19,
      "metadata": {
        "colab": {
          "base_uri": "https://localhost:8080/"
        },
        "id": "MSb5fNVGgE9e",
        "outputId": "81bc27b4-7405-4602-ae0a-b6372ff710e3"
      },
      "outputs": [
        {
          "data": {
            "text/plain": [
              "Index(['GRE Score', 'TOEFL Score', 'University Rating', 'SOP', 'LOR ', 'CGPA',\n",
              "       'Research', 'Chance of Admit '],\n",
              "      dtype='object')"
            ]
          },
          "execution_count": 19,
          "metadata": {},
          "output_type": "execute_result"
        }
      ],
      "source": [
        "df.columns"
      ]
    },
    {
      "cell_type": "markdown",
      "metadata": {
        "id": "qTdXY2Ps3zWw"
      },
      "source": [
        "### Categorical Attributes"
      ]
    },
    {
      "cell_type": "code",
      "execution_count": 20,
      "metadata": {
        "id": "lNzNjMD0DFyU"
      },
      "outputs": [],
      "source": [
        "def make_categorical_plots(df, feature):\n",
        "    \"\"\"\n",
        "    Method to make univariate categorical plot\n",
        "    \"\"\"\n",
        "\n",
        "    # creating a figure composed of two matplotlib.Axes objects (ax_count and ax_pie)\n",
        "    f, (ax_count, ax_pie) = plt.subplots(nrows=1, ncols=2, figsize=(15,7))\n",
        "    f.suptitle(f'Distribution of {feature}', fontsize=15)\n",
        "\n",
        "    # assigning a graph to each ax\n",
        "    data = df[feature].value_counts()\n",
        "\n",
        "    sns.countplot(data=df, x=feature, order=data.index, ax=ax_count)\n",
        "    for p in ax_count.patches:\n",
        "        x=p.get_bbox().get_points()[:,0]\n",
        "        y=p.get_bbox().get_points()[1,1]\n",
        "        ax_count.annotate('{}'.format(int(y)), (x.mean(), y), \n",
        "                ha='center', va='bottom')\n",
        "\n",
        "    #customize plot\n",
        "    params = {\n",
        "        'autopct':'%.0f%%',\n",
        "        'startangle': 90,\n",
        "        'radius': 1,\n",
        "        'wedgeprops': {'linewidth': 3},\n",
        "        'explode': (0.01,)*df[feature].nunique(),\n",
        "        'textprops': {'size': 'large'}\n",
        "    }\n",
        "    #create pie chart\n",
        "    ax_pie.pie(data.values, labels = data.index, **params)\n",
        "    plt.show()"
      ]
    },
    {
      "cell_type": "markdown",
      "metadata": {
        "id": "ltvdyeRH3_50"
      },
      "source": [
        "#### University Rating"
      ]
    },
    {
      "cell_type": "code",
      "execution_count": 21,
      "metadata": {
        "colab": {
          "base_uri": "https://localhost:8080/"
        },
        "id": "5GRTCTX74C2-",
        "outputId": "d7adab2f-aa61-4237-84ea-ff3c82c0a3ac"
      },
      "outputs": [
        {
          "data": {
            "text/plain": [
              "3    162\n",
              "2    126\n",
              "4    105\n",
              "5     73\n",
              "1     34\n",
              "Name: University Rating, dtype: int64"
            ]
          },
          "execution_count": 21,
          "metadata": {},
          "output_type": "execute_result"
        }
      ],
      "source": [
        "df['University Rating'].value_counts()"
      ]
    },
    {
      "cell_type": "code",
      "execution_count": 22,
      "metadata": {
        "colab": {
          "base_uri": "https://localhost:8080/"
        },
        "id": "X6GysacZBvfC",
        "outputId": "0abcdddd-105b-4897-9f3b-1ee69fdfb089"
      },
      "outputs": [
        {
          "data": {
            "text/plain": [
              "[4, 3, 2, 5, 1]\n",
              "Categories (5, int64): [1, 2, 3, 4, 5]"
            ]
          },
          "execution_count": 22,
          "metadata": {},
          "output_type": "execute_result"
        }
      ],
      "source": [
        "df['University Rating'].unique()"
      ]
    },
    {
      "cell_type": "markdown",
      "metadata": {
        "id": "6jHJtkgrsQFp"
      },
      "source": [
        "__Findings:__\n",
        "- The universities are categorized into 5 unique ratings"
      ]
    },
    {
      "cell_type": "code",
      "execution_count": 23,
      "metadata": {
        "colab": {
          "base_uri": "https://localhost:8080/",
          "height": 493
        },
        "id": "qu5TvyaN0Zt4",
        "outputId": "fb1ee985-4358-44b2-a542-32b31b190c52"
      },
      "outputs": [
        {
          "data": {
            "image/png": "[encoded data removed]",
            "text/plain": [
              "<Figure size 1080x504 with 2 Axes>"
            ]
          },
          "metadata": {
            "needs_background": "light"
          },
          "output_type": "display_data"
        }
      ],
      "source": [
        "make_categorical_plots(df, 'University Rating')"
      ]
    },
    {
      "cell_type": "markdown",
      "metadata": {
        "id": "SpVwz1ij0gfG"
      },
      "source": [
        "__Findings:__\n",
        "- Most of the students come from Universities with Rating 3\n",
        "- Fewer students come from Universities with Rating 1, and 5"
      ]
    },
    {
      "cell_type": "markdown",
      "metadata": {
        "id": "EGK2mFSv-v5S"
      },
      "source": [
        "#### SOP rating"
      ]
    },
    {
      "cell_type": "code",
      "execution_count": 24,
      "metadata": {
        "colab": {
          "base_uri": "https://localhost:8080/"
        },
        "id": "9wZF_VNk-v5S",
        "outputId": "2437cead-e92c-4ed0-eda0-862f65d61f5c"
      },
      "outputs": [
        {
          "data": {
            "text/plain": [
              "4.0    89\n",
              "3.5    88\n",
              "3.0    80\n",
              "2.5    64\n",
              "4.5    63\n",
              "2.0    43\n",
              "5.0    42\n",
              "1.5    25\n",
              "1.0     6\n",
              "Name: SOP, dtype: int64"
            ]
          },
          "execution_count": 24,
          "metadata": {},
          "output_type": "execute_result"
        }
      ],
      "source": [
        "df.SOP.value_counts()"
      ]
    },
    {
      "cell_type": "code",
      "execution_count": 25,
      "metadata": {
        "colab": {
          "base_uri": "https://localhost:8080/"
        },
        "id": "apkHC4nBFxAZ",
        "outputId": "7cb5c88c-aed9-4727-faec-73da6721b8d4"
      },
      "outputs": [
        {
          "data": {
            "text/plain": [
              "9"
            ]
          },
          "execution_count": 25,
          "metadata": {},
          "output_type": "execute_result"
        }
      ],
      "source": [
        "df.SOP.nunique()"
      ]
    },
    {
      "cell_type": "markdown",
      "metadata": {
        "id": "EtSIJyjfuleA"
      },
      "source": [
        "__Findings:__\n",
        "- The SOPs are rated in 9 different numbers, ranging from 1-5 (1.0, 1.5, ..., 4.5, 5)"
      ]
    },
    {
      "cell_type": "code",
      "execution_count": 26,
      "metadata": {
        "colab": {
          "base_uri": "https://localhost:8080/",
          "height": 493
        },
        "id": "pnRvlc3dpfBA",
        "outputId": "0e2e3b80-ec65-4ed3-bfdf-bbc0305aec2f"
      },
      "outputs": [
        {
          "data": {
            "image/png": "[encoded data removed]",
            "text/plain": [
              "<Figure size 1080x504 with 2 Axes>"
            ]
          },
          "metadata": {
            "needs_background": "light"
          },
          "output_type": "display_data"
        }
      ],
      "source": [
        "make_categorical_plots(df, 'SOP')"
      ]
    },
    {
      "cell_type": "markdown",
      "metadata": {
        "id": "aB2L9pF7uMzt"
      },
      "source": [
        "__Findings:__\n",
        "- Most of the students write SOP's of average quality, rating of 3-4\n",
        "- Fewer number of students write top notch SOPs, rating of 4-5"
      ]
    },
    {
      "cell_type": "markdown",
      "metadata": {
        "id": "EjkZ5Nbb-xzK"
      },
      "source": [
        "#### LOR rating"
      ]
    },
    {
      "cell_type": "code",
      "execution_count": 27,
      "metadata": {
        "colab": {
          "base_uri": "https://localhost:8080/"
        },
        "id": "zV3HKyFn-xzL",
        "outputId": "112dafad-99be-46cb-939b-f9678780fe80"
      },
      "outputs": [
        {
          "data": {
            "text/plain": [
              "3.0    99\n",
              "4.0    94\n",
              "3.5    86\n",
              "4.5    63\n",
              "2.5    50\n",
              "5.0    50\n",
              "2.0    46\n",
              "1.5    11\n",
              "1.0     1\n",
              "Name: LOR , dtype: int64"
            ]
          },
          "execution_count": 27,
          "metadata": {},
          "output_type": "execute_result"
        }
      ],
      "source": [
        "df['LOR '].value_counts()"
      ]
    },
    {
      "cell_type": "code",
      "execution_count": 28,
      "metadata": {
        "colab": {
          "base_uri": "https://localhost:8080/"
        },
        "id": "frhMB6px-9Y0",
        "outputId": "42266820-f3c4-4d52-d4ad-81ab08058538"
      },
      "outputs": [
        {
          "data": {
            "text/plain": [
              "9"
            ]
          },
          "execution_count": 28,
          "metadata": {},
          "output_type": "execute_result"
        }
      ],
      "source": [
        "df['LOR '].nunique()"
      ]
    },
    {
      "cell_type": "markdown",
      "metadata": {
        "id": "QBw4dQuZvBNo"
      },
      "source": [
        "__Findings:__\n",
        "- The LORs are rated in 9 different numbers, ranging from 1-5 (1.0, 1.5, ..., 4.5, 5)"
      ]
    },
    {
      "cell_type": "code",
      "execution_count": 29,
      "metadata": {
        "colab": {
          "base_uri": "https://localhost:8080/",
          "height": 493
        },
        "id": "kh3zK36K-xzL",
        "outputId": "163d1b6c-876c-472b-dc12-677833654571"
      },
      "outputs": [
        {
          "data": {
            "image/png": "[encoded data removed]",
            "text/plain": [
              "<Figure size 1080x504 with 2 Axes>"
            ]
          },
          "metadata": {
            "needs_background": "light"
          },
          "output_type": "display_data"
        }
      ],
      "source": [
        "make_categorical_plots(df, 'LOR ')"
      ]
    },
    {
      "cell_type": "markdown",
      "metadata": {
        "id": "8isCTXiNvITV"
      },
      "source": [
        "__Findings:__\n",
        "- Most of the students have LOR's of average quality, rating of 3-4\n",
        "- Fewer number of students can manage top notch LORs, rating of 4-5"
      ]
    },
    {
      "cell_type": "markdown",
      "metadata": {
        "id": "3leASgvE0-Vs"
      },
      "source": [
        "#### Research"
      ]
    },
    {
      "cell_type": "code",
      "execution_count": 30,
      "metadata": {
        "colab": {
          "base_uri": "https://localhost:8080/"
        },
        "id": "IrJ7AOfv0-Vw",
        "outputId": "9f135932-79a0-4899-9358-8e10d95ff512"
      },
      "outputs": [
        {
          "data": {
            "text/plain": [
              "1    280\n",
              "0    220\n",
              "Name: Research, dtype: int64"
            ]
          },
          "execution_count": 30,
          "metadata": {},
          "output_type": "execute_result"
        }
      ],
      "source": [
        "df['Research'].value_counts()"
      ]
    },
    {
      "cell_type": "code",
      "execution_count": 31,
      "metadata": {
        "colab": {
          "base_uri": "https://localhost:8080/"
        },
        "id": "-K1IPocRvhaP",
        "outputId": "c710665c-5f7c-4875-d64f-02f4ac12c8b7"
      },
      "outputs": [
        {
          "data": {
            "text/plain": [
              "2"
            ]
          },
          "execution_count": 31,
          "metadata": {},
          "output_type": "execute_result"
        }
      ],
      "source": [
        "df['Research'].nunique()"
      ]
    },
    {
      "cell_type": "markdown",
      "metadata": {
        "id": "CLMk8QoR0-Vz"
      },
      "source": [
        "__Findings:__\n",
        "- The students are categorized into two categories, depending on if they have research experience or not."
      ]
    },
    {
      "cell_type": "code",
      "execution_count": 32,
      "metadata": {
        "colab": {
          "base_uri": "https://localhost:8080/",
          "height": 493
        },
        "id": "bJoMjxWj0-Vz",
        "outputId": "54718c95-d3c8-44df-db3c-b15921040315"
      },
      "outputs": [
        {
          "data": {
            "image/png": "[encoded data removed]",
            "text/plain": [
              "<Figure size 1080x504 with 2 Axes>"
            ]
          },
          "metadata": {
            "needs_background": "light"
          },
          "output_type": "display_data"
        }
      ],
      "source": [
        "make_categorical_plots(df, 'Research')"
      ]
    },
    {
      "cell_type": "markdown",
      "metadata": {
        "id": "Qglbo4Kq0-V0"
      },
      "source": [
        "__Findings:__\n",
        "- The proportion of students having Research Experience is slightly higher than students without Research Experience"
      ]
    },
    {
      "cell_type": "markdown",
      "metadata": {
        "id": "BexfS10JoXD5"
      },
      "source": [
        "### Numerical Attributes"
      ]
    },
    {
      "cell_type": "code",
      "execution_count": 33,
      "metadata": {
        "id": "BSSiEux6Exnn"
      },
      "outputs": [],
      "source": [
        "def make_numerical_plots(df, feature, bins='auto'):\n",
        "    \"\"\"\n",
        "    Method to make univariate numerical plot\n",
        "    \"\"\"\n",
        "    # creating a figure composed of two matplotlib.Axes objects (ax_box and ax_hist)\n",
        "    f, (ax_box, ax_hist) = plt.subplots(2, sharex=True, gridspec_kw={\"height_ratios\": (.15, .85)}, figsize=(15,7))\n",
        "    f.suptitle(f'Distribution of {feature}', fontsize=15)\n",
        "\n",
        "    # assigning a graph to each ax\n",
        "    sns.boxplot(df[feature], ax=ax_box)\n",
        "    sns.histplot(data=df, x=feature, ax=ax_hist, kde=True, bins=bins)\n",
        "\n",
        "    # Remove x axis name for the boxplot\n",
        "    ax_box.set(xlabel='')\n",
        "    plt.show()"
      ]
    },
    {
      "cell_type": "markdown",
      "metadata": {
        "id": "NHjWfrAhpDWR"
      },
      "source": [
        "#### GRE Score"
      ]
    },
    {
      "cell_type": "code",
      "execution_count": 34,
      "metadata": {
        "colab": {
          "base_uri": "https://localhost:8080/"
        },
        "id": "TQiZOPBo59SM",
        "outputId": "fca328f7-cdd0-4ae5-99f4-b721cc5f2f7c"
      },
      "outputs": [
        {
          "data": {
            "text/plain": [
              "count    500.000000\n",
              "mean     316.472000\n",
              "std       11.295148\n",
              "min      290.000000\n",
              "25%      308.000000\n",
              "50%      317.000000\n",
              "75%      325.000000\n",
              "max      340.000000\n",
              "Name: GRE Score, dtype: float64"
            ]
          },
          "execution_count": 34,
          "metadata": {},
          "output_type": "execute_result"
        }
      ],
      "source": [
        "df['GRE Score'].describe()"
      ]
    },
    {
      "cell_type": "markdown",
      "metadata": {
        "id": "fcflvwBD-SqQ"
      },
      "source": [
        "__Findings:__\n",
        "- The GRE scores obtained ranges from 290 to 340\n",
        "- The mean GRE scores obtained is ~316.5 and median value is 317"
      ]
    },
    {
      "cell_type": "code",
      "execution_count": 35,
      "metadata": {
        "colab": {
          "base_uri": "https://localhost:8080/",
          "height": 493
        },
        "id": "EVIwo2DW59SO",
        "outputId": "c6050db4-ada5-41ab-f45e-693a52fb09fa"
      },
      "outputs": [
        {
          "data": {
            "image/png": "[encoded data removed]",
            "text/plain": [
              "<Figure size 1080x504 with 2 Axes>"
            ]
          },
          "metadata": {
            "needs_background": "light"
          },
          "output_type": "display_data"
        }
      ],
      "source": [
        "make_numerical_plots(df, 'GRE Score')"
      ]
    },
    {
      "cell_type": "markdown",
      "metadata": {
        "id": "ZHCUwO9w-SqS"
      },
      "source": [
        "__Findings:__\n",
        "- We do not see any outliers in the data"
      ]
    },
    {
      "cell_type": "markdown",
      "metadata": {
        "id": "aCCjVBGmp3Py"
      },
      "source": [
        "#### TOEFL Score"
      ]
    },
    {
      "cell_type": "code",
      "execution_count": 36,
      "metadata": {
        "colab": {
          "base_uri": "https://localhost:8080/"
        },
        "id": "FfXhEUwWp3Pz",
        "outputId": "ca8c7a8c-ef72-4dcd-f8d3-09f1fae803bc"
      },
      "outputs": [
        {
          "data": {
            "text/plain": [
              "count    500.000000\n",
              "mean     107.192000\n",
              "std        6.081868\n",
              "min       92.000000\n",
              "25%      103.000000\n",
              "50%      107.000000\n",
              "75%      112.000000\n",
              "max      120.000000\n",
              "Name: TOEFL Score, dtype: float64"
            ]
          },
          "execution_count": 36,
          "metadata": {},
          "output_type": "execute_result"
        }
      ],
      "source": [
        "df['TOEFL Score'].describe()"
      ]
    },
    {
      "cell_type": "markdown",
      "metadata": {
        "id": "hnR6ucS4p3P0"
      },
      "source": [
        "__Findings:__\n",
        "- The TOEFL Score of students ranges from 92 to 120\n",
        "- The mean value is 107.1 and median value is 107"
      ]
    },
    {
      "cell_type": "code",
      "execution_count": 37,
      "metadata": {
        "colab": {
          "base_uri": "https://localhost:8080/",
          "height": 493
        },
        "id": "yUXKru7Lp3P0",
        "outputId": "9a5788d4-3a29-419f-ff20-bf8d42bf7fd8"
      },
      "outputs": [
        {
          "data": {
            "image/png": "[encoded data removed]",
            "text/plain": [
              "<Figure size 1080x504 with 2 Axes>"
            ]
          },
          "metadata": {
            "needs_background": "light"
          },
          "output_type": "display_data"
        }
      ],
      "source": [
        "make_numerical_plots(df, 'TOEFL Score')"
      ]
    },
    {
      "cell_type": "markdown",
      "metadata": {
        "id": "eH_vO0fBp3P0"
      },
      "source": [
        "__Findings:__\n",
        "- There are no outliers in the dataset"
      ]
    },
    {
      "cell_type": "markdown",
      "metadata": {
        "id": "oCwMBerTqUEM"
      },
      "source": [
        "#### CGPA"
      ]
    },
    {
      "cell_type": "code",
      "execution_count": 39,
      "metadata": {
        "colab": {
          "base_uri": "https://localhost:8080/"
        },
        "id": "0JhcNnzNqUEO",
        "outputId": "f9041538-f46e-4ffb-c732-ea0cd3757650"
      },
      "outputs": [
        {
          "data": {
            "text/plain": [
              "count    500.000000\n",
              "mean       8.576440\n",
              "std        0.604813\n",
              "min        6.800000\n",
              "25%        8.127500\n",
              "50%        8.560000\n",
              "75%        9.040000\n",
              "max        9.920000\n",
              "Name: CGPA, dtype: float64"
            ]
          },
          "execution_count": 39,
          "metadata": {},
          "output_type": "execute_result"
        }
      ],
      "source": [
        "df['CGPA'].describe()"
      ]
    },
    {
      "cell_type": "markdown",
      "metadata": {
        "id": "zXX6-degqUEP"
      },
      "source": [
        "__Findings:__\n",
        "- The CPGA Scores of the students ranges from 6.8 to 9.92\n",
        "- The mean value is ~8.6 and median value is ~8.6"
      ]
    },
    {
      "cell_type": "code",
      "execution_count": 40,
      "metadata": {
        "colab": {
          "base_uri": "https://localhost:8080/",
          "height": 493
        },
        "id": "3uIG-K7IqUEQ",
        "outputId": "beb7f79c-42aa-4599-9690-2c62a9473c5a"
      },
      "outputs": [
        {
          "data": {
            "image/png": "[encoded data removed]",
            "text/plain": [
              "<Figure size 1080x504 with 2 Axes>"
            ]
          },
          "metadata": {
            "needs_background": "light"
          },
          "output_type": "display_data"
        }
      ],
      "source": [
        "make_numerical_plots(df, 'CGPA')"
      ]
    },
    {
      "cell_type": "markdown",
      "metadata": {
        "id": "p7SmRl9PqUER"
      },
      "source": [
        "__Findings:__\n",
        "- There are no outlier points in the dataset. \n"
      ]
    },
    {
      "cell_type": "markdown",
      "metadata": {
        "id": "0WBfLaBCJpIN"
      },
      "source": [
        "#### Chance of Admit"
      ]
    },
    {
      "cell_type": "code",
      "execution_count": 44,
      "metadata": {
        "colab": {
          "base_uri": "https://localhost:8080/"
        },
        "id": "V9YqowsLJpIO",
        "outputId": "9e42a4fa-50c1-441b-f151-6fcf074ef877"
      },
      "outputs": [
        {
          "data": {
            "text/plain": [
              "count    500.00000\n",
              "mean       0.72174\n",
              "std        0.14114\n",
              "min        0.34000\n",
              "25%        0.63000\n",
              "50%        0.72000\n",
              "75%        0.82000\n",
              "max        0.97000\n",
              "Name: Chance of Admit , dtype: float64"
            ]
          },
          "execution_count": 44,
          "metadata": {},
          "output_type": "execute_result"
        }
      ],
      "source": [
        "df['Chance of Admit '].describe()"
      ]
    },
    {
      "cell_type": "markdown",
      "metadata": {
        "id": "T-iwTuhTJpIO"
      },
      "source": [
        "__Findings:__\n",
        "- The probabilities for chances of admission of the students ranges from 0.34 to 0.97\n",
        "- The mean value is 0.72 and median value is 0.72"
      ]
    },
    {
      "cell_type": "code",
      "execution_count": 45,
      "metadata": {
        "colab": {
          "base_uri": "https://localhost:8080/",
          "height": 493
        },
        "id": "FWJA01jmJpIO",
        "outputId": "fc3538b3-4a12-40b1-c107-07331582a34e"
      },
      "outputs": [
        {
          "data": {
            "image/png": "[encoded data removed]",
            "text/plain": [
              "<Figure size 1080x504 with 2 Axes>"
            ]
          },
          "metadata": {
            "needs_background": "light"
          },
          "output_type": "display_data"
        }
      ],
      "source": [
        "make_numerical_plots(df, 'Chance of Admit ')"
      ]
    },
    {
      "cell_type": "markdown",
      "metadata": {
        "id": "pDg-5K4sJpIP"
      },
      "source": [
        "__Findings:__\n",
        "- There are outlier points in the dataset. \n"
      ]
    },
    {
      "cell_type": "code",
      "execution_count": 46,
      "metadata": {
        "colab": {
          "base_uri": "https://localhost:8080/"
        },
        "id": "lSpcjgFmj8-g",
        "outputId": "4f5d47ce-2ff1-475c-d0ae-8d19b3e506f7"
      },
      "outputs": [
        {
          "name": "stdout",
          "output_type": "stream",
          "text": [
            "The values lying ouside of (0.3450000000000001, 1.105) are considered outliers\n",
            "There are 2 outlier data points\n"
          ]
        }
      ],
      "source": [
        "print(f'The values lying ouside of {quantile_boundaries(df[\"Chance of Admit \"])} are considered outliers')\n",
        "print(f'There are {outlier_count(df[\"Chance of Admit \"])} outlier data points')"
      ]
    },
    {
      "cell_type": "markdown",
      "metadata": {
        "id": "Tkj43SC0zWJd"
      },
      "source": [
        "__Findings__\n",
        "- We will remove the outliers"
      ]
    },
    {
      "cell_type": "markdown",
      "metadata": {
        "id": "pVY4b_K0C2aN"
      },
      "source": [
        "## Cleaning the data"
      ]
    },
    {
      "cell_type": "markdown",
      "metadata": {
        "id": "JcTTc6reC4NZ"
      },
      "source": [
        "Before we move to further analysis, we will remove the outliers that could impact our analysis:"
      ]
    },
    {
      "cell_type": "code",
      "execution_count": 47,
      "metadata": {
        "id": "uBV4_qkHC-AT"
      },
      "outputs": [],
      "source": [
        "def clean_data(df):\n",
        "\n",
        "    # remove outliers from Chance of admit\n",
        "    low, high = quantile_boundaries(df[\"Chance of Admit \"])\n",
        "    df = df[(df[\"Chance of Admit \"]>=low) & (df[\"Chance of Admit \"]<=high)]\n",
        "    \n",
        "    return df"
      ]
    },
    {
      "cell_type": "code",
      "execution_count": 48,
      "metadata": {
        "colab": {
          "base_uri": "https://localhost:8080/"
        },
        "id": "_-__YIARD68G",
        "outputId": "27c0e9c7-0355-473f-e72b-af6250528762"
      },
      "outputs": [
        {
          "data": {
            "text/plain": [
              "(498, 8)"
            ]
          },
          "execution_count": 48,
          "metadata": {},
          "output_type": "execute_result"
        }
      ],
      "source": [
        "cleaned_df = clean_data(df)\n",
        "cleaned_df.shape"
      ]
    },
    {
      "cell_type": "code",
      "execution_count": 49,
      "metadata": {
        "colab": {
          "base_uri": "https://localhost:8080/"
        },
        "id": "mS5VAz5lECeq",
        "outputId": "81c2a6ed-83b7-4350-ca48-c8961f806ad3"
      },
      "outputs": [
        {
          "name": "stdout",
          "output_type": "stream",
          "text": [
            "Percentage of rows removed = 0.4\n"
          ]
        }
      ],
      "source": [
        "print(f'Percentage of rows removed = {(len(df) - len(cleaned_df)) / len(df) * 100}')"
      ]
    },
    {
      "cell_type": "markdown",
      "metadata": {
        "id": "TVpsKrtNjKx2"
      },
      "source": [
        "## Bivariate Analysis\n",
        "\n",
        "The dependent variable for our problem statement is \"Chance of Admit\", and the remaing attribues are the independent variable. We will try to understand the factors that are important in graduate admissions and how these factors are interrelated among themselves."
      ]
    },
    {
      "cell_type": "markdown",
      "metadata": {
        "id": "624OC3njDuYR"
      },
      "source": [
        "### Effect of University Rating on chances of admission"
      ]
    },
    {
      "cell_type": "code",
      "execution_count": 53,
      "metadata": {
        "id": "XY4fZpTGD7NV"
      },
      "outputs": [],
      "source": [
        "def bi_cat_plot(df, x, target=\"Chance of Admit \"):\n",
        "    plt.figure(figsize=(15, 7))\n",
        "    sns.boxplot(data=df, x=x, y=target)\n",
        "    plt.title(f'Plot for {x} vs {target}', fontsize=15)\n",
        "    plt.show()"
      ]
    },
    {
      "cell_type": "code",
      "execution_count": 55,
      "metadata": {
        "colab": {
          "base_uri": "https://localhost:8080/",
          "height": 460
        },
        "id": "T65AJfXZFXX8",
        "outputId": "32d8c8c2-0182-45d9-8232-bc090534436a"
      },
      "outputs": [
        {
          "data": {
            "image/png": "[encoded data removed]",
            "text/plain": [
              "<Figure size 1080x504 with 1 Axes>"
            ]
          },
          "metadata": {
            "needs_background": "light"
          },
          "output_type": "display_data"
        }
      ],
      "source": [
        "bi_cat_plot(cleaned_df, 'University Rating')"
      ]
    },
    {
      "cell_type": "code",
      "execution_count": 56,
      "metadata": {
        "colab": {
          "base_uri": "https://localhost:8080/"
        },
        "id": "d-jCb9wE2AHa",
        "outputId": "c3f1311a-9243-4a4c-f819-59638de75e06"
      },
      "outputs": [
        {
          "data": {
            "text/plain": [
              "University Rating\n",
              "1    0.562059\n",
              "2    0.630726\n",
              "3    0.702901\n",
              "4    0.801619\n",
              "5    0.888082\n",
              "Name: Chance of Admit , dtype: float64"
            ]
          },
          "execution_count": 56,
          "metadata": {},
          "output_type": "execute_result"
        }
      ],
      "source": [
        "cleaned_df.groupby('University Rating')['Chance of Admit '].mean()"
      ]
    },
    {
      "cell_type": "markdown",
      "metadata": {
        "id": "E1joW2nHFgxR"
      },
      "source": [
        "__Findings__:\n",
        "\n",
        "- The chances of getting admission increases as the rating of the universities increases\n",
        "- There are some outliers in the plot. But as we have already treated outliers, we won't remove them\n"
      ]
    },
    {
      "cell_type": "markdown",
      "metadata": {
        "id": "nthLZxzrOTBZ"
      },
      "source": [
        "### Effect of SOP Rating on chances of admission"
      ]
    },
    {
      "cell_type": "code",
      "execution_count": 58,
      "metadata": {
        "colab": {
          "base_uri": "https://localhost:8080/",
          "height": 460
        },
        "id": "pRxJwtiiOTBa",
        "outputId": "5974c7f4-60b8-4db9-de99-a4f24ac75a4e"
      },
      "outputs": [
        {
          "data": {
            "image/png": "[encoded data removed]",
            "text/plain": [
              "<Figure size 1080x504 with 1 Axes>"
            ]
          },
          "metadata": {
            "needs_background": "light"
          },
          "output_type": "display_data"
        }
      ],
      "source": [
        "bi_cat_plot(cleaned_df, 'SOP')"
      ]
    },
    {
      "cell_type": "code",
      "execution_count": 59,
      "metadata": {
        "colab": {
          "base_uri": "https://localhost:8080/"
        },
        "id": "bmYZ3DwUOTBb",
        "outputId": "6b78975f-e0f3-4b7e-8912-d3e187219ae8"
      },
      "outputs": [
        {
          "data": {
            "text/plain": [
              "SOP\n",
              "1.0    0.538333\n",
              "1.5    0.546400\n",
              "2.0    0.589535\n",
              "2.5    0.650159\n",
              "3.0    0.678500\n",
              "3.5    0.712045\n",
              "4.0    0.787841\n",
              "4.5    0.850000\n",
              "5.0    0.885000\n",
              "Name: Chance of Admit , dtype: float64"
            ]
          },
          "execution_count": 59,
          "metadata": {},
          "output_type": "execute_result"
        }
      ],
      "source": [
        "cleaned_df.groupby('SOP')['Chance of Admit '].mean()"
      ]
    },
    {
      "cell_type": "markdown",
      "metadata": {
        "id": "kixtBptYOTBb"
      },
      "source": [
        "__Findings__:\n",
        "\n",
        "- The chances of getting admission increases \n",
        "as the quality of SOP increases\n",
        "- There are some outliers in the plot. But as we have already treated outliers, we won't remove them"
      ]
    },
    {
      "cell_type": "markdown",
      "metadata": {
        "id": "aIbPJDD9OTFJ"
      },
      "source": [
        "### Effect of LOR Rating on chances of admission"
      ]
    },
    {
      "cell_type": "code",
      "execution_count": 61,
      "metadata": {
        "colab": {
          "base_uri": "https://localhost:8080/",
          "height": 460
        },
        "id": "I7PdrRzjOTFJ",
        "outputId": "46666948-3f8e-430c-9609-91c1435ad2fa"
      },
      "outputs": [
        {
          "data": {
            "image/png": "[encoded data removed]",
            "text/plain": [
              "<Figure size 1080x504 with 1 Axes>"
            ]
          },
          "metadata": {
            "needs_background": "light"
          },
          "output_type": "display_data"
        }
      ],
      "source": [
        "bi_cat_plot(cleaned_df, 'LOR ')"
      ]
    },
    {
      "cell_type": "code",
      "execution_count": 62,
      "metadata": {
        "colab": {
          "base_uri": "https://localhost:8080/"
        },
        "id": "sb5nj2VmOTFK",
        "outputId": "6e431bab-9d1a-4cdf-9030-492a32cb1cd3"
      },
      "outputs": [
        {
          "data": {
            "text/plain": [
              "LOR \n",
              "1.0    0.420000\n",
              "1.5    0.550000\n",
              "2.0    0.573333\n",
              "2.5    0.640600\n",
              "3.0    0.671837\n",
              "3.5    0.723023\n",
              "4.0    0.764149\n",
              "4.5    0.831905\n",
              "5.0    0.872600\n",
              "Name: Chance of Admit , dtype: float64"
            ]
          },
          "execution_count": 62,
          "metadata": {},
          "output_type": "execute_result"
        }
      ],
      "source": [
        "cleaned_df.groupby('LOR ')['Chance of Admit '].mean()"
      ]
    },
    {
      "cell_type": "markdown",
      "metadata": {
        "id": "3d2yZ37cOwQv"
      },
      "source": [
        "__Findings__:\n",
        "\n",
        "- The chances of getting  admission increases \n",
        "as the quality of LOR increases\n",
        "- There are some outliers in the plot. But as we have already treated outliers, we won't remove them"
      ]
    },
    {
      "cell_type": "markdown",
      "metadata": {
        "id": "IMj7X-s9OTIn"
      },
      "source": [
        "### Effect of Research on chances of admission"
      ]
    },
    {
      "cell_type": "code",
      "execution_count": 64,
      "metadata": {
        "colab": {
          "base_uri": "https://localhost:8080/",
          "height": 460
        },
        "id": "Kd8CZ5R8OTIn",
        "outputId": "0099e6fc-f43c-470c-a651-b5a7c588ee8e"
      },
      "outputs": [
        {
          "data": {
            "image/png": "[encoded data removed]",
            "text/plain": [
              "<Figure size 1080x504 with 1 Axes>"
            ]
          },
          "metadata": {
            "needs_background": "light"
          },
          "output_type": "display_data"
        }
      ],
      "source": [
        "bi_cat_plot(cleaned_df, 'Research')"
      ]
    },
    {
      "cell_type": "code",
      "execution_count": 63,
      "metadata": {
        "colab": {
          "base_uri": "https://localhost:8080/"
        },
        "id": "AxDfaNVsOTIo",
        "outputId": "06a46613-bfe3-4aa1-8692-918f1e000aba"
      },
      "outputs": [
        {
          "data": {
            "text/plain": [
              "Research\n",
              "0    0.637615\n",
              "1    0.789964\n",
              "Name: Chance of Admit , dtype: float64"
            ]
          },
          "execution_count": 63,
          "metadata": {},
          "output_type": "execute_result"
        }
      ],
      "source": [
        "cleaned_df.groupby('Research')['Chance of Admit '].mean()"
      ]
    },
    {
      "cell_type": "markdown",
      "metadata": {
        "id": "S5m7hF1yOTIo"
      },
      "source": [
        "__Findings__:\n",
        "\n",
        "- The chances of getting admission increases if a student has a Research experience\n",
        "- There are some outliers in the plot. But as we have already treated outliers, we won't remove them"
      ]
    },
    {
      "attachments": {},
      "cell_type": "markdown",
      "metadata": {
        "id": "ihJghZU0SdH6"
      },
      "source": [
        "### Pairplot"
      ]
    },
    {
      "cell_type": "code",
      "execution_count": 73,
      "metadata": {
        "colab": {
          "base_uri": "https://localhost:8080/",
          "height": 743
        },
        "id": "KkWQk-crVBnX",
        "outputId": "3edb1c1d-5e5a-42f8-aacb-7354057e820e"
      },
      "outputs": [
        {
          "data": {
            "text/plain": [
              "<Figure size 1080x504 with 0 Axes>"
            ]
          },
          "metadata": {},
          "output_type": "display_data"
        },
        {
          "data": {
            "image/png": "[encoded data removed]",
            "text/plain": [
              "<Figure size 720x720 with 20 Axes>"
            ]
          },
          "metadata": {
            "needs_background": "light"
          },
          "output_type": "display_data"
        }
      ],
      "source": [
        "plt.figure(figsize=(15,7))\n",
        "sns.pairplot(cleaned_df)\n",
        "plt.show()"
      ]
    },
    {
      "cell_type": "markdown",
      "metadata": {
        "id": "yleCzNHhWBVM"
      },
      "source": [
        "__Findings:__\n",
        "- \"GRE Score\", \"TOFEL Score\", and \"CGPA\" have a postive correlation among themselves"
      ]
    },
    {
      "cell_type": "code",
      "execution_count": 74,
      "metadata": {
        "colab": {
          "base_uri": "https://localhost:8080/",
          "height": 486
        },
        "id": "bOE2prM6QpmO",
        "outputId": "420010e6-0b04-4c0f-d406-835da10ba8ec"
      },
      "outputs": [
        {
          "data": {
            "image/png": "[encoded data removed]",
            "text/plain": [
              "<Figure size 1080x504 with 2 Axes>"
            ]
          },
          "metadata": {
            "needs_background": "light"
          },
          "output_type": "display_data"
        }
      ],
      "source": [
        "# Correlation between different variables\n",
        "corr = cleaned_df.corr()\n",
        "\n",
        "# Set up the matplotlib plot configuration\n",
        "f, ax = plt.subplots(figsize=(15, 7))\n",
        "\n",
        "# Generate a mask for upper traingle\n",
        "mask = np.triu(np.ones_like(corr, dtype=bool))\n",
        "\n",
        "# Configure a custom diverging colormap\n",
        "cmap = sns.diverging_palette(230, 20, as_cmap=True)\n",
        "\n",
        "# Draw the heatmap\n",
        "sns.heatmap(corr, annot=True, mask = mask, cmap=cmap)\n",
        "\n",
        "ax.set_xticklabels(\n",
        "    ax.get_xticklabels(),\n",
        "    rotation=45,\n",
        "    horizontalalignment='right'\n",
        ")\n",
        "plt.show()"
      ]
    },
    {
      "cell_type": "markdown",
      "metadata": {
        "id": "moF482tbRooN"
      },
      "source": [
        "__Findings:__\n",
        "- \"GRE Score\", \"TOEFL Score\", and \"CGPA\" are highly correlated with the dependent feature \"Chance of Admit\" \n",
        "- \"GRE Score\", \"TOEFL Score\", and \"CGPA\" are also highly correlated among each other"
      ]
    },
    {
      "cell_type": "markdown",
      "metadata": {
        "id": "UCp142aTXStY"
      },
      "source": [
        "## Data Preparation for Modelling"
      ]
    },
    {
      "cell_type": "markdown",
      "metadata": {
        "id": "L9uwtQH9XWV2"
      },
      "source": [
        "We will encode the categorical features and scale the numerical features before modelling."
      ]
    },
    {
      "cell_type": "code",
      "execution_count": 77,
      "metadata": {
        "id": "46uGWLNhYlO9"
      },
      "outputs": [],
      "source": [
        "pd.set_option('display.max_columns', None)"
      ]
    },
    {
      "cell_type": "markdown",
      "metadata": {
        "id": "l9SO39zLYs1Q"
      },
      "source": [
        "#### Encode categoricals"
      ]
    },
    {
      "cell_type": "code",
      "execution_count": 80,
      "metadata": {
        "colab": {
          "base_uri": "https://localhost:8080/",
          "height": 242
        },
        "id": "NZEMGM7tX2Ob",
        "outputId": "58dbf5e7-d6c9-43f5-a7a7-592cc2a58437"
      },
      "outputs": [
        {
          "data": {
            "text/html": [
              "\n",
              "  <div id=\"df-c1efd2c0-5742-42f1-8ccc-212c8e3de752\">\n",
              "    <div class=\"colab-df-container\">\n",
              "      <div>\n",
              "<style scoped>\n",
              "    .dataframe tbody tr th:only-of-type {\n",
              "        vertical-align: middle;\n",
              "    }\n",
              "\n",
              "    .dataframe tbody tr th {\n",
              "        vertical-align: top;\n",
              "    }\n",
              "\n",
              "    .dataframe thead th {\n",
              "        text-align: right;\n",
              "    }\n",
              "</style>\n",
              "<table border=\"1\" class=\"dataframe\">\n",
              "  <thead>\n",
              "    <tr style=\"text-align: right;\">\n",
              "      <th></th>\n",
              "      <th>GRE Score</th>\n",
              "      <th>TOEFL Score</th>\n",
              "      <th>CGPA</th>\n",
              "      <th>Chance of Admit</th>\n",
              "      <th>University Rating_2</th>\n",
              "      <th>University Rating_3</th>\n",
              "      <th>University Rating_4</th>\n",
              "      <th>University Rating_5</th>\n",
              "      <th>SOP_1.5</th>\n",
              "      <th>SOP_2.0</th>\n",
              "      <th>SOP_2.5</th>\n",
              "      <th>SOP_3.0</th>\n",
              "      <th>SOP_3.5</th>\n",
              "      <th>SOP_4.0</th>\n",
              "      <th>SOP_4.5</th>\n",
              "      <th>SOP_5.0</th>\n",
              "      <th>LOR _1.5</th>\n",
              "      <th>LOR _2.0</th>\n",
              "      <th>LOR _2.5</th>\n",
              "      <th>LOR _3.0</th>\n",
              "      <th>LOR _3.5</th>\n",
              "      <th>LOR _4.0</th>\n",
              "      <th>LOR _4.5</th>\n",
              "      <th>LOR _5.0</th>\n",
              "      <th>Research_1</th>\n",
              "    </tr>\n",
              "  </thead>\n",
              "  <tbody>\n",
              "    <tr>\n",
              "      <th>0</th>\n",
              "      <td>337</td>\n",
              "      <td>118</td>\n",
              "      <td>9.65</td>\n",
              "      <td>0.92</td>\n",
              "      <td>0</td>\n",
              "      <td>0</td>\n",
              "      <td>1</td>\n",
              "      <td>0</td>\n",
              "      <td>0</td>\n",
              "      <td>0</td>\n",
              "      <td>0</td>\n",
              "      <td>0</td>\n",
              "      <td>0</td>\n",
              "      <td>0</td>\n",
              "      <td>1</td>\n",
              "      <td>0</td>\n",
              "      <td>0</td>\n",
              "      <td>0</td>\n",
              "      <td>0</td>\n",
              "      <td>0</td>\n",
              "      <td>0</td>\n",
              "      <td>0</td>\n",
              "      <td>1</td>\n",
              "      <td>0</td>\n",
              "      <td>1</td>\n",
              "    </tr>\n",
              "    <tr>\n",
              "      <th>1</th>\n",
              "      <td>324</td>\n",
              "      <td>107</td>\n",
              "      <td>8.87</td>\n",
              "      <td>0.76</td>\n",
              "      <td>0</td>\n",
              "      <td>0</td>\n",
              "      <td>1</td>\n",
              "      <td>0</td>\n",
              "      <td>0</td>\n",
              "      <td>0</td>\n",
              "      <td>0</td>\n",
              "      <td>0</td>\n",
              "      <td>0</td>\n",
              "      <td>1</td>\n",
              "      <td>0</td>\n",
              "      <td>0</td>\n",
              "      <td>0</td>\n",
              "      <td>0</td>\n",
              "      <td>0</td>\n",
              "      <td>0</td>\n",
              "      <td>0</td>\n",
              "      <td>0</td>\n",
              "      <td>1</td>\n",
              "      <td>0</td>\n",
              "      <td>1</td>\n",
              "    </tr>\n",
              "    <tr>\n",
              "      <th>2</th>\n",
              "      <td>316</td>\n",
              "      <td>104</td>\n",
              "      <td>8.00</td>\n",
              "      <td>0.72</td>\n",
              "      <td>0</td>\n",
              "      <td>1</td>\n",
              "      <td>0</td>\n",
              "      <td>0</td>\n",
              "      <td>0</td>\n",
              "      <td>0</td>\n",
              "      <td>0</td>\n",
              "      <td>1</td>\n",
              "      <td>0</td>\n",
              "      <td>0</td>\n",
              "      <td>0</td>\n",
              "      <td>0</td>\n",
              "      <td>0</td>\n",
              "      <td>0</td>\n",
              "      <td>0</td>\n",
              "      <td>0</td>\n",
              "      <td>1</td>\n",
              "      <td>0</td>\n",
              "      <td>0</td>\n",
              "      <td>0</td>\n",
              "      <td>1</td>\n",
              "    </tr>\n",
              "  </tbody>\n",
              "</table>\n",
              "</div>\n",
              "      <button class=\"colab-df-convert\" onclick=\"convertToInteractive('df-c1efd2c0-5742-42f1-8ccc-212c8e3de752')\"\n",
              "              title=\"Convert this dataframe to an interactive table.\"\n",
              "              style=\"display:none;\">\n",
              "        \n",
              "  <svg xmlns=\"http://www.w3.org/2000/svg\" height=\"24px\"viewBox=\"0 0 24 24\"\n",
              "       width=\"24px\">\n",
              "    <path d=\"M0 0h24v24H0V0z\" fill=\"none\"/>\n",
              "    <path d=\"M18.56 5.44l.94 2.06.94-2.06 2.06-.94-2.06-.94-.94-2.06-.94 2.06-2.06.94zm-11 1L8.5 8.5l.94-2.06 2.06-.94-2.06-.94L8.5 2.5l-.94 2.06-2.06.94zm10 10l.94 2.06.94-2.06 2.06-.94-2.06-.94-.94-2.06-.94 2.06-2.06.94z\"/><path d=\"M17.41 7.96l-1.37-1.37c-.4-.4-.92-.59-1.43-.59-.52 0-1.04.2-1.43.59L10.3 9.45l-7.72 7.72c-.78.78-.78 2.05 0 2.83L4 21.41c.39.39.9.59 1.41.59.51 0 1.02-.2 1.41-.59l7.78-7.78 2.81-2.81c.8-.78.8-2.07 0-2.86zM5.41 20L4 18.59l7.72-7.72 1.47 1.35L5.41 20z\"/>\n",
              "  </svg>\n",
              "      </button>\n",
              "      \n",
              "  <style>\n",
              "    .colab-df-container {\n",
              "      display:flex;\n",
              "      flex-wrap:wrap;\n",
              "      gap: 12px;\n",
              "    }\n",
              "\n",
              "    .colab-df-convert {\n",
              "      background-color: #E8F0FE;\n",
              "      border: none;\n",
              "      border-radius: 50%;\n",
              "      cursor: pointer;\n",
              "      display: none;\n",
              "      fill: #1967D2;\n",
              "      height: 32px;\n",
              "      padding: 0 0 0 0;\n",
              "      width: 32px;\n",
              "    }\n",
              "\n",
              "    .colab-df-convert:hover {\n",
              "      background-color: #E2EBFA;\n",
              "      box-shadow: 0px 1px 2px rgba(60, 64, 67, 0.3), 0px 1px 3px 1px rgba(60, 64, 67, 0.15);\n",
              "      fill: #174EA6;\n",
              "    }\n",
              "\n",
              "    [theme=dark] .colab-df-convert {\n",
              "      background-color: #3B4455;\n",
              "      fill: #D2E3FC;\n",
              "    }\n",
              "\n",
              "    [theme=dark] .colab-df-convert:hover {\n",
              "      background-color: #434B5C;\n",
              "      box-shadow: 0px 1px 3px 1px rgba(0, 0, 0, 0.15);\n",
              "      filter: drop-shadow(0px 1px 2px rgba(0, 0, 0, 0.3));\n",
              "      fill: #FFFFFF;\n",
              "    }\n",
              "  </style>\n",
              "\n",
              "      <script>\n",
              "        const buttonEl =\n",
              "          document.querySelector('#df-c1efd2c0-5742-42f1-8ccc-212c8e3de752 button.colab-df-convert');\n",
              "        buttonEl.style.display =\n",
              "          google.colab.kernel.accessAllowed ? 'block' : 'none';\n",
              "\n",
              "        async function convertToInteractive(key) {\n",
              "          const element = document.querySelector('#df-c1efd2c0-5742-42f1-8ccc-212c8e3de752');\n",
              "          const dataTable =\n",
              "            await google.colab.kernel.invokeFunction('convertToInteractive',\n",
              "                                                     [key], {});\n",
              "          if (!dataTable) return;\n",
              "\n",
              "          const docLinkHtml = 'Like what you see? Visit the ' +\n",
              "            '<a target=\"_blank\" href=https://colab.research.google.com/notebooks/data_table.ipynb>data table notebook</a>'\n",
              "            + ' to learn more about interactive tables.';\n",
              "          element.innerHTML = '';\n",
              "          dataTable['output_type'] = 'display_data';\n",
              "          await google.colab.output.renderOutput(dataTable, element);\n",
              "          const docLink = document.createElement('div');\n",
              "          docLink.innerHTML = docLinkHtml;\n",
              "          element.appendChild(docLink);\n",
              "        }\n",
              "      </script>\n",
              "    </div>\n",
              "  </div>\n",
              "  "
            ],
            "text/plain": [
              "   GRE Score  TOEFL Score  CGPA  Chance of Admit   University Rating_2  \\\n",
              "0        337          118  9.65              0.92                    0   \n",
              "1        324          107  8.87              0.76                    0   \n",
              "2        316          104  8.00              0.72                    0   \n",
              "\n",
              "   University Rating_3  University Rating_4  University Rating_5  SOP_1.5  \\\n",
              "0                    0                    1                    0        0   \n",
              "1                    0                    1                    0        0   \n",
              "2                    1                    0                    0        0   \n",
              "\n",
              "   SOP_2.0  SOP_2.5  SOP_3.0  SOP_3.5  SOP_4.0  SOP_4.5  SOP_5.0  LOR _1.5  \\\n",
              "0        0        0        0        0        0        1        0         0   \n",
              "1        0        0        0        0        1        0        0         0   \n",
              "2        0        0        1        0        0        0        0         0   \n",
              "\n",
              "   LOR _2.0  LOR _2.5  LOR _3.0  LOR _3.5  LOR _4.0  LOR _4.5  LOR _5.0  \\\n",
              "0         0         0         0         0         0         1         0   \n",
              "1         0         0         0         0         0         1         0   \n",
              "2         0         0         0         1         0         0         0   \n",
              "\n",
              "   Research_1  \n",
              "0           1  \n",
              "1           1  \n",
              "2           1  "
            ]
          },
          "execution_count": 80,
          "metadata": {},
          "output_type": "execute_result"
        }
      ],
      "source": [
        "df = pd.get_dummies(cleaned_df, drop_first=True)\n",
        "df.head(3)"
      ]
    },
    {
      "cell_type": "markdown",
      "metadata": {
        "id": "R5Q4jb4gZA8A"
      },
      "source": [
        "#### Scale numericals"
      ]
    },
    {
      "cell_type": "markdown",
      "metadata": {
        "id": "1AYvYgB3ZK7y"
      },
      "source": [
        "- Before we scale the data, we will perform train-test split"
      ]
    },
    {
      "cell_type": "code",
      "execution_count": 84,
      "metadata": {
        "id": "1JQuP-SrWvVA"
      },
      "outputs": [],
      "source": [
        "from sklearn.model_selection import train_test_split\n",
        "from sklearn.preprocessing import StandardScaler "
      ]
    },
    {
      "cell_type": "code",
      "execution_count": 82,
      "metadata": {
        "id": "51ttmGa0WvXP"
      },
      "outputs": [],
      "source": [
        "train_df, test_df = train_test_split(df, test_size=0.2)"
      ]
    },
    {
      "cell_type": "code",
      "execution_count": 87,
      "metadata": {
        "id": "gu817ao8Wvaq"
      },
      "outputs": [],
      "source": [
        "cols = ['GRE Score', 'TOEFL Score', 'CGPA']\n",
        "\n",
        "for col in cols:\n",
        "    sc = StandardScaler().fit(train_df[col].values.reshape(-1, 1))\n",
        "    train_df[col] = sc.transform(train_df[col].values.reshape(-1, 1))\n",
        "    test_df[col]  = sc.transform(test_df[col].values.reshape(-1, 1))\n"
      ]
    },
    {
      "cell_type": "code",
      "execution_count": 98,
      "metadata": {
        "id": "3vZUQ70vbzvX"
      },
      "outputs": [],
      "source": [
        "train_X = train_df.drop('Chance of Admit ', axis=1)\n",
        "train_Y = train_df['Chance of Admit ']\n",
        "\n",
        "test_X = test_df.drop('Chance of Admit ', axis=1)\n",
        "test_Y = test_df['Chance of Admit ']"
      ]
    },
    {
      "cell_type": "markdown",
      "metadata": {
        "id": "ZesfN-C_asXj"
      },
      "source": [
        "## Modelling - Iteration 1"
      ]
    },
    {
      "cell_type": "markdown",
      "metadata": {
        "id": "6mKXJe_TawHS"
      },
      "source": [
        "We now have our data ready for modelling. "
      ]
    },
    {
      "cell_type": "code",
      "execution_count": 99,
      "metadata": {
        "id": "IIQynYoabHWw"
      },
      "outputs": [],
      "source": [
        "import statsmodels.api as sm\n",
        "\n",
        "train = sm.add_constant(train_X)\n",
        "model = sm.OLS(train_Y, train).fit()"
      ]
    },
    {
      "cell_type": "code",
      "execution_count": 100,
      "metadata": {
        "colab": {
          "base_uri": "https://localhost:8080/"
        },
        "id": "3OtLG1HLcQut",
        "outputId": "344ef427-dcc5-46a3-a984-52d5482de2f8"
      },
      "outputs": [
        {
          "data": {
            "text/plain": [
              "const                  0.610774\n",
              "GRE Score              0.019675\n",
              "TOEFL Score            0.019902\n",
              "CGPA                   0.067323\n",
              "University Rating_2   -0.018626\n",
              "University Rating_3   -0.011347\n",
              "University Rating_4   -0.010916\n",
              "University Rating_5    0.010884\n",
              "SOP_1.5                0.002919\n",
              "SOP_2.0                0.013757\n",
              "SOP_2.5                0.037571\n",
              "SOP_3.0                0.028996\n",
              "SOP_3.5                0.019269\n",
              "SOP_4.0                0.028978\n",
              "SOP_4.5                0.032505\n",
              "SOP_5.0                0.038433\n",
              "LOR _1.5               0.025825\n",
              "LOR _2.0               0.071863\n",
              "LOR _2.5               0.072028\n",
              "LOR _3.0               0.067662\n",
              "LOR _3.5               0.080138\n",
              "LOR _4.0               0.093787\n",
              "LOR _4.5               0.096873\n",
              "LOR _5.0               0.102598\n",
              "Research_1             0.026987\n",
              "dtype: float64"
            ]
          },
          "execution_count": 100,
          "metadata": {},
          "output_type": "execute_result"
        }
      ],
      "source": [
        "model.params"
      ]
    },
    {
      "cell_type": "markdown",
      "metadata": {
        "id": "n9Brj8vwcY5l"
      },
      "source": [
        "__Summary__\n",
        "- We have both positive and negative valued coefficients \n",
        "\n",
        "\n",
        "The coefficients can be interpreted as follows: \n",
        "- __GRE Score 0.01__: for 1 unit change in GRE Score, Chance of Admit increase by 0.01\n",
        "\n",
        "The signs of coefficient decides if the impact is directly or indirectly related\n",
        "- (+ve) means directly relation\n",
        "- (-ve) means indirect relation\n",
        "\n",
        "For better explainability of the dependent variable, we want the magnitude of coefficient values of the independent variables to be high. That means,  the larger the magnitude of coefficient is, higher is the impact of that feature on the dependent feature."
      ]
    },
    {
      "cell_type": "code",
      "execution_count": 104,
      "metadata": {
        "colab": {
          "base_uri": "https://localhost:8080/"
        },
        "id": "25QzWVyYhUNm",
        "outputId": "90e5fad9-4ff0-41a0-aacd-d691d4515f9e"
      },
      "outputs": [
        {
          "name": "stdout",
          "output_type": "stream",
          "text": [
            "+-------+-------------+-------------+------------+\n",
            "| Sl no |    Metric   | Train Score | Test Score |\n",
            "+-------+-------------+-------------+------------+\n",
            "|   1   |     MAE     |    0.041    |   0.045    |\n",
            "|       |             |             |            |\n",
            "|   2   |     RMSE    |    0.003    |   0.004    |\n",
            "|       |             |             |            |\n",
            "|   3   |      R2     |    0.832    |   0.808    |\n",
            "|       |             |             |            |\n",
            "|   4   | Adjusted R2 |    0.821    |   0.747    |\n",
            "|       |             |             |            |\n",
            "+-------+-------------+-------------+------------+\n"
          ]
        }
      ],
      "source": [
        "from sklearn.metrics import mean_absolute_error, mean_squared_error, r2_score\n",
        "\n",
        "train_pred = model.predict(sm.add_constant(train_X))\n",
        "test_pred = model.predict(sm.add_constant(test_X))\n",
        "\n",
        "metrics = ['MAE', 'RMSE', 'R2', 'Adjusted R2']\n",
        "train_scores = [\n",
        "    np.round(mean_absolute_error(train_Y, train_pred), 3),\n",
        "    np.round(mean_squared_error(train_Y, train_pred), 3),\n",
        "    np.round(r2_score(train_Y, train_pred), 3),\n",
        "    np.round(1 - (1-r2_score(train_Y, train_pred))*(len(train_Y)-1)/(len(train_Y)-train_X.shape[1]-1), 3)\n",
        "]\n",
        "\n",
        "test_scores = [\n",
        "    np.round(mean_absolute_error(test_Y, test_pred), 3),\n",
        "    np.round(mean_squared_error(test_Y, test_pred), 3),\n",
        "    np.round(r2_score(test_Y, test_pred), 3),\n",
        "    np.round(1 - (1-r2_score(test_Y, test_pred))*(len(test_Y)-1)/(len(test_Y)-train_X.shape[1]-1), 3)\n",
        "]\n",
        "\n",
        "x = PrettyTable([\"Sl no\", \"Metric\", \"Train Score\", \"Test Score\"])\n",
        "i = 1\n",
        "for a, b, c in zip(metrics, train_scores, test_scores):\n",
        "    x.add_row([i, a, b, c])\n",
        "    x.add_row([' ', ' ', ' ', ' '])\n",
        "    i += 1\n",
        "print(x)"
      ]
    },
    {
      "cell_type": "markdown",
      "metadata": {
        "id": "xRb5So1k5OKe"
      },
      "source": [
        "__Findings__\n",
        "- The R2 score is descent. \n",
        "- We will try to remove features with lesser predictive power so we can have a model that is much simple, and more interpretable\n",
        "- As we have already used all the features in this model, we can expect a decrease in the score in our next model."
      ]
    },
    {
      "cell_type": "markdown",
      "metadata": {
        "id": "VRtXPqMZjKMt"
      },
      "source": [
        "## Testing assumptions of the linear regression model:"
      ]
    },
    {
      "cell_type": "code",
      "execution_count": 93,
      "metadata": {
        "colab": {
          "base_uri": "https://localhost:8080/",
          "height": 962
        },
        "id": "0jpZC3mCWuoZ",
        "outputId": "93e48204-16c8-4845-993e-f000149fdf2c"
      },
      "outputs": [
        {
          "data": {
            "text/html": [
              "<table class=\"simpletable\">\n",
              "<caption>OLS Regression Results</caption>\n",
              "<tr>\n",
              "  <th>Dep. Variable:</th>    <td>Chance of Admit </td> <th>  R-squared:         </th> <td>   0.832</td> \n",
              "</tr>\n",
              "<tr>\n",
              "  <th>Model:</th>                   <td>OLS</td>       <th>  Adj. R-squared:    </th> <td>   0.821</td> \n",
              "</tr>\n",
              "<tr>\n",
              "  <th>Method:</th>             <td>Least Squares</td>  <th>  F-statistic:       </th> <td>   80.28</td> \n",
              "</tr>\n",
              "<tr>\n",
              "  <th>Date:</th>             <td>Tue, 19 Apr 2022</td> <th>  Prob (F-statistic):</th> <td>2.66e-129</td>\n",
              "</tr>\n",
              "<tr>\n",
              "  <th>Time:</th>                 <td>15:52:17</td>     <th>  Log-Likelihood:    </th> <td>  572.15</td> \n",
              "</tr>\n",
              "<tr>\n",
              "  <th>No. Observations:</th>      <td>   398</td>      <th>  AIC:               </th> <td>  -1096.</td> \n",
              "</tr>\n",
              "<tr>\n",
              "  <th>Df Residuals:</th>          <td>   374</td>      <th>  BIC:               </th> <td>  -1001.</td> \n",
              "</tr>\n",
              "<tr>\n",
              "  <th>Df Model:</th>              <td>    23</td>      <th>                     </th>     <td> </td>    \n",
              "</tr>\n",
              "<tr>\n",
              "  <th>Covariance Type:</th>      <td>nonrobust</td>    <th>                     </th>     <td> </td>    \n",
              "</tr>\n",
              "</table>\n",
              "<table class=\"simpletable\">\n",
              "<tr>\n",
              "           <td></td>              <th>coef</th>     <th>std err</th>      <th>t</th>      <th>P>|t|</th>  <th>[0.025</th>    <th>0.975]</th>  \n",
              "</tr>\n",
              "<tr>\n",
              "  <th>const</th>               <td>    0.6108</td> <td>    0.032</td> <td>   19.363</td> <td> 0.000</td> <td>    0.549</td> <td>    0.673</td>\n",
              "</tr>\n",
              "<tr>\n",
              "  <th>GRE Score</th>           <td>    0.0197</td> <td>    0.006</td> <td>    3.071</td> <td> 0.002</td> <td>    0.007</td> <td>    0.032</td>\n",
              "</tr>\n",
              "<tr>\n",
              "  <th>TOEFL Score</th>         <td>    0.0199</td> <td>    0.006</td> <td>    3.287</td> <td> 0.001</td> <td>    0.008</td> <td>    0.032</td>\n",
              "</tr>\n",
              "<tr>\n",
              "  <th>CGPA</th>                <td>    0.0673</td> <td>    0.007</td> <td>   10.189</td> <td> 0.000</td> <td>    0.054</td> <td>    0.080</td>\n",
              "</tr>\n",
              "<tr>\n",
              "  <th>University Rating_2</th> <td>   -0.0186</td> <td>    0.015</td> <td>   -1.230</td> <td> 0.219</td> <td>   -0.048</td> <td>    0.011</td>\n",
              "</tr>\n",
              "<tr>\n",
              "  <th>University Rating_3</th> <td>   -0.0113</td> <td>    0.016</td> <td>   -0.701</td> <td> 0.483</td> <td>   -0.043</td> <td>    0.020</td>\n",
              "</tr>\n",
              "<tr>\n",
              "  <th>University Rating_4</th> <td>   -0.0109</td> <td>    0.018</td> <td>   -0.610</td> <td> 0.543</td> <td>   -0.046</td> <td>    0.024</td>\n",
              "</tr>\n",
              "<tr>\n",
              "  <th>University Rating_5</th> <td>    0.0109</td> <td>    0.020</td> <td>    0.542</td> <td> 0.588</td> <td>   -0.029</td> <td>    0.050</td>\n",
              "</tr>\n",
              "<tr>\n",
              "  <th>SOP_1.5</th>             <td>    0.0029</td> <td>    0.038</td> <td>    0.077</td> <td> 0.938</td> <td>   -0.071</td> <td>    0.077</td>\n",
              "</tr>\n",
              "<tr>\n",
              "  <th>SOP_2.0</th>             <td>    0.0138</td> <td>    0.038</td> <td>    0.363</td> <td> 0.717</td> <td>   -0.061</td> <td>    0.088</td>\n",
              "</tr>\n",
              "<tr>\n",
              "  <th>SOP_2.5</th>             <td>    0.0376</td> <td>    0.038</td> <td>    0.984</td> <td> 0.326</td> <td>   -0.038</td> <td>    0.113</td>\n",
              "</tr>\n",
              "<tr>\n",
              "  <th>SOP_3.0</th>             <td>    0.0290</td> <td>    0.038</td> <td>    0.755</td> <td> 0.451</td> <td>   -0.047</td> <td>    0.105</td>\n",
              "</tr>\n",
              "<tr>\n",
              "  <th>SOP_3.5</th>             <td>    0.0193</td> <td>    0.039</td> <td>    0.495</td> <td> 0.621</td> <td>   -0.057</td> <td>    0.096</td>\n",
              "</tr>\n",
              "<tr>\n",
              "  <th>SOP_4.0</th>             <td>    0.0290</td> <td>    0.039</td> <td>    0.737</td> <td> 0.461</td> <td>   -0.048</td> <td>    0.106</td>\n",
              "</tr>\n",
              "<tr>\n",
              "  <th>SOP_4.5</th>             <td>    0.0325</td> <td>    0.040</td> <td>    0.807</td> <td> 0.420</td> <td>   -0.047</td> <td>    0.112</td>\n",
              "</tr>\n",
              "<tr>\n",
              "  <th>SOP_5.0</th>             <td>    0.0384</td> <td>    0.041</td> <td>    0.940</td> <td> 0.348</td> <td>   -0.042</td> <td>    0.119</td>\n",
              "</tr>\n",
              "<tr>\n",
              "  <th>LOR _1.5</th>            <td>    0.0258</td> <td>    0.017</td> <td>    1.509</td> <td> 0.132</td> <td>   -0.008</td> <td>    0.059</td>\n",
              "</tr>\n",
              "<tr>\n",
              "  <th>LOR _2.0</th>            <td>    0.0719</td> <td>    0.011</td> <td>    6.434</td> <td> 0.000</td> <td>    0.050</td> <td>    0.094</td>\n",
              "</tr>\n",
              "<tr>\n",
              "  <th>LOR _2.5</th>            <td>    0.0720</td> <td>    0.011</td> <td>    6.773</td> <td> 0.000</td> <td>    0.051</td> <td>    0.093</td>\n",
              "</tr>\n",
              "<tr>\n",
              "  <th>LOR _3.0</th>            <td>    0.0677</td> <td>    0.008</td> <td>    7.962</td> <td> 0.000</td> <td>    0.051</td> <td>    0.084</td>\n",
              "</tr>\n",
              "<tr>\n",
              "  <th>LOR _3.5</th>            <td>    0.0801</td> <td>    0.008</td> <td>    9.448</td> <td> 0.000</td> <td>    0.063</td> <td>    0.097</td>\n",
              "</tr>\n",
              "<tr>\n",
              "  <th>LOR _4.0</th>            <td>    0.0938</td> <td>    0.009</td> <td>   10.571</td> <td> 0.000</td> <td>    0.076</td> <td>    0.111</td>\n",
              "</tr>\n",
              "<tr>\n",
              "  <th>LOR _4.5</th>            <td>    0.0969</td> <td>    0.010</td> <td>    9.386</td> <td> 0.000</td> <td>    0.077</td> <td>    0.117</td>\n",
              "</tr>\n",
              "<tr>\n",
              "  <th>LOR _5.0</th>            <td>    0.1026</td> <td>    0.012</td> <td>    8.312</td> <td> 0.000</td> <td>    0.078</td> <td>    0.127</td>\n",
              "</tr>\n",
              "<tr>\n",
              "  <th>Research_1</th>          <td>    0.0270</td> <td>    0.008</td> <td>    3.490</td> <td> 0.001</td> <td>    0.012</td> <td>    0.042</td>\n",
              "</tr>\n",
              "</table>\n",
              "<table class=\"simpletable\">\n",
              "<tr>\n",
              "  <th>Omnibus:</th>       <td>88.636</td> <th>  Durbin-Watson:     </th> <td>   1.939</td>\n",
              "</tr>\n",
              "<tr>\n",
              "  <th>Prob(Omnibus):</th> <td> 0.000</td> <th>  Jarque-Bera (JB):  </th> <td> 224.906</td>\n",
              "</tr>\n",
              "<tr>\n",
              "  <th>Skew:</th>          <td>-1.082</td> <th>  Prob(JB):          </th> <td>1.45e-49</td>\n",
              "</tr>\n",
              "<tr>\n",
              "  <th>Kurtosis:</th>      <td> 5.979</td> <th>  Cond. No.          </th> <td>8.92e+15</td>\n",
              "</tr>\n",
              "</table><br/><br/>Warnings:<br/>[1] Standard Errors assume that the covariance matrix of the errors is correctly specified.<br/>[2] The smallest eigenvalue is 1.47e-29. This might indicate that there are<br/>strong multicollinearity problems or that the design matrix is singular."
            ],
            "text/plain": [
              "<class 'statsmodels.iolib.summary.Summary'>\n",
              "\"\"\"\n",
              "                            OLS Regression Results                            \n",
              "==============================================================================\n",
              "Dep. Variable:       Chance of Admit    R-squared:                       0.832\n",
              "Model:                            OLS   Adj. R-squared:                  0.821\n",
              "Method:                 Least Squares   F-statistic:                     80.28\n",
              "Date:                Tue, 19 Apr 2022   Prob (F-statistic):          2.66e-129\n",
              "Time:                        15:52:17   Log-Likelihood:                 572.15\n",
              "No. Observations:                 398   AIC:                            -1096.\n",
              "Df Residuals:                     374   BIC:                            -1001.\n",
              "Df Model:                          23                                         \n",
              "Covariance Type:            nonrobust                                         \n",
              "=======================================================================================\n",
              "                          coef    std err          t      P>|t|      [0.025      0.975]\n",
              "---------------------------------------------------------------------------------------\n",
              "const                   0.6108      0.032     19.363      0.000       0.549       0.673\n",
              "GRE Score               0.0197      0.006      3.071      0.002       0.007       0.032\n",
              "TOEFL Score             0.0199      0.006      3.287      0.001       0.008       0.032\n",
              "CGPA                    0.0673      0.007     10.189      0.000       0.054       0.080\n",
              "University Rating_2    -0.0186      0.015     -1.230      0.219      -0.048       0.011\n",
              "University Rating_3    -0.0113      0.016     -0.701      0.483      -0.043       0.020\n",
              "University Rating_4    -0.0109      0.018     -0.610      0.543      -0.046       0.024\n",
              "University Rating_5     0.0109      0.020      0.542      0.588      -0.029       0.050\n",
              "SOP_1.5                 0.0029      0.038      0.077      0.938      -0.071       0.077\n",
              "SOP_2.0                 0.0138      0.038      0.363      0.717      -0.061       0.088\n",
              "SOP_2.5                 0.0376      0.038      0.984      0.326      -0.038       0.113\n",
              "SOP_3.0                 0.0290      0.038      0.755      0.451      -0.047       0.105\n",
              "SOP_3.5                 0.0193      0.039      0.495      0.621      -0.057       0.096\n",
              "SOP_4.0                 0.0290      0.039      0.737      0.461      -0.048       0.106\n",
              "SOP_4.5                 0.0325      0.040      0.807      0.420      -0.047       0.112\n",
              "SOP_5.0                 0.0384      0.041      0.940      0.348      -0.042       0.119\n",
              "LOR _1.5                0.0258      0.017      1.509      0.132      -0.008       0.059\n",
              "LOR _2.0                0.0719      0.011      6.434      0.000       0.050       0.094\n",
              "LOR _2.5                0.0720      0.011      6.773      0.000       0.051       0.093\n",
              "LOR _3.0                0.0677      0.008      7.962      0.000       0.051       0.084\n",
              "LOR _3.5                0.0801      0.008      9.448      0.000       0.063       0.097\n",
              "LOR _4.0                0.0938      0.009     10.571      0.000       0.076       0.111\n",
              "LOR _4.5                0.0969      0.010      9.386      0.000       0.077       0.117\n",
              "LOR _5.0                0.1026      0.012      8.312      0.000       0.078       0.127\n",
              "Research_1              0.0270      0.008      3.490      0.001       0.012       0.042\n",
              "==============================================================================\n",
              "Omnibus:                       88.636   Durbin-Watson:                   1.939\n",
              "Prob(Omnibus):                  0.000   Jarque-Bera (JB):              224.906\n",
              "Skew:                          -1.082   Prob(JB):                     1.45e-49\n",
              "Kurtosis:                       5.979   Cond. No.                     8.92e+15\n",
              "==============================================================================\n",
              "\n",
              "Warnings:\n",
              "[1] Standard Errors assume that the covariance matrix of the errors is correctly specified.\n",
              "[2] The smallest eigenvalue is 1.47e-29. This might indicate that there are\n",
              "strong multicollinearity problems or that the design matrix is singular.\n",
              "\"\"\""
            ]
          },
          "execution_count": 93,
          "metadata": {},
          "output_type": "execute_result"
        }
      ],
      "source": [
        "model.summary()"
      ]
    },
    {
      "cell_type": "markdown",
      "metadata": {
        "id": "KIFzWfCihwMV"
      },
      "source": [
        "__Findings:__\n",
        "- The variance explained by the model is good, we have __R2=0.832__ and __Adjusted R2=0.821__\n",
        "- The model suggests the existence of multicollinearity among features\n",
        "- The p-value column suggests (t-test for linear regression coefficients), there are some columns that have no impact on the target variables: \"SOP\", \"University Rating\"\n",
        "\n",
        "\n",
        "We will remove the variables that have less impact on the model. We want a  model that is simple, and features having higher predictive power."
      ]
    },
    {
      "cell_type": "markdown",
      "metadata": {
        "id": "cYlPgB4kjRc1"
      },
      "source": [
        "### Multicollinearity check by VIF score"
      ]
    },
    {
      "cell_type": "code",
      "execution_count": 105,
      "metadata": {
        "id": "rrQ-wq9mhUQa"
      },
      "outputs": [],
      "source": [
        "from statsmodels.stats.outliers_influence import variance_inflation_factor"
      ]
    },
    {
      "cell_type": "code",
      "execution_count": 106,
      "metadata": {
        "colab": {
          "base_uri": "https://localhost:8080/",
          "height": 802
        },
        "id": "qRjFQQJfqNwV",
        "outputId": "a7c6d842-f208-4eb1-af50-24318c9e023c"
      },
      "outputs": [
        {
          "data": {
            "text/html": [
              "\n",
              "  <div id=\"df-08bd50fd-d503-4a23-8eb8-ba50401b4af0\">\n",
              "    <div class=\"colab-df-container\">\n",
              "      <div>\n",
              "<style scoped>\n",
              "    .dataframe tbody tr th:only-of-type {\n",
              "        vertical-align: middle;\n",
              "    }\n",
              "\n",
              "    .dataframe tbody tr th {\n",
              "        vertical-align: top;\n",
              "    }\n",
              "\n",
              "    .dataframe thead th {\n",
              "        text-align: right;\n",
              "    }\n",
              "</style>\n",
              "<table border=\"1\" class=\"dataframe\">\n",
              "  <thead>\n",
              "    <tr style=\"text-align: right;\">\n",
              "      <th></th>\n",
              "      <th>Features</th>\n",
              "      <th>VIF</th>\n",
              "    </tr>\n",
              "  </thead>\n",
              "  <tbody>\n",
              "    <tr>\n",
              "      <th>19</th>\n",
              "      <td>LOR _3.5</td>\n",
              "      <td>29.89</td>\n",
              "    </tr>\n",
              "    <tr>\n",
              "      <th>18</th>\n",
              "      <td>LOR _3.0</td>\n",
              "      <td>28.99</td>\n",
              "    </tr>\n",
              "    <tr>\n",
              "      <th>20</th>\n",
              "      <td>LOR _4.0</td>\n",
              "      <td>28.38</td>\n",
              "    </tr>\n",
              "    <tr>\n",
              "      <th>12</th>\n",
              "      <td>SOP_4.0</td>\n",
              "      <td>25.08</td>\n",
              "    </tr>\n",
              "    <tr>\n",
              "      <th>11</th>\n",
              "      <td>SOP_3.5</td>\n",
              "      <td>24.33</td>\n",
              "    </tr>\n",
              "    <tr>\n",
              "      <th>10</th>\n",
              "      <td>SOP_3.0</td>\n",
              "      <td>23.40</td>\n",
              "    </tr>\n",
              "    <tr>\n",
              "      <th>21</th>\n",
              "      <td>LOR _4.5</td>\n",
              "      <td>21.14</td>\n",
              "    </tr>\n",
              "    <tr>\n",
              "      <th>13</th>\n",
              "      <td>SOP_4.5</td>\n",
              "      <td>19.47</td>\n",
              "    </tr>\n",
              "    <tr>\n",
              "      <th>9</th>\n",
              "      <td>SOP_2.5</td>\n",
              "      <td>19.06</td>\n",
              "    </tr>\n",
              "    <tr>\n",
              "      <th>14</th>\n",
              "      <td>SOP_5.0</td>\n",
              "      <td>15.98</td>\n",
              "    </tr>\n",
              "    <tr>\n",
              "      <th>22</th>\n",
              "      <td>LOR _5.0</td>\n",
              "      <td>14.88</td>\n",
              "    </tr>\n",
              "    <tr>\n",
              "      <th>17</th>\n",
              "      <td>LOR _2.5</td>\n",
              "      <td>13.48</td>\n",
              "    </tr>\n",
              "    <tr>\n",
              "      <th>16</th>\n",
              "      <td>LOR _2.0</td>\n",
              "      <td>13.24</td>\n",
              "    </tr>\n",
              "    <tr>\n",
              "      <th>8</th>\n",
              "      <td>SOP_2.0</td>\n",
              "      <td>11.70</td>\n",
              "    </tr>\n",
              "    <tr>\n",
              "      <th>7</th>\n",
              "      <td>SOP_1.5</td>\n",
              "      <td>8.45</td>\n",
              "    </tr>\n",
              "    <tr>\n",
              "      <th>4</th>\n",
              "      <td>University Rating_3</td>\n",
              "      <td>6.62</td>\n",
              "    </tr>\n",
              "    <tr>\n",
              "      <th>5</th>\n",
              "      <td>University Rating_4</td>\n",
              "      <td>6.15</td>\n",
              "    </tr>\n",
              "    <tr>\n",
              "      <th>6</th>\n",
              "      <td>University Rating_5</td>\n",
              "      <td>5.61</td>\n",
              "    </tr>\n",
              "    <tr>\n",
              "      <th>2</th>\n",
              "      <td>CGPA</td>\n",
              "      <td>4.94</td>\n",
              "    </tr>\n",
              "    <tr>\n",
              "      <th>3</th>\n",
              "      <td>University Rating_2</td>\n",
              "      <td>4.72</td>\n",
              "    </tr>\n",
              "    <tr>\n",
              "      <th>0</th>\n",
              "      <td>GRE Score</td>\n",
              "      <td>4.65</td>\n",
              "    </tr>\n",
              "    <tr>\n",
              "      <th>15</th>\n",
              "      <td>LOR _1.5</td>\n",
              "      <td>4.41</td>\n",
              "    </tr>\n",
              "    <tr>\n",
              "      <th>1</th>\n",
              "      <td>TOEFL Score</td>\n",
              "      <td>4.15</td>\n",
              "    </tr>\n",
              "    <tr>\n",
              "      <th>23</th>\n",
              "      <td>Research_1</td>\n",
              "      <td>1.67</td>\n",
              "    </tr>\n",
              "  </tbody>\n",
              "</table>\n",
              "</div>\n",
              "      <button class=\"colab-df-convert\" onclick=\"convertToInteractive('df-08bd50fd-d503-4a23-8eb8-ba50401b4af0')\"\n",
              "              title=\"Convert this dataframe to an interactive table.\"\n",
              "              style=\"display:none;\">\n",
              "        \n",
              "  <svg xmlns=\"http://www.w3.org/2000/svg\" height=\"24px\"viewBox=\"0 0 24 24\"\n",
              "       width=\"24px\">\n",
              "    <path d=\"M0 0h24v24H0V0z\" fill=\"none\"/>\n",
              "    <path d=\"M18.56 5.44l.94 2.06.94-2.06 2.06-.94-2.06-.94-.94-2.06-.94 2.06-2.06.94zm-11 1L8.5 8.5l.94-2.06 2.06-.94-2.06-.94L8.5 2.5l-.94 2.06-2.06.94zm10 10l.94 2.06.94-2.06 2.06-.94-2.06-.94-.94-2.06-.94 2.06-2.06.94z\"/><path d=\"M17.41 7.96l-1.37-1.37c-.4-.4-.92-.59-1.43-.59-.52 0-1.04.2-1.43.59L10.3 9.45l-7.72 7.72c-.78.78-.78 2.05 0 2.83L4 21.41c.39.39.9.59 1.41.59.51 0 1.02-.2 1.41-.59l7.78-7.78 2.81-2.81c.8-.78.8-2.07 0-2.86zM5.41 20L4 18.59l7.72-7.72 1.47 1.35L5.41 20z\"/>\n",
              "  </svg>\n",
              "      </button>\n",
              "      \n",
              "  <style>\n",
              "    .colab-df-container {\n",
              "      display:flex;\n",
              "      flex-wrap:wrap;\n",
              "      gap: 12px;\n",
              "    }\n",
              "\n",
              "    .colab-df-convert {\n",
              "      background-color: #E8F0FE;\n",
              "      border: none;\n",
              "      border-radius: 50%;\n",
              "      cursor: pointer;\n",
              "      display: none;\n",
              "      fill: #1967D2;\n",
              "      height: 32px;\n",
              "      padding: 0 0 0 0;\n",
              "      width: 32px;\n",
              "    }\n",
              "\n",
              "    .colab-df-convert:hover {\n",
              "      background-color: #E2EBFA;\n",
              "      box-shadow: 0px 1px 2px rgba(60, 64, 67, 0.3), 0px 1px 3px 1px rgba(60, 64, 67, 0.15);\n",
              "      fill: #174EA6;\n",
              "    }\n",
              "\n",
              "    [theme=dark] .colab-df-convert {\n",
              "      background-color: #3B4455;\n",
              "      fill: #D2E3FC;\n",
              "    }\n",
              "\n",
              "    [theme=dark] .colab-df-convert:hover {\n",
              "      background-color: #434B5C;\n",
              "      box-shadow: 0px 1px 3px 1px rgba(0, 0, 0, 0.15);\n",
              "      filter: drop-shadow(0px 1px 2px rgba(0, 0, 0, 0.3));\n",
              "      fill: #FFFFFF;\n",
              "    }\n",
              "  </style>\n",
              "\n",
              "      <script>\n",
              "        const buttonEl =\n",
              "          document.querySelector('#df-08bd50fd-d503-4a23-8eb8-ba50401b4af0 button.colab-df-convert');\n",
              "        buttonEl.style.display =\n",
              "          google.colab.kernel.accessAllowed ? 'block' : 'none';\n",
              "\n",
              "        async function convertToInteractive(key) {\n",
              "          const element = document.querySelector('#df-08bd50fd-d503-4a23-8eb8-ba50401b4af0');\n",
              "          const dataTable =\n",
              "            await google.colab.kernel.invokeFunction('convertToInteractive',\n",
              "                                                     [key], {});\n",
              "          if (!dataTable) return;\n",
              "\n",
              "          const docLinkHtml = 'Like what you see? Visit the ' +\n",
              "            '<a target=\"_blank\" href=https://colab.research.google.com/notebooks/data_table.ipynb>data table notebook</a>'\n",
              "            + ' to learn more about interactive tables.';\n",
              "          element.innerHTML = '';\n",
              "          dataTable['output_type'] = 'display_data';\n",
              "          await google.colab.output.renderOutput(dataTable, element);\n",
              "          const docLink = document.createElement('div');\n",
              "          docLink.innerHTML = docLinkHtml;\n",
              "          element.appendChild(docLink);\n",
              "        }\n",
              "      </script>\n",
              "    </div>\n",
              "  </div>\n",
              "  "
            ],
            "text/plain": [
              "               Features    VIF\n",
              "19             LOR _3.5  29.89\n",
              "18             LOR _3.0  28.99\n",
              "20             LOR _4.0  28.38\n",
              "12              SOP_4.0  25.08\n",
              "11              SOP_3.5  24.33\n",
              "10              SOP_3.0  23.40\n",
              "21             LOR _4.5  21.14\n",
              "13              SOP_4.5  19.47\n",
              "9               SOP_2.5  19.06\n",
              "14              SOP_5.0  15.98\n",
              "22             LOR _5.0  14.88\n",
              "17             LOR _2.5  13.48\n",
              "16             LOR _2.0  13.24\n",
              "8               SOP_2.0  11.70\n",
              "7               SOP_1.5   8.45\n",
              "4   University Rating_3   6.62\n",
              "5   University Rating_4   6.15\n",
              "6   University Rating_5   5.61\n",
              "2                  CGPA   4.94\n",
              "3   University Rating_2   4.72\n",
              "0             GRE Score   4.65\n",
              "15             LOR _1.5   4.41\n",
              "1           TOEFL Score   4.15\n",
              "23           Research_1   1.67"
            ]
          },
          "execution_count": 106,
          "metadata": {},
          "output_type": "execute_result"
        }
      ],
      "source": [
        "vif = pd.DataFrame()\n",
        "vif['Features'] = train_X.columns\n",
        "vif['VIF'] = [variance_inflation_factor(train_X.values, i) for i in range(train_X.shape[1])]\n",
        "vif['VIF'] = round(vif['VIF'], 2)\n",
        "vif = vif.sort_values(by = \"VIF\", ascending = False)\n",
        "vif"
      ]
    },
    {
      "cell_type": "markdown",
      "metadata": {
        "id": "3Z72fzvSqyT4"
      },
      "source": [
        "__Findings:__\n",
        "- The columns \"LOR\", \"SOP\", \"University Rating\" have high multicollinearity. We should not use them in our model"
      ]
    },
    {
      "cell_type": "markdown",
      "metadata": {
        "id": "8JkEKDVRrLsu"
      },
      "source": [
        "### Mean of residuals"
      ]
    },
    {
      "cell_type": "code",
      "execution_count": 109,
      "metadata": {
        "colab": {
          "base_uri": "https://localhost:8080/"
        },
        "id": "6kRswEDCrN4U",
        "outputId": "f1184008-56d3-4ae5-e5c8-dfa8c3b2adff"
      },
      "outputs": [
        {
          "name": "stdout",
          "output_type": "stream",
          "text": [
            "Mean of Residuals = -0.0\n"
          ]
        }
      ],
      "source": [
        "errors = train_pred - train_Y\n",
        "print(f'Mean of Residuals = {np.round(errors.mean(), 3)}')"
      ]
    },
    {
      "cell_type": "markdown",
      "metadata": {
        "id": "FgOf8XoGrtVl"
      },
      "source": [
        "__Findings:__\n",
        "- The mean of residuals is approximately zero (0). This assumption is satisfied"
      ]
    },
    {
      "cell_type": "markdown",
      "metadata": {
        "id": "_9pqYTjXr3lX"
      },
      "source": [
        "### Linearity of variables\n"
      ]
    },
    {
      "cell_type": "code",
      "execution_count": 120,
      "metadata": {
        "colab": {
          "base_uri": "https://localhost:8080/",
          "height": 848
        },
        "id": "-Apj2Rsgtr-2",
        "outputId": "b8d1950c-2b75-4cb1-b7ae-c55a49bff061"
      },
      "outputs": [
        {
          "data": {
            "image/png": "[encoded data removed]",
            "text/plain": [
              "<Figure size 432x288 with 1 Axes>"
            ]
          },
          "metadata": {
            "needs_background": "light"
          },
          "output_type": "display_data"
        },
        {
          "data": {
            "image/png": "[encoded data removed]",
            "text/plain": [
              "<Figure size 432x288 with 1 Axes>"
            ]
          },
          "metadata": {
            "needs_background": "light"
          },
          "output_type": "display_data"
        },
        {
          "data": {
            "image/png": "[encoded data removed]",
            "text/plain": [
              "<Figure size 432x288 with 1 Axes>"
            ]
          },
          "metadata": {
            "needs_background": "light"
          },
          "output_type": "display_data"
        }
      ],
      "source": [
        "nums = ['GRE Score', 'TOEFL Score', 'CGPA']\n",
        "\n",
        "for col in nums:\n",
        "    plt.figure()\n",
        "    plt.scatter(cleaned_df[col], cleaned_df['Chance of Admit '])\n",
        "    plt.suptitle(f'{col} vs Chance of Admit', fontsize=12)\n",
        "    plt.show()"
      ]
    },
    {
      "cell_type": "markdown",
      "metadata": {
        "id": "UK01bm6Puw-J"
      },
      "source": [
        "__Findings__\n",
        "- There seems to be a linear trend for the numerical variables"
      ]
    },
    {
      "cell_type": "markdown",
      "metadata": {
        "id": "dZiVQwP2vOsa"
      },
      "source": [
        "### Normality of Residuals"
      ]
    },
    {
      "cell_type": "code",
      "execution_count": 122,
      "metadata": {
        "colab": {
          "base_uri": "https://localhost:8080/",
          "height": 265
        },
        "id": "0b948QpivQsD",
        "outputId": "94ac21d4-2dfd-4b2f-a4d6-7dea7fe6ec49"
      },
      "outputs": [
        {
          "data": {
            "image/png": "[encoded data removed]",
            "text/plain": [
              "<Figure size 432x288 with 1 Axes>"
            ]
          },
          "metadata": {
            "needs_background": "light"
          },
          "output_type": "display_data"
        }
      ],
      "source": [
        "sns.distplot(train_pred)\n",
        "plt.show()"
      ]
    },
    {
      "cell_type": "markdown",
      "metadata": {
        "id": "Q7Dc7jj-vgPM"
      },
      "source": [
        "__Findings__\n",
        "- The residuals almost looks like a normal distribution"
      ]
    },
    {
      "cell_type": "markdown",
      "metadata": {
        "id": "sZ_8i2RRv4fq"
      },
      "source": [
        "### Test for Homoscedasticity"
      ]
    },
    {
      "cell_type": "markdown",
      "metadata": {
        "id": "_Cnk-jpVwpmJ"
      },
      "source": [
        "The assumption of homoscedasticity is a vital assumption for linear regression. If this assumption is violated, then the standard errors will be biased."
      ]
    },
    {
      "cell_type": "code",
      "execution_count": null,
      "metadata": {
        "colab": {
          "base_uri": "https://localhost:8080/",
          "height": 279
        },
        "id": "6c045KmhrOEq",
        "outputId": "5372c932-914e-4fc6-8fc0-55635ff3bc7e"
      },
      "outputs": [
        {
          "data": {
            "image/png": "[encoded data removed]",
            "text/plain": [
              "<Figure size 432x288 with 1 Axes>"
            ]
          },
          "metadata": {
            "needs_background": "light"
          },
          "output_type": "display_data"
        }
      ],
      "source": [
        "sns.scatterplot(train_Y, errors)\n",
        "plt.show()"
      ]
    },
    {
      "cell_type": "markdown",
      "metadata": {
        "id": "DXApL1j1w0AB"
      },
      "source": [
        "We will use the Goldfeld-Quandt homoskedasticity test to check the homoscedasticity.\n",
        "\n",
        "- Null Hypothesis, Ho: the variance in the two sub-samples are the same\n",
        "- Alternate Hypotheses, Ha: the variance in the two sub-samples are not same\n",
        "\n",
        "We choose alpha value of 0.05\n",
        "\n"
      ]
    },
    {
      "cell_type": "code",
      "execution_count": null,
      "metadata": {
        "colab": {
          "base_uri": "https://localhost:8080/"
        },
        "id": "ZCOCTfMNyDUJ",
        "outputId": "855903c9-d66f-4ff1-defd-2552c1ef6a41"
      },
      "outputs": [
        {
          "data": {
            "text/plain": [
              "(1.3303603718701187, 0.029904655843546037, 'increasing')"
            ]
          },
          "execution_count": 125,
          "metadata": {},
          "output_type": "execute_result"
        }
      ],
      "source": [
        "import statsmodels\n",
        "\n",
        "statsmodels.stats.diagnostic.het_goldfeldquandt(errors, train_X)"
      ]
    },
    {
      "cell_type": "code",
      "execution_count": null,
      "metadata": {
        "colab": {
          "base_uri": "https://localhost:8080/"
        },
        "id": "r3QwtN5qy8BF",
        "outputId": "7eb5cf18-ab5b-451f-a73f-339840bd9302"
      },
      "outputs": [
        {
          "data": {
            "text/plain": [
              "[('F-statistic', 1.3303603718701187), ('p-value', 0.059809311687092075)]"
            ]
          },
          "execution_count": 128,
          "metadata": {},
          "output_type": "execute_result"
        }
      ],
      "source": [
        "import statsmodels\n",
        "from statsmodels.compat import lzip\n",
        "\n",
        "name = ['F-statistic', 'p-value']\n",
        "test = statsmodels.stats.diagnostic.het_goldfeldquandt(model.resid, model.model.exog, alternative='two-sided')\n",
        "lzip(name, test)"
      ]
    },
    {
      "cell_type": "code",
      "execution_count": null,
      "metadata": {
        "colab": {
          "base_uri": "https://localhost:8080/"
        },
        "id": "y96vLzztzkXP",
        "outputId": "e58d1a7c-486b-41bf-c4dd-117aafa4bf07"
      },
      "outputs": [
        {
          "name": "stdout",
          "output_type": "stream",
          "text": [
            "We fail to reject the Null Hypothesis Ho\n"
          ]
        }
      ],
      "source": [
        "alpha = 0.05\n",
        "if test[1] > 0.05:\n",
        "    print('We fail to reject the Null Hypothesis Ho')\n",
        "else:\n",
        "    print('We reject the Null Hypothesis Ho')"
      ]
    },
    {
      "cell_type": "markdown",
      "metadata": {
        "id": "fETpq4t4z0kO"
      },
      "source": [
        "__Findings:__\n",
        "- The data follows the assumption of homoscedasticity"
      ]
    },
    {
      "cell_type": "markdown",
      "metadata": {
        "id": "KMCQs5Ke1Alu"
      },
      "source": [
        "## Modelling - Iteration 2"
      ]
    },
    {
      "cell_type": "markdown",
      "metadata": {
        "id": "lekbWG7j1Alu"
      },
      "source": [
        "In iteration 1, we detected multicollinearity and features with very low coefficient. In this iteration we will avoid using them during training. We will only use the columns that are less affected by multicollinearity and having good predictive power."
      ]
    },
    {
      "cell_type": "code",
      "execution_count": 138,
      "metadata": {
        "id": "diSQbnKg1Alv"
      },
      "outputs": [],
      "source": [
        "top_cols = ['CGPA', 'GRE Score', 'TOEFL Score', 'Research_1']\n",
        "\n",
        "train = sm.add_constant(train_X[top_cols])\n",
        "model = sm.OLS(train_Y, train).fit()"
      ]
    },
    {
      "cell_type": "code",
      "execution_count": 139,
      "metadata": {
        "colab": {
          "base_uri": "https://localhost:8080/"
        },
        "id": "Nf1j6rr51Alv",
        "outputId": "bd6c25ba-f2ab-4935-8b6e-d1c836ba4b91"
      },
      "outputs": [
        {
          "data": {
            "text/plain": [
              "const          0.708935\n",
              "CGPA           0.081693\n",
              "GRE Score      0.018696\n",
              "TOEFL Score    0.022958\n",
              "Research_1     0.029248\n",
              "dtype: float64"
            ]
          },
          "execution_count": 139,
          "metadata": {},
          "output_type": "execute_result"
        }
      ],
      "source": [
        "model.params"
      ]
    },
    {
      "cell_type": "markdown",
      "metadata": {
        "id": "796PaI-c1Alw"
      },
      "source": [
        "__Summary__\n",
        "\n",
        "The coefficients can be interpreted as follows: \n",
        "- __GRE Score 0.01__: for 1 unit change in GRE Score, Chance of Admit increases by 0.018"
      ]
    },
    {
      "cell_type": "code",
      "execution_count": 141,
      "metadata": {
        "colab": {
          "base_uri": "https://localhost:8080/"
        },
        "id": "NAmrT4RY1Alw",
        "outputId": "00097ea3-b308-4f77-8774-e049bec5fe12"
      },
      "outputs": [
        {
          "name": "stdout",
          "output_type": "stream",
          "text": [
            "+-------+-------------+-------------+------------+\n",
            "| Sl no |    Metric   | Train Score | Test Score |\n",
            "+-------+-------------+-------------+------------+\n",
            "|   1   |     MAE     |    0.043    |   0.044    |\n",
            "|       |             |             |            |\n",
            "|   2   |     RMSE    |    0.004    |   0.004    |\n",
            "|       |             |             |            |\n",
            "|   3   |      R2     |    0.814    |   0.804    |\n",
            "|       |             |             |            |\n",
            "|   4   | Adjusted R2 |    0.802    |   0.741    |\n",
            "|       |             |             |            |\n",
            "+-------+-------------+-------------+------------+\n"
          ]
        }
      ],
      "source": [
        "from sklearn.metrics import mean_absolute_error, mean_squared_error, r2_score\n",
        "\n",
        "train_pred = model.predict(sm.add_constant(train_X[top_cols]))\n",
        "test_pred = model.predict(sm.add_constant(test_X[top_cols]))\n",
        "\n",
        "metrics = ['MAE', 'RMSE', 'R2', 'Adjusted R2']\n",
        "train_scores = [\n",
        "    np.round(mean_absolute_error(train_Y, train_pred), 3),\n",
        "    np.round(mean_squared_error(train_Y, train_pred), 3),\n",
        "    np.round(r2_score(train_Y, train_pred), 3),\n",
        "    np.round(1 - (1-r2_score(train_Y, train_pred))*(len(train_Y)-1)/(len(train_Y)-train_X.shape[1]-1), 3)\n",
        "]\n",
        "\n",
        "test_scores = [\n",
        "    np.round(mean_absolute_error(test_Y, test_pred), 3),\n",
        "    np.round(mean_squared_error(test_Y, test_pred), 3),\n",
        "    np.round(r2_score(test_Y, test_pred), 3),\n",
        "    np.round(1 - (1-r2_score(test_Y, test_pred))*(len(test_Y)-1)/(len(test_Y)-train_X.shape[1]-1), 3)\n",
        "]\n",
        "\n",
        "x = PrettyTable([\"Sl no\", \"Metric\", \"Train Score\", \"Test Score\"])\n",
        "i = 1\n",
        "for a, b, c in zip(metrics, train_scores, test_scores):\n",
        "    x.add_row([i, a, b, c])\n",
        "    x.add_row([' ', ' ', ' ', ' '])\n",
        "    i += 1\n",
        "print(x)"
      ]
    },
    {
      "cell_type": "markdown",
      "metadata": {
        "id": "-YPmNdBj3CKY"
      },
      "source": [
        "__Findings:__\n",
        "- Just by using 4 columns viz \"TOEFL Score\", \"GRE Score\", \"CGPA\", and \"Research\", we are able to get similar performance as compared to a model that uses all the columns.\n",
        "- The R2 value we obtained suggests we have a descent model."
      ]
    },
    {
      "cell_type": "markdown",
      "metadata": {
        "id": "8DlWEGr21Alw"
      },
      "source": [
        "## Testing assumptions of the linear regression model:"
      ]
    },
    {
      "cell_type": "code",
      "execution_count": 142,
      "metadata": {
        "colab": {
          "base_uri": "https://localhost:8080/",
          "height": 507
        },
        "id": "TgP4bSDT1Alw",
        "outputId": "ec33722f-b440-4eb2-9525-b59fe522f5b4"
      },
      "outputs": [
        {
          "data": {
            "text/html": [
              "<table class=\"simpletable\">\n",
              "<caption>OLS Regression Results</caption>\n",
              "<tr>\n",
              "  <th>Dep. Variable:</th>    <td>Chance of Admit </td> <th>  R-squared:         </th> <td>   0.814</td> \n",
              "</tr>\n",
              "<tr>\n",
              "  <th>Model:</th>                   <td>OLS</td>       <th>  Adj. R-squared:    </th> <td>   0.812</td> \n",
              "</tr>\n",
              "<tr>\n",
              "  <th>Method:</th>             <td>Least Squares</td>  <th>  F-statistic:       </th> <td>   431.0</td> \n",
              "</tr>\n",
              "<tr>\n",
              "  <th>Date:</th>             <td>Tue, 19 Apr 2022</td> <th>  Prob (F-statistic):</th> <td>3.17e-142</td>\n",
              "</tr>\n",
              "<tr>\n",
              "  <th>Time:</th>                 <td>17:28:12</td>     <th>  Log-Likelihood:    </th> <td>  552.80</td> \n",
              "</tr>\n",
              "<tr>\n",
              "  <th>No. Observations:</th>      <td>   398</td>      <th>  AIC:               </th> <td>  -1096.</td> \n",
              "</tr>\n",
              "<tr>\n",
              "  <th>Df Residuals:</th>          <td>   393</td>      <th>  BIC:               </th> <td>  -1076.</td> \n",
              "</tr>\n",
              "<tr>\n",
              "  <th>Df Model:</th>              <td>     4</td>      <th>                     </th>     <td> </td>    \n",
              "</tr>\n",
              "<tr>\n",
              "  <th>Covariance Type:</th>      <td>nonrobust</td>    <th>                     </th>     <td> </td>    \n",
              "</tr>\n",
              "</table>\n",
              "<table class=\"simpletable\">\n",
              "<tr>\n",
              "       <td></td>          <th>coef</th>     <th>std err</th>      <th>t</th>      <th>P>|t|</th>  <th>[0.025</th>    <th>0.975]</th>  \n",
              "</tr>\n",
              "<tr>\n",
              "  <th>const</th>       <td>    0.7089</td> <td>    0.005</td> <td>  134.835</td> <td> 0.000</td> <td>    0.699</td> <td>    0.719</td>\n",
              "</tr>\n",
              "<tr>\n",
              "  <th>CGPA</th>        <td>    0.0817</td> <td>    0.006</td> <td>   13.802</td> <td> 0.000</td> <td>    0.070</td> <td>    0.093</td>\n",
              "</tr>\n",
              "<tr>\n",
              "  <th>GRE Score</th>   <td>    0.0187</td> <td>    0.006</td> <td>    2.894</td> <td> 0.004</td> <td>    0.006</td> <td>    0.031</td>\n",
              "</tr>\n",
              "<tr>\n",
              "  <th>TOEFL Score</th> <td>    0.0230</td> <td>    0.006</td> <td>    3.812</td> <td> 0.000</td> <td>    0.011</td> <td>    0.035</td>\n",
              "</tr>\n",
              "<tr>\n",
              "  <th>Research_1</th>  <td>    0.0292</td> <td>    0.008</td> <td>    3.788</td> <td> 0.000</td> <td>    0.014</td> <td>    0.044</td>\n",
              "</tr>\n",
              "</table>\n",
              "<table class=\"simpletable\">\n",
              "<tr>\n",
              "  <th>Omnibus:</th>       <td>96.304</td> <th>  Durbin-Watson:     </th> <td>   1.920</td>\n",
              "</tr>\n",
              "<tr>\n",
              "  <th>Prob(Omnibus):</th> <td> 0.000</td> <th>  Jarque-Bera (JB):  </th> <td> 228.753</td>\n",
              "</tr>\n",
              "<tr>\n",
              "  <th>Skew:</th>          <td>-1.204</td> <th>  Prob(JB):          </th> <td>2.12e-50</td>\n",
              "</tr>\n",
              "<tr>\n",
              "  <th>Kurtosis:</th>      <td> 5.827</td> <th>  Cond. No.          </th> <td>    5.18</td>\n",
              "</tr>\n",
              "</table><br/><br/>Warnings:<br/>[1] Standard Errors assume that the covariance matrix of the errors is correctly specified."
            ],
            "text/plain": [
              "<class 'statsmodels.iolib.summary.Summary'>\n",
              "\"\"\"\n",
              "                            OLS Regression Results                            \n",
              "==============================================================================\n",
              "Dep. Variable:       Chance of Admit    R-squared:                       0.814\n",
              "Model:                            OLS   Adj. R-squared:                  0.812\n",
              "Method:                 Least Squares   F-statistic:                     431.0\n",
              "Date:                Tue, 19 Apr 2022   Prob (F-statistic):          3.17e-142\n",
              "Time:                        17:28:12   Log-Likelihood:                 552.80\n",
              "No. Observations:                 398   AIC:                            -1096.\n",
              "Df Residuals:                     393   BIC:                            -1076.\n",
              "Df Model:                           4                                         \n",
              "Covariance Type:            nonrobust                                         \n",
              "===============================================================================\n",
              "                  coef    std err          t      P>|t|      [0.025      0.975]\n",
              "-------------------------------------------------------------------------------\n",
              "const           0.7089      0.005    134.835      0.000       0.699       0.719\n",
              "CGPA            0.0817      0.006     13.802      0.000       0.070       0.093\n",
              "GRE Score       0.0187      0.006      2.894      0.004       0.006       0.031\n",
              "TOEFL Score     0.0230      0.006      3.812      0.000       0.011       0.035\n",
              "Research_1      0.0292      0.008      3.788      0.000       0.014       0.044\n",
              "==============================================================================\n",
              "Omnibus:                       96.304   Durbin-Watson:                   1.920\n",
              "Prob(Omnibus):                  0.000   Jarque-Bera (JB):              228.753\n",
              "Skew:                          -1.204   Prob(JB):                     2.12e-50\n",
              "Kurtosis:                       5.827   Cond. No.                         5.18\n",
              "==============================================================================\n",
              "\n",
              "Warnings:\n",
              "[1] Standard Errors assume that the covariance matrix of the errors is correctly specified.\n",
              "\"\"\""
            ]
          },
          "execution_count": 142,
          "metadata": {},
          "output_type": "execute_result"
        }
      ],
      "source": [
        "model.summary()"
      ]
    },
    {
      "cell_type": "markdown",
      "metadata": {
        "id": "INrg9PxR1Alx"
      },
      "source": [
        "__Findings:__\n",
        "- The variance explained by the model is good, we have __R2=0.814__ and __Adjusted R2=0.812__\n",
        "- The p-value column suggests (t-test for linear regression coefficients), the columns have non-zero coeffiencts\n",
        "\n",
        "The performance of this model is comparable to the one built in the first iteration. But this model is much more simple, making the model more explainable."
      ]
    },
    {
      "cell_type": "markdown",
      "metadata": {
        "id": "eDKglNBr1Alx"
      },
      "source": [
        "### Multicollinearity check by VIF score"
      ]
    },
    {
      "cell_type": "code",
      "execution_count": 143,
      "metadata": {
        "colab": {
          "base_uri": "https://localhost:8080/",
          "height": 175
        },
        "id": "4uri6KEV1Alx",
        "outputId": "65b9a794-b8f8-463e-88ab-e9244b56a774"
      },
      "outputs": [
        {
          "data": {
            "text/html": [
              "\n",
              "  <div id=\"df-8fe9a84b-aa67-47c6-838e-3cd751f5a9a4\">\n",
              "    <div class=\"colab-df-container\">\n",
              "      <div>\n",
              "<style scoped>\n",
              "    .dataframe tbody tr th:only-of-type {\n",
              "        vertical-align: middle;\n",
              "    }\n",
              "\n",
              "    .dataframe tbody tr th {\n",
              "        vertical-align: top;\n",
              "    }\n",
              "\n",
              "    .dataframe thead th {\n",
              "        text-align: right;\n",
              "    }\n",
              "</style>\n",
              "<table border=\"1\" class=\"dataframe\">\n",
              "  <thead>\n",
              "    <tr style=\"text-align: right;\">\n",
              "      <th></th>\n",
              "      <th>Features</th>\n",
              "      <th>VIF</th>\n",
              "    </tr>\n",
              "  </thead>\n",
              "  <tbody>\n",
              "    <tr>\n",
              "      <th>1</th>\n",
              "      <td>GRE Score</td>\n",
              "      <td>4.18</td>\n",
              "    </tr>\n",
              "    <tr>\n",
              "      <th>2</th>\n",
              "      <td>TOEFL Score</td>\n",
              "      <td>3.90</td>\n",
              "    </tr>\n",
              "    <tr>\n",
              "      <th>0</th>\n",
              "      <td>CGPA</td>\n",
              "      <td>3.75</td>\n",
              "    </tr>\n",
              "    <tr>\n",
              "      <th>3</th>\n",
              "      <td>Research_1</td>\n",
              "      <td>1.20</td>\n",
              "    </tr>\n",
              "  </tbody>\n",
              "</table>\n",
              "</div>\n",
              "      <button class=\"colab-df-convert\" onclick=\"convertToInteractive('df-8fe9a84b-aa67-47c6-838e-3cd751f5a9a4')\"\n",
              "              title=\"Convert this dataframe to an interactive table.\"\n",
              "              style=\"display:none;\">\n",
              "        \n",
              "  <svg xmlns=\"http://www.w3.org/2000/svg\" height=\"24px\"viewBox=\"0 0 24 24\"\n",
              "       width=\"24px\">\n",
              "    <path d=\"M0 0h24v24H0V0z\" fill=\"none\"/>\n",
              "    <path d=\"M18.56 5.44l.94 2.06.94-2.06 2.06-.94-2.06-.94-.94-2.06-.94 2.06-2.06.94zm-11 1L8.5 8.5l.94-2.06 2.06-.94-2.06-.94L8.5 2.5l-.94 2.06-2.06.94zm10 10l.94 2.06.94-2.06 2.06-.94-2.06-.94-.94-2.06-.94 2.06-2.06.94z\"/><path d=\"M17.41 7.96l-1.37-1.37c-.4-.4-.92-.59-1.43-.59-.52 0-1.04.2-1.43.59L10.3 9.45l-7.72 7.72c-.78.78-.78 2.05 0 2.83L4 21.41c.39.39.9.59 1.41.59.51 0 1.02-.2 1.41-.59l7.78-7.78 2.81-2.81c.8-.78.8-2.07 0-2.86zM5.41 20L4 18.59l7.72-7.72 1.47 1.35L5.41 20z\"/>\n",
              "  </svg>\n",
              "      </button>\n",
              "      \n",
              "  <style>\n",
              "    .colab-df-container {\n",
              "      display:flex;\n",
              "      flex-wrap:wrap;\n",
              "      gap: 12px;\n",
              "    }\n",
              "\n",
              "    .colab-df-convert {\n",
              "      background-color: #E8F0FE;\n",
              "      border: none;\n",
              "      border-radius: 50%;\n",
              "      cursor: pointer;\n",
              "      display: none;\n",
              "      fill: #1967D2;\n",
              "      height: 32px;\n",
              "      padding: 0 0 0 0;\n",
              "      width: 32px;\n",
              "    }\n",
              "\n",
              "    .colab-df-convert:hover {\n",
              "      background-color: #E2EBFA;\n",
              "      box-shadow: 0px 1px 2px rgba(60, 64, 67, 0.3), 0px 1px 3px 1px rgba(60, 64, 67, 0.15);\n",
              "      fill: #174EA6;\n",
              "    }\n",
              "\n",
              "    [theme=dark] .colab-df-convert {\n",
              "      background-color: #3B4455;\n",
              "      fill: #D2E3FC;\n",
              "    }\n",
              "\n",
              "    [theme=dark] .colab-df-convert:hover {\n",
              "      background-color: #434B5C;\n",
              "      box-shadow: 0px 1px 3px 1px rgba(0, 0, 0, 0.15);\n",
              "      filter: drop-shadow(0px 1px 2px rgba(0, 0, 0, 0.3));\n",
              "      fill: #FFFFFF;\n",
              "    }\n",
              "  </style>\n",
              "\n",
              "      <script>\n",
              "        const buttonEl =\n",
              "          document.querySelector('#df-8fe9a84b-aa67-47c6-838e-3cd751f5a9a4 button.colab-df-convert');\n",
              "        buttonEl.style.display =\n",
              "          google.colab.kernel.accessAllowed ? 'block' : 'none';\n",
              "\n",
              "        async function convertToInteractive(key) {\n",
              "          const element = document.querySelector('#df-8fe9a84b-aa67-47c6-838e-3cd751f5a9a4');\n",
              "          const dataTable =\n",
              "            await google.colab.kernel.invokeFunction('convertToInteractive',\n",
              "                                                     [key], {});\n",
              "          if (!dataTable) return;\n",
              "\n",
              "          const docLinkHtml = 'Like what you see? Visit the ' +\n",
              "            '<a target=\"_blank\" href=https://colab.research.google.com/notebooks/data_table.ipynb>data table notebook</a>'\n",
              "            + ' to learn more about interactive tables.';\n",
              "          element.innerHTML = '';\n",
              "          dataTable['output_type'] = 'display_data';\n",
              "          await google.colab.output.renderOutput(dataTable, element);\n",
              "          const docLink = document.createElement('div');\n",
              "          docLink.innerHTML = docLinkHtml;\n",
              "          element.appendChild(docLink);\n",
              "        }\n",
              "      </script>\n",
              "    </div>\n",
              "  </div>\n",
              "  "
            ],
            "text/plain": [
              "      Features   VIF\n",
              "1    GRE Score  4.18\n",
              "2  TOEFL Score  3.90\n",
              "0         CGPA  3.75\n",
              "3   Research_1  1.20"
            ]
          },
          "execution_count": 143,
          "metadata": {},
          "output_type": "execute_result"
        }
      ],
      "source": [
        "vif = pd.DataFrame()\n",
        "vif['Features'] = train_X[top_cols].columns\n",
        "vif['VIF'] = [variance_inflation_factor(train_X[top_cols].values, i) for i in range(train_X[top_cols].shape[1])]\n",
        "vif['VIF'] = round(vif['VIF'], 2)\n",
        "vif = vif.sort_values(by = \"VIF\", ascending = False)\n",
        "vif"
      ]
    },
    {
      "cell_type": "markdown",
      "metadata": {
        "id": "KZU-71nN1Alx"
      },
      "source": [
        "__Findings:__\n",
        "- There is no multicollinearity in the model"
      ]
    },
    {
      "cell_type": "markdown",
      "metadata": {
        "id": "OpUvcdmR1Alx"
      },
      "source": [
        "### Mean of residuals"
      ]
    },
    {
      "cell_type": "code",
      "execution_count": 144,
      "metadata": {
        "colab": {
          "base_uri": "https://localhost:8080/"
        },
        "id": "z27YMm-f1Alx",
        "outputId": "02104611-7e0c-475c-86c8-62f078e55cd4"
      },
      "outputs": [
        {
          "name": "stdout",
          "output_type": "stream",
          "text": [
            "Mean of Residuals = -0.0\n"
          ]
        }
      ],
      "source": [
        "errors = train_pred - train_Y\n",
        "print(f'Mean of Residuals = {np.round(errors.mean(), 3)}')"
      ]
    },
    {
      "cell_type": "markdown",
      "metadata": {
        "id": "Fy9Rz7gX1Aly"
      },
      "source": [
        "__Findings:__\n",
        "- The mean of residuals is approximately zero (0). This assumption is satisfied"
      ]
    },
    {
      "cell_type": "markdown",
      "metadata": {
        "id": "dmVHqriC1Aly"
      },
      "source": [
        "### Linearity of variables\n"
      ]
    },
    {
      "cell_type": "code",
      "execution_count": 147,
      "metadata": {
        "colab": {
          "base_uri": "https://localhost:8080/",
          "height": 848
        },
        "id": "dqzbqPXE1Aly",
        "outputId": "36f6716f-d958-4cd5-d114-601631df03ec"
      },
      "outputs": [
        {
          "data": {
            "image/png": "[encoded data removed]",
            "text/plain": [
              "<Figure size 432x288 with 1 Axes>"
            ]
          },
          "metadata": {
            "needs_background": "light"
          },
          "output_type": "display_data"
        },
        {
          "data": {
            "image/png": "[encoded data removed]",
            "text/plain": [
              "<Figure size 432x288 with 1 Axes>"
            ]
          },
          "metadata": {
            "needs_background": "light"
          },
          "output_type": "display_data"
        },
        {
          "data": {
            "image/png": "[encoded data removed]",
            "text/plain": [
              "<Figure size 432x288 with 1 Axes>"
            ]
          },
          "metadata": {
            "needs_background": "light"
          },
          "output_type": "display_data"
        }
      ],
      "source": [
        "nums = ['GRE Score', 'TOEFL Score', 'CGPA']\n",
        "\n",
        "for col in nums:\n",
        "    plt.figure()\n",
        "    plt.scatter(cleaned_df[col], cleaned_df['Chance of Admit '])\n",
        "    plt.suptitle(f'{col} vs Chance of Admit', fontsize=12)\n",
        "    plt.show()"
      ]
    },
    {
      "cell_type": "markdown",
      "metadata": {
        "id": "iaJj7z4z1Aly"
      },
      "source": [
        "__Findings__\n",
        "- There seems to be a linear trend for the numerical variables"
      ]
    },
    {
      "cell_type": "markdown",
      "metadata": {
        "id": "MtsCwAMC1Aly"
      },
      "source": [
        "### Normality of Residuals"
      ]
    },
    {
      "cell_type": "code",
      "execution_count": 148,
      "metadata": {
        "colab": {
          "base_uri": "https://localhost:8080/",
          "height": 268
        },
        "id": "qrcF7nWQ1Aly",
        "outputId": "76288a05-e0d2-431b-98cd-9784ec52fb97"
      },
      "outputs": [
        {
          "data": {
            "image/png": "[encoded data removed]",
            "text/plain": [
              "<Figure size 432x288 with 1 Axes>"
            ]
          },
          "metadata": {
            "needs_background": "light"
          },
          "output_type": "display_data"
        }
      ],
      "source": [
        "sns.distplot(train_pred)\n",
        "plt.show()"
      ]
    },
    {
      "cell_type": "markdown",
      "metadata": {
        "id": "Y50xoNI-1Aly"
      },
      "source": [
        "__Findings__\n",
        "- The residuals almost looks like a normal distribution"
      ]
    },
    {
      "cell_type": "markdown",
      "metadata": {
        "id": "kTbVJthS1Aly"
      },
      "source": [
        "### Test for Homoscedasticity"
      ]
    },
    {
      "cell_type": "markdown",
      "metadata": {
        "id": "VdbmHSMc1Alz"
      },
      "source": [
        "The assumption of homoscedasticity is a vital assumption for linear regression. If this assumption is violated, then the standard errors will be biased."
      ]
    },
    {
      "cell_type": "code",
      "execution_count": 149,
      "metadata": {
        "colab": {
          "base_uri": "https://localhost:8080/",
          "height": 279
        },
        "id": "AykA3TsR1Alz",
        "outputId": "ba196e2e-0350-4f16-c13f-035bb6617a9e"
      },
      "outputs": [
        {
          "data": {
            "image/png": "[encoded data removed]",
            "text/plain": [
              "<Figure size 432x288 with 1 Axes>"
            ]
          },
          "metadata": {
            "needs_background": "light"
          },
          "output_type": "display_data"
        }
      ],
      "source": [
        "sns.scatterplot(train_Y, errors)\n",
        "plt.show()"
      ]
    },
    {
      "cell_type": "markdown",
      "metadata": {
        "id": "fwKBV5zU1Alz"
      },
      "source": [
        "We will use the Goldfeld-Quandt homoskedasticity test to check the homoscedasticity.\n",
        "\n",
        "- Null Hypothesis, Ho: the variance in the two sub-samples are the same\n",
        "- Alternate Hypotheses, Ha: the variance in the two sub-samples are not same\n",
        "\n",
        "We choose alpha value of 0.05\n",
        "\n"
      ]
    },
    {
      "cell_type": "code",
      "execution_count": 151,
      "metadata": {
        "colab": {
          "base_uri": "https://localhost:8080/"
        },
        "id": "j9w0ASun1Alz",
        "outputId": "6aa0e8b4-0b5a-42d4-9490-d86c341fd1ef"
      },
      "outputs": [
        {
          "data": {
            "text/plain": [
              "[('F-statistic', 1.2199056002835658), ('p-value', 0.1671620454705086)]"
            ]
          },
          "execution_count": 151,
          "metadata": {},
          "output_type": "execute_result"
        }
      ],
      "source": [
        "import statsmodels\n",
        "from statsmodels.compat import lzip\n",
        "\n",
        "name = ['F-statistic', 'p-value']\n",
        "test = statsmodels.stats.diagnostic.het_goldfeldquandt(model.resid, model.model.exog, alternative='two-sided')\n",
        "lzip(name, test)"
      ]
    },
    {
      "cell_type": "code",
      "execution_count": 153,
      "metadata": {
        "colab": {
          "base_uri": "https://localhost:8080/"
        },
        "id": "5ZkHsVXG1Alz",
        "outputId": "3eec7668-779c-4bef-9b3c-816b17f1c62d"
      },
      "outputs": [
        {
          "name": "stdout",
          "output_type": "stream",
          "text": [
            "We fail to reject the Null Hypothesis Ho\n"
          ]
        }
      ],
      "source": [
        "alpha = 0.05\n",
        "if test[1] > 0.05:\n",
        "    print('We fail to reject the Null Hypothesis Ho')\n",
        "else:\n",
        "    print('We reject the Null Hypothesis Ho')"
      ]
    },
    {
      "cell_type": "markdown",
      "metadata": {
        "id": "4oLG7iE21Alz"
      },
      "source": [
        "__Findings:__\n",
        "- The data follows the assumption of homoscedasticity"
      ]
    },
    {
      "cell_type": "markdown",
      "metadata": {
        "id": "CH6_1Y9c4ezZ"
      },
      "source": [
        "# Conclusion\n",
        "- The model built using only the columns \"GRE Score\", \"TOEFL Score\", \"CGPA\", and \"Research\" explains variability in the target as much the model built using all the columns.\n",
        "- The model build in the 2nd iteration fulfills all the assumptions of linear regression. \n",
        "- In real world, we will prefer to deploy Model 2 instead of Model 1. Because, Model 2 is much simpler and explainable, and the performance score still remains comparable.\n",
        "-The \"CGPA\" feature has the highest impact on the chances of admission of a student, followed by \"Research\", \"TOEFL Score\", and \"GRE Score\""
      ]
    },
    {
      "cell_type": "markdown",
      "metadata": {
        "id": "tLfFc9M_Oi_j"
      },
      "source": [
        "# Recommendations:\n",
        "\n"
      ]
    },
    {
      "cell_type": "code",
      "execution_count": 4,
      "metadata": {
        "colab": {
          "base_uri": "https://localhost:8080/"
        },
        "id": "GxlU0-TbO_-U",
        "outputId": "959f44d5-12f6-40c1-946b-d31d459c9369"
      },
      "outputs": [
        {
          "name": "stdout",
          "output_type": "stream",
          "text": [
            "+-------+------------------------------------------------------------+-----------------------------------------------------------------+\n",
            "| Sl no |                        Observations                        |                         Recommendations                         |\n",
            "+-------+------------------------------------------------------------+-----------------------------------------------------------------+\n",
            "|   1   | The chances of getting admission increases as the quality  |       SOP is as important as marks for getting admission.       |\n",
            "|       |                       of SOP increases.                    |                                                                 |\n",
            "|       |                                                            |                                                                 |\n",
            "|   2   |        CGPA has the highest coefficient magnitude.         |     Students should be advised to focus more on CGPA scores     |\n",
            "|       |                                                            |     than GRE and TOEFL scores to improve his chances of getting |\n",
            "|       |                                                            |                              admission.                         |\n",
            "|       |                                                            |                                                                 |\n",
            "|   3   |  Students having research experience have higher chances   |    Students should be encouraged to pick research projects in   |\n",
            "|       |                     of getting admissions.                 |                            their college.                       |\n",
            "|       |                                                            |                                                                 |\n",
            "+-------+------------------------------------------------------------+-----------------------------------------------------------------+\n"
          ]
        }
      ],
      "source": [
        "from prettytable import PrettyTable\n",
        "\n",
        "observations = [\n",
        "    \"\"\"The chances of getting admission increases as the quality \n",
        "    of SOP increases.\"\"\",\n",
        "\n",
        "    \"\"\"CGPA has the highest coefficient magnitude.\"\"\" ,\n",
        "\n",
        "    \"\"\"Students having research experience have higher chances\n",
        "    of getting admissions.\"\"\"\n",
        "    ]\n",
        "\n",
        "\n",
        "recommendations = [\n",
        "    \"\"\"SOP is as important as marks for getting admission.\"\"\" ,\n",
        "\n",
        "    \"\"\"Students should be advised to focus more on CGPA scores\n",
        "    than GRE and TOEFL scores to improve his chances of getting\n",
        "    admission.\"\"\",\n",
        "\n",
        "    \"\"\"Students should be encouraged to pick research projects in\n",
        "    their college.\"\"\",\n",
        "    ]\n",
        "\n",
        "x = PrettyTable([\"Sl no\", \"Observations\", \"Recommendations\"])\n",
        "i = 1\n",
        "for a, b in zip(observations, recommendations):\n",
        "    x.add_row([i, a, b])\n",
        "    x.add_row([' ', ' ', ' '])\n",
        "    i += 1\n",
        "print(x)"
      ]
    }
  ],
  "metadata": {
    "colab": {
      "collapsed_sections": [],
      "name": "7 Jamboree Education | Linear Regression.ipynb",
      "provenance": [],
      "toc_visible": true
    },
    "kernelspec": {
      "display_name": "Python 3",
      "name": "python3"
    },
    "language_info": {
      "codemirror_mode": {
        "name": "ipython",
        "version": 3
      },
      "file_extension": ".py",
      "mimetype": "text/x-python",
      "name": "python",
      "nbconvert_exporter": "python",
      "pygments_lexer": "ipython3",
      "version": "3.9.7"
    }
  },
  "nbformat": 4,
  "nbformat_minor": 0
}
