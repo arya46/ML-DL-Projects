{
  "cells": [
    {
      "attachments": {},
      "cell_type": "markdown",
      "metadata": {
        "id": "jXiPGEaUl5Se"
      },
      "source": [
        "<h1 style=\"color:blue;\">Personalized Movie Recommendation</h1>"
      ]
    },
    {
      "attachments": {},
      "cell_type": "markdown",
      "metadata": {
        "id": "CNJ6IaCCrBU8"
      },
      "source": [
        "# Business Problem:"
      ]
    },
    {
      "cell_type": "markdown",
      "metadata": {
        "id": "ftYjy3NErBU8"
      },
      "source": [
        "Create a Recommender System to show personalized movie recommendations based on ratings given by a user and other users similar to them in order to improve user experience.\n"
      ]
    },
    {
      "cell_type": "markdown",
      "metadata": {
        "id": "T2see2Iyiy08"
      },
      "source": [
        "# Importing Libaries"
      ]
    },
    {
      "cell_type": "code",
      "execution_count": 2,
      "metadata": {
        "id": "0i3jw5CRhL7M"
      },
      "outputs": [],
      "source": [
        "import pandas as pd\n",
        "import matplotlib.pyplot as plt\n",
        "import seaborn as sns\n",
        "import numpy as np\n",
        "from scipy import stats\n",
        "import warnings\n",
        "warnings.filterwarnings('ignore')\n",
        "%matplotlib inline\n",
        "%load_ext autoreload\n",
        "%autoreload 2\n",
        "import pickle\n",
        "from prettytable import PrettyTable\n",
        "from tqdm import tqdm\n",
        "import os\n",
        "import datetime\n",
        "from sklearn.preprocessing import StandardScaler"
      ]
    },
    {
      "cell_type": "markdown",
      "metadata": {
        "id": "l0WEEkqbmi0U"
      },
      "source": [
        "# Understanding the Data"
      ]
    },
    {
      "cell_type": "markdown",
      "metadata": {
        "id": "5XmV3nLNp_wI"
      },
      "source": [
        "## Quick Look at the data"
      ]
    },
    {
      "cell_type": "markdown",
      "metadata": {
        "id": "M5LONEefnArz"
      },
      "source": [
        "__Loading the Data__"
      ]
    },
    {
      "cell_type": "code",
      "execution_count": null,
      "metadata": {
        "id": "lFzLmByJm3VX"
      },
      "outputs": [],
      "source": [
        "movies  = pd.read_fwf(f'movies.dat',  encoding='ISO-8859-1')\n",
        "ratings = pd.read_fwf(f'ratings.dat', encoding='ISO-8859-1')\n",
        "users   = pd.read_fwf(f'users.dat',   encoding='ISO-8859-1')"
      ]
    },
    {
      "cell_type": "markdown",
      "metadata": {
        "id": "iNV4hF0qnGNi"
      },
      "source": [
        "__Data Dimension__"
      ]
    },
    {
      "cell_type": "code",
      "execution_count": null,
      "metadata": {
        "colab": {
          "base_uri": "https://localhost:8080/"
        },
        "id": "gDtlo_UAm3LD",
        "outputId": "73561588-41b1-4979-fc4b-edeb501d6b0d"
      },
      "outputs": [
        {
          "name": "stdout",
          "output_type": "stream",
          "text": [
            "movies  dimention --> (3883, 3)\n",
            "ratings dimention --> (1000209, 1)\n",
            "users   dimention --> (6040, 1)\n"
          ]
        }
      ],
      "source": [
        "print(f'movies  dimention --> {movies.shape}')\n",
        "print(f'ratings dimention --> {ratings.shape}')\n",
        "print(f'users   dimention --> {users.shape}')"
      ]
    },
    {
      "cell_type": "markdown",
      "metadata": {
        "id": "rsUgn7XNndRz"
      },
      "source": [
        "__How the data looks like?__"
      ]
    },
    {
      "cell_type": "code",
      "execution_count": null,
      "metadata": {
        "colab": {
          "base_uri": "https://localhost:8080/",
          "height": 143
        },
        "id": "wHN7vGH8ny1k",
        "outputId": "daa71ed5-f546-4061-e4ac-6dcbb0b79a8a"
      },
      "outputs": [
        {
          "data": {
            "text/html": [
              "\n",
              "  <div id=\"df-4a2be1e3-c90f-44f9-9e86-d3ae80d11971\">\n",
              "    <div class=\"colab-df-container\">\n",
              "      <div>\n",
              "<style scoped>\n",
              "    .dataframe tbody tr th:only-of-type {\n",
              "        vertical-align: middle;\n",
              "    }\n",
              "\n",
              "    .dataframe tbody tr th {\n",
              "        vertical-align: top;\n",
              "    }\n",
              "\n",
              "    .dataframe thead th {\n",
              "        text-align: right;\n",
              "    }\n",
              "</style>\n",
              "<table border=\"1\" class=\"dataframe\">\n",
              "  <thead>\n",
              "    <tr style=\"text-align: right;\">\n",
              "      <th></th>\n",
              "      <th>Movie ID::Title::Genres</th>\n",
              "      <th>Unnamed: 1</th>\n",
              "      <th>Unnamed: 2</th>\n",
              "    </tr>\n",
              "  </thead>\n",
              "  <tbody>\n",
              "    <tr>\n",
              "      <th>810</th>\n",
              "      <td>821::Crude Oasis, The (1995)::Romance</td>\n",
              "      <td>NaN</td>\n",
              "      <td>NaN</td>\n",
              "    </tr>\n",
              "    <tr>\n",
              "      <th>361</th>\n",
              "      <td>365::Little Buddha (1993)::Drama</td>\n",
              "      <td>NaN</td>\n",
              "      <td>NaN</td>\n",
              "    </tr>\n",
              "    <tr>\n",
              "      <th>2334</th>\n",
              "      <td>2403::First Blood (1982)::Action</td>\n",
              "      <td>NaN</td>\n",
              "      <td>NaN</td>\n",
              "    </tr>\n",
              "  </tbody>\n",
              "</table>\n",
              "</div>\n",
              "      <button class=\"colab-df-convert\" onclick=\"convertToInteractive('df-4a2be1e3-c90f-44f9-9e86-d3ae80d11971')\"\n",
              "              title=\"Convert this dataframe to an interactive table.\"\n",
              "              style=\"display:none;\">\n",
              "        \n",
              "  <svg xmlns=\"http://www.w3.org/2000/svg\" height=\"24px\"viewBox=\"0 0 24 24\"\n",
              "       width=\"24px\">\n",
              "    <path d=\"M0 0h24v24H0V0z\" fill=\"none\"/>\n",
              "    <path d=\"M18.56 5.44l.94 2.06.94-2.06 2.06-.94-2.06-.94-.94-2.06-.94 2.06-2.06.94zm-11 1L8.5 8.5l.94-2.06 2.06-.94-2.06-.94L8.5 2.5l-.94 2.06-2.06.94zm10 10l.94 2.06.94-2.06 2.06-.94-2.06-.94-.94-2.06-.94 2.06-2.06.94z\"/><path d=\"M17.41 7.96l-1.37-1.37c-.4-.4-.92-.59-1.43-.59-.52 0-1.04.2-1.43.59L10.3 9.45l-7.72 7.72c-.78.78-.78 2.05 0 2.83L4 21.41c.39.39.9.59 1.41.59.51 0 1.02-.2 1.41-.59l7.78-7.78 2.81-2.81c.8-.78.8-2.07 0-2.86zM5.41 20L4 18.59l7.72-7.72 1.47 1.35L5.41 20z\"/>\n",
              "  </svg>\n",
              "      </button>\n",
              "      \n",
              "  <style>\n",
              "    .colab-df-container {\n",
              "      display:flex;\n",
              "      flex-wrap:wrap;\n",
              "      gap: 12px;\n",
              "    }\n",
              "\n",
              "    .colab-df-convert {\n",
              "      background-color: #E8F0FE;\n",
              "      border: none;\n",
              "      border-radius: 50%;\n",
              "      cursor: pointer;\n",
              "      display: none;\n",
              "      fill: #1967D2;\n",
              "      height: 32px;\n",
              "      padding: 0 0 0 0;\n",
              "      width: 32px;\n",
              "    }\n",
              "\n",
              "    .colab-df-convert:hover {\n",
              "      background-color: #E2EBFA;\n",
              "      box-shadow: 0px 1px 2px rgba(60, 64, 67, 0.3), 0px 1px 3px 1px rgba(60, 64, 67, 0.15);\n",
              "      fill: #174EA6;\n",
              "    }\n",
              "\n",
              "    [theme=dark] .colab-df-convert {\n",
              "      background-color: #3B4455;\n",
              "      fill: #D2E3FC;\n",
              "    }\n",
              "\n",
              "    [theme=dark] .colab-df-convert:hover {\n",
              "      background-color: #434B5C;\n",
              "      box-shadow: 0px 1px 3px 1px rgba(0, 0, 0, 0.15);\n",
              "      filter: drop-shadow(0px 1px 2px rgba(0, 0, 0, 0.3));\n",
              "      fill: #FFFFFF;\n",
              "    }\n",
              "  </style>\n",
              "\n",
              "      <script>\n",
              "        const buttonEl =\n",
              "          document.querySelector('#df-4a2be1e3-c90f-44f9-9e86-d3ae80d11971 button.colab-df-convert');\n",
              "        buttonEl.style.display =\n",
              "          google.colab.kernel.accessAllowed ? 'block' : 'none';\n",
              "\n",
              "        async function convertToInteractive(key) {\n",
              "          const element = document.querySelector('#df-4a2be1e3-c90f-44f9-9e86-d3ae80d11971');\n",
              "          const dataTable =\n",
              "            await google.colab.kernel.invokeFunction('convertToInteractive',\n",
              "                                                     [key], {});\n",
              "          if (!dataTable) return;\n",
              "\n",
              "          const docLinkHtml = 'Like what you see? Visit the ' +\n",
              "            '<a target=\"_blank\" href=https://colab.research.google.com/notebooks/data_table.ipynb>data table notebook</a>'\n",
              "            + ' to learn more about interactive tables.';\n",
              "          element.innerHTML = '';\n",
              "          dataTable['output_type'] = 'display_data';\n",
              "          await google.colab.output.renderOutput(dataTable, element);\n",
              "          const docLink = document.createElement('div');\n",
              "          docLink.innerHTML = docLinkHtml;\n",
              "          element.appendChild(docLink);\n",
              "        }\n",
              "      </script>\n",
              "    </div>\n",
              "  </div>\n",
              "  "
            ],
            "text/plain": [
              "                    Movie ID::Title::Genres Unnamed: 1 Unnamed: 2\n",
              "810   821::Crude Oasis, The (1995)::Romance        NaN        NaN\n",
              "361        365::Little Buddha (1993)::Drama        NaN        NaN\n",
              "2334       2403::First Blood (1982)::Action        NaN        NaN"
            ]
          },
          "execution_count": 8,
          "metadata": {},
          "output_type": "execute_result"
        }
      ],
      "source": [
        "movies.sample(3)"
      ]
    },
    {
      "cell_type": "code",
      "execution_count": null,
      "metadata": {
        "colab": {
          "base_uri": "https://localhost:8080/",
          "height": 143
        },
        "id": "GtrWI33h_A-W",
        "outputId": "ee401286-03aa-4626-f7bb-f8d87406f900"
      },
      "outputs": [
        {
          "data": {
            "text/html": [
              "\n",
              "  <div id=\"df-ada8e6dc-49f5-4e13-b76d-01ad0ecf600f\">\n",
              "    <div class=\"colab-df-container\">\n",
              "      <div>\n",
              "<style scoped>\n",
              "    .dataframe tbody tr th:only-of-type {\n",
              "        vertical-align: middle;\n",
              "    }\n",
              "\n",
              "    .dataframe tbody tr th {\n",
              "        vertical-align: top;\n",
              "    }\n",
              "\n",
              "    .dataframe thead th {\n",
              "        text-align: right;\n",
              "    }\n",
              "</style>\n",
              "<table border=\"1\" class=\"dataframe\">\n",
              "  <thead>\n",
              "    <tr style=\"text-align: right;\">\n",
              "      <th></th>\n",
              "      <th>UserID::MovieID::Rating::Timestamp</th>\n",
              "    </tr>\n",
              "  </thead>\n",
              "  <tbody>\n",
              "    <tr>\n",
              "      <th>90396</th>\n",
              "      <td>597::2908::5::975904423</td>\n",
              "    </tr>\n",
              "    <tr>\n",
              "      <th>137712</th>\n",
              "      <td>889::764::2::975261650</td>\n",
              "    </tr>\n",
              "    <tr>\n",
              "      <th>676655</th>\n",
              "      <td>4055::1944::4::965490398</td>\n",
              "    </tr>\n",
              "  </tbody>\n",
              "</table>\n",
              "</div>\n",
              "      <button class=\"colab-df-convert\" onclick=\"convertToInteractive('df-ada8e6dc-49f5-4e13-b76d-01ad0ecf600f')\"\n",
              "              title=\"Convert this dataframe to an interactive table.\"\n",
              "              style=\"display:none;\">\n",
              "        \n",
              "  <svg xmlns=\"http://www.w3.org/2000/svg\" height=\"24px\"viewBox=\"0 0 24 24\"\n",
              "       width=\"24px\">\n",
              "    <path d=\"M0 0h24v24H0V0z\" fill=\"none\"/>\n",
              "    <path d=\"M18.56 5.44l.94 2.06.94-2.06 2.06-.94-2.06-.94-.94-2.06-.94 2.06-2.06.94zm-11 1L8.5 8.5l.94-2.06 2.06-.94-2.06-.94L8.5 2.5l-.94 2.06-2.06.94zm10 10l.94 2.06.94-2.06 2.06-.94-2.06-.94-.94-2.06-.94 2.06-2.06.94z\"/><path d=\"M17.41 7.96l-1.37-1.37c-.4-.4-.92-.59-1.43-.59-.52 0-1.04.2-1.43.59L10.3 9.45l-7.72 7.72c-.78.78-.78 2.05 0 2.83L4 21.41c.39.39.9.59 1.41.59.51 0 1.02-.2 1.41-.59l7.78-7.78 2.81-2.81c.8-.78.8-2.07 0-2.86zM5.41 20L4 18.59l7.72-7.72 1.47 1.35L5.41 20z\"/>\n",
              "  </svg>\n",
              "      </button>\n",
              "      \n",
              "  <style>\n",
              "    .colab-df-container {\n",
              "      display:flex;\n",
              "      flex-wrap:wrap;\n",
              "      gap: 12px;\n",
              "    }\n",
              "\n",
              "    .colab-df-convert {\n",
              "      background-color: #E8F0FE;\n",
              "      border: none;\n",
              "      border-radius: 50%;\n",
              "      cursor: pointer;\n",
              "      display: none;\n",
              "      fill: #1967D2;\n",
              "      height: 32px;\n",
              "      padding: 0 0 0 0;\n",
              "      width: 32px;\n",
              "    }\n",
              "\n",
              "    .colab-df-convert:hover {\n",
              "      background-color: #E2EBFA;\n",
              "      box-shadow: 0px 1px 2px rgba(60, 64, 67, 0.3), 0px 1px 3px 1px rgba(60, 64, 67, 0.15);\n",
              "      fill: #174EA6;\n",
              "    }\n",
              "\n",
              "    [theme=dark] .colab-df-convert {\n",
              "      background-color: #3B4455;\n",
              "      fill: #D2E3FC;\n",
              "    }\n",
              "\n",
              "    [theme=dark] .colab-df-convert:hover {\n",
              "      background-color: #434B5C;\n",
              "      box-shadow: 0px 1px 3px 1px rgba(0, 0, 0, 0.15);\n",
              "      filter: drop-shadow(0px 1px 2px rgba(0, 0, 0, 0.3));\n",
              "      fill: #FFFFFF;\n",
              "    }\n",
              "  </style>\n",
              "\n",
              "      <script>\n",
              "        const buttonEl =\n",
              "          document.querySelector('#df-ada8e6dc-49f5-4e13-b76d-01ad0ecf600f button.colab-df-convert');\n",
              "        buttonEl.style.display =\n",
              "          google.colab.kernel.accessAllowed ? 'block' : 'none';\n",
              "\n",
              "        async function convertToInteractive(key) {\n",
              "          const element = document.querySelector('#df-ada8e6dc-49f5-4e13-b76d-01ad0ecf600f');\n",
              "          const dataTable =\n",
              "            await google.colab.kernel.invokeFunction('convertToInteractive',\n",
              "                                                     [key], {});\n",
              "          if (!dataTable) return;\n",
              "\n",
              "          const docLinkHtml = 'Like what you see? Visit the ' +\n",
              "            '<a target=\"_blank\" href=https://colab.research.google.com/notebooks/data_table.ipynb>data table notebook</a>'\n",
              "            + ' to learn more about interactive tables.';\n",
              "          element.innerHTML = '';\n",
              "          dataTable['output_type'] = 'display_data';\n",
              "          await google.colab.output.renderOutput(dataTable, element);\n",
              "          const docLink = document.createElement('div');\n",
              "          docLink.innerHTML = docLinkHtml;\n",
              "          element.appendChild(docLink);\n",
              "        }\n",
              "      </script>\n",
              "    </div>\n",
              "  </div>\n",
              "  "
            ],
            "text/plain": [
              "       UserID::MovieID::Rating::Timestamp\n",
              "90396             597::2908::5::975904423\n",
              "137712             889::764::2::975261650\n",
              "676655           4055::1944::4::965490398"
            ]
          },
          "execution_count": 9,
          "metadata": {},
          "output_type": "execute_result"
        }
      ],
      "source": [
        "ratings.sample(3)"
      ]
    },
    {
      "cell_type": "code",
      "execution_count": null,
      "metadata": {
        "colab": {
          "base_uri": "https://localhost:8080/",
          "height": 143
        },
        "id": "dxta04RHi7KW",
        "outputId": "c5434964-1f36-4507-80b4-2b9295fd16c8"
      },
      "outputs": [
        {
          "data": {
            "text/html": [
              "\n",
              "  <div id=\"df-f42f50dd-c43a-4839-a9a2-a909b513601a\">\n",
              "    <div class=\"colab-df-container\">\n",
              "      <div>\n",
              "<style scoped>\n",
              "    .dataframe tbody tr th:only-of-type {\n",
              "        vertical-align: middle;\n",
              "    }\n",
              "\n",
              "    .dataframe tbody tr th {\n",
              "        vertical-align: top;\n",
              "    }\n",
              "\n",
              "    .dataframe thead th {\n",
              "        text-align: right;\n",
              "    }\n",
              "</style>\n",
              "<table border=\"1\" class=\"dataframe\">\n",
              "  <thead>\n",
              "    <tr style=\"text-align: right;\">\n",
              "      <th></th>\n",
              "      <th>UserID::Gender::Age::Occupation::Zip-code</th>\n",
              "    </tr>\n",
              "  </thead>\n",
              "  <tbody>\n",
              "    <tr>\n",
              "      <th>1698</th>\n",
              "      <td>1699::F::25::19::98102</td>\n",
              "    </tr>\n",
              "    <tr>\n",
              "      <th>4032</th>\n",
              "      <td>4033::M::25::6::43551</td>\n",
              "    </tr>\n",
              "    <tr>\n",
              "      <th>5670</th>\n",
              "      <td>5671::M::25::1::02146</td>\n",
              "    </tr>\n",
              "  </tbody>\n",
              "</table>\n",
              "</div>\n",
              "      <button class=\"colab-df-convert\" onclick=\"convertToInteractive('df-f42f50dd-c43a-4839-a9a2-a909b513601a')\"\n",
              "              title=\"Convert this dataframe to an interactive table.\"\n",
              "              style=\"display:none;\">\n",
              "        \n",
              "  <svg xmlns=\"http://www.w3.org/2000/svg\" height=\"24px\"viewBox=\"0 0 24 24\"\n",
              "       width=\"24px\">\n",
              "    <path d=\"M0 0h24v24H0V0z\" fill=\"none\"/>\n",
              "    <path d=\"M18.56 5.44l.94 2.06.94-2.06 2.06-.94-2.06-.94-.94-2.06-.94 2.06-2.06.94zm-11 1L8.5 8.5l.94-2.06 2.06-.94-2.06-.94L8.5 2.5l-.94 2.06-2.06.94zm10 10l.94 2.06.94-2.06 2.06-.94-2.06-.94-.94-2.06-.94 2.06-2.06.94z\"/><path d=\"M17.41 7.96l-1.37-1.37c-.4-.4-.92-.59-1.43-.59-.52 0-1.04.2-1.43.59L10.3 9.45l-7.72 7.72c-.78.78-.78 2.05 0 2.83L4 21.41c.39.39.9.59 1.41.59.51 0 1.02-.2 1.41-.59l7.78-7.78 2.81-2.81c.8-.78.8-2.07 0-2.86zM5.41 20L4 18.59l7.72-7.72 1.47 1.35L5.41 20z\"/>\n",
              "  </svg>\n",
              "      </button>\n",
              "      \n",
              "  <style>\n",
              "    .colab-df-container {\n",
              "      display:flex;\n",
              "      flex-wrap:wrap;\n",
              "      gap: 12px;\n",
              "    }\n",
              "\n",
              "    .colab-df-convert {\n",
              "      background-color: #E8F0FE;\n",
              "      border: none;\n",
              "      border-radius: 50%;\n",
              "      cursor: pointer;\n",
              "      display: none;\n",
              "      fill: #1967D2;\n",
              "      height: 32px;\n",
              "      padding: 0 0 0 0;\n",
              "      width: 32px;\n",
              "    }\n",
              "\n",
              "    .colab-df-convert:hover {\n",
              "      background-color: #E2EBFA;\n",
              "      box-shadow: 0px 1px 2px rgba(60, 64, 67, 0.3), 0px 1px 3px 1px rgba(60, 64, 67, 0.15);\n",
              "      fill: #174EA6;\n",
              "    }\n",
              "\n",
              "    [theme=dark] .colab-df-convert {\n",
              "      background-color: #3B4455;\n",
              "      fill: #D2E3FC;\n",
              "    }\n",
              "\n",
              "    [theme=dark] .colab-df-convert:hover {\n",
              "      background-color: #434B5C;\n",
              "      box-shadow: 0px 1px 3px 1px rgba(0, 0, 0, 0.15);\n",
              "      filter: drop-shadow(0px 1px 2px rgba(0, 0, 0, 0.3));\n",
              "      fill: #FFFFFF;\n",
              "    }\n",
              "  </style>\n",
              "\n",
              "      <script>\n",
              "        const buttonEl =\n",
              "          document.querySelector('#df-f42f50dd-c43a-4839-a9a2-a909b513601a button.colab-df-convert');\n",
              "        buttonEl.style.display =\n",
              "          google.colab.kernel.accessAllowed ? 'block' : 'none';\n",
              "\n",
              "        async function convertToInteractive(key) {\n",
              "          const element = document.querySelector('#df-f42f50dd-c43a-4839-a9a2-a909b513601a');\n",
              "          const dataTable =\n",
              "            await google.colab.kernel.invokeFunction('convertToInteractive',\n",
              "                                                     [key], {});\n",
              "          if (!dataTable) return;\n",
              "\n",
              "          const docLinkHtml = 'Like what you see? Visit the ' +\n",
              "            '<a target=\"_blank\" href=https://colab.research.google.com/notebooks/data_table.ipynb>data table notebook</a>'\n",
              "            + ' to learn more about interactive tables.';\n",
              "          element.innerHTML = '';\n",
              "          dataTable['output_type'] = 'display_data';\n",
              "          await google.colab.output.renderOutput(dataTable, element);\n",
              "          const docLink = document.createElement('div');\n",
              "          docLink.innerHTML = docLinkHtml;\n",
              "          element.appendChild(docLink);\n",
              "        }\n",
              "      </script>\n",
              "    </div>\n",
              "  </div>\n",
              "  "
            ],
            "text/plain": [
              "     UserID::Gender::Age::Occupation::Zip-code\n",
              "1698                    1699::F::25::19::98102\n",
              "4032                     4033::M::25::6::43551\n",
              "5670                     5671::M::25::1::02146"
            ]
          },
          "execution_count": 10,
          "metadata": {},
          "output_type": "execute_result"
        }
      ],
      "source": [
        "users.sample(3)"
      ]
    },
    {
      "cell_type": "markdown",
      "metadata": {
        "id": "11FIn29hvHZt"
      },
      "source": [
        "__Summary:__\n",
        "\n",
        "- There are informations about 3883 movies, 6040 users, and 1000209 ratings\n",
        "- The datasets, however, are not in usable format. The datasets requires fixing."
      ]
    },
    {
      "cell_type": "markdown",
      "metadata": {
        "id": "R7fJd4X_jA1a"
      },
      "source": [
        "## Fixing Data\n",
        "\n",
        "- We will format the data files to bring them into a workable format\n",
        "\n"
      ]
    },
    {
      "cell_type": "code",
      "execution_count": null,
      "metadata": {
        "id": "Qjn6H4s_jWV1"
      },
      "outputs": [],
      "source": [
        "delimiter = '::'"
      ]
    },
    {
      "cell_type": "markdown",
      "metadata": {
        "id": "w16nxHozjKDK"
      },
      "source": [
        "**movies**"
      ]
    },
    {
      "cell_type": "code",
      "execution_count": null,
      "metadata": {
        "id": "XeXWe68wjLaj"
      },
      "outputs": [],
      "source": [
        "movies.drop(columns=['Unnamed: 1', 'Unnamed: 2'], inplace=True)\n",
        "movies = movies['Movie ID::Title::Genres'].str.split(delimiter, expand=True)\n",
        "movies.columns = ['MovieID', 'Title', 'Genres']"
      ]
    },
    {
      "cell_type": "code",
      "execution_count": null,
      "metadata": {
        "colab": {
          "base_uri": "https://localhost:8080/",
          "height": 206
        },
        "id": "aDmaFxb1jDGs",
        "outputId": "33a90f37-ab4a-47a5-d974-02eee01612d6"
      },
      "outputs": [
        {
          "data": {
            "text/html": [
              "\n",
              "  <div id=\"df-9d52af32-8697-4eee-8200-a943947d96d8\">\n",
              "    <div class=\"colab-df-container\">\n",
              "      <div>\n",
              "<style scoped>\n",
              "    .dataframe tbody tr th:only-of-type {\n",
              "        vertical-align: middle;\n",
              "    }\n",
              "\n",
              "    .dataframe tbody tr th {\n",
              "        vertical-align: top;\n",
              "    }\n",
              "\n",
              "    .dataframe thead th {\n",
              "        text-align: right;\n",
              "    }\n",
              "</style>\n",
              "<table border=\"1\" class=\"dataframe\">\n",
              "  <thead>\n",
              "    <tr style=\"text-align: right;\">\n",
              "      <th></th>\n",
              "      <th>MovieID</th>\n",
              "      <th>Title</th>\n",
              "      <th>Genres</th>\n",
              "    </tr>\n",
              "  </thead>\n",
              "  <tbody>\n",
              "    <tr>\n",
              "      <th>847</th>\n",
              "      <td>858</td>\n",
              "      <td>Godfather, The (1972)</td>\n",
              "      <td>Action|Crime|Drama</td>\n",
              "    </tr>\n",
              "    <tr>\n",
              "      <th>224</th>\n",
              "      <td>227</td>\n",
              "      <td>Drop Zone (1994)</td>\n",
              "      <td>Action</td>\n",
              "    </tr>\n",
              "    <tr>\n",
              "      <th>3106</th>\n",
              "      <td>3175</td>\n",
              "      <td>Galaxy Quest (1999)</td>\n",
              "      <td>Adventure|Comedy|Sci-Fi</td>\n",
              "    </tr>\n",
              "    <tr>\n",
              "      <th>2357</th>\n",
              "      <td>2426</td>\n",
              "      <td>Theory of Flight, The (1998)</td>\n",
              "      <td>Comedy|Drama|Romance</td>\n",
              "    </tr>\n",
              "    <tr>\n",
              "      <th>2963</th>\n",
              "      <td>3032</td>\n",
              "      <td>Omega Man, The (1971)</td>\n",
              "      <td>Sci-Fi</td>\n",
              "    </tr>\n",
              "  </tbody>\n",
              "</table>\n",
              "</div>\n",
              "      <button class=\"colab-df-convert\" onclick=\"convertToInteractive('df-9d52af32-8697-4eee-8200-a943947d96d8')\"\n",
              "              title=\"Convert this dataframe to an interactive table.\"\n",
              "              style=\"display:none;\">\n",
              "        \n",
              "  <svg xmlns=\"http://www.w3.org/2000/svg\" height=\"24px\"viewBox=\"0 0 24 24\"\n",
              "       width=\"24px\">\n",
              "    <path d=\"M0 0h24v24H0V0z\" fill=\"none\"/>\n",
              "    <path d=\"M18.56 5.44l.94 2.06.94-2.06 2.06-.94-2.06-.94-.94-2.06-.94 2.06-2.06.94zm-11 1L8.5 8.5l.94-2.06 2.06-.94-2.06-.94L8.5 2.5l-.94 2.06-2.06.94zm10 10l.94 2.06.94-2.06 2.06-.94-2.06-.94-.94-2.06-.94 2.06-2.06.94z\"/><path d=\"M17.41 7.96l-1.37-1.37c-.4-.4-.92-.59-1.43-.59-.52 0-1.04.2-1.43.59L10.3 9.45l-7.72 7.72c-.78.78-.78 2.05 0 2.83L4 21.41c.39.39.9.59 1.41.59.51 0 1.02-.2 1.41-.59l7.78-7.78 2.81-2.81c.8-.78.8-2.07 0-2.86zM5.41 20L4 18.59l7.72-7.72 1.47 1.35L5.41 20z\"/>\n",
              "  </svg>\n",
              "      </button>\n",
              "      \n",
              "  <style>\n",
              "    .colab-df-container {\n",
              "      display:flex;\n",
              "      flex-wrap:wrap;\n",
              "      gap: 12px;\n",
              "    }\n",
              "\n",
              "    .colab-df-convert {\n",
              "      background-color: #E8F0FE;\n",
              "      border: none;\n",
              "      border-radius: 50%;\n",
              "      cursor: pointer;\n",
              "      display: none;\n",
              "      fill: #1967D2;\n",
              "      height: 32px;\n",
              "      padding: 0 0 0 0;\n",
              "      width: 32px;\n",
              "    }\n",
              "\n",
              "    .colab-df-convert:hover {\n",
              "      background-color: #E2EBFA;\n",
              "      box-shadow: 0px 1px 2px rgba(60, 64, 67, 0.3), 0px 1px 3px 1px rgba(60, 64, 67, 0.15);\n",
              "      fill: #174EA6;\n",
              "    }\n",
              "\n",
              "    [theme=dark] .colab-df-convert {\n",
              "      background-color: #3B4455;\n",
              "      fill: #D2E3FC;\n",
              "    }\n",
              "\n",
              "    [theme=dark] .colab-df-convert:hover {\n",
              "      background-color: #434B5C;\n",
              "      box-shadow: 0px 1px 3px 1px rgba(0, 0, 0, 0.15);\n",
              "      filter: drop-shadow(0px 1px 2px rgba(0, 0, 0, 0.3));\n",
              "      fill: #FFFFFF;\n",
              "    }\n",
              "  </style>\n",
              "\n",
              "      <script>\n",
              "        const buttonEl =\n",
              "          document.querySelector('#df-9d52af32-8697-4eee-8200-a943947d96d8 button.colab-df-convert');\n",
              "        buttonEl.style.display =\n",
              "          google.colab.kernel.accessAllowed ? 'block' : 'none';\n",
              "\n",
              "        async function convertToInteractive(key) {\n",
              "          const element = document.querySelector('#df-9d52af32-8697-4eee-8200-a943947d96d8');\n",
              "          const dataTable =\n",
              "            await google.colab.kernel.invokeFunction('convertToInteractive',\n",
              "                                                     [key], {});\n",
              "          if (!dataTable) return;\n",
              "\n",
              "          const docLinkHtml = 'Like what you see? Visit the ' +\n",
              "            '<a target=\"_blank\" href=https://colab.research.google.com/notebooks/data_table.ipynb>data table notebook</a>'\n",
              "            + ' to learn more about interactive tables.';\n",
              "          element.innerHTML = '';\n",
              "          dataTable['output_type'] = 'display_data';\n",
              "          await google.colab.output.renderOutput(dataTable, element);\n",
              "          const docLink = document.createElement('div');\n",
              "          docLink.innerHTML = docLinkHtml;\n",
              "          element.appendChild(docLink);\n",
              "        }\n",
              "      </script>\n",
              "    </div>\n",
              "  </div>\n",
              "  "
            ],
            "text/plain": [
              "     MovieID                         Title                   Genres\n",
              "847      858         Godfather, The (1972)       Action|Crime|Drama\n",
              "224      227              Drop Zone (1994)                   Action\n",
              "3106    3175           Galaxy Quest (1999)  Adventure|Comedy|Sci-Fi\n",
              "2357    2426  Theory of Flight, The (1998)     Comedy|Drama|Romance\n",
              "2963    3032         Omega Man, The (1971)                   Sci-Fi"
            ]
          },
          "execution_count": 13,
          "metadata": {},
          "output_type": "execute_result"
        }
      ],
      "source": [
        "movies.sample(5)"
      ]
    },
    {
      "cell_type": "code",
      "execution_count": null,
      "metadata": {
        "colab": {
          "base_uri": "https://localhost:8080/"
        },
        "id": "8FQobjM1ldOV",
        "outputId": "707ab75d-dc87-467e-f9b0-d8d0393df273"
      },
      "outputs": [
        {
          "name": "stdout",
          "output_type": "stream",
          "text": [
            "(3883, 3)\n"
          ]
        }
      ],
      "source": [
        "print(movies.shape)"
      ]
    },
    {
      "cell_type": "markdown",
      "metadata": {
        "id": "-enjaK5Sj5ZD"
      },
      "source": [
        "**ratings**"
      ]
    },
    {
      "cell_type": "code",
      "execution_count": null,
      "metadata": {
        "id": "L1i3jajRj5ZD"
      },
      "outputs": [],
      "source": [
        "ratings = ratings['UserID::MovieID::Rating::Timestamp'].str.split(delimiter, expand=True)\n",
        "ratings.columns = ['UserID', 'MovieID', 'Rating', 'Timestamp']"
      ]
    },
    {
      "cell_type": "code",
      "execution_count": null,
      "metadata": {
        "colab": {
          "base_uri": "https://localhost:8080/",
          "height": 206
        },
        "id": "SRAC_S3Zj5ZE",
        "outputId": "ad5b94bd-929d-431a-b846-2a4def5157f0"
      },
      "outputs": [
        {
          "data": {
            "text/html": [
              "\n",
              "  <div id=\"df-42c23e40-3a69-4a11-873b-7f33fdb91f70\">\n",
              "    <div class=\"colab-df-container\">\n",
              "      <div>\n",
              "<style scoped>\n",
              "    .dataframe tbody tr th:only-of-type {\n",
              "        vertical-align: middle;\n",
              "    }\n",
              "\n",
              "    .dataframe tbody tr th {\n",
              "        vertical-align: top;\n",
              "    }\n",
              "\n",
              "    .dataframe thead th {\n",
              "        text-align: right;\n",
              "    }\n",
              "</style>\n",
              "<table border=\"1\" class=\"dataframe\">\n",
              "  <thead>\n",
              "    <tr style=\"text-align: right;\">\n",
              "      <th></th>\n",
              "      <th>UserID</th>\n",
              "      <th>MovieID</th>\n",
              "      <th>Rating</th>\n",
              "      <th>Timestamp</th>\n",
              "    </tr>\n",
              "  </thead>\n",
              "  <tbody>\n",
              "    <tr>\n",
              "      <th>281786</th>\n",
              "      <td>1690</td>\n",
              "      <td>3623</td>\n",
              "      <td>2</td>\n",
              "      <td>974714265</td>\n",
              "    </tr>\n",
              "    <tr>\n",
              "      <th>917931</th>\n",
              "      <td>5548</td>\n",
              "      <td>230</td>\n",
              "      <td>3</td>\n",
              "      <td>959481059</td>\n",
              "    </tr>\n",
              "    <tr>\n",
              "      <th>241711</th>\n",
              "      <td>1455</td>\n",
              "      <td>17</td>\n",
              "      <td>5</td>\n",
              "      <td>974757463</td>\n",
              "    </tr>\n",
              "    <tr>\n",
              "      <th>754427</th>\n",
              "      <td>4496</td>\n",
              "      <td>319</td>\n",
              "      <td>5</td>\n",
              "      <td>965014107</td>\n",
              "    </tr>\n",
              "    <tr>\n",
              "      <th>456519</th>\n",
              "      <td>2810</td>\n",
              "      <td>3176</td>\n",
              "      <td>3</td>\n",
              "      <td>1011318706</td>\n",
              "    </tr>\n",
              "  </tbody>\n",
              "</table>\n",
              "</div>\n",
              "      <button class=\"colab-df-convert\" onclick=\"convertToInteractive('df-42c23e40-3a69-4a11-873b-7f33fdb91f70')\"\n",
              "              title=\"Convert this dataframe to an interactive table.\"\n",
              "              style=\"display:none;\">\n",
              "        \n",
              "  <svg xmlns=\"http://www.w3.org/2000/svg\" height=\"24px\"viewBox=\"0 0 24 24\"\n",
              "       width=\"24px\">\n",
              "    <path d=\"M0 0h24v24H0V0z\" fill=\"none\"/>\n",
              "    <path d=\"M18.56 5.44l.94 2.06.94-2.06 2.06-.94-2.06-.94-.94-2.06-.94 2.06-2.06.94zm-11 1L8.5 8.5l.94-2.06 2.06-.94-2.06-.94L8.5 2.5l-.94 2.06-2.06.94zm10 10l.94 2.06.94-2.06 2.06-.94-2.06-.94-.94-2.06-.94 2.06-2.06.94z\"/><path d=\"M17.41 7.96l-1.37-1.37c-.4-.4-.92-.59-1.43-.59-.52 0-1.04.2-1.43.59L10.3 9.45l-7.72 7.72c-.78.78-.78 2.05 0 2.83L4 21.41c.39.39.9.59 1.41.59.51 0 1.02-.2 1.41-.59l7.78-7.78 2.81-2.81c.8-.78.8-2.07 0-2.86zM5.41 20L4 18.59l7.72-7.72 1.47 1.35L5.41 20z\"/>\n",
              "  </svg>\n",
              "      </button>\n",
              "      \n",
              "  <style>\n",
              "    .colab-df-container {\n",
              "      display:flex;\n",
              "      flex-wrap:wrap;\n",
              "      gap: 12px;\n",
              "    }\n",
              "\n",
              "    .colab-df-convert {\n",
              "      background-color: #E8F0FE;\n",
              "      border: none;\n",
              "      border-radius: 50%;\n",
              "      cursor: pointer;\n",
              "      display: none;\n",
              "      fill: #1967D2;\n",
              "      height: 32px;\n",
              "      padding: 0 0 0 0;\n",
              "      width: 32px;\n",
              "    }\n",
              "\n",
              "    .colab-df-convert:hover {\n",
              "      background-color: #E2EBFA;\n",
              "      box-shadow: 0px 1px 2px rgba(60, 64, 67, 0.3), 0px 1px 3px 1px rgba(60, 64, 67, 0.15);\n",
              "      fill: #174EA6;\n",
              "    }\n",
              "\n",
              "    [theme=dark] .colab-df-convert {\n",
              "      background-color: #3B4455;\n",
              "      fill: #D2E3FC;\n",
              "    }\n",
              "\n",
              "    [theme=dark] .colab-df-convert:hover {\n",
              "      background-color: #434B5C;\n",
              "      box-shadow: 0px 1px 3px 1px rgba(0, 0, 0, 0.15);\n",
              "      filter: drop-shadow(0px 1px 2px rgba(0, 0, 0, 0.3));\n",
              "      fill: #FFFFFF;\n",
              "    }\n",
              "  </style>\n",
              "\n",
              "      <script>\n",
              "        const buttonEl =\n",
              "          document.querySelector('#df-42c23e40-3a69-4a11-873b-7f33fdb91f70 button.colab-df-convert');\n",
              "        buttonEl.style.display =\n",
              "          google.colab.kernel.accessAllowed ? 'block' : 'none';\n",
              "\n",
              "        async function convertToInteractive(key) {\n",
              "          const element = document.querySelector('#df-42c23e40-3a69-4a11-873b-7f33fdb91f70');\n",
              "          const dataTable =\n",
              "            await google.colab.kernel.invokeFunction('convertToInteractive',\n",
              "                                                     [key], {});\n",
              "          if (!dataTable) return;\n",
              "\n",
              "          const docLinkHtml = 'Like what you see? Visit the ' +\n",
              "            '<a target=\"_blank\" href=https://colab.research.google.com/notebooks/data_table.ipynb>data table notebook</a>'\n",
              "            + ' to learn more about interactive tables.';\n",
              "          element.innerHTML = '';\n",
              "          dataTable['output_type'] = 'display_data';\n",
              "          await google.colab.output.renderOutput(dataTable, element);\n",
              "          const docLink = document.createElement('div');\n",
              "          docLink.innerHTML = docLinkHtml;\n",
              "          element.appendChild(docLink);\n",
              "        }\n",
              "      </script>\n",
              "    </div>\n",
              "  </div>\n",
              "  "
            ],
            "text/plain": [
              "       UserID MovieID Rating   Timestamp\n",
              "281786   1690    3623      2   974714265\n",
              "917931   5548     230      3   959481059\n",
              "241711   1455      17      5   974757463\n",
              "754427   4496     319      5   965014107\n",
              "456519   2810    3176      3  1011318706"
            ]
          },
          "execution_count": 16,
          "metadata": {},
          "output_type": "execute_result"
        }
      ],
      "source": [
        "ratings.sample(5)"
      ]
    },
    {
      "cell_type": "code",
      "execution_count": null,
      "metadata": {
        "colab": {
          "base_uri": "https://localhost:8080/"
        },
        "id": "jl8DPOT3lf5T",
        "outputId": "0c88e596-e0f9-4c5f-98de-7b939a33eab8"
      },
      "outputs": [
        {
          "data": {
            "text/plain": [
              "(1000209, 4)"
            ]
          },
          "execution_count": 17,
          "metadata": {},
          "output_type": "execute_result"
        }
      ],
      "source": [
        "ratings.shape"
      ]
    },
    {
      "cell_type": "markdown",
      "metadata": {
        "id": "Klg5RaJpkRsj"
      },
      "source": [
        "**users**"
      ]
    },
    {
      "cell_type": "code",
      "execution_count": null,
      "metadata": {
        "id": "6KXfM-vlkRsk"
      },
      "outputs": [],
      "source": [
        "users = users['UserID::Gender::Age::Occupation::Zip-code'].str.split(delimiter, expand=True)\n",
        "users.columns = ['UserID', 'Gender', 'Age', 'Occupation', 'Zip-code']"
      ]
    },
    {
      "cell_type": "code",
      "execution_count": null,
      "metadata": {
        "colab": {
          "base_uri": "https://localhost:8080/",
          "height": 206
        },
        "id": "umKkdeBCkRsk",
        "outputId": "c8633c5e-2594-4957-ef1f-0671c2159e31"
      },
      "outputs": [
        {
          "data": {
            "text/html": [
              "\n",
              "  <div id=\"df-f3bd01c8-94f6-4353-a35e-b386b2437ada\">\n",
              "    <div class=\"colab-df-container\">\n",
              "      <div>\n",
              "<style scoped>\n",
              "    .dataframe tbody tr th:only-of-type {\n",
              "        vertical-align: middle;\n",
              "    }\n",
              "\n",
              "    .dataframe tbody tr th {\n",
              "        vertical-align: top;\n",
              "    }\n",
              "\n",
              "    .dataframe thead th {\n",
              "        text-align: right;\n",
              "    }\n",
              "</style>\n",
              "<table border=\"1\" class=\"dataframe\">\n",
              "  <thead>\n",
              "    <tr style=\"text-align: right;\">\n",
              "      <th></th>\n",
              "      <th>UserID</th>\n",
              "      <th>Gender</th>\n",
              "      <th>Age</th>\n",
              "      <th>Occupation</th>\n",
              "      <th>Zip-code</th>\n",
              "    </tr>\n",
              "  </thead>\n",
              "  <tbody>\n",
              "    <tr>\n",
              "      <th>3316</th>\n",
              "      <td>3317</td>\n",
              "      <td>M</td>\n",
              "      <td>25</td>\n",
              "      <td>4</td>\n",
              "      <td>78705</td>\n",
              "    </tr>\n",
              "    <tr>\n",
              "      <th>433</th>\n",
              "      <td>434</td>\n",
              "      <td>F</td>\n",
              "      <td>45</td>\n",
              "      <td>3</td>\n",
              "      <td>98155</td>\n",
              "    </tr>\n",
              "    <tr>\n",
              "      <th>4993</th>\n",
              "      <td>4994</td>\n",
              "      <td>M</td>\n",
              "      <td>45</td>\n",
              "      <td>17</td>\n",
              "      <td>56001</td>\n",
              "    </tr>\n",
              "    <tr>\n",
              "      <th>3812</th>\n",
              "      <td>3813</td>\n",
              "      <td>M</td>\n",
              "      <td>35</td>\n",
              "      <td>7</td>\n",
              "      <td>80910</td>\n",
              "    </tr>\n",
              "    <tr>\n",
              "      <th>364</th>\n",
              "      <td>365</td>\n",
              "      <td>F</td>\n",
              "      <td>18</td>\n",
              "      <td>4</td>\n",
              "      <td>02138</td>\n",
              "    </tr>\n",
              "  </tbody>\n",
              "</table>\n",
              "</div>\n",
              "      <button class=\"colab-df-convert\" onclick=\"convertToInteractive('df-f3bd01c8-94f6-4353-a35e-b386b2437ada')\"\n",
              "              title=\"Convert this dataframe to an interactive table.\"\n",
              "              style=\"display:none;\">\n",
              "        \n",
              "  <svg xmlns=\"http://www.w3.org/2000/svg\" height=\"24px\"viewBox=\"0 0 24 24\"\n",
              "       width=\"24px\">\n",
              "    <path d=\"M0 0h24v24H0V0z\" fill=\"none\"/>\n",
              "    <path d=\"M18.56 5.44l.94 2.06.94-2.06 2.06-.94-2.06-.94-.94-2.06-.94 2.06-2.06.94zm-11 1L8.5 8.5l.94-2.06 2.06-.94-2.06-.94L8.5 2.5l-.94 2.06-2.06.94zm10 10l.94 2.06.94-2.06 2.06-.94-2.06-.94-.94-2.06-.94 2.06-2.06.94z\"/><path d=\"M17.41 7.96l-1.37-1.37c-.4-.4-.92-.59-1.43-.59-.52 0-1.04.2-1.43.59L10.3 9.45l-7.72 7.72c-.78.78-.78 2.05 0 2.83L4 21.41c.39.39.9.59 1.41.59.51 0 1.02-.2 1.41-.59l7.78-7.78 2.81-2.81c.8-.78.8-2.07 0-2.86zM5.41 20L4 18.59l7.72-7.72 1.47 1.35L5.41 20z\"/>\n",
              "  </svg>\n",
              "      </button>\n",
              "      \n",
              "  <style>\n",
              "    .colab-df-container {\n",
              "      display:flex;\n",
              "      flex-wrap:wrap;\n",
              "      gap: 12px;\n",
              "    }\n",
              "\n",
              "    .colab-df-convert {\n",
              "      background-color: #E8F0FE;\n",
              "      border: none;\n",
              "      border-radius: 50%;\n",
              "      cursor: pointer;\n",
              "      display: none;\n",
              "      fill: #1967D2;\n",
              "      height: 32px;\n",
              "      padding: 0 0 0 0;\n",
              "      width: 32px;\n",
              "    }\n",
              "\n",
              "    .colab-df-convert:hover {\n",
              "      background-color: #E2EBFA;\n",
              "      box-shadow: 0px 1px 2px rgba(60, 64, 67, 0.3), 0px 1px 3px 1px rgba(60, 64, 67, 0.15);\n",
              "      fill: #174EA6;\n",
              "    }\n",
              "\n",
              "    [theme=dark] .colab-df-convert {\n",
              "      background-color: #3B4455;\n",
              "      fill: #D2E3FC;\n",
              "    }\n",
              "\n",
              "    [theme=dark] .colab-df-convert:hover {\n",
              "      background-color: #434B5C;\n",
              "      box-shadow: 0px 1px 3px 1px rgba(0, 0, 0, 0.15);\n",
              "      filter: drop-shadow(0px 1px 2px rgba(0, 0, 0, 0.3));\n",
              "      fill: #FFFFFF;\n",
              "    }\n",
              "  </style>\n",
              "\n",
              "      <script>\n",
              "        const buttonEl =\n",
              "          document.querySelector('#df-f3bd01c8-94f6-4353-a35e-b386b2437ada button.colab-df-convert');\n",
              "        buttonEl.style.display =\n",
              "          google.colab.kernel.accessAllowed ? 'block' : 'none';\n",
              "\n",
              "        async function convertToInteractive(key) {\n",
              "          const element = document.querySelector('#df-f3bd01c8-94f6-4353-a35e-b386b2437ada');\n",
              "          const dataTable =\n",
              "            await google.colab.kernel.invokeFunction('convertToInteractive',\n",
              "                                                     [key], {});\n",
              "          if (!dataTable) return;\n",
              "\n",
              "          const docLinkHtml = 'Like what you see? Visit the ' +\n",
              "            '<a target=\"_blank\" href=https://colab.research.google.com/notebooks/data_table.ipynb>data table notebook</a>'\n",
              "            + ' to learn more about interactive tables.';\n",
              "          element.innerHTML = '';\n",
              "          dataTable['output_type'] = 'display_data';\n",
              "          await google.colab.output.renderOutput(dataTable, element);\n",
              "          const docLink = document.createElement('div');\n",
              "          docLink.innerHTML = docLinkHtml;\n",
              "          element.appendChild(docLink);\n",
              "        }\n",
              "      </script>\n",
              "    </div>\n",
              "  </div>\n",
              "  "
            ],
            "text/plain": [
              "     UserID Gender Age Occupation Zip-code\n",
              "3316   3317      M  25          4    78705\n",
              "433     434      F  45          3    98155\n",
              "4993   4994      M  45         17    56001\n",
              "3812   3813      M  35          7    80910\n",
              "364     365      F  18          4    02138"
            ]
          },
          "execution_count": 19,
          "metadata": {},
          "output_type": "execute_result"
        }
      ],
      "source": [
        "users.sample(5)"
      ]
    },
    {
      "cell_type": "code",
      "execution_count": null,
      "metadata": {
        "colab": {
          "base_uri": "https://localhost:8080/"
        },
        "id": "a4kJuaVMliQF",
        "outputId": "0eaeb4c9-f70d-4a22-9a24-b322cb1e9b19"
      },
      "outputs": [
        {
          "data": {
            "text/plain": [
              "(6040, 5)"
            ]
          },
          "execution_count": 20,
          "metadata": {},
          "output_type": "execute_result"
        }
      ],
      "source": [
        "users.shape"
      ]
    },
    {
      "cell_type": "markdown",
      "metadata": {
        "id": "KlaNIBHgmVd4"
      },
      "source": [
        "__Summary:__\n",
        "\n",
        "- The datasets for movies, users, and ratings are fixed\n",
        "- movies has 3 columns, users has 5 columns, and ratings has 4 columns\n",
        "- The attributes meaning are self-explanatory"
      ]
    },
    {
      "cell_type": "markdown",
      "metadata": {
        "id": "dmB-dWBjlC1u"
      },
      "source": [
        "## Merging Data"
      ]
    },
    {
      "cell_type": "markdown",
      "metadata": {
        "id": "5x_qkMi3-_Vj"
      },
      "source": [
        "- We will merge the data files and create a single consolidated dataframe"
      ]
    },
    {
      "cell_type": "markdown",
      "metadata": {
        "id": "fsradmhtlR-G"
      },
      "source": [
        "**movies + ratings**"
      ]
    },
    {
      "cell_type": "code",
      "execution_count": null,
      "metadata": {
        "colab": {
          "base_uri": "https://localhost:8080/",
          "height": 143
        },
        "id": "LqkusdmolEk6",
        "outputId": "03f12c27-905a-4aa3-ffa8-1e8b0a1ab684"
      },
      "outputs": [
        {
          "data": {
            "text/html": [
              "\n",
              "  <div id=\"df-ffac2195-4d25-449d-8056-33963f026219\">\n",
              "    <div class=\"colab-df-container\">\n",
              "      <div>\n",
              "<style scoped>\n",
              "    .dataframe tbody tr th:only-of-type {\n",
              "        vertical-align: middle;\n",
              "    }\n",
              "\n",
              "    .dataframe tbody tr th {\n",
              "        vertical-align: top;\n",
              "    }\n",
              "\n",
              "    .dataframe thead th {\n",
              "        text-align: right;\n",
              "    }\n",
              "</style>\n",
              "<table border=\"1\" class=\"dataframe\">\n",
              "  <thead>\n",
              "    <tr style=\"text-align: right;\">\n",
              "      <th></th>\n",
              "      <th>MovieID</th>\n",
              "      <th>Title</th>\n",
              "      <th>Genres</th>\n",
              "      <th>UserID</th>\n",
              "      <th>Rating</th>\n",
              "      <th>Timestamp</th>\n",
              "    </tr>\n",
              "  </thead>\n",
              "  <tbody>\n",
              "    <tr>\n",
              "      <th>0</th>\n",
              "      <td>1</td>\n",
              "      <td>Toy Story (1995)</td>\n",
              "      <td>Animation|Children's|Comedy</td>\n",
              "      <td>1</td>\n",
              "      <td>5</td>\n",
              "      <td>978824268</td>\n",
              "    </tr>\n",
              "    <tr>\n",
              "      <th>1</th>\n",
              "      <td>1</td>\n",
              "      <td>Toy Story (1995)</td>\n",
              "      <td>Animation|Children's|Comedy</td>\n",
              "      <td>6</td>\n",
              "      <td>4</td>\n",
              "      <td>978237008</td>\n",
              "    </tr>\n",
              "    <tr>\n",
              "      <th>2</th>\n",
              "      <td>1</td>\n",
              "      <td>Toy Story (1995)</td>\n",
              "      <td>Animation|Children's|Comedy</td>\n",
              "      <td>8</td>\n",
              "      <td>4</td>\n",
              "      <td>978233496</td>\n",
              "    </tr>\n",
              "  </tbody>\n",
              "</table>\n",
              "</div>\n",
              "      <button class=\"colab-df-convert\" onclick=\"convertToInteractive('df-ffac2195-4d25-449d-8056-33963f026219')\"\n",
              "              title=\"Convert this dataframe to an interactive table.\"\n",
              "              style=\"display:none;\">\n",
              "        \n",
              "  <svg xmlns=\"http://www.w3.org/2000/svg\" height=\"24px\"viewBox=\"0 0 24 24\"\n",
              "       width=\"24px\">\n",
              "    <path d=\"M0 0h24v24H0V0z\" fill=\"none\"/>\n",
              "    <path d=\"M18.56 5.44l.94 2.06.94-2.06 2.06-.94-2.06-.94-.94-2.06-.94 2.06-2.06.94zm-11 1L8.5 8.5l.94-2.06 2.06-.94-2.06-.94L8.5 2.5l-.94 2.06-2.06.94zm10 10l.94 2.06.94-2.06 2.06-.94-2.06-.94-.94-2.06-.94 2.06-2.06.94z\"/><path d=\"M17.41 7.96l-1.37-1.37c-.4-.4-.92-.59-1.43-.59-.52 0-1.04.2-1.43.59L10.3 9.45l-7.72 7.72c-.78.78-.78 2.05 0 2.83L4 21.41c.39.39.9.59 1.41.59.51 0 1.02-.2 1.41-.59l7.78-7.78 2.81-2.81c.8-.78.8-2.07 0-2.86zM5.41 20L4 18.59l7.72-7.72 1.47 1.35L5.41 20z\"/>\n",
              "  </svg>\n",
              "      </button>\n",
              "      \n",
              "  <style>\n",
              "    .colab-df-container {\n",
              "      display:flex;\n",
              "      flex-wrap:wrap;\n",
              "      gap: 12px;\n",
              "    }\n",
              "\n",
              "    .colab-df-convert {\n",
              "      background-color: #E8F0FE;\n",
              "      border: none;\n",
              "      border-radius: 50%;\n",
              "      cursor: pointer;\n",
              "      display: none;\n",
              "      fill: #1967D2;\n",
              "      height: 32px;\n",
              "      padding: 0 0 0 0;\n",
              "      width: 32px;\n",
              "    }\n",
              "\n",
              "    .colab-df-convert:hover {\n",
              "      background-color: #E2EBFA;\n",
              "      box-shadow: 0px 1px 2px rgba(60, 64, 67, 0.3), 0px 1px 3px 1px rgba(60, 64, 67, 0.15);\n",
              "      fill: #174EA6;\n",
              "    }\n",
              "\n",
              "    [theme=dark] .colab-df-convert {\n",
              "      background-color: #3B4455;\n",
              "      fill: #D2E3FC;\n",
              "    }\n",
              "\n",
              "    [theme=dark] .colab-df-convert:hover {\n",
              "      background-color: #434B5C;\n",
              "      box-shadow: 0px 1px 3px 1px rgba(0, 0, 0, 0.15);\n",
              "      filter: drop-shadow(0px 1px 2px rgba(0, 0, 0, 0.3));\n",
              "      fill: #FFFFFF;\n",
              "    }\n",
              "  </style>\n",
              "\n",
              "      <script>\n",
              "        const buttonEl =\n",
              "          document.querySelector('#df-ffac2195-4d25-449d-8056-33963f026219 button.colab-df-convert');\n",
              "        buttonEl.style.display =\n",
              "          google.colab.kernel.accessAllowed ? 'block' : 'none';\n",
              "\n",
              "        async function convertToInteractive(key) {\n",
              "          const element = document.querySelector('#df-ffac2195-4d25-449d-8056-33963f026219');\n",
              "          const dataTable =\n",
              "            await google.colab.kernel.invokeFunction('convertToInteractive',\n",
              "                                                     [key], {});\n",
              "          if (!dataTable) return;\n",
              "\n",
              "          const docLinkHtml = 'Like what you see? Visit the ' +\n",
              "            '<a target=\"_blank\" href=https://colab.research.google.com/notebooks/data_table.ipynb>data table notebook</a>'\n",
              "            + ' to learn more about interactive tables.';\n",
              "          element.innerHTML = '';\n",
              "          dataTable['output_type'] = 'display_data';\n",
              "          await google.colab.output.renderOutput(dataTable, element);\n",
              "          const docLink = document.createElement('div');\n",
              "          docLink.innerHTML = docLinkHtml;\n",
              "          element.appendChild(docLink);\n",
              "        }\n",
              "      </script>\n",
              "    </div>\n",
              "  </div>\n",
              "  "
            ],
            "text/plain": [
              "  MovieID             Title                       Genres UserID Rating  \\\n",
              "0       1  Toy Story (1995)  Animation|Children's|Comedy      1      5   \n",
              "1       1  Toy Story (1995)  Animation|Children's|Comedy      6      4   \n",
              "2       1  Toy Story (1995)  Animation|Children's|Comedy      8      4   \n",
              "\n",
              "   Timestamp  \n",
              "0  978824268  \n",
              "1  978237008  \n",
              "2  978233496  "
            ]
          },
          "execution_count": 134,
          "metadata": {},
          "output_type": "execute_result"
        }
      ],
      "source": [
        "df = pd.merge(movies, ratings, how='inner', on='MovieID')\n",
        "df.head(3)"
      ]
    },
    {
      "cell_type": "code",
      "execution_count": null,
      "metadata": {
        "colab": {
          "base_uri": "https://localhost:8080/"
        },
        "id": "OZHGG4pslY6G",
        "outputId": "01d29108-cb1e-422c-d6bf-cc4e19db78a2"
      },
      "outputs": [
        {
          "data": {
            "text/plain": [
              "(1000209, 6)"
            ]
          },
          "execution_count": 22,
          "metadata": {},
          "output_type": "execute_result"
        }
      ],
      "source": [
        "df.shape"
      ]
    },
    {
      "cell_type": "markdown",
      "metadata": {
        "id": "pW0u_1W0lVcU"
      },
      "source": [
        "**movies + ratings + users**"
      ]
    },
    {
      "cell_type": "code",
      "execution_count": null,
      "metadata": {
        "colab": {
          "base_uri": "https://localhost:8080/",
          "height": 143
        },
        "id": "Lxiq3HaTlX7w",
        "outputId": "5cfee140-bcf4-450a-89df-485ee779bf42"
      },
      "outputs": [
        {
          "data": {
            "text/html": [
              "\n",
              "  <div id=\"df-1115536f-9da7-41de-9b40-5fdd47942a64\">\n",
              "    <div class=\"colab-df-container\">\n",
              "      <div>\n",
              "<style scoped>\n",
              "    .dataframe tbody tr th:only-of-type {\n",
              "        vertical-align: middle;\n",
              "    }\n",
              "\n",
              "    .dataframe tbody tr th {\n",
              "        vertical-align: top;\n",
              "    }\n",
              "\n",
              "    .dataframe thead th {\n",
              "        text-align: right;\n",
              "    }\n",
              "</style>\n",
              "<table border=\"1\" class=\"dataframe\">\n",
              "  <thead>\n",
              "    <tr style=\"text-align: right;\">\n",
              "      <th></th>\n",
              "      <th>MovieID</th>\n",
              "      <th>Title</th>\n",
              "      <th>Genres</th>\n",
              "      <th>UserID</th>\n",
              "      <th>Rating</th>\n",
              "      <th>Timestamp</th>\n",
              "      <th>Gender</th>\n",
              "      <th>Age</th>\n",
              "      <th>Occupation</th>\n",
              "      <th>Zip-code</th>\n",
              "    </tr>\n",
              "  </thead>\n",
              "  <tbody>\n",
              "    <tr>\n",
              "      <th>0</th>\n",
              "      <td>1</td>\n",
              "      <td>Toy Story (1995)</td>\n",
              "      <td>Animation|Children's|Comedy</td>\n",
              "      <td>1</td>\n",
              "      <td>5</td>\n",
              "      <td>978824268</td>\n",
              "      <td>F</td>\n",
              "      <td>1</td>\n",
              "      <td>10</td>\n",
              "      <td>48067</td>\n",
              "    </tr>\n",
              "    <tr>\n",
              "      <th>1</th>\n",
              "      <td>48</td>\n",
              "      <td>Pocahontas (1995)</td>\n",
              "      <td>Animation|Children's|Musical|Romance</td>\n",
              "      <td>1</td>\n",
              "      <td>5</td>\n",
              "      <td>978824351</td>\n",
              "      <td>F</td>\n",
              "      <td>1</td>\n",
              "      <td>10</td>\n",
              "      <td>48067</td>\n",
              "    </tr>\n",
              "    <tr>\n",
              "      <th>2</th>\n",
              "      <td>150</td>\n",
              "      <td>Apollo 13 (1995)</td>\n",
              "      <td>Drama</td>\n",
              "      <td>1</td>\n",
              "      <td>5</td>\n",
              "      <td>978301777</td>\n",
              "      <td>F</td>\n",
              "      <td>1</td>\n",
              "      <td>10</td>\n",
              "      <td>48067</td>\n",
              "    </tr>\n",
              "  </tbody>\n",
              "</table>\n",
              "</div>\n",
              "      <button class=\"colab-df-convert\" onclick=\"convertToInteractive('df-1115536f-9da7-41de-9b40-5fdd47942a64')\"\n",
              "              title=\"Convert this dataframe to an interactive table.\"\n",
              "              style=\"display:none;\">\n",
              "        \n",
              "  <svg xmlns=\"http://www.w3.org/2000/svg\" height=\"24px\"viewBox=\"0 0 24 24\"\n",
              "       width=\"24px\">\n",
              "    <path d=\"M0 0h24v24H0V0z\" fill=\"none\"/>\n",
              "    <path d=\"M18.56 5.44l.94 2.06.94-2.06 2.06-.94-2.06-.94-.94-2.06-.94 2.06-2.06.94zm-11 1L8.5 8.5l.94-2.06 2.06-.94-2.06-.94L8.5 2.5l-.94 2.06-2.06.94zm10 10l.94 2.06.94-2.06 2.06-.94-2.06-.94-.94-2.06-.94 2.06-2.06.94z\"/><path d=\"M17.41 7.96l-1.37-1.37c-.4-.4-.92-.59-1.43-.59-.52 0-1.04.2-1.43.59L10.3 9.45l-7.72 7.72c-.78.78-.78 2.05 0 2.83L4 21.41c.39.39.9.59 1.41.59.51 0 1.02-.2 1.41-.59l7.78-7.78 2.81-2.81c.8-.78.8-2.07 0-2.86zM5.41 20L4 18.59l7.72-7.72 1.47 1.35L5.41 20z\"/>\n",
              "  </svg>\n",
              "      </button>\n",
              "      \n",
              "  <style>\n",
              "    .colab-df-container {\n",
              "      display:flex;\n",
              "      flex-wrap:wrap;\n",
              "      gap: 12px;\n",
              "    }\n",
              "\n",
              "    .colab-df-convert {\n",
              "      background-color: #E8F0FE;\n",
              "      border: none;\n",
              "      border-radius: 50%;\n",
              "      cursor: pointer;\n",
              "      display: none;\n",
              "      fill: #1967D2;\n",
              "      height: 32px;\n",
              "      padding: 0 0 0 0;\n",
              "      width: 32px;\n",
              "    }\n",
              "\n",
              "    .colab-df-convert:hover {\n",
              "      background-color: #E2EBFA;\n",
              "      box-shadow: 0px 1px 2px rgba(60, 64, 67, 0.3), 0px 1px 3px 1px rgba(60, 64, 67, 0.15);\n",
              "      fill: #174EA6;\n",
              "    }\n",
              "\n",
              "    [theme=dark] .colab-df-convert {\n",
              "      background-color: #3B4455;\n",
              "      fill: #D2E3FC;\n",
              "    }\n",
              "\n",
              "    [theme=dark] .colab-df-convert:hover {\n",
              "      background-color: #434B5C;\n",
              "      box-shadow: 0px 1px 3px 1px rgba(0, 0, 0, 0.15);\n",
              "      filter: drop-shadow(0px 1px 2px rgba(0, 0, 0, 0.3));\n",
              "      fill: #FFFFFF;\n",
              "    }\n",
              "  </style>\n",
              "\n",
              "      <script>\n",
              "        const buttonEl =\n",
              "          document.querySelector('#df-1115536f-9da7-41de-9b40-5fdd47942a64 button.colab-df-convert');\n",
              "        buttonEl.style.display =\n",
              "          google.colab.kernel.accessAllowed ? 'block' : 'none';\n",
              "\n",
              "        async function convertToInteractive(key) {\n",
              "          const element = document.querySelector('#df-1115536f-9da7-41de-9b40-5fdd47942a64');\n",
              "          const dataTable =\n",
              "            await google.colab.kernel.invokeFunction('convertToInteractive',\n",
              "                                                     [key], {});\n",
              "          if (!dataTable) return;\n",
              "\n",
              "          const docLinkHtml = 'Like what you see? Visit the ' +\n",
              "            '<a target=\"_blank\" href=https://colab.research.google.com/notebooks/data_table.ipynb>data table notebook</a>'\n",
              "            + ' to learn more about interactive tables.';\n",
              "          element.innerHTML = '';\n",
              "          dataTable['output_type'] = 'display_data';\n",
              "          await google.colab.output.renderOutput(dataTable, element);\n",
              "          const docLink = document.createElement('div');\n",
              "          docLink.innerHTML = docLinkHtml;\n",
              "          element.appendChild(docLink);\n",
              "        }\n",
              "      </script>\n",
              "    </div>\n",
              "  </div>\n",
              "  "
            ],
            "text/plain": [
              "  MovieID              Title                                Genres UserID  \\\n",
              "0       1   Toy Story (1995)           Animation|Children's|Comedy      1   \n",
              "1      48  Pocahontas (1995)  Animation|Children's|Musical|Romance      1   \n",
              "2     150   Apollo 13 (1995)                                 Drama      1   \n",
              "\n",
              "  Rating  Timestamp Gender Age Occupation Zip-code  \n",
              "0      5  978824268      F   1         10    48067  \n",
              "1      5  978824351      F   1         10    48067  \n",
              "2      5  978301777      F   1         10    48067  "
            ]
          },
          "execution_count": 135,
          "metadata": {},
          "output_type": "execute_result"
        }
      ],
      "source": [
        "df = pd.merge(df, users, how='inner', on='UserID')\n",
        "df.head(3)"
      ]
    },
    {
      "cell_type": "code",
      "execution_count": null,
      "metadata": {
        "colab": {
          "base_uri": "https://localhost:8080/"
        },
        "id": "Prgv8MBflwRu",
        "outputId": "6cb3383d-2160-460c-c5b9-4ac953a2bf1a"
      },
      "outputs": [
        {
          "data": {
            "text/plain": [
              "(1000209, 10)"
            ]
          },
          "execution_count": 24,
          "metadata": {},
          "output_type": "execute_result"
        }
      ],
      "source": [
        "df.shape"
      ]
    },
    {
      "cell_type": "markdown",
      "metadata": {
        "id": "ktkeS56RmWw8"
      },
      "source": [
        "__Summary:__\n",
        "\n",
        "- The datasets have been merged into one single dataframe\n",
        "- The final dataframe consists of 1000209 rows, and 10 columns. "
      ]
    },
    {
      "cell_type": "markdown",
      "metadata": {
        "id": "X18vSE0B0IZI"
      },
      "source": [
        "## Some basic checks\n"
      ]
    },
    {
      "cell_type": "markdown",
      "metadata": {
        "id": "2dwc7Iv0mIMf"
      },
      "source": [
        "### Basic Summaries"
      ]
    },
    {
      "cell_type": "markdown",
      "metadata": {
        "id": "hg-Pevh-nkuA"
      },
      "source": [
        "**Shape of Data**"
      ]
    },
    {
      "cell_type": "code",
      "execution_count": null,
      "metadata": {
        "colab": {
          "base_uri": "https://localhost:8080/"
        },
        "id": "aT1FvVA0l_kn",
        "outputId": "14960f84-40c7-41bb-da0d-100984df76b3"
      },
      "outputs": [
        {
          "name": "stdout",
          "output_type": "stream",
          "text": [
            "No. of rows: 1000209\n",
            "No. of columns: 10\n"
          ]
        }
      ],
      "source": [
        "print(f'No. of rows: {df.shape[0]}')\n",
        "print(f'No. of columns: {df.shape[1]}')"
      ]
    },
    {
      "cell_type": "markdown",
      "metadata": {
        "id": "cALvGBHWpS0R"
      },
      "source": [
        "__Column names:__"
      ]
    },
    {
      "cell_type": "code",
      "execution_count": null,
      "metadata": {
        "colab": {
          "base_uri": "https://localhost:8080/"
        },
        "id": "2wacvzd3pWLm",
        "outputId": "46e422e0-1b17-48ef-96ab-926d2365b8b7"
      },
      "outputs": [
        {
          "data": {
            "text/plain": [
              "Index(['MovieID', 'Title', 'Genres', 'UserID', 'Rating', 'Timestamp', 'Gender',\n",
              "       'Age', 'Occupation', 'Zip-code'],\n",
              "      dtype='object')"
            ]
          },
          "execution_count": 26,
          "metadata": {},
          "output_type": "execute_result"
        }
      ],
      "source": [
        "df.columns"
      ]
    },
    {
      "cell_type": "markdown",
      "metadata": {
        "id": "YIb2c4bupeU3"
      },
      "source": [
        "__Checking the data types of the columns__"
      ]
    },
    {
      "cell_type": "code",
      "execution_count": null,
      "metadata": {
        "colab": {
          "base_uri": "https://localhost:8080/"
        },
        "id": "Aius4MQIpC6A",
        "outputId": "db7a09a4-b79a-410e-d392-60ba0f91ff4a"
      },
      "outputs": [
        {
          "name": "stdout",
          "output_type": "stream",
          "text": [
            "<class 'pandas.core.frame.DataFrame'>\n",
            "Int64Index: 1000209 entries, 0 to 1000208\n",
            "Data columns (total 10 columns):\n",
            " #   Column      Non-Null Count    Dtype \n",
            "---  ------      --------------    ----- \n",
            " 0   MovieID     1000209 non-null  object\n",
            " 1   Title       1000209 non-null  object\n",
            " 2   Genres      996144 non-null   object\n",
            " 3   UserID      1000209 non-null  object\n",
            " 4   Rating      1000209 non-null  object\n",
            " 5   Timestamp   1000209 non-null  object\n",
            " 6   Gender      1000209 non-null  object\n",
            " 7   Age         1000209 non-null  object\n",
            " 8   Occupation  1000209 non-null  object\n",
            " 9   Zip-code    1000209 non-null  object\n",
            "dtypes: object(10)\n",
            "memory usage: 83.9+ MB\n"
          ]
        }
      ],
      "source": [
        "df.info()"
      ]
    },
    {
      "cell_type": "markdown",
      "metadata": {
        "id": "A7FvcQGUtuq1"
      },
      "source": [
        "__Summary__\n",
        "\n",
        "- We have 1000209 rows, and 10 columns\n",
        "- All the attributes are of type `object`\n"
      ]
    },
    {
      "cell_type": "markdown",
      "metadata": {
        "id": "_BBDpxr8Q45q"
      },
      "source": [
        "### Checking duplicate rows"
      ]
    },
    {
      "cell_type": "code",
      "execution_count": null,
      "metadata": {
        "colab": {
          "base_uri": "https://localhost:8080/",
          "height": 49
        },
        "id": "TzM58NYDQ4Gn",
        "outputId": "c55b7754-c73c-47fc-f534-6ea8d4d5bfa6"
      },
      "outputs": [
        {
          "data": {
            "text/html": [
              "\n",
              "  <div id=\"df-887d087e-028f-491c-a191-26ec50f67982\">\n",
              "    <div class=\"colab-df-container\">\n",
              "      <div>\n",
              "<style scoped>\n",
              "    .dataframe tbody tr th:only-of-type {\n",
              "        vertical-align: middle;\n",
              "    }\n",
              "\n",
              "    .dataframe tbody tr th {\n",
              "        vertical-align: top;\n",
              "    }\n",
              "\n",
              "    .dataframe thead th {\n",
              "        text-align: right;\n",
              "    }\n",
              "</style>\n",
              "<table border=\"1\" class=\"dataframe\">\n",
              "  <thead>\n",
              "    <tr style=\"text-align: right;\">\n",
              "      <th></th>\n",
              "      <th>MovieID</th>\n",
              "      <th>Title</th>\n",
              "      <th>Genres</th>\n",
              "      <th>UserID</th>\n",
              "      <th>Rating</th>\n",
              "      <th>Timestamp</th>\n",
              "      <th>Gender</th>\n",
              "      <th>Age</th>\n",
              "      <th>Occupation</th>\n",
              "      <th>Zip-code</th>\n",
              "    </tr>\n",
              "  </thead>\n",
              "  <tbody>\n",
              "  </tbody>\n",
              "</table>\n",
              "</div>\n",
              "      <button class=\"colab-df-convert\" onclick=\"convertToInteractive('df-887d087e-028f-491c-a191-26ec50f67982')\"\n",
              "              title=\"Convert this dataframe to an interactive table.\"\n",
              "              style=\"display:none;\">\n",
              "        \n",
              "  <svg xmlns=\"http://www.w3.org/2000/svg\" height=\"24px\"viewBox=\"0 0 24 24\"\n",
              "       width=\"24px\">\n",
              "    <path d=\"M0 0h24v24H0V0z\" fill=\"none\"/>\n",
              "    <path d=\"M18.56 5.44l.94 2.06.94-2.06 2.06-.94-2.06-.94-.94-2.06-.94 2.06-2.06.94zm-11 1L8.5 8.5l.94-2.06 2.06-.94-2.06-.94L8.5 2.5l-.94 2.06-2.06.94zm10 10l.94 2.06.94-2.06 2.06-.94-2.06-.94-.94-2.06-.94 2.06-2.06.94z\"/><path d=\"M17.41 7.96l-1.37-1.37c-.4-.4-.92-.59-1.43-.59-.52 0-1.04.2-1.43.59L10.3 9.45l-7.72 7.72c-.78.78-.78 2.05 0 2.83L4 21.41c.39.39.9.59 1.41.59.51 0 1.02-.2 1.41-.59l7.78-7.78 2.81-2.81c.8-.78.8-2.07 0-2.86zM5.41 20L4 18.59l7.72-7.72 1.47 1.35L5.41 20z\"/>\n",
              "  </svg>\n",
              "      </button>\n",
              "      \n",
              "  <style>\n",
              "    .colab-df-container {\n",
              "      display:flex;\n",
              "      flex-wrap:wrap;\n",
              "      gap: 12px;\n",
              "    }\n",
              "\n",
              "    .colab-df-convert {\n",
              "      background-color: #E8F0FE;\n",
              "      border: none;\n",
              "      border-radius: 50%;\n",
              "      cursor: pointer;\n",
              "      display: none;\n",
              "      fill: #1967D2;\n",
              "      height: 32px;\n",
              "      padding: 0 0 0 0;\n",
              "      width: 32px;\n",
              "    }\n",
              "\n",
              "    .colab-df-convert:hover {\n",
              "      background-color: #E2EBFA;\n",
              "      box-shadow: 0px 1px 2px rgba(60, 64, 67, 0.3), 0px 1px 3px 1px rgba(60, 64, 67, 0.15);\n",
              "      fill: #174EA6;\n",
              "    }\n",
              "\n",
              "    [theme=dark] .colab-df-convert {\n",
              "      background-color: #3B4455;\n",
              "      fill: #D2E3FC;\n",
              "    }\n",
              "\n",
              "    [theme=dark] .colab-df-convert:hover {\n",
              "      background-color: #434B5C;\n",
              "      box-shadow: 0px 1px 3px 1px rgba(0, 0, 0, 0.15);\n",
              "      filter: drop-shadow(0px 1px 2px rgba(0, 0, 0, 0.3));\n",
              "      fill: #FFFFFF;\n",
              "    }\n",
              "  </style>\n",
              "\n",
              "      <script>\n",
              "        const buttonEl =\n",
              "          document.querySelector('#df-887d087e-028f-491c-a191-26ec50f67982 button.colab-df-convert');\n",
              "        buttonEl.style.display =\n",
              "          google.colab.kernel.accessAllowed ? 'block' : 'none';\n",
              "\n",
              "        async function convertToInteractive(key) {\n",
              "          const element = document.querySelector('#df-887d087e-028f-491c-a191-26ec50f67982');\n",
              "          const dataTable =\n",
              "            await google.colab.kernel.invokeFunction('convertToInteractive',\n",
              "                                                     [key], {});\n",
              "          if (!dataTable) return;\n",
              "\n",
              "          const docLinkHtml = 'Like what you see? Visit the ' +\n",
              "            '<a target=\"_blank\" href=https://colab.research.google.com/notebooks/data_table.ipynb>data table notebook</a>'\n",
              "            + ' to learn more about interactive tables.';\n",
              "          element.innerHTML = '';\n",
              "          dataTable['output_type'] = 'display_data';\n",
              "          await google.colab.output.renderOutput(dataTable, element);\n",
              "          const docLink = document.createElement('div');\n",
              "          docLink.innerHTML = docLinkHtml;\n",
              "          element.appendChild(docLink);\n",
              "        }\n",
              "      </script>\n",
              "    </div>\n",
              "  </div>\n",
              "  "
            ],
            "text/plain": [
              "Empty DataFrame\n",
              "Columns: [MovieID, Title, Genres, UserID, Rating, Timestamp, Gender, Age, Occupation, Zip-code]\n",
              "Index: []"
            ]
          },
          "execution_count": 28,
          "metadata": {},
          "output_type": "execute_result"
        }
      ],
      "source": [
        "duplicate = df[df.duplicated(keep = 'last')]\n",
        "duplicate"
      ]
    },
    {
      "cell_type": "markdown",
      "metadata": {
        "id": "iy5mlZ3yRKSc"
      },
      "source": [
        "__Findings:__\n",
        "- There are no duplicate rows in the dataset"
      ]
    },
    {
      "cell_type": "markdown",
      "metadata": {
        "id": "s61iig6N3yqo"
      },
      "source": [
        "### Fixing any discrepansies in dtype"
      ]
    },
    {
      "cell_type": "code",
      "execution_count": null,
      "metadata": {
        "colab": {
          "base_uri": "https://localhost:8080/",
          "height": 143
        },
        "id": "GOYC3tZJtW7H",
        "outputId": "9c7660e4-4cf5-4664-9a09-d08b98c1af47"
      },
      "outputs": [
        {
          "data": {
            "text/html": [
              "\n",
              "  <div id=\"df-d34dd580-aa7c-4d3d-bd40-2824a30e6a0d\">\n",
              "    <div class=\"colab-df-container\">\n",
              "      <div>\n",
              "<style scoped>\n",
              "    .dataframe tbody tr th:only-of-type {\n",
              "        vertical-align: middle;\n",
              "    }\n",
              "\n",
              "    .dataframe tbody tr th {\n",
              "        vertical-align: top;\n",
              "    }\n",
              "\n",
              "    .dataframe thead th {\n",
              "        text-align: right;\n",
              "    }\n",
              "</style>\n",
              "<table border=\"1\" class=\"dataframe\">\n",
              "  <thead>\n",
              "    <tr style=\"text-align: right;\">\n",
              "      <th></th>\n",
              "      <th>MovieID</th>\n",
              "      <th>Title</th>\n",
              "      <th>Genres</th>\n",
              "      <th>UserID</th>\n",
              "      <th>Rating</th>\n",
              "      <th>Timestamp</th>\n",
              "      <th>Gender</th>\n",
              "      <th>Age</th>\n",
              "      <th>Occupation</th>\n",
              "      <th>Zip-code</th>\n",
              "    </tr>\n",
              "  </thead>\n",
              "  <tbody>\n",
              "    <tr>\n",
              "      <th>510064</th>\n",
              "      <td>3408</td>\n",
              "      <td>Erin Brockovich (2000)</td>\n",
              "      <td>Drama</td>\n",
              "      <td>5319</td>\n",
              "      <td>3</td>\n",
              "      <td>988241548</td>\n",
              "      <td>M</td>\n",
              "      <td>18</td>\n",
              "      <td>17</td>\n",
              "      <td>94941</td>\n",
              "    </tr>\n",
              "    <tr>\n",
              "      <th>881318</th>\n",
              "      <td>36</td>\n",
              "      <td>Dead Man Walking (1995)</td>\n",
              "      <td>Drama</td>\n",
              "      <td>2726</td>\n",
              "      <td>5</td>\n",
              "      <td>973268131</td>\n",
              "      <td>M</td>\n",
              "      <td>45</td>\n",
              "      <td>11</td>\n",
              "      <td>02155</td>\n",
              "    </tr>\n",
              "    <tr>\n",
              "      <th>172120</th>\n",
              "      <td>2796</td>\n",
              "      <td>Funny Farm (1988)</td>\n",
              "      <td>Comedy</td>\n",
              "      <td>1737</td>\n",
              "      <td>4</td>\n",
              "      <td>974707313</td>\n",
              "      <td>M</td>\n",
              "      <td>35</td>\n",
              "      <td>20</td>\n",
              "      <td>46614</td>\n",
              "    </tr>\n",
              "  </tbody>\n",
              "</table>\n",
              "</div>\n",
              "      <button class=\"colab-df-convert\" onclick=\"convertToInteractive('df-d34dd580-aa7c-4d3d-bd40-2824a30e6a0d')\"\n",
              "              title=\"Convert this dataframe to an interactive table.\"\n",
              "              style=\"display:none;\">\n",
              "        \n",
              "  <svg xmlns=\"http://www.w3.org/2000/svg\" height=\"24px\"viewBox=\"0 0 24 24\"\n",
              "       width=\"24px\">\n",
              "    <path d=\"M0 0h24v24H0V0z\" fill=\"none\"/>\n",
              "    <path d=\"M18.56 5.44l.94 2.06.94-2.06 2.06-.94-2.06-.94-.94-2.06-.94 2.06-2.06.94zm-11 1L8.5 8.5l.94-2.06 2.06-.94-2.06-.94L8.5 2.5l-.94 2.06-2.06.94zm10 10l.94 2.06.94-2.06 2.06-.94-2.06-.94-.94-2.06-.94 2.06-2.06.94z\"/><path d=\"M17.41 7.96l-1.37-1.37c-.4-.4-.92-.59-1.43-.59-.52 0-1.04.2-1.43.59L10.3 9.45l-7.72 7.72c-.78.78-.78 2.05 0 2.83L4 21.41c.39.39.9.59 1.41.59.51 0 1.02-.2 1.41-.59l7.78-7.78 2.81-2.81c.8-.78.8-2.07 0-2.86zM5.41 20L4 18.59l7.72-7.72 1.47 1.35L5.41 20z\"/>\n",
              "  </svg>\n",
              "      </button>\n",
              "      \n",
              "  <style>\n",
              "    .colab-df-container {\n",
              "      display:flex;\n",
              "      flex-wrap:wrap;\n",
              "      gap: 12px;\n",
              "    }\n",
              "\n",
              "    .colab-df-convert {\n",
              "      background-color: #E8F0FE;\n",
              "      border: none;\n",
              "      border-radius: 50%;\n",
              "      cursor: pointer;\n",
              "      display: none;\n",
              "      fill: #1967D2;\n",
              "      height: 32px;\n",
              "      padding: 0 0 0 0;\n",
              "      width: 32px;\n",
              "    }\n",
              "\n",
              "    .colab-df-convert:hover {\n",
              "      background-color: #E2EBFA;\n",
              "      box-shadow: 0px 1px 2px rgba(60, 64, 67, 0.3), 0px 1px 3px 1px rgba(60, 64, 67, 0.15);\n",
              "      fill: #174EA6;\n",
              "    }\n",
              "\n",
              "    [theme=dark] .colab-df-convert {\n",
              "      background-color: #3B4455;\n",
              "      fill: #D2E3FC;\n",
              "    }\n",
              "\n",
              "    [theme=dark] .colab-df-convert:hover {\n",
              "      background-color: #434B5C;\n",
              "      box-shadow: 0px 1px 3px 1px rgba(0, 0, 0, 0.15);\n",
              "      filter: drop-shadow(0px 1px 2px rgba(0, 0, 0, 0.3));\n",
              "      fill: #FFFFFF;\n",
              "    }\n",
              "  </style>\n",
              "\n",
              "      <script>\n",
              "        const buttonEl =\n",
              "          document.querySelector('#df-d34dd580-aa7c-4d3d-bd40-2824a30e6a0d button.colab-df-convert');\n",
              "        buttonEl.style.display =\n",
              "          google.colab.kernel.accessAllowed ? 'block' : 'none';\n",
              "\n",
              "        async function convertToInteractive(key) {\n",
              "          const element = document.querySelector('#df-d34dd580-aa7c-4d3d-bd40-2824a30e6a0d');\n",
              "          const dataTable =\n",
              "            await google.colab.kernel.invokeFunction('convertToInteractive',\n",
              "                                                     [key], {});\n",
              "          if (!dataTable) return;\n",
              "\n",
              "          const docLinkHtml = 'Like what you see? Visit the ' +\n",
              "            '<a target=\"_blank\" href=https://colab.research.google.com/notebooks/data_table.ipynb>data table notebook</a>'\n",
              "            + ' to learn more about interactive tables.';\n",
              "          element.innerHTML = '';\n",
              "          dataTable['output_type'] = 'display_data';\n",
              "          await google.colab.output.renderOutput(dataTable, element);\n",
              "          const docLink = document.createElement('div');\n",
              "          docLink.innerHTML = docLinkHtml;\n",
              "          element.appendChild(docLink);\n",
              "        }\n",
              "      </script>\n",
              "    </div>\n",
              "  </div>\n",
              "  "
            ],
            "text/plain": [
              "       MovieID                    Title  Genres UserID Rating  Timestamp  \\\n",
              "510064    3408   Erin Brockovich (2000)   Drama   5319      3  988241548   \n",
              "881318      36  Dead Man Walking (1995)   Drama   2726      5  973268131   \n",
              "172120    2796        Funny Farm (1988)  Comedy   1737      4  974707313   \n",
              "\n",
              "       Gender Age Occupation Zip-code  \n",
              "510064      M  18         17    94941  \n",
              "881318      M  45         11    02155  \n",
              "172120      M  35         20    46614  "
            ]
          },
          "execution_count": 30,
          "metadata": {},
          "output_type": "execute_result"
        }
      ],
      "source": [
        "df.select_dtypes('object').sample(3)"
      ]
    },
    {
      "cell_type": "code",
      "execution_count": null,
      "metadata": {
        "colab": {
          "base_uri": "https://localhost:8080/",
          "height": 175
        },
        "id": "J1_l2yabtM1b",
        "outputId": "5051c501-2f2d-44d3-e81a-ee8ad86e991d"
      },
      "outputs": [
        {
          "data": {
            "text/html": [
              "\n",
              "  <div id=\"df-445c9444-54b2-45e3-bf5c-e6c03ce4c5cd\">\n",
              "    <div class=\"colab-df-container\">\n",
              "      <div>\n",
              "<style scoped>\n",
              "    .dataframe tbody tr th:only-of-type {\n",
              "        vertical-align: middle;\n",
              "    }\n",
              "\n",
              "    .dataframe tbody tr th {\n",
              "        vertical-align: top;\n",
              "    }\n",
              "\n",
              "    .dataframe thead th {\n",
              "        text-align: right;\n",
              "    }\n",
              "</style>\n",
              "<table border=\"1\" class=\"dataframe\">\n",
              "  <thead>\n",
              "    <tr style=\"text-align: right;\">\n",
              "      <th></th>\n",
              "      <th>MovieID</th>\n",
              "      <th>Title</th>\n",
              "      <th>Genres</th>\n",
              "      <th>UserID</th>\n",
              "      <th>Rating</th>\n",
              "      <th>Timestamp</th>\n",
              "      <th>Gender</th>\n",
              "      <th>Age</th>\n",
              "      <th>Occupation</th>\n",
              "      <th>Zip-code</th>\n",
              "    </tr>\n",
              "  </thead>\n",
              "  <tbody>\n",
              "    <tr>\n",
              "      <th>count</th>\n",
              "      <td>1000209</td>\n",
              "      <td>1000209</td>\n",
              "      <td>996144</td>\n",
              "      <td>1000209</td>\n",
              "      <td>1000209</td>\n",
              "      <td>1000209</td>\n",
              "      <td>1000209</td>\n",
              "      <td>1000209</td>\n",
              "      <td>1000209</td>\n",
              "      <td>1000209</td>\n",
              "    </tr>\n",
              "    <tr>\n",
              "      <th>unique</th>\n",
              "      <td>3706</td>\n",
              "      <td>3706</td>\n",
              "      <td>358</td>\n",
              "      <td>6040</td>\n",
              "      <td>5</td>\n",
              "      <td>458455</td>\n",
              "      <td>2</td>\n",
              "      <td>7</td>\n",
              "      <td>21</td>\n",
              "      <td>3439</td>\n",
              "    </tr>\n",
              "    <tr>\n",
              "      <th>top</th>\n",
              "      <td>2858</td>\n",
              "      <td>American Beauty (1999)</td>\n",
              "      <td>Comedy</td>\n",
              "      <td>4169</td>\n",
              "      <td>4</td>\n",
              "      <td>975528402</td>\n",
              "      <td>M</td>\n",
              "      <td>25</td>\n",
              "      <td>4</td>\n",
              "      <td>94110</td>\n",
              "    </tr>\n",
              "    <tr>\n",
              "      <th>freq</th>\n",
              "      <td>3428</td>\n",
              "      <td>3428</td>\n",
              "      <td>116691</td>\n",
              "      <td>2314</td>\n",
              "      <td>348971</td>\n",
              "      <td>30</td>\n",
              "      <td>753769</td>\n",
              "      <td>395556</td>\n",
              "      <td>131032</td>\n",
              "      <td>3802</td>\n",
              "    </tr>\n",
              "  </tbody>\n",
              "</table>\n",
              "</div>\n",
              "      <button class=\"colab-df-convert\" onclick=\"convertToInteractive('df-445c9444-54b2-45e3-bf5c-e6c03ce4c5cd')\"\n",
              "              title=\"Convert this dataframe to an interactive table.\"\n",
              "              style=\"display:none;\">\n",
              "        \n",
              "  <svg xmlns=\"http://www.w3.org/2000/svg\" height=\"24px\"viewBox=\"0 0 24 24\"\n",
              "       width=\"24px\">\n",
              "    <path d=\"M0 0h24v24H0V0z\" fill=\"none\"/>\n",
              "    <path d=\"M18.56 5.44l.94 2.06.94-2.06 2.06-.94-2.06-.94-.94-2.06-.94 2.06-2.06.94zm-11 1L8.5 8.5l.94-2.06 2.06-.94-2.06-.94L8.5 2.5l-.94 2.06-2.06.94zm10 10l.94 2.06.94-2.06 2.06-.94-2.06-.94-.94-2.06-.94 2.06-2.06.94z\"/><path d=\"M17.41 7.96l-1.37-1.37c-.4-.4-.92-.59-1.43-.59-.52 0-1.04.2-1.43.59L10.3 9.45l-7.72 7.72c-.78.78-.78 2.05 0 2.83L4 21.41c.39.39.9.59 1.41.59.51 0 1.02-.2 1.41-.59l7.78-7.78 2.81-2.81c.8-.78.8-2.07 0-2.86zM5.41 20L4 18.59l7.72-7.72 1.47 1.35L5.41 20z\"/>\n",
              "  </svg>\n",
              "      </button>\n",
              "      \n",
              "  <style>\n",
              "    .colab-df-container {\n",
              "      display:flex;\n",
              "      flex-wrap:wrap;\n",
              "      gap: 12px;\n",
              "    }\n",
              "\n",
              "    .colab-df-convert {\n",
              "      background-color: #E8F0FE;\n",
              "      border: none;\n",
              "      border-radius: 50%;\n",
              "      cursor: pointer;\n",
              "      display: none;\n",
              "      fill: #1967D2;\n",
              "      height: 32px;\n",
              "      padding: 0 0 0 0;\n",
              "      width: 32px;\n",
              "    }\n",
              "\n",
              "    .colab-df-convert:hover {\n",
              "      background-color: #E2EBFA;\n",
              "      box-shadow: 0px 1px 2px rgba(60, 64, 67, 0.3), 0px 1px 3px 1px rgba(60, 64, 67, 0.15);\n",
              "      fill: #174EA6;\n",
              "    }\n",
              "\n",
              "    [theme=dark] .colab-df-convert {\n",
              "      background-color: #3B4455;\n",
              "      fill: #D2E3FC;\n",
              "    }\n",
              "\n",
              "    [theme=dark] .colab-df-convert:hover {\n",
              "      background-color: #434B5C;\n",
              "      box-shadow: 0px 1px 3px 1px rgba(0, 0, 0, 0.15);\n",
              "      filter: drop-shadow(0px 1px 2px rgba(0, 0, 0, 0.3));\n",
              "      fill: #FFFFFF;\n",
              "    }\n",
              "  </style>\n",
              "\n",
              "      <script>\n",
              "        const buttonEl =\n",
              "          document.querySelector('#df-445c9444-54b2-45e3-bf5c-e6c03ce4c5cd button.colab-df-convert');\n",
              "        buttonEl.style.display =\n",
              "          google.colab.kernel.accessAllowed ? 'block' : 'none';\n",
              "\n",
              "        async function convertToInteractive(key) {\n",
              "          const element = document.querySelector('#df-445c9444-54b2-45e3-bf5c-e6c03ce4c5cd');\n",
              "          const dataTable =\n",
              "            await google.colab.kernel.invokeFunction('convertToInteractive',\n",
              "                                                     [key], {});\n",
              "          if (!dataTable) return;\n",
              "\n",
              "          const docLinkHtml = 'Like what you see? Visit the ' +\n",
              "            '<a target=\"_blank\" href=https://colab.research.google.com/notebooks/data_table.ipynb>data table notebook</a>'\n",
              "            + ' to learn more about interactive tables.';\n",
              "          element.innerHTML = '';\n",
              "          dataTable['output_type'] = 'display_data';\n",
              "          await google.colab.output.renderOutput(dataTable, element);\n",
              "          const docLink = document.createElement('div');\n",
              "          docLink.innerHTML = docLinkHtml;\n",
              "          element.appendChild(docLink);\n",
              "        }\n",
              "      </script>\n",
              "    </div>\n",
              "  </div>\n",
              "  "
            ],
            "text/plain": [
              "        MovieID                   Title  Genres   UserID   Rating  Timestamp  \\\n",
              "count   1000209                 1000209  996144  1000209  1000209    1000209   \n",
              "unique     3706                    3706     358     6040        5     458455   \n",
              "top        2858  American Beauty (1999)  Comedy     4169        4  975528402   \n",
              "freq       3428                    3428  116691     2314   348971         30   \n",
              "\n",
              "         Gender      Age Occupation Zip-code  \n",
              "count   1000209  1000209    1000209  1000209  \n",
              "unique        2        7         21     3439  \n",
              "top           M       25          4    94110  \n",
              "freq     753769   395556     131032     3802  "
            ]
          },
          "execution_count": 37,
          "metadata": {},
          "output_type": "execute_result"
        }
      ],
      "source": [
        "df.describe(include='object')"
      ]
    },
    {
      "cell_type": "markdown",
      "metadata": {
        "id": "iXBVDpuVtgzD"
      },
      "source": [
        "__Findings:__\n",
        "- We have informations for 3706 movies, 1000209 users, and 6040 users\n",
        "- The movies varies across 358 different genres.\n",
        "- Gender, Age, Occupation are very less number of unique values. We can treat them as \"categorical\" features\n",
        "- \"Rating\" should be treated as number\n",
        "- \"Timestamp\" feature is given as Unix timestamp. We will convert it to Datetime.\n"
      ]
    },
    {
      "cell_type": "markdown",
      "metadata": {
        "id": "owtTY1GSuLBJ"
      },
      "source": [
        "__Fixing the dtype:__"
      ]
    },
    {
      "cell_type": "code",
      "execution_count": null,
      "metadata": {
        "colab": {
          "base_uri": "https://localhost:8080/",
          "height": 143
        },
        "id": "w4vPOMASoVlP",
        "outputId": "3e9d3fd7-ae24-4aa4-9a6e-0595c3a55bb7"
      },
      "outputs": [
        {
          "data": {
            "text/html": [
              "\n",
              "  <div id=\"df-0cf564ea-e57f-419b-9ec8-8c8142926152\">\n",
              "    <div class=\"colab-df-container\">\n",
              "      <div>\n",
              "<style scoped>\n",
              "    .dataframe tbody tr th:only-of-type {\n",
              "        vertical-align: middle;\n",
              "    }\n",
              "\n",
              "    .dataframe tbody tr th {\n",
              "        vertical-align: top;\n",
              "    }\n",
              "\n",
              "    .dataframe thead th {\n",
              "        text-align: right;\n",
              "    }\n",
              "</style>\n",
              "<table border=\"1\" class=\"dataframe\">\n",
              "  <thead>\n",
              "    <tr style=\"text-align: right;\">\n",
              "      <th></th>\n",
              "      <th>MovieID</th>\n",
              "      <th>Title</th>\n",
              "      <th>Genres</th>\n",
              "      <th>UserID</th>\n",
              "      <th>Rating</th>\n",
              "      <th>Timestamp</th>\n",
              "      <th>Gender</th>\n",
              "      <th>Age</th>\n",
              "      <th>Occupation</th>\n",
              "      <th>Zip-code</th>\n",
              "      <th>Datetime</th>\n",
              "    </tr>\n",
              "  </thead>\n",
              "  <tbody>\n",
              "    <tr>\n",
              "      <th>8003</th>\n",
              "      <td>2797</td>\n",
              "      <td>Big (1988)</td>\n",
              "      <td>Comedy|Fantasy</td>\n",
              "      <td>132</td>\n",
              "      <td>4</td>\n",
              "      <td>977428729</td>\n",
              "      <td>M</td>\n",
              "      <td>25</td>\n",
              "      <td>17</td>\n",
              "      <td>99709</td>\n",
              "      <td>2000-12-21 19:58:49</td>\n",
              "    </tr>\n",
              "    <tr>\n",
              "      <th>404764</th>\n",
              "      <td>2302</td>\n",
              "      <td>My Cousin Vinny (1992)</td>\n",
              "      <td>Comedy</td>\n",
              "      <td>4140</td>\n",
              "      <td>4</td>\n",
              "      <td>965350724</td>\n",
              "      <td>M</td>\n",
              "      <td>25</td>\n",
              "      <td>0</td>\n",
              "      <td>32112</td>\n",
              "      <td>2000-08-04 00:58:44</td>\n",
              "    </tr>\n",
              "    <tr>\n",
              "      <th>300586</th>\n",
              "      <td>674</td>\n",
              "      <td>Barbarella (1968)</td>\n",
              "      <td>Adventure|Sci-Fi</td>\n",
              "      <td>3272</td>\n",
              "      <td>3</td>\n",
              "      <td>971254935</td>\n",
              "      <td>M</td>\n",
              "      <td>35</td>\n",
              "      <td>0</td>\n",
              "      <td>08330</td>\n",
              "      <td>2000-10-11 09:02:15</td>\n",
              "    </tr>\n",
              "  </tbody>\n",
              "</table>\n",
              "</div>\n",
              "      <button class=\"colab-df-convert\" onclick=\"convertToInteractive('df-0cf564ea-e57f-419b-9ec8-8c8142926152')\"\n",
              "              title=\"Convert this dataframe to an interactive table.\"\n",
              "              style=\"display:none;\">\n",
              "        \n",
              "  <svg xmlns=\"http://www.w3.org/2000/svg\" height=\"24px\"viewBox=\"0 0 24 24\"\n",
              "       width=\"24px\">\n",
              "    <path d=\"M0 0h24v24H0V0z\" fill=\"none\"/>\n",
              "    <path d=\"M18.56 5.44l.94 2.06.94-2.06 2.06-.94-2.06-.94-.94-2.06-.94 2.06-2.06.94zm-11 1L8.5 8.5l.94-2.06 2.06-.94-2.06-.94L8.5 2.5l-.94 2.06-2.06.94zm10 10l.94 2.06.94-2.06 2.06-.94-2.06-.94-.94-2.06-.94 2.06-2.06.94z\"/><path d=\"M17.41 7.96l-1.37-1.37c-.4-.4-.92-.59-1.43-.59-.52 0-1.04.2-1.43.59L10.3 9.45l-7.72 7.72c-.78.78-.78 2.05 0 2.83L4 21.41c.39.39.9.59 1.41.59.51 0 1.02-.2 1.41-.59l7.78-7.78 2.81-2.81c.8-.78.8-2.07 0-2.86zM5.41 20L4 18.59l7.72-7.72 1.47 1.35L5.41 20z\"/>\n",
              "  </svg>\n",
              "      </button>\n",
              "      \n",
              "  <style>\n",
              "    .colab-df-container {\n",
              "      display:flex;\n",
              "      flex-wrap:wrap;\n",
              "      gap: 12px;\n",
              "    }\n",
              "\n",
              "    .colab-df-convert {\n",
              "      background-color: #E8F0FE;\n",
              "      border: none;\n",
              "      border-radius: 50%;\n",
              "      cursor: pointer;\n",
              "      display: none;\n",
              "      fill: #1967D2;\n",
              "      height: 32px;\n",
              "      padding: 0 0 0 0;\n",
              "      width: 32px;\n",
              "    }\n",
              "\n",
              "    .colab-df-convert:hover {\n",
              "      background-color: #E2EBFA;\n",
              "      box-shadow: 0px 1px 2px rgba(60, 64, 67, 0.3), 0px 1px 3px 1px rgba(60, 64, 67, 0.15);\n",
              "      fill: #174EA6;\n",
              "    }\n",
              "\n",
              "    [theme=dark] .colab-df-convert {\n",
              "      background-color: #3B4455;\n",
              "      fill: #D2E3FC;\n",
              "    }\n",
              "\n",
              "    [theme=dark] .colab-df-convert:hover {\n",
              "      background-color: #434B5C;\n",
              "      box-shadow: 0px 1px 3px 1px rgba(0, 0, 0, 0.15);\n",
              "      filter: drop-shadow(0px 1px 2px rgba(0, 0, 0, 0.3));\n",
              "      fill: #FFFFFF;\n",
              "    }\n",
              "  </style>\n",
              "\n",
              "      <script>\n",
              "        const buttonEl =\n",
              "          document.querySelector('#df-0cf564ea-e57f-419b-9ec8-8c8142926152 button.colab-df-convert');\n",
              "        buttonEl.style.display =\n",
              "          google.colab.kernel.accessAllowed ? 'block' : 'none';\n",
              "\n",
              "        async function convertToInteractive(key) {\n",
              "          const element = document.querySelector('#df-0cf564ea-e57f-419b-9ec8-8c8142926152');\n",
              "          const dataTable =\n",
              "            await google.colab.kernel.invokeFunction('convertToInteractive',\n",
              "                                                     [key], {});\n",
              "          if (!dataTable) return;\n",
              "\n",
              "          const docLinkHtml = 'Like what you see? Visit the ' +\n",
              "            '<a target=\"_blank\" href=https://colab.research.google.com/notebooks/data_table.ipynb>data table notebook</a>'\n",
              "            + ' to learn more about interactive tables.';\n",
              "          element.innerHTML = '';\n",
              "          dataTable['output_type'] = 'display_data';\n",
              "          await google.colab.output.renderOutput(dataTable, element);\n",
              "          const docLink = document.createElement('div');\n",
              "          docLink.innerHTML = docLinkHtml;\n",
              "          element.appendChild(docLink);\n",
              "        }\n",
              "      </script>\n",
              "    </div>\n",
              "  </div>\n",
              "  "
            ],
            "text/plain": [
              "       MovieID                   Title            Genres UserID  Rating  \\\n",
              "8003      2797              Big (1988)    Comedy|Fantasy    132       4   \n",
              "404764    2302  My Cousin Vinny (1992)            Comedy   4140       4   \n",
              "300586     674       Barbarella (1968)  Adventure|Sci-Fi   3272       3   \n",
              "\n",
              "        Timestamp Gender Age Occupation Zip-code            Datetime  \n",
              "8003    977428729      M  25         17    99709 2000-12-21 19:58:49  \n",
              "404764  965350724      M  25          0    32112 2000-08-04 00:58:44  \n",
              "300586  971254935      M  35          0    08330 2000-10-11 09:02:15  "
            ]
          },
          "execution_count": 136,
          "metadata": {},
          "output_type": "execute_result"
        }
      ],
      "source": [
        "df['Rating'] = df['Rating'].astype('int32')\n",
        "df['Datetime'] = pd.to_datetime(df['Timestamp'], unit='s')\n",
        "df.sample(3)"
      ]
    },
    {
      "cell_type": "markdown",
      "metadata": {
        "id": "5iIONGCbuLBK"
      },
      "source": [
        "__Summary__\n",
        "\n",
        "- We fixed the incorrect datatypes"
      ]
    },
    {
      "cell_type": "markdown",
      "metadata": {
        "id": "LvBNlAXWjV2a"
      },
      "source": [
        "### Checking missing values"
      ]
    },
    {
      "cell_type": "code",
      "execution_count": null,
      "metadata": {
        "id": "eQb7bZMn4IkG"
      },
      "outputs": [],
      "source": [
        "def missing_val_overview(df):\n",
        "\n",
        "    ## Creating Empty Data Frame\n",
        "    data_info = pd.DataFrame(np.random.randn(0, 5) * 0,\n",
        "                             columns=['No. of Rows with missing values',\n",
        "                                      'No. of columns with zero missing cases',\n",
        "                                      'No. of columns with >0 and <=50% missing cases',\n",
        "                                      'No. of columns with >50% missing cases',\n",
        "                                      'No. of columns with >90% missing cases'])\n",
        "\n",
        "    ## Data Inofrmation\n",
        "    data_info.loc[0, 'No. of Rows with missing values'] = df.isna().any(axis=1).sum()\n",
        "    null_per = pd.DataFrame(df.isna().sum()/df.shape[0])\n",
        "    null_per.columns = ['null_per']\n",
        "    data_info.loc[0, 'No. of columns with zero missing cases']  = null_per[null_per.null_per == 0.0].shape[0] \n",
        "    data_info.loc[0, 'No. of columns with >0 and <=50% missing cases'] = null_per[(null_per.null_per <= 0.50) & (null_per.null_per > 0)].shape[0] \n",
        "    data_info.loc[0, 'No. of columns with >50% missing cases']  = null_per[null_per.null_per > 0.50].shape[0]\n",
        "    data_info.loc[0, 'No. of columns with >90% missing cases']  = null_per[null_per.null_per > 0.90].shape[0]\n",
        "    \n",
        "    ## Transposing Data to get in consumable format\n",
        "    data_info = data_info.transpose()\n",
        "    data_info.columns = ['Value']\n",
        "    data_info['Value'] = data_info['Value'].astype(int)\n",
        "\n",
        "    return data_info"
      ]
    },
    {
      "cell_type": "code",
      "execution_count": null,
      "metadata": {
        "colab": {
          "base_uri": "https://localhost:8080/",
          "height": 206
        },
        "id": "bogaAnGH42mN",
        "outputId": "e699e907-009d-49d3-e327-cf7afb3bcb1f"
      },
      "outputs": [
        {
          "data": {
            "text/html": [
              "\n",
              "  <div id=\"df-3fd72f5c-f89b-4f20-ae61-2cb45bf60025\">\n",
              "    <div class=\"colab-df-container\">\n",
              "      <div>\n",
              "<style scoped>\n",
              "    .dataframe tbody tr th:only-of-type {\n",
              "        vertical-align: middle;\n",
              "    }\n",
              "\n",
              "    .dataframe tbody tr th {\n",
              "        vertical-align: top;\n",
              "    }\n",
              "\n",
              "    .dataframe thead th {\n",
              "        text-align: right;\n",
              "    }\n",
              "</style>\n",
              "<table border=\"1\" class=\"dataframe\">\n",
              "  <thead>\n",
              "    <tr style=\"text-align: right;\">\n",
              "      <th></th>\n",
              "      <th>Value</th>\n",
              "    </tr>\n",
              "  </thead>\n",
              "  <tbody>\n",
              "    <tr>\n",
              "      <th>No. of Rows with missing values</th>\n",
              "      <td>4065</td>\n",
              "    </tr>\n",
              "    <tr>\n",
              "      <th>No. of columns with zero missing cases</th>\n",
              "      <td>10</td>\n",
              "    </tr>\n",
              "    <tr>\n",
              "      <th>No. of columns with &gt;0 and &lt;=50% missing cases</th>\n",
              "      <td>1</td>\n",
              "    </tr>\n",
              "    <tr>\n",
              "      <th>No. of columns with &gt;50% missing cases</th>\n",
              "      <td>0</td>\n",
              "    </tr>\n",
              "    <tr>\n",
              "      <th>No. of columns with &gt;90% missing cases</th>\n",
              "      <td>0</td>\n",
              "    </tr>\n",
              "  </tbody>\n",
              "</table>\n",
              "</div>\n",
              "      <button class=\"colab-df-convert\" onclick=\"convertToInteractive('df-3fd72f5c-f89b-4f20-ae61-2cb45bf60025')\"\n",
              "              title=\"Convert this dataframe to an interactive table.\"\n",
              "              style=\"display:none;\">\n",
              "        \n",
              "  <svg xmlns=\"http://www.w3.org/2000/svg\" height=\"24px\"viewBox=\"0 0 24 24\"\n",
              "       width=\"24px\">\n",
              "    <path d=\"M0 0h24v24H0V0z\" fill=\"none\"/>\n",
              "    <path d=\"M18.56 5.44l.94 2.06.94-2.06 2.06-.94-2.06-.94-.94-2.06-.94 2.06-2.06.94zm-11 1L8.5 8.5l.94-2.06 2.06-.94-2.06-.94L8.5 2.5l-.94 2.06-2.06.94zm10 10l.94 2.06.94-2.06 2.06-.94-2.06-.94-.94-2.06-.94 2.06-2.06.94z\"/><path d=\"M17.41 7.96l-1.37-1.37c-.4-.4-.92-.59-1.43-.59-.52 0-1.04.2-1.43.59L10.3 9.45l-7.72 7.72c-.78.78-.78 2.05 0 2.83L4 21.41c.39.39.9.59 1.41.59.51 0 1.02-.2 1.41-.59l7.78-7.78 2.81-2.81c.8-.78.8-2.07 0-2.86zM5.41 20L4 18.59l7.72-7.72 1.47 1.35L5.41 20z\"/>\n",
              "  </svg>\n",
              "      </button>\n",
              "      \n",
              "  <style>\n",
              "    .colab-df-container {\n",
              "      display:flex;\n",
              "      flex-wrap:wrap;\n",
              "      gap: 12px;\n",
              "    }\n",
              "\n",
              "    .colab-df-convert {\n",
              "      background-color: #E8F0FE;\n",
              "      border: none;\n",
              "      border-radius: 50%;\n",
              "      cursor: pointer;\n",
              "      display: none;\n",
              "      fill: #1967D2;\n",
              "      height: 32px;\n",
              "      padding: 0 0 0 0;\n",
              "      width: 32px;\n",
              "    }\n",
              "\n",
              "    .colab-df-convert:hover {\n",
              "      background-color: #E2EBFA;\n",
              "      box-shadow: 0px 1px 2px rgba(60, 64, 67, 0.3), 0px 1px 3px 1px rgba(60, 64, 67, 0.15);\n",
              "      fill: #174EA6;\n",
              "    }\n",
              "\n",
              "    [theme=dark] .colab-df-convert {\n",
              "      background-color: #3B4455;\n",
              "      fill: #D2E3FC;\n",
              "    }\n",
              "\n",
              "    [theme=dark] .colab-df-convert:hover {\n",
              "      background-color: #434B5C;\n",
              "      box-shadow: 0px 1px 3px 1px rgba(0, 0, 0, 0.15);\n",
              "      filter: drop-shadow(0px 1px 2px rgba(0, 0, 0, 0.3));\n",
              "      fill: #FFFFFF;\n",
              "    }\n",
              "  </style>\n",
              "\n",
              "      <script>\n",
              "        const buttonEl =\n",
              "          document.querySelector('#df-3fd72f5c-f89b-4f20-ae61-2cb45bf60025 button.colab-df-convert');\n",
              "        buttonEl.style.display =\n",
              "          google.colab.kernel.accessAllowed ? 'block' : 'none';\n",
              "\n",
              "        async function convertToInteractive(key) {\n",
              "          const element = document.querySelector('#df-3fd72f5c-f89b-4f20-ae61-2cb45bf60025');\n",
              "          const dataTable =\n",
              "            await google.colab.kernel.invokeFunction('convertToInteractive',\n",
              "                                                     [key], {});\n",
              "          if (!dataTable) return;\n",
              "\n",
              "          const docLinkHtml = 'Like what you see? Visit the ' +\n",
              "            '<a target=\"_blank\" href=https://colab.research.google.com/notebooks/data_table.ipynb>data table notebook</a>'\n",
              "            + ' to learn more about interactive tables.';\n",
              "          element.innerHTML = '';\n",
              "          dataTable['output_type'] = 'display_data';\n",
              "          await google.colab.output.renderOutput(dataTable, element);\n",
              "          const docLink = document.createElement('div');\n",
              "          docLink.innerHTML = docLinkHtml;\n",
              "          element.appendChild(docLink);\n",
              "        }\n",
              "      </script>\n",
              "    </div>\n",
              "  </div>\n",
              "  "
            ],
            "text/plain": [
              "                                                Value\n",
              "No. of Rows with missing values                  4065\n",
              "No. of columns with zero missing cases             10\n",
              "No. of columns with >0 and <=50% missing cases      1\n",
              "No. of columns with >50% missing cases              0\n",
              "No. of columns with >90% missing cases              0"
            ]
          },
          "execution_count": 34,
          "metadata": {},
          "output_type": "execute_result"
        }
      ],
      "source": [
        "missing_val_overview(df)"
      ]
    },
    {
      "cell_type": "markdown",
      "metadata": {
        "id": "YfEwP66iGymV"
      },
      "source": [
        "**Summary**\n",
        "- There is missing values in 1 column"
      ]
    },
    {
      "cell_type": "code",
      "execution_count": null,
      "metadata": {
        "colab": {
          "base_uri": "https://localhost:8080/"
        },
        "id": "n8CxBWAFw9vP",
        "outputId": "ab2e97b2-29e9-4c9b-ee60-c1a92ff046cd"
      },
      "outputs": [
        {
          "data": {
            "text/plain": [
              "MovieID          0\n",
              "Title            0\n",
              "Genres        4065\n",
              "UserID           0\n",
              "Rating           0\n",
              "Timestamp        0\n",
              "Gender           0\n",
              "Age              0\n",
              "Occupation       0\n",
              "Zip-code         0\n",
              "Datetime         0\n",
              "dtype: int64"
            ]
          },
          "execution_count": 35,
          "metadata": {},
          "output_type": "execute_result"
        }
      ],
      "source": [
        "df.isnull().sum()"
      ]
    },
    {
      "cell_type": "markdown",
      "metadata": {
        "id": "qXUhmGSjPivS"
      },
      "source": [
        "__Findings:__\n",
        "- There is missing values in Genres.\n",
        "- We will try to understand why the data is missing in the further analysis"
      ]
    },
    {
      "cell_type": "markdown",
      "metadata": {
        "id": "PZLEAuv1dmR4"
      },
      "source": [
        "# EDA\n",
        "\n",
        "We did some surface scratching and found some basic details. Now we will do in depth exploration of the dataset and try to come up with some possible actionable insights."
      ]
    },
    {
      "cell_type": "code",
      "execution_count": null,
      "metadata": {
        "id": "9FAXEUWBWw5p"
      },
      "outputs": [],
      "source": [
        "def make_categorical_plots(df, feature):\n",
        "    \"\"\"\n",
        "    Method to make univariate categorical plot\n",
        "    \"\"\"\n",
        "\n",
        "    # creating a figure composed of two matplotlib.Axes objects (ax_count and ax_pie)\n",
        "    f, (ax_count, ax_pie) = plt.subplots(nrows=1, ncols=2, figsize=(15,7))\n",
        "    f.suptitle(f'Distribution of {feature}', fontsize=15)\n",
        "\n",
        "    # assigning a graph to each ax\n",
        "    data = df[feature].value_counts()\n",
        "\n",
        "    sns.countplot(data=df, x=feature, order=data.index, ax=ax_count)\n",
        "    if len(data) > 8:\n",
        "        ax_count.set_xticklabels(labels=data.index, rotation=70)\n",
        "\n",
        "    for p in ax_count.patches:\n",
        "        x=p.get_bbox().get_points()[:,0]\n",
        "        y=p.get_bbox().get_points()[1,1]\n",
        "        ax_count.annotate('{}'.format(int(y)), (x.mean(), y), \n",
        "                ha='center', va='bottom')\n",
        "\n",
        "    #customize plot\n",
        "    params = {\n",
        "        'autopct':'%.0f%%',\n",
        "        'startangle': 90,\n",
        "        'radius': 1,\n",
        "        'wedgeprops': {'linewidth': 3},\n",
        "        'explode': (0.01,)*df[feature].nunique(),\n",
        "        'textprops': {'size': 'large'}\n",
        "    }\n",
        "    #create pie chart\n",
        "    ax_pie.pie(data.values, labels = data.index, **params)\n",
        "    plt.show()"
      ]
    },
    {
      "cell_type": "markdown",
      "metadata": {
        "id": "lmsN5MaEf-Il"
      },
      "source": [
        "## Univariate Analysis"
      ]
    },
    {
      "cell_type": "code",
      "execution_count": null,
      "metadata": {
        "colab": {
          "base_uri": "https://localhost:8080/"
        },
        "id": "eAjOpawge4zy",
        "outputId": "27634014-06ae-427c-9c43-21d61aedea25"
      },
      "outputs": [
        {
          "data": {
            "text/plain": [
              "Index(['MovieID', 'Title', 'Genres', 'UserID', 'Rating', 'Timestamp', 'Gender',\n",
              "       'Age', 'Occupation', 'Zip-code', 'Datetime'],\n",
              "      dtype='object')"
            ]
          },
          "execution_count": 37,
          "metadata": {},
          "output_type": "execute_result"
        }
      ],
      "source": [
        "df.columns"
      ]
    },
    {
      "cell_type": "markdown",
      "metadata": {
        "id": "rAiK0tYL_oRi"
      },
      "source": [
        "### Gender"
      ]
    },
    {
      "cell_type": "code",
      "execution_count": null,
      "metadata": {
        "colab": {
          "base_uri": "https://localhost:8080/",
          "height": 493
        },
        "id": "7wvNGwRC_uGa",
        "outputId": "82390a1b-f419-400a-9273-a92560034e42"
      },
      "outputs": [
        {
          "data": {
            "image/png": "[encoded data removed]",
            "text/plain": [
              "<Figure size 1080x504 with 2 Axes>"
            ]
          },
          "metadata": {
            "needs_background": "light"
          },
          "output_type": "display_data"
        }
      ],
      "source": [
        "make_categorical_plots(df, 'Gender')"
      ]
    },
    {
      "cell_type": "markdown",
      "metadata": {
        "id": "ARuJdFFBADXr"
      },
      "source": [
        "__Findings__\n",
        "- 75% of user base is Male\n",
        "- Only 25% of the user base is Female\n"
      ]
    },
    {
      "cell_type": "markdown",
      "metadata": {
        "id": "qf87-q9j_u1k"
      },
      "source": [
        "### Age"
      ]
    },
    {
      "cell_type": "code",
      "execution_count": null,
      "metadata": {
        "colab": {
          "base_uri": "https://localhost:8080/",
          "height": 493
        },
        "id": "WY5IT56GBA6K",
        "outputId": "7156184c-73b0-4b8c-f5fc-b81eec4c4ff9"
      },
      "outputs": [
        {
          "data": {
            "image/png": "[encoded data removed]",
            "text/plain": [
              "<Figure size 1080x504 with 2 Axes>"
            ]
          },
          "metadata": {
            "needs_background": "light"
          },
          "output_type": "display_data"
        }
      ],
      "source": [
        "make_categorical_plots(df, 'Age')"
      ]
    },
    {
      "cell_type": "markdown",
      "metadata": {
        "id": "liOjFD-XBDXG"
      },
      "source": [
        "__Findings__\n",
        "- 40% of the user base belongs to the age group \"25-34\". Followed by the age group \"35-44\" accounting 20% of the user base.\n",
        "- The number of users below the age of 18 is very less."
      ]
    },
    {
      "cell_type": "markdown",
      "metadata": {
        "id": "LyRfTSU0_wij"
      },
      "source": [
        "### Occupation"
      ]
    },
    {
      "cell_type": "code",
      "execution_count": null,
      "metadata": {
        "colab": {
          "base_uri": "https://localhost:8080/",
          "height": 498
        },
        "id": "WURRsGR8CMko",
        "outputId": "8e621613-464f-4287-b913-eac1eb4c9fd4"
      },
      "outputs": [
        {
          "data": {
            "image/png": "[encoded data removed]",
            "text/plain": [
              "<Figure size 1080x504 with 2 Axes>"
            ]
          },
          "metadata": {
            "needs_background": "light"
          },
          "output_type": "display_data"
        }
      ],
      "source": [
        "make_categorical_plots(df, 'Occupation')"
      ]
    },
    {
      "cell_type": "markdown",
      "metadata": {
        "id": "eWhfiFuo_wl1"
      },
      "source": [
        "__Findings__\n",
        "- Majority of the user base are the people with occupation as \"college/grad student\" and \"other\" or not specified\n",
        "- \"farmer\" group has the lowest number of users\n",
        "\n",
        "The mapping for occupation with their indexes are given below:\n"
      ]
    },
    {
      "attachments": {},
      "cell_type": "markdown",
      "metadata": {
        "id": "bkdu-BHbhCBJ"
      },
      "source": [
        "![](![image.png](data:image/png;base64,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))![image.png](data:image/png;base64,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)"
      ]
    },
    {
      "cell_type": "markdown",
      "metadata": {
        "id": "dpQC1u1WhWHo"
      },
      "source": [
        "### Datetime"
      ]
    },
    {
      "cell_type": "code",
      "execution_count": null,
      "metadata": {
        "colab": {
          "base_uri": "https://localhost:8080/"
        },
        "id": "aODRPex5hojr",
        "outputId": "559e43fd-173d-433c-e6a0-3a5f740df682"
      },
      "outputs": [
        {
          "data": {
            "text/plain": [
              "count                 1000209\n",
              "unique                 458455\n",
              "top       2000-11-29 20:06:42\n",
              "freq                       30\n",
              "first     2000-04-25 23:05:32\n",
              "last      2003-02-28 17:49:50\n",
              "Name: Datetime, dtype: object"
            ]
          },
          "execution_count": 44,
          "metadata": {},
          "output_type": "execute_result"
        }
      ],
      "source": [
        "df['Datetime'].describe()"
      ]
    },
    {
      "cell_type": "markdown",
      "metadata": {
        "id": "ihyvFTp5hvWE"
      },
      "source": [
        "__Findings__\n",
        "- Rating data is available from 2000-April-25 to 2003-Feb-28\n",
        "- Highest number of ratings were given on 2000-Nov-29"
      ]
    },
    {
      "cell_type": "markdown",
      "metadata": {
        "id": "yJxdmE5ximMN"
      },
      "source": [
        "### Rating"
      ]
    },
    {
      "cell_type": "code",
      "execution_count": null,
      "metadata": {
        "colab": {
          "base_uri": "https://localhost:8080/",
          "height": 493
        },
        "id": "7d-S-Ra-ilPR",
        "outputId": "b9d2c4ad-97c6-4e54-a313-ced1ad2d9bb6"
      },
      "outputs": [
        {
          "data": {
            "image/png": "[encoded data removed]",
            "text/plain": [
              "<Figure size 1080x504 with 2 Axes>"
            ]
          },
          "metadata": {
            "needs_background": "light"
          },
          "output_type": "display_data"
        }
      ],
      "source": [
        "make_categorical_plots(df, 'Rating')"
      ]
    },
    {
      "cell_type": "markdown",
      "metadata": {
        "id": "PXRhi6h9iro7"
      },
      "source": [
        "__Findings__\n",
        "- 35% of the times, a user rates a movie as 4 star\n",
        "- Only 6% of the times, a user rates a movie as 1 star"
      ]
    },
    {
      "cell_type": "markdown",
      "metadata": {
        "id": "oF0jhoYqjRXB"
      },
      "source": [
        "### Title"
      ]
    },
    {
      "cell_type": "code",
      "execution_count": null,
      "metadata": {
        "colab": {
          "base_uri": "https://localhost:8080/"
        },
        "id": "huCWbt38kG0d",
        "outputId": "7ebed78e-f81e-4cbf-ba4b-29dd5cf6e1f4"
      },
      "outputs": [
        {
          "data": {
            "text/plain": [
              "0                                   Toy Story (1995)\n",
              "1                                  Pocahontas (1995)\n",
              "2                                   Apollo 13 (1995)\n",
              "3          Star Wars: Episode IV - A New Hope (1977)\n",
              "4                            Schindler's List (1993)\n",
              "                             ...                    \n",
              "1000204                   Rules of Engagement (2000)\n",
              "1000205                       American Psycho (2000)\n",
              "1000206                     Keeping the Faith (2000)\n",
              "1000207                                 U-571 (2000)\n",
              "1000208                             Gladiator (2000)\n",
              "Name: Title, Length: 1000209, dtype: object"
            ]
          },
          "execution_count": 137,
          "metadata": {},
          "output_type": "execute_result"
        }
      ],
      "source": [
        "df['Title']"
      ]
    },
    {
      "cell_type": "markdown",
      "metadata": {
        "id": "OUu9lBaWkK_7"
      },
      "source": [
        "__Findings__\n",
        "- This attribute contains the names of the movies\n",
        "- The Year of Release is also included in the title. We can extract the years and make some further analysis."
      ]
    },
    {
      "cell_type": "markdown",
      "metadata": {
        "id": "t9R_HiCWApjG"
      },
      "source": [
        "__Feature Extraction__"
      ]
    },
    {
      "cell_type": "code",
      "execution_count": null,
      "metadata": {
        "colab": {
          "base_uri": "https://localhost:8080/",
          "height": 36
        },
        "id": "qnWp1y6plR2-",
        "outputId": "6a71536d-223b-4ba2-f0c9-94b117ca7c64"
      },
      "outputs": [
        {
          "data": {
            "application/vnd.google.colaboratory.intrinsic+json": {
              "type": "string"
            },
            "text/plain": [
              "'2001'"
            ]
          },
          "execution_count": 138,
          "metadata": {},
          "output_type": "execute_result"
        }
      ],
      "source": [
        "import re\n",
        "def get_year(x):\n",
        "    try:\n",
        "        m = x.rsplit(' ', 1)[1]\n",
        "        return re.search('\\d{4}', m).group()\n",
        "    except:\n",
        "        return None\n",
        "        \n",
        "get_year('Apollo 11 (2001)')"
      ]
    },
    {
      "cell_type": "code",
      "execution_count": null,
      "metadata": {
        "colab": {
          "base_uri": "https://localhost:8080/",
          "height": 143
        },
        "id": "DiSemgTTk0J9",
        "outputId": "5b4e362b-8055-4288-f2f6-38983c05cc2c"
      },
      "outputs": [
        {
          "data": {
            "text/html": [
              "\n",
              "  <div id=\"df-58198cc8-71b6-47d0-8da7-a14d35423385\">\n",
              "    <div class=\"colab-df-container\">\n",
              "      <div>\n",
              "<style scoped>\n",
              "    .dataframe tbody tr th:only-of-type {\n",
              "        vertical-align: middle;\n",
              "    }\n",
              "\n",
              "    .dataframe tbody tr th {\n",
              "        vertical-align: top;\n",
              "    }\n",
              "\n",
              "    .dataframe thead th {\n",
              "        text-align: right;\n",
              "    }\n",
              "</style>\n",
              "<table border=\"1\" class=\"dataframe\">\n",
              "  <thead>\n",
              "    <tr style=\"text-align: right;\">\n",
              "      <th></th>\n",
              "      <th>Title</th>\n",
              "      <th>ReleaseYear</th>\n",
              "    </tr>\n",
              "  </thead>\n",
              "  <tbody>\n",
              "    <tr>\n",
              "      <th>42345</th>\n",
              "      <td>For a Few Dollars More (1965)</td>\n",
              "      <td>1965</td>\n",
              "    </tr>\n",
              "    <tr>\n",
              "      <th>112719</th>\n",
              "      <td>Few Good Men, A (1992)</td>\n",
              "      <td>1992</td>\n",
              "    </tr>\n",
              "    <tr>\n",
              "      <th>535491</th>\n",
              "      <td>Lost World: Jurassic Park, The (1997)</td>\n",
              "      <td>1997</td>\n",
              "    </tr>\n",
              "  </tbody>\n",
              "</table>\n",
              "</div>\n",
              "      <button class=\"colab-df-convert\" onclick=\"convertToInteractive('df-58198cc8-71b6-47d0-8da7-a14d35423385')\"\n",
              "              title=\"Convert this dataframe to an interactive table.\"\n",
              "              style=\"display:none;\">\n",
              "        \n",
              "  <svg xmlns=\"http://www.w3.org/2000/svg\" height=\"24px\"viewBox=\"0 0 24 24\"\n",
              "       width=\"24px\">\n",
              "    <path d=\"M0 0h24v24H0V0z\" fill=\"none\"/>\n",
              "    <path d=\"M18.56 5.44l.94 2.06.94-2.06 2.06-.94-2.06-.94-.94-2.06-.94 2.06-2.06.94zm-11 1L8.5 8.5l.94-2.06 2.06-.94-2.06-.94L8.5 2.5l-.94 2.06-2.06.94zm10 10l.94 2.06.94-2.06 2.06-.94-2.06-.94-.94-2.06-.94 2.06-2.06.94z\"/><path d=\"M17.41 7.96l-1.37-1.37c-.4-.4-.92-.59-1.43-.59-.52 0-1.04.2-1.43.59L10.3 9.45l-7.72 7.72c-.78.78-.78 2.05 0 2.83L4 21.41c.39.39.9.59 1.41.59.51 0 1.02-.2 1.41-.59l7.78-7.78 2.81-2.81c.8-.78.8-2.07 0-2.86zM5.41 20L4 18.59l7.72-7.72 1.47 1.35L5.41 20z\"/>\n",
              "  </svg>\n",
              "      </button>\n",
              "      \n",
              "  <style>\n",
              "    .colab-df-container {\n",
              "      display:flex;\n",
              "      flex-wrap:wrap;\n",
              "      gap: 12px;\n",
              "    }\n",
              "\n",
              "    .colab-df-convert {\n",
              "      background-color: #E8F0FE;\n",
              "      border: none;\n",
              "      border-radius: 50%;\n",
              "      cursor: pointer;\n",
              "      display: none;\n",
              "      fill: #1967D2;\n",
              "      height: 32px;\n",
              "      padding: 0 0 0 0;\n",
              "      width: 32px;\n",
              "    }\n",
              "\n",
              "    .colab-df-convert:hover {\n",
              "      background-color: #E2EBFA;\n",
              "      box-shadow: 0px 1px 2px rgba(60, 64, 67, 0.3), 0px 1px 3px 1px rgba(60, 64, 67, 0.15);\n",
              "      fill: #174EA6;\n",
              "    }\n",
              "\n",
              "    [theme=dark] .colab-df-convert {\n",
              "      background-color: #3B4455;\n",
              "      fill: #D2E3FC;\n",
              "    }\n",
              "\n",
              "    [theme=dark] .colab-df-convert:hover {\n",
              "      background-color: #434B5C;\n",
              "      box-shadow: 0px 1px 3px 1px rgba(0, 0, 0, 0.15);\n",
              "      filter: drop-shadow(0px 1px 2px rgba(0, 0, 0, 0.3));\n",
              "      fill: #FFFFFF;\n",
              "    }\n",
              "  </style>\n",
              "\n",
              "      <script>\n",
              "        const buttonEl =\n",
              "          document.querySelector('#df-58198cc8-71b6-47d0-8da7-a14d35423385 button.colab-df-convert');\n",
              "        buttonEl.style.display =\n",
              "          google.colab.kernel.accessAllowed ? 'block' : 'none';\n",
              "\n",
              "        async function convertToInteractive(key) {\n",
              "          const element = document.querySelector('#df-58198cc8-71b6-47d0-8da7-a14d35423385');\n",
              "          const dataTable =\n",
              "            await google.colab.kernel.invokeFunction('convertToInteractive',\n",
              "                                                     [key], {});\n",
              "          if (!dataTable) return;\n",
              "\n",
              "          const docLinkHtml = 'Like what you see? Visit the ' +\n",
              "            '<a target=\"_blank\" href=https://colab.research.google.com/notebooks/data_table.ipynb>data table notebook</a>'\n",
              "            + ' to learn more about interactive tables.';\n",
              "          element.innerHTML = '';\n",
              "          dataTable['output_type'] = 'display_data';\n",
              "          await google.colab.output.renderOutput(dataTable, element);\n",
              "          const docLink = document.createElement('div');\n",
              "          docLink.innerHTML = docLinkHtml;\n",
              "          element.appendChild(docLink);\n",
              "        }\n",
              "      </script>\n",
              "    </div>\n",
              "  </div>\n",
              "  "
            ],
            "text/plain": [
              "                                        Title ReleaseYear\n",
              "42345           For a Few Dollars More (1965)        1965\n",
              "112719                 Few Good Men, A (1992)        1992\n",
              "535491  Lost World: Jurassic Park, The (1997)        1997"
            ]
          },
          "execution_count": 139,
          "metadata": {},
          "output_type": "execute_result"
        }
      ],
      "source": [
        "df['ReleaseYear'] = df['Title'].apply(get_year)\n",
        "df[['Title', 'ReleaseYear']].sample(3)"
      ]
    },
    {
      "cell_type": "markdown",
      "metadata": {
        "id": "etwHQojVAmKX"
      },
      "source": [
        "__Findings__\n",
        "- We have extracted release years from the \"Title\""
      ]
    },
    {
      "cell_type": "markdown",
      "metadata": {
        "id": "3djhT7J6CyQl"
      },
      "source": [
        "__Analysis on ReleaseYear__"
      ]
    },
    {
      "cell_type": "code",
      "execution_count": null,
      "metadata": {
        "colab": {
          "base_uri": "https://localhost:8080/"
        },
        "id": "0fi97Ux2vuvQ",
        "outputId": "6d60712a-e9a1-4993-dfeb-dc36963f84d2"
      },
      "outputs": [
        {
          "data": {
            "text/plain": [
              "1999    86833\n",
              "1998    68165\n",
              "1997    65402\n",
              "1995    60754\n",
              "1996    59271\n",
              "        ...  \n",
              "1919       45\n",
              "1929       43\n",
              "1928       27\n",
              "1920       24\n",
              "1923       17\n",
              "Name: ReleaseYear, Length: 82, dtype: int64"
            ]
          },
          "execution_count": 98,
          "metadata": {},
          "output_type": "execute_result"
        }
      ],
      "source": [
        "df['ReleaseYear'].value_counts(dropna=False)"
      ]
    },
    {
      "cell_type": "code",
      "execution_count": null,
      "metadata": {
        "colab": {
          "base_uri": "https://localhost:8080/",
          "height": 143
        },
        "id": "wdJZ-jpEo2nm",
        "outputId": "6efc6fcc-4003-4f69-d076-45a2ca00791f"
      },
      "outputs": [
        {
          "data": {
            "text/html": [
              "\n",
              "  <div id=\"df-e7f7f144-fbed-41d5-839a-60279e9b34ca\">\n",
              "    <div class=\"colab-df-container\">\n",
              "      <div>\n",
              "<style scoped>\n",
              "    .dataframe tbody tr th:only-of-type {\n",
              "        vertical-align: middle;\n",
              "    }\n",
              "\n",
              "    .dataframe tbody tr th {\n",
              "        vertical-align: top;\n",
              "    }\n",
              "\n",
              "    .dataframe thead th {\n",
              "        text-align: right;\n",
              "    }\n",
              "</style>\n",
              "<table border=\"1\" class=\"dataframe\">\n",
              "  <thead>\n",
              "    <tr style=\"text-align: right;\">\n",
              "      <th></th>\n",
              "      <th>MovieID</th>\n",
              "      <th>Title</th>\n",
              "      <th>Genres</th>\n",
              "      <th>UserID</th>\n",
              "      <th>Rating</th>\n",
              "      <th>Timestamp</th>\n",
              "      <th>Gender</th>\n",
              "      <th>Age</th>\n",
              "      <th>Occupation</th>\n",
              "      <th>Zip-code</th>\n",
              "      <th>Datetime</th>\n",
              "      <th>ReleaseYear</th>\n",
              "    </tr>\n",
              "  </thead>\n",
              "  <tbody>\n",
              "    <tr>\n",
              "      <th>432</th>\n",
              "      <td>750</td>\n",
              "      <td>Dr. Strangelove or: How I Learned to Stop Worr...</td>\n",
              "      <td>None</td>\n",
              "      <td>10</td>\n",
              "      <td>4</td>\n",
              "      <td>979775386</td>\n",
              "      <td>F</td>\n",
              "      <td>35</td>\n",
              "      <td>1</td>\n",
              "      <td>95370</td>\n",
              "      <td>2001-01-17 23:49:46</td>\n",
              "      <td>None</td>\n",
              "    </tr>\n",
              "    <tr>\n",
              "      <th>708</th>\n",
              "      <td>3086</td>\n",
              "      <td>March of the Wooden Soldiers (a.k.a. Laurel &amp; ...</td>\n",
              "      <td>None</td>\n",
              "      <td>10</td>\n",
              "      <td>4</td>\n",
              "      <td>978227574</td>\n",
              "      <td>F</td>\n",
              "      <td>35</td>\n",
              "      <td>1</td>\n",
              "      <td>95370</td>\n",
              "      <td>2000-12-31 01:52:54</td>\n",
              "      <td>None</td>\n",
              "    </tr>\n",
              "    <tr>\n",
              "      <th>945</th>\n",
              "      <td>2019</td>\n",
              "      <td>Seven Samurai (The Magnificent Seven) (Shichin...</td>\n",
              "      <td>None</td>\n",
              "      <td>18</td>\n",
              "      <td>5</td>\n",
              "      <td>978152973</td>\n",
              "      <td>F</td>\n",
              "      <td>18</td>\n",
              "      <td>3</td>\n",
              "      <td>95825</td>\n",
              "      <td>2000-12-30 05:09:33</td>\n",
              "      <td>None</td>\n",
              "    </tr>\n",
              "  </tbody>\n",
              "</table>\n",
              "</div>\n",
              "      <button class=\"colab-df-convert\" onclick=\"convertToInteractive('df-e7f7f144-fbed-41d5-839a-60279e9b34ca')\"\n",
              "              title=\"Convert this dataframe to an interactive table.\"\n",
              "              style=\"display:none;\">\n",
              "        \n",
              "  <svg xmlns=\"http://www.w3.org/2000/svg\" height=\"24px\"viewBox=\"0 0 24 24\"\n",
              "       width=\"24px\">\n",
              "    <path d=\"M0 0h24v24H0V0z\" fill=\"none\"/>\n",
              "    <path d=\"M18.56 5.44l.94 2.06.94-2.06 2.06-.94-2.06-.94-.94-2.06-.94 2.06-2.06.94zm-11 1L8.5 8.5l.94-2.06 2.06-.94-2.06-.94L8.5 2.5l-.94 2.06-2.06.94zm10 10l.94 2.06.94-2.06 2.06-.94-2.06-.94-.94-2.06-.94 2.06-2.06.94z\"/><path d=\"M17.41 7.96l-1.37-1.37c-.4-.4-.92-.59-1.43-.59-.52 0-1.04.2-1.43.59L10.3 9.45l-7.72 7.72c-.78.78-.78 2.05 0 2.83L4 21.41c.39.39.9.59 1.41.59.51 0 1.02-.2 1.41-.59l7.78-7.78 2.81-2.81c.8-.78.8-2.07 0-2.86zM5.41 20L4 18.59l7.72-7.72 1.47 1.35L5.41 20z\"/>\n",
              "  </svg>\n",
              "      </button>\n",
              "      \n",
              "  <style>\n",
              "    .colab-df-container {\n",
              "      display:flex;\n",
              "      flex-wrap:wrap;\n",
              "      gap: 12px;\n",
              "    }\n",
              "\n",
              "    .colab-df-convert {\n",
              "      background-color: #E8F0FE;\n",
              "      border: none;\n",
              "      border-radius: 50%;\n",
              "      cursor: pointer;\n",
              "      display: none;\n",
              "      fill: #1967D2;\n",
              "      height: 32px;\n",
              "      padding: 0 0 0 0;\n",
              "      width: 32px;\n",
              "    }\n",
              "\n",
              "    .colab-df-convert:hover {\n",
              "      background-color: #E2EBFA;\n",
              "      box-shadow: 0px 1px 2px rgba(60, 64, 67, 0.3), 0px 1px 3px 1px rgba(60, 64, 67, 0.15);\n",
              "      fill: #174EA6;\n",
              "    }\n",
              "\n",
              "    [theme=dark] .colab-df-convert {\n",
              "      background-color: #3B4455;\n",
              "      fill: #D2E3FC;\n",
              "    }\n",
              "\n",
              "    [theme=dark] .colab-df-convert:hover {\n",
              "      background-color: #434B5C;\n",
              "      box-shadow: 0px 1px 3px 1px rgba(0, 0, 0, 0.15);\n",
              "      filter: drop-shadow(0px 1px 2px rgba(0, 0, 0, 0.3));\n",
              "      fill: #FFFFFF;\n",
              "    }\n",
              "  </style>\n",
              "\n",
              "      <script>\n",
              "        const buttonEl =\n",
              "          document.querySelector('#df-e7f7f144-fbed-41d5-839a-60279e9b34ca button.colab-df-convert');\n",
              "        buttonEl.style.display =\n",
              "          google.colab.kernel.accessAllowed ? 'block' : 'none';\n",
              "\n",
              "        async function convertToInteractive(key) {\n",
              "          const element = document.querySelector('#df-e7f7f144-fbed-41d5-839a-60279e9b34ca');\n",
              "          const dataTable =\n",
              "            await google.colab.kernel.invokeFunction('convertToInteractive',\n",
              "                                                     [key], {});\n",
              "          if (!dataTable) return;\n",
              "\n",
              "          const docLinkHtml = 'Like what you see? Visit the ' +\n",
              "            '<a target=\"_blank\" href=https://colab.research.google.com/notebooks/data_table.ipynb>data table notebook</a>'\n",
              "            + ' to learn more about interactive tables.';\n",
              "          element.innerHTML = '';\n",
              "          dataTable['output_type'] = 'display_data';\n",
              "          await google.colab.output.renderOutput(dataTable, element);\n",
              "          const docLink = document.createElement('div');\n",
              "          docLink.innerHTML = docLinkHtml;\n",
              "          element.appendChild(docLink);\n",
              "        }\n",
              "      </script>\n",
              "    </div>\n",
              "  </div>\n",
              "  "
            ],
            "text/plain": [
              "    MovieID                                              Title Genres UserID  \\\n",
              "432     750  Dr. Strangelove or: How I Learned to Stop Worr...   None     10   \n",
              "708    3086  March of the Wooden Soldiers (a.k.a. Laurel & ...   None     10   \n",
              "945    2019  Seven Samurai (The Magnificent Seven) (Shichin...   None     18   \n",
              "\n",
              "     Rating  Timestamp Gender Age Occupation Zip-code            Datetime  \\\n",
              "432       4  979775386      F  35          1    95370 2001-01-17 23:49:46   \n",
              "708       4  978227574      F  35          1    95370 2000-12-31 01:52:54   \n",
              "945       5  978152973      F  18          3    95825 2000-12-30 05:09:33   \n",
              "\n",
              "    ReleaseYear  \n",
              "432        None  \n",
              "708        None  \n",
              "945        None  "
            ]
          },
          "execution_count": 100,
          "metadata": {},
          "output_type": "execute_result"
        }
      ],
      "source": [
        "nulls = df[df['ReleaseYear'].isna()]\n",
        "nulls.head(3)"
      ]
    },
    {
      "cell_type": "code",
      "execution_count": null,
      "metadata": {
        "colab": {
          "base_uri": "https://localhost:8080/"
        },
        "id": "_0ZhX6xhBt-w",
        "outputId": "b9b7b932-fdda-4ba7-c83b-5a5d50ab3c5f"
      },
      "outputs": [
        {
          "name": "stdout",
          "output_type": "stream",
          "text": [
            "Dr. Strangelove or: How I Learned to Stop Worrying and Love the Bo\n",
            "------------------------------\n",
            "March of the Wooden Soldiers (a.k.a. Laurel & Hardy in Toyland) (\n",
            "------------------------------\n",
            "Seven Samurai (The Magnificent Seven) (Shichinin no samurai) (195\n",
            "------------------------------\n",
            "Don't Be a Menace to South Central While Drinking Your Juice in the\n",
            "------------------------------\n",
            "My Life and Times With Antonin Artaud (En compagnie d'Antonin Arta\n",
            "------------------------------\n",
            "Wonderful, Horrible Life of Leni Riefenstahl, The (Die Macht der B\n",
            "------------------------------\n",
            "Decline of Western Civilization Part II: The Metal Years, The (19\n",
            "------------------------------\n",
            "Lovers of the Arctic Circle, The (Los Amantes del Círculo Polar)\n",
            "------------------------------\n",
            "Garden of Finzi-Contini, The (Giardino dei Finzi-Contini, Il) (19\n",
            "------------------------------\n",
            "Swept Away (Travolti da un insolito destino nell'azzurro mare d'A\n",
            "------------------------------\n",
            "Went to Coney Island on a Mission From God... Be Back by Five (19\n",
            "------------------------------\n",
            "City of the Living Dead (Paura nella città dei morti viventi) (19\n",
            "------------------------------\n",
            "Those Who Love Me Can Take the Train (Ceux qui m'aiment prendront\n",
            "------------------------------\n",
            "Even Dwarfs Started Small (Auch Zwerge haben klein angefangen) (1\n",
            "------------------------------\n"
          ]
        }
      ],
      "source": [
        "for item in nulls['Title'].unique():\n",
        "    print(item)\n",
        "    print('-'*30)"
      ]
    },
    {
      "cell_type": "code",
      "execution_count": null,
      "metadata": {
        "colab": {
          "base_uri": "https://localhost:8080/"
        },
        "id": "_nx2USjkCZyP",
        "outputId": "0c9e3f53-8217-4dba-abae-00ba2f1f4126"
      },
      "outputs": [
        {
          "data": {
            "text/plain": [
              "MovieID           0\n",
              "Title             0\n",
              "Genres         4065\n",
              "UserID            0\n",
              "Rating            0\n",
              "Timestamp         0\n",
              "Gender            0\n",
              "Age               0\n",
              "Occupation        0\n",
              "Zip-code          0\n",
              "Datetime          0\n",
              "ReleaseYear    2570\n",
              "dtype: int64"
            ]
          },
          "execution_count": 104,
          "metadata": {},
          "output_type": "execute_result"
        }
      ],
      "source": [
        "df.isna().sum()"
      ]
    },
    {
      "cell_type": "markdown",
      "metadata": {
        "id": "8SjrMMFwCFm6"
      },
      "source": [
        "__Findings__\n",
        "- It seems the Titles were trimmed after a certain length. Hence Year informations are not available in those Titles.\n",
        "- We will remove these rows without any ReleaseYear"
      ]
    },
    {
      "cell_type": "code",
      "execution_count": null,
      "metadata": {
        "id": "3PQlE8mUCigV"
      },
      "outputs": [],
      "source": [
        "df.dropna(subset=['ReleaseYear'], inplace=True)"
      ]
    },
    {
      "cell_type": "markdown",
      "metadata": {
        "id": "SzH1vAW7Csyr"
      },
      "source": [
        "__Binning the Release Years__"
      ]
    },
    {
      "cell_type": "code",
      "execution_count": null,
      "metadata": {
        "colab": {
          "base_uri": "https://localhost:8080/"
        },
        "id": "LW5vAUULC4CS",
        "outputId": "26f2621d-7fd9-4cfe-ff21-e3cf48757320"
      },
      "outputs": [
        {
          "name": "stdout",
          "output_type": "stream",
          "text": [
            "2000\n",
            "1919\n"
          ]
        }
      ],
      "source": [
        "print(df['ReleaseYear'].max())\n",
        "print(df['ReleaseYear'].min())"
      ]
    },
    {
      "cell_type": "code",
      "execution_count": null,
      "metadata": {
        "colab": {
          "base_uri": "https://localhost:8080/",
          "height": 143
        },
        "id": "PE8w10z2v-O9",
        "outputId": "fcaf4efc-9740-45c2-96ba-767174b600ca"
      },
      "outputs": [
        {
          "data": {
            "text/html": [
              "\n",
              "  <div id=\"df-0943fb94-696d-46c9-a659-50adf8689700\">\n",
              "    <div class=\"colab-df-container\">\n",
              "      <div>\n",
              "<style scoped>\n",
              "    .dataframe tbody tr th:only-of-type {\n",
              "        vertical-align: middle;\n",
              "    }\n",
              "\n",
              "    .dataframe tbody tr th {\n",
              "        vertical-align: top;\n",
              "    }\n",
              "\n",
              "    .dataframe thead th {\n",
              "        text-align: right;\n",
              "    }\n",
              "</style>\n",
              "<table border=\"1\" class=\"dataframe\">\n",
              "  <thead>\n",
              "    <tr style=\"text-align: right;\">\n",
              "      <th></th>\n",
              "      <th>ReleaseYear</th>\n",
              "      <th>ReleaseDecade</th>\n",
              "    </tr>\n",
              "  </thead>\n",
              "  <tbody>\n",
              "    <tr>\n",
              "      <th>192868</th>\n",
              "      <td>1989</td>\n",
              "      <td>80s</td>\n",
              "    </tr>\n",
              "    <tr>\n",
              "      <th>17353</th>\n",
              "      <td>2000</td>\n",
              "      <td>Millenium</td>\n",
              "    </tr>\n",
              "    <tr>\n",
              "      <th>480859</th>\n",
              "      <td>1946</td>\n",
              "      <td>40s</td>\n",
              "    </tr>\n",
              "  </tbody>\n",
              "</table>\n",
              "</div>\n",
              "      <button class=\"colab-df-convert\" onclick=\"convertToInteractive('df-0943fb94-696d-46c9-a659-50adf8689700')\"\n",
              "              title=\"Convert this dataframe to an interactive table.\"\n",
              "              style=\"display:none;\">\n",
              "        \n",
              "  <svg xmlns=\"http://www.w3.org/2000/svg\" height=\"24px\"viewBox=\"0 0 24 24\"\n",
              "       width=\"24px\">\n",
              "    <path d=\"M0 0h24v24H0V0z\" fill=\"none\"/>\n",
              "    <path d=\"M18.56 5.44l.94 2.06.94-2.06 2.06-.94-2.06-.94-.94-2.06-.94 2.06-2.06.94zm-11 1L8.5 8.5l.94-2.06 2.06-.94-2.06-.94L8.5 2.5l-.94 2.06-2.06.94zm10 10l.94 2.06.94-2.06 2.06-.94-2.06-.94-.94-2.06-.94 2.06-2.06.94z\"/><path d=\"M17.41 7.96l-1.37-1.37c-.4-.4-.92-.59-1.43-.59-.52 0-1.04.2-1.43.59L10.3 9.45l-7.72 7.72c-.78.78-.78 2.05 0 2.83L4 21.41c.39.39.9.59 1.41.59.51 0 1.02-.2 1.41-.59l7.78-7.78 2.81-2.81c.8-.78.8-2.07 0-2.86zM5.41 20L4 18.59l7.72-7.72 1.47 1.35L5.41 20z\"/>\n",
              "  </svg>\n",
              "      </button>\n",
              "      \n",
              "  <style>\n",
              "    .colab-df-container {\n",
              "      display:flex;\n",
              "      flex-wrap:wrap;\n",
              "      gap: 12px;\n",
              "    }\n",
              "\n",
              "    .colab-df-convert {\n",
              "      background-color: #E8F0FE;\n",
              "      border: none;\n",
              "      border-radius: 50%;\n",
              "      cursor: pointer;\n",
              "      display: none;\n",
              "      fill: #1967D2;\n",
              "      height: 32px;\n",
              "      padding: 0 0 0 0;\n",
              "      width: 32px;\n",
              "    }\n",
              "\n",
              "    .colab-df-convert:hover {\n",
              "      background-color: #E2EBFA;\n",
              "      box-shadow: 0px 1px 2px rgba(60, 64, 67, 0.3), 0px 1px 3px 1px rgba(60, 64, 67, 0.15);\n",
              "      fill: #174EA6;\n",
              "    }\n",
              "\n",
              "    [theme=dark] .colab-df-convert {\n",
              "      background-color: #3B4455;\n",
              "      fill: #D2E3FC;\n",
              "    }\n",
              "\n",
              "    [theme=dark] .colab-df-convert:hover {\n",
              "      background-color: #434B5C;\n",
              "      box-shadow: 0px 1px 3px 1px rgba(0, 0, 0, 0.15);\n",
              "      filter: drop-shadow(0px 1px 2px rgba(0, 0, 0, 0.3));\n",
              "      fill: #FFFFFF;\n",
              "    }\n",
              "  </style>\n",
              "\n",
              "      <script>\n",
              "        const buttonEl =\n",
              "          document.querySelector('#df-0943fb94-696d-46c9-a659-50adf8689700 button.colab-df-convert');\n",
              "        buttonEl.style.display =\n",
              "          google.colab.kernel.accessAllowed ? 'block' : 'none';\n",
              "\n",
              "        async function convertToInteractive(key) {\n",
              "          const element = document.querySelector('#df-0943fb94-696d-46c9-a659-50adf8689700');\n",
              "          const dataTable =\n",
              "            await google.colab.kernel.invokeFunction('convertToInteractive',\n",
              "                                                     [key], {});\n",
              "          if (!dataTable) return;\n",
              "\n",
              "          const docLinkHtml = 'Like what you see? Visit the ' +\n",
              "            '<a target=\"_blank\" href=https://colab.research.google.com/notebooks/data_table.ipynb>data table notebook</a>'\n",
              "            + ' to learn more about interactive tables.';\n",
              "          element.innerHTML = '';\n",
              "          dataTable['output_type'] = 'display_data';\n",
              "          await google.colab.output.renderOutput(dataTable, element);\n",
              "          const docLink = document.createElement('div');\n",
              "          docLink.innerHTML = docLinkHtml;\n",
              "          element.appendChild(docLink);\n",
              "        }\n",
              "      </script>\n",
              "    </div>\n",
              "  </div>\n",
              "  "
            ],
            "text/plain": [
              "       ReleaseYear ReleaseDecade\n",
              "192868        1989           80s\n",
              "17353         2000     Millenium\n",
              "480859        1946           40s"
            ]
          },
          "execution_count": 142,
          "metadata": {},
          "output_type": "execute_result"
        }
      ],
      "source": [
        "bins   = [1909, 1919, 1929, 1939, 1949, 1959, 1969, 1979, 1989, 1999, 2009]\n",
        "labels =    ['10s', '20s','30s','40s','50s','60s','70s','80s','90s', 'Millenium']\n",
        "\n",
        "df['ReleaseDecade'] = pd.cut(df['ReleaseYear'].astype('int'), bins=bins, labels=labels)\n",
        "df[['ReleaseYear', 'ReleaseDecade']].sample(3)"
      ]
    },
    {
      "cell_type": "code",
      "execution_count": null,
      "metadata": {
        "colab": {
          "base_uri": "https://localhost:8080/",
          "height": 532
        },
        "id": "2-XFhvlcDuL8",
        "outputId": "087afa3d-4046-44fc-86a1-7d6d75b48186"
      },
      "outputs": [
        {
          "data": {
            "image/png": "[encoded data removed]",
            "text/plain": [
              "<Figure size 1080x504 with 2 Axes>"
            ]
          },
          "metadata": {
            "needs_background": "light"
          },
          "output_type": "display_data"
        }
      ],
      "source": [
        "make_categorical_plots(df, 'ReleaseDecade')"
      ]
    },
    {
      "cell_type": "markdown",
      "metadata": {
        "id": "F9imDDSZD0Jp"
      },
      "source": [
        "__Findings__\n",
        "- Most of the movies in the platform are from 90's, followed by 80's\n",
        "- The number of movie content from the older decades decreases as we go back on time\n",
        "- The number of Millenium movies is less than 90s. This could be possibly due to the fact that Millenium has just started, and there are not many movies released so far."
      ]
    },
    {
      "cell_type": "markdown",
      "metadata": {
        "id": "SAZNJ_N5H2O2"
      },
      "source": [
        "__Cleaning the title__\n",
        "- As there are years associated with all the movie names, we will remove them"
      ]
    },
    {
      "cell_type": "code",
      "execution_count": null,
      "metadata": {
        "colab": {
          "base_uri": "https://localhost:8080/",
          "height": 36
        },
        "id": "7z-8rwkkIM7N",
        "outputId": "65d043c1-a84d-4e25-d477-d3d5f2d53040"
      },
      "outputs": [
        {
          "data": {
            "application/vnd.google.colaboratory.intrinsic+json": {
              "type": "string"
            },
            "text/plain": [
              "'Toy Story'"
            ]
          },
          "execution_count": 132,
          "metadata": {},
          "output_type": "execute_result"
        }
      ],
      "source": [
        "def get_title(x):\n",
        "    return x.rsplit(' ', 1)[0]\n",
        "\n",
        "get_title('Toy Story (1995)')"
      ]
    },
    {
      "cell_type": "code",
      "execution_count": null,
      "metadata": {
        "colab": {
          "base_uri": "https://localhost:8080/",
          "height": 143
        },
        "id": "-dDaANaWIAni",
        "outputId": "652e885b-b0f6-4c25-d3eb-a53ff8babbc8"
      },
      "outputs": [
        {
          "data": {
            "text/html": [
              "\n",
              "  <div id=\"df-f3358c57-c212-4ea6-bd71-7de84235faf8\">\n",
              "    <div class=\"colab-df-container\">\n",
              "      <div>\n",
              "<style scoped>\n",
              "    .dataframe tbody tr th:only-of-type {\n",
              "        vertical-align: middle;\n",
              "    }\n",
              "\n",
              "    .dataframe tbody tr th {\n",
              "        vertical-align: top;\n",
              "    }\n",
              "\n",
              "    .dataframe thead th {\n",
              "        text-align: right;\n",
              "    }\n",
              "</style>\n",
              "<table border=\"1\" class=\"dataframe\">\n",
              "  <thead>\n",
              "    <tr style=\"text-align: right;\">\n",
              "      <th></th>\n",
              "      <th>Title</th>\n",
              "    </tr>\n",
              "  </thead>\n",
              "  <tbody>\n",
              "    <tr>\n",
              "      <th>448864</th>\n",
              "      <td>Sabrina</td>\n",
              "    </tr>\n",
              "    <tr>\n",
              "      <th>567223</th>\n",
              "      <td>Die Hard</td>\n",
              "    </tr>\n",
              "    <tr>\n",
              "      <th>649186</th>\n",
              "      <td>Glory</td>\n",
              "    </tr>\n",
              "  </tbody>\n",
              "</table>\n",
              "</div>\n",
              "      <button class=\"colab-df-convert\" onclick=\"convertToInteractive('df-f3358c57-c212-4ea6-bd71-7de84235faf8')\"\n",
              "              title=\"Convert this dataframe to an interactive table.\"\n",
              "              style=\"display:none;\">\n",
              "        \n",
              "  <svg xmlns=\"http://www.w3.org/2000/svg\" height=\"24px\"viewBox=\"0 0 24 24\"\n",
              "       width=\"24px\">\n",
              "    <path d=\"M0 0h24v24H0V0z\" fill=\"none\"/>\n",
              "    <path d=\"M18.56 5.44l.94 2.06.94-2.06 2.06-.94-2.06-.94-.94-2.06-.94 2.06-2.06.94zm-11 1L8.5 8.5l.94-2.06 2.06-.94-2.06-.94L8.5 2.5l-.94 2.06-2.06.94zm10 10l.94 2.06.94-2.06 2.06-.94-2.06-.94-.94-2.06-.94 2.06-2.06.94z\"/><path d=\"M17.41 7.96l-1.37-1.37c-.4-.4-.92-.59-1.43-.59-.52 0-1.04.2-1.43.59L10.3 9.45l-7.72 7.72c-.78.78-.78 2.05 0 2.83L4 21.41c.39.39.9.59 1.41.59.51 0 1.02-.2 1.41-.59l7.78-7.78 2.81-2.81c.8-.78.8-2.07 0-2.86zM5.41 20L4 18.59l7.72-7.72 1.47 1.35L5.41 20z\"/>\n",
              "  </svg>\n",
              "      </button>\n",
              "      \n",
              "  <style>\n",
              "    .colab-df-container {\n",
              "      display:flex;\n",
              "      flex-wrap:wrap;\n",
              "      gap: 12px;\n",
              "    }\n",
              "\n",
              "    .colab-df-convert {\n",
              "      background-color: #E8F0FE;\n",
              "      border: none;\n",
              "      border-radius: 50%;\n",
              "      cursor: pointer;\n",
              "      display: none;\n",
              "      fill: #1967D2;\n",
              "      height: 32px;\n",
              "      padding: 0 0 0 0;\n",
              "      width: 32px;\n",
              "    }\n",
              "\n",
              "    .colab-df-convert:hover {\n",
              "      background-color: #E2EBFA;\n",
              "      box-shadow: 0px 1px 2px rgba(60, 64, 67, 0.3), 0px 1px 3px 1px rgba(60, 64, 67, 0.15);\n",
              "      fill: #174EA6;\n",
              "    }\n",
              "\n",
              "    [theme=dark] .colab-df-convert {\n",
              "      background-color: #3B4455;\n",
              "      fill: #D2E3FC;\n",
              "    }\n",
              "\n",
              "    [theme=dark] .colab-df-convert:hover {\n",
              "      background-color: #434B5C;\n",
              "      box-shadow: 0px 1px 3px 1px rgba(0, 0, 0, 0.15);\n",
              "      filter: drop-shadow(0px 1px 2px rgba(0, 0, 0, 0.3));\n",
              "      fill: #FFFFFF;\n",
              "    }\n",
              "  </style>\n",
              "\n",
              "      <script>\n",
              "        const buttonEl =\n",
              "          document.querySelector('#df-f3358c57-c212-4ea6-bd71-7de84235faf8 button.colab-df-convert');\n",
              "        buttonEl.style.display =\n",
              "          google.colab.kernel.accessAllowed ? 'block' : 'none';\n",
              "\n",
              "        async function convertToInteractive(key) {\n",
              "          const element = document.querySelector('#df-f3358c57-c212-4ea6-bd71-7de84235faf8');\n",
              "          const dataTable =\n",
              "            await google.colab.kernel.invokeFunction('convertToInteractive',\n",
              "                                                     [key], {});\n",
              "          if (!dataTable) return;\n",
              "\n",
              "          const docLinkHtml = 'Like what you see? Visit the ' +\n",
              "            '<a target=\"_blank\" href=https://colab.research.google.com/notebooks/data_table.ipynb>data table notebook</a>'\n",
              "            + ' to learn more about interactive tables.';\n",
              "          element.innerHTML = '';\n",
              "          dataTable['output_type'] = 'display_data';\n",
              "          await google.colab.output.renderOutput(dataTable, element);\n",
              "          const docLink = document.createElement('div');\n",
              "          docLink.innerHTML = docLinkHtml;\n",
              "          element.appendChild(docLink);\n",
              "        }\n",
              "      </script>\n",
              "    </div>\n",
              "  </div>\n",
              "  "
            ],
            "text/plain": [
              "           Title\n",
              "448864   Sabrina\n",
              "567223  Die Hard\n",
              "649186     Glory"
            ]
          },
          "execution_count": 145,
          "metadata": {},
          "output_type": "execute_result"
        }
      ],
      "source": [
        "df['Title'] = df['Title'].apply(get_title)\n",
        "df[['Title']].sample(3)"
      ]
    },
    {
      "cell_type": "markdown",
      "metadata": {
        "id": "CZTmIfDlJrNx"
      },
      "source": [
        "__Findings__\n",
        "- We have removed Years from the titles"
      ]
    },
    {
      "cell_type": "markdown",
      "metadata": {
        "id": "VDd6QDivjTsw"
      },
      "source": [
        "### Genres"
      ]
    },
    {
      "cell_type": "code",
      "execution_count": null,
      "metadata": {
        "colab": {
          "base_uri": "https://localhost:8080/"
        },
        "id": "jDzLw_EjjSuo",
        "outputId": "800dbec1-e298-4c76-ba74-80876764225b"
      },
      "outputs": [
        {
          "data": {
            "text/plain": [
              "0                   Animation|Children's|Comedy\n",
              "1          Animation|Children's|Musical|Romance\n",
              "2                                         Drama\n",
              "3                       Action|Adventure|Fantas\n",
              "4                                     Drama|War\n",
              "                           ...                 \n",
              "1000204                          Drama|Thriller\n",
              "1000205                  Comedy|Horror|Thriller\n",
              "1000206                          Comedy|Romance\n",
              "1000207                         Action|Thriller\n",
              "1000208                            Action|Drama\n",
              "Name: Genres, Length: 997639, dtype: object"
            ]
          },
          "execution_count": 146,
          "metadata": {},
          "output_type": "execute_result"
        }
      ],
      "source": [
        "df['Genres']"
      ]
    },
    {
      "cell_type": "code",
      "execution_count": null,
      "metadata": {
        "colab": {
          "base_uri": "https://localhost:8080/"
        },
        "id": "IjI7PC17jykQ",
        "outputId": "a7419748-f1c4-4644-caca-817f5d68991e"
      },
      "outputs": [
        {
          "data": {
            "text/plain": [
              "Comedy                     116691\n",
              "Drama                      110955\n",
              "Comedy|Romance              42193\n",
              "Comedy|Drama                41676\n",
              "Drama|Romance               28100\n",
              "Action|Thriller             26759\n",
              "Horror                      22216\n",
              "Drama|Thriller              18248\n",
              "Thriller                    17851\n",
              "Action|Adventure|Sci-Fi     15712\n",
              "Name: Genres, dtype: int64"
            ]
          },
          "execution_count": 147,
          "metadata": {},
          "output_type": "execute_result"
        }
      ],
      "source": [
        "df['Genres'].value_counts()[:10]"
      ]
    },
    {
      "cell_type": "markdown",
      "metadata": {
        "id": "Guc_fVNIjpSF"
      },
      "source": [
        "__Findings__ \n",
        "- Most movies are a mix of multiple genres"
      ]
    },
    {
      "cell_type": "code",
      "execution_count": null,
      "metadata": {
        "colab": {
          "base_uri": "https://localhost:8080/"
        },
        "id": "VPdNgRyCEv_-",
        "outputId": "97772145-d537-4df6-a981-703aa6990931"
      },
      "outputs": [
        {
          "data": {
            "text/plain": [
              "MovieID             0\n",
              "Title               0\n",
              "Genres           1495\n",
              "UserID              0\n",
              "Rating              0\n",
              "Timestamp           0\n",
              "Gender              0\n",
              "Age                 0\n",
              "Occupation          0\n",
              "Zip-code            0\n",
              "Datetime            0\n",
              "ReleaseYear         0\n",
              "ReleaseDecade       0\n",
              "dtype: int64"
            ]
          },
          "execution_count": 148,
          "metadata": {},
          "output_type": "execute_result"
        }
      ],
      "source": [
        "df.isna().sum()"
      ]
    },
    {
      "cell_type": "code",
      "execution_count": null,
      "metadata": {
        "colab": {
          "base_uri": "https://localhost:8080/",
          "height": 257
        },
        "id": "suvZrEVaHneK",
        "outputId": "e03da5b8-b6c5-4344-a36a-016d850f9866"
      },
      "outputs": [
        {
          "data": {
            "text/html": [
              "\n",
              "  <div id=\"df-3e61a609-e909-4db6-806a-203477e4dfb0\">\n",
              "    <div class=\"colab-df-container\">\n",
              "      <div>\n",
              "<style scoped>\n",
              "    .dataframe tbody tr th:only-of-type {\n",
              "        vertical-align: middle;\n",
              "    }\n",
              "\n",
              "    .dataframe tbody tr th {\n",
              "        vertical-align: top;\n",
              "    }\n",
              "\n",
              "    .dataframe thead th {\n",
              "        text-align: right;\n",
              "    }\n",
              "</style>\n",
              "<table border=\"1\" class=\"dataframe\">\n",
              "  <thead>\n",
              "    <tr style=\"text-align: right;\">\n",
              "      <th></th>\n",
              "      <th>MovieID</th>\n",
              "      <th>Title</th>\n",
              "      <th>Genres</th>\n",
              "      <th>UserID</th>\n",
              "      <th>Rating</th>\n",
              "      <th>Timestamp</th>\n",
              "      <th>Gender</th>\n",
              "      <th>Age</th>\n",
              "      <th>Occupation</th>\n",
              "      <th>Zip-code</th>\n",
              "      <th>Datetime</th>\n",
              "      <th>ReleaseYear</th>\n",
              "      <th>ReleaseDecade</th>\n",
              "    </tr>\n",
              "  </thead>\n",
              "  <tbody>\n",
              "    <tr>\n",
              "      <th>327511</th>\n",
              "      <td>2790</td>\n",
              "      <td>Final Conflict, The (a.k.a. Omen III: The Fina...</td>\n",
              "      <td>None</td>\n",
              "      <td>3491</td>\n",
              "      <td>4</td>\n",
              "      <td>967065348</td>\n",
              "      <td>M</td>\n",
              "      <td>25</td>\n",
              "      <td>16</td>\n",
              "      <td>28542</td>\n",
              "      <td>2000-08-23 21:15:48</td>\n",
              "      <td>1981</td>\n",
              "      <td>80s</td>\n",
              "    </tr>\n",
              "    <tr>\n",
              "      <th>593916</th>\n",
              "      <td>1150</td>\n",
              "      <td>Return of Martin Guerre, The (Retour de Martin...</td>\n",
              "      <td>None</td>\n",
              "      <td>2319</td>\n",
              "      <td>4</td>\n",
              "      <td>974475761</td>\n",
              "      <td>M</td>\n",
              "      <td>35</td>\n",
              "      <td>7</td>\n",
              "      <td>48104</td>\n",
              "      <td>2000-11-17 15:42:41</td>\n",
              "      <td>1982</td>\n",
              "      <td>80s</td>\n",
              "    </tr>\n",
              "    <tr>\n",
              "      <th>70146</th>\n",
              "      <td>3070</td>\n",
              "      <td>Adventures of Buckaroo Bonzai Across the 8th D...</td>\n",
              "      <td>None</td>\n",
              "      <td>780</td>\n",
              "      <td>5</td>\n",
              "      <td>975436462</td>\n",
              "      <td>M</td>\n",
              "      <td>25</td>\n",
              "      <td>17</td>\n",
              "      <td>91776</td>\n",
              "      <td>2000-11-28 18:34:22</td>\n",
              "      <td>1984</td>\n",
              "      <td>80s</td>\n",
              "    </tr>\n",
              "  </tbody>\n",
              "</table>\n",
              "</div>\n",
              "      <button class=\"colab-df-convert\" onclick=\"convertToInteractive('df-3e61a609-e909-4db6-806a-203477e4dfb0')\"\n",
              "              title=\"Convert this dataframe to an interactive table.\"\n",
              "              style=\"display:none;\">\n",
              "        \n",
              "  <svg xmlns=\"http://www.w3.org/2000/svg\" height=\"24px\"viewBox=\"0 0 24 24\"\n",
              "       width=\"24px\">\n",
              "    <path d=\"M0 0h24v24H0V0z\" fill=\"none\"/>\n",
              "    <path d=\"M18.56 5.44l.94 2.06.94-2.06 2.06-.94-2.06-.94-.94-2.06-.94 2.06-2.06.94zm-11 1L8.5 8.5l.94-2.06 2.06-.94-2.06-.94L8.5 2.5l-.94 2.06-2.06.94zm10 10l.94 2.06.94-2.06 2.06-.94-2.06-.94-.94-2.06-.94 2.06-2.06.94z\"/><path d=\"M17.41 7.96l-1.37-1.37c-.4-.4-.92-.59-1.43-.59-.52 0-1.04.2-1.43.59L10.3 9.45l-7.72 7.72c-.78.78-.78 2.05 0 2.83L4 21.41c.39.39.9.59 1.41.59.51 0 1.02-.2 1.41-.59l7.78-7.78 2.81-2.81c.8-.78.8-2.07 0-2.86zM5.41 20L4 18.59l7.72-7.72 1.47 1.35L5.41 20z\"/>\n",
              "  </svg>\n",
              "      </button>\n",
              "      \n",
              "  <style>\n",
              "    .colab-df-container {\n",
              "      display:flex;\n",
              "      flex-wrap:wrap;\n",
              "      gap: 12px;\n",
              "    }\n",
              "\n",
              "    .colab-df-convert {\n",
              "      background-color: #E8F0FE;\n",
              "      border: none;\n",
              "      border-radius: 50%;\n",
              "      cursor: pointer;\n",
              "      display: none;\n",
              "      fill: #1967D2;\n",
              "      height: 32px;\n",
              "      padding: 0 0 0 0;\n",
              "      width: 32px;\n",
              "    }\n",
              "\n",
              "    .colab-df-convert:hover {\n",
              "      background-color: #E2EBFA;\n",
              "      box-shadow: 0px 1px 2px rgba(60, 64, 67, 0.3), 0px 1px 3px 1px rgba(60, 64, 67, 0.15);\n",
              "      fill: #174EA6;\n",
              "    }\n",
              "\n",
              "    [theme=dark] .colab-df-convert {\n",
              "      background-color: #3B4455;\n",
              "      fill: #D2E3FC;\n",
              "    }\n",
              "\n",
              "    [theme=dark] .colab-df-convert:hover {\n",
              "      background-color: #434B5C;\n",
              "      box-shadow: 0px 1px 3px 1px rgba(0, 0, 0, 0.15);\n",
              "      filter: drop-shadow(0px 1px 2px rgba(0, 0, 0, 0.3));\n",
              "      fill: #FFFFFF;\n",
              "    }\n",
              "  </style>\n",
              "\n",
              "      <script>\n",
              "        const buttonEl =\n",
              "          document.querySelector('#df-3e61a609-e909-4db6-806a-203477e4dfb0 button.colab-df-convert');\n",
              "        buttonEl.style.display =\n",
              "          google.colab.kernel.accessAllowed ? 'block' : 'none';\n",
              "\n",
              "        async function convertToInteractive(key) {\n",
              "          const element = document.querySelector('#df-3e61a609-e909-4db6-806a-203477e4dfb0');\n",
              "          const dataTable =\n",
              "            await google.colab.kernel.invokeFunction('convertToInteractive',\n",
              "                                                     [key], {});\n",
              "          if (!dataTable) return;\n",
              "\n",
              "          const docLinkHtml = 'Like what you see? Visit the ' +\n",
              "            '<a target=\"_blank\" href=https://colab.research.google.com/notebooks/data_table.ipynb>data table notebook</a>'\n",
              "            + ' to learn more about interactive tables.';\n",
              "          element.innerHTML = '';\n",
              "          dataTable['output_type'] = 'display_data';\n",
              "          await google.colab.output.renderOutput(dataTable, element);\n",
              "          const docLink = document.createElement('div');\n",
              "          docLink.innerHTML = docLinkHtml;\n",
              "          element.appendChild(docLink);\n",
              "        }\n",
              "      </script>\n",
              "    </div>\n",
              "  </div>\n",
              "  "
            ],
            "text/plain": [
              "       MovieID                                              Title Genres  \\\n",
              "327511    2790  Final Conflict, The (a.k.a. Omen III: The Fina...   None   \n",
              "593916    1150  Return of Martin Guerre, The (Retour de Martin...   None   \n",
              "70146     3070  Adventures of Buckaroo Bonzai Across the 8th D...   None   \n",
              "\n",
              "       UserID  Rating  Timestamp Gender Age Occupation Zip-code  \\\n",
              "327511   3491       4  967065348      M  25         16    28542   \n",
              "593916   2319       4  974475761      M  35          7    48104   \n",
              "70146     780       5  975436462      M  25         17    91776   \n",
              "\n",
              "                  Datetime ReleaseYear ReleaseDecade  \n",
              "327511 2000-08-23 21:15:48        1981           80s  \n",
              "593916 2000-11-17 15:42:41        1982           80s  \n",
              "70146  2000-11-28 18:34:22        1984           80s  "
            ]
          },
          "execution_count": 149,
          "metadata": {},
          "output_type": "execute_result"
        }
      ],
      "source": [
        "df[df['Genres'].isna()].sample(3)"
      ]
    },
    {
      "cell_type": "code",
      "execution_count": null,
      "metadata": {
        "id": "tkZ2FxdEKHzd"
      },
      "outputs": [],
      "source": [
        "df.dropna(inplace=True)"
      ]
    },
    {
      "cell_type": "markdown",
      "metadata": {
        "id": "xzqbWQ6UKMi1"
      },
      "source": [
        "__Findings__\n",
        "- There is no specific pattern in the data where Genre is missing\n",
        "- As the Genres are also a mix of multiple genres, there is no straightforward way to impute them. Hence, dropping the rows with missing values."
      ]
    },
    {
      "cell_type": "markdown",
      "metadata": {
        "id": "cXFZvaJgJKtU"
      },
      "source": [
        "## Gouping Data"
      ]
    },
    {
      "cell_type": "markdown",
      "metadata": {
        "id": "DUiV4SM2rZgD"
      },
      "source": [
        "**Average Rating**"
      ]
    },
    {
      "cell_type": "code",
      "execution_count": null,
      "metadata": {
        "colab": {
          "base_uri": "https://localhost:8080/"
        },
        "id": "P7lXNqVqrbbb",
        "outputId": "a47f91a2-7958-4889-fc03-aee931f60f5b"
      },
      "outputs": [
        {
          "data": {
            "text/plain": [
              "Title\n",
              "Gate of Heavenly Peace, The                            5.0\n",
              "Smashing Time                                          5.0\n",
              "Bittersweet Motel                                      5.0\n",
              "One Little Indian                                      5.0\n",
              "Song of Freedom                                        5.0\n",
              "                                                      ... \n",
              "Elstree Calling                                        1.0\n",
              "Torso (Corpi Presentano Tracce di Violenza Carnale)    1.0\n",
              "Waltzes from Vienna                                    1.0\n",
              "Santa with Muscles                                     1.0\n",
              "Windows                                                1.0\n",
              "Name: Rating, Length: 3640, dtype: float64"
            ]
          },
          "execution_count": 156,
          "metadata": {},
          "output_type": "execute_result"
        }
      ],
      "source": [
        "df.groupby('Title')['Rating'].mean().sort_values(ascending=False)"
      ]
    },
    {
      "cell_type": "markdown",
      "metadata": {
        "id": "Nk0u6wNmr4LC"
      },
      "source": [
        "__Findings__\n",
        "- 'Gate of Heavenly Peace', 'Smashing Time', etc are some of the highly rated movies\n",
        "- 'Windows', 'Santa with Muscles', etc are some of the lowest rated movies.\n",
        "\n",
        "\n",
        "> However, the ratings can be misleading. Becuase a movie with a rating of 5 where only 2 users have rated, is not same as another movie who has the same rating but rated by thousands of users.\n",
        "Hence, we should also check how many people rated the movie."
      ]
    },
    {
      "cell_type": "markdown",
      "metadata": {
        "id": "BFFp7WxhrpyU"
      },
      "source": [
        "**Number of Ratings Given**"
      ]
    },
    {
      "cell_type": "code",
      "execution_count": null,
      "metadata": {
        "colab": {
          "base_uri": "https://localhost:8080/"
        },
        "id": "78R1SsPMruSc",
        "outputId": "a4285140-f34a-4133-c059-f5f142f6d66f"
      },
      "outputs": [
        {
          "data": {
            "text/plain": [
              "Title\n",
              "American Beauty                                   3428\n",
              "Star Wars: Episode IV - A New Hope                2991\n",
              "Star Wars: Episode V - The Empire Strikes Back    2990\n",
              "Star Wars: Episode VI - Return of the Jedi        2883\n",
              "Jurassic Park                                     2672\n",
              "                                                  ... \n",
              "Billy's Holiday                                      1\n",
              "Voyage to the Beginning of the World                 1\n",
              "Elstree Calling                                      1\n",
              "Ten Benny                                            1\n",
              "Nueba Yol                                            1\n",
              "Name: Rating, Length: 3640, dtype: int64"
            ]
          },
          "execution_count": 157,
          "metadata": {},
          "output_type": "execute_result"
        }
      ],
      "source": [
        "df.groupby('Title')['Rating'].count().sort_values(ascending=False)"
      ]
    },
    {
      "cell_type": "code",
      "execution_count": null,
      "metadata": {
        "colab": {
          "base_uri": "https://localhost:8080/",
          "height": 415
        },
        "id": "-UvaZ3yLNGCB",
        "outputId": "551683d3-f15c-4b24-ebeb-9d4031b18c3d"
      },
      "outputs": [
        {
          "data": {
            "image/png": "[encoded data removed]",
            "text/plain": [
              "<Figure size 1080x504 with 1 Axes>"
            ]
          },
          "metadata": {
            "needs_background": "light"
          },
          "output_type": "display_data"
        }
      ],
      "source": [
        "plt.figure(figsize=(15, 7))\n",
        "plt.plot(df.groupby('Title')['Rating'].count().sort_values(ascending=False))\n",
        "plt.xticks([], [])\n",
        "plt.grid()\n",
        "plt.ylabel('Number of raters')\n",
        "plt.xlabel('')\n",
        "plt.show()"
      ]
    },
    {
      "cell_type": "markdown",
      "metadata": {
        "id": "JyobPQs5MO_c"
      },
      "source": [
        "__Findings__\n",
        "- Movies like \"American Beauty\", \"Star Wars\", etc has been rated highly by users. We can rely on these ratings\n",
        "- Movies like 'Nueba Yol', 'Ten Benny', etc has been rated by only one user. These ratings are not reliable. \n",
        "\n",
        "> We will drop the movies for whose the number of ratings is low. We will use 30 raters as the threshold."
      ]
    },
    {
      "cell_type": "code",
      "execution_count": null,
      "metadata": {
        "id": "M2-S5LTwNl5H"
      },
      "outputs": [],
      "source": [
        "cnt_raters = df.groupby('Title')['Rating'].count().sort_values(ascending=False)\n",
        "mv_names   = cnt_raters[cnt_raters < 30].index"
      ]
    },
    {
      "cell_type": "code",
      "execution_count": null,
      "metadata": {
        "colab": {
          "base_uri": "https://localhost:8080/"
        },
        "id": "WgHqBoiqNtMu",
        "outputId": "50def518-5b6f-43a2-ceb7-ea24190b57b6"
      },
      "outputs": [
        {
          "data": {
            "text/plain": [
              "(9603, 13)"
            ]
          },
          "execution_count": 173,
          "metadata": {},
          "output_type": "execute_result"
        }
      ],
      "source": [
        "df[df['Title'].isin(mv_names)].shape"
      ]
    },
    {
      "cell_type": "code",
      "execution_count": null,
      "metadata": {
        "colab": {
          "base_uri": "https://localhost:8080/"
        },
        "id": "yrMwOR3vO5il",
        "outputId": "613c3772-f94f-46b2-bc61-d5c4173d6153"
      },
      "outputs": [
        {
          "data": {
            "text/plain": [
              "855"
            ]
          },
          "execution_count": 174,
          "metadata": {},
          "output_type": "execute_result"
        }
      ],
      "source": [
        "df[df['Title'].isin(mv_names)]['Title'].nunique()"
      ]
    },
    {
      "cell_type": "markdown",
      "metadata": {
        "id": "WdTZycE4Osvb"
      },
      "source": [
        "__Findings__\n",
        "- We have around 855 movies with a low number of rater count\n",
        "- These movies account for merely 0.9% of the data. Hence, we will remove them"
      ]
    },
    {
      "cell_type": "code",
      "execution_count": null,
      "metadata": {
        "colab": {
          "base_uri": "https://localhost:8080/"
        },
        "id": "IcSkrHJuOEj0",
        "outputId": "81a288c6-0925-4c2f-e969-257c8f751ba8"
      },
      "outputs": [
        {
          "data": {
            "text/plain": [
              "(986541, 13)"
            ]
          },
          "execution_count": 175,
          "metadata": {},
          "output_type": "execute_result"
        }
      ],
      "source": [
        "df = df[~df['Title'].isin(mv_names)]\n",
        "df.shape"
      ]
    },
    {
      "cell_type": "markdown",
      "metadata": {
        "id": "KY_gzx2LPg7-"
      },
      "source": [
        "__Findings__\n",
        "- Movies with low number of raters have been removed "
      ]
    },
    {
      "cell_type": "markdown",
      "metadata": {
        "id": "UCp142aTXStY"
      },
      "source": [
        "# Data Preparation\n",
        "\n",
        "- Converting the data to a format that can be used for building Recommender Systems"
      ]
    },
    {
      "cell_type": "code",
      "execution_count": null,
      "metadata": {
        "colab": {
          "base_uri": "https://localhost:8080/",
          "height": 588
        },
        "id": "7cDZu3SJsmxX",
        "outputId": "53b8acc9-28ae-4536-e6c9-17d1739f3a4a"
      },
      "outputs": [
        {
          "data": {
            "text/html": [
              "\n",
              "  <div id=\"df-962dd666-fd68-4b72-854c-4c1c1a2e5bc0\">\n",
              "    <div class=\"colab-df-container\">\n",
              "      <div>\n",
              "<style scoped>\n",
              "    .dataframe tbody tr th:only-of-type {\n",
              "        vertical-align: middle;\n",
              "    }\n",
              "\n",
              "    .dataframe tbody tr th {\n",
              "        vertical-align: top;\n",
              "    }\n",
              "\n",
              "    .dataframe thead th {\n",
              "        text-align: right;\n",
              "    }\n",
              "</style>\n",
              "<table border=\"1\" class=\"dataframe\">\n",
              "  <thead>\n",
              "    <tr style=\"text-align: right;\">\n",
              "      <th>Title</th>\n",
              "      <th>$1,000,000 Duck</th>\n",
              "      <th>'Night Mother</th>\n",
              "      <th>'Til There Was You</th>\n",
              "      <th>'burbs, The</th>\n",
              "      <th>...And Justice for All</th>\n",
              "      <th>10 Things I Hate About You</th>\n",
              "      <th>101 Dalmatians</th>\n",
              "      <th>12 Angry Men</th>\n",
              "      <th>13th Warrior, The</th>\n",
              "      <th>187</th>\n",
              "      <th>...</th>\n",
              "      <th>You've Got Mail</th>\n",
              "      <th>Young Doctors in Love</th>\n",
              "      <th>Young Frankenstein</th>\n",
              "      <th>Young Guns</th>\n",
              "      <th>Young Guns II</th>\n",
              "      <th>Young Poisoner's Handbook, The</th>\n",
              "      <th>Young Sherlock Holmes</th>\n",
              "      <th>Your Friends and Neighbors</th>\n",
              "      <th>Zero Effect</th>\n",
              "      <th>eXistenZ</th>\n",
              "    </tr>\n",
              "    <tr>\n",
              "      <th>UserID</th>\n",
              "      <th></th>\n",
              "      <th></th>\n",
              "      <th></th>\n",
              "      <th></th>\n",
              "      <th></th>\n",
              "      <th></th>\n",
              "      <th></th>\n",
              "      <th></th>\n",
              "      <th></th>\n",
              "      <th></th>\n",
              "      <th></th>\n",
              "      <th></th>\n",
              "      <th></th>\n",
              "      <th></th>\n",
              "      <th></th>\n",
              "      <th></th>\n",
              "      <th></th>\n",
              "      <th></th>\n",
              "      <th></th>\n",
              "      <th></th>\n",
              "      <th></th>\n",
              "    </tr>\n",
              "  </thead>\n",
              "  <tbody>\n",
              "    <tr>\n",
              "      <th>1</th>\n",
              "      <td>NaN</td>\n",
              "      <td>NaN</td>\n",
              "      <td>NaN</td>\n",
              "      <td>NaN</td>\n",
              "      <td>NaN</td>\n",
              "      <td>NaN</td>\n",
              "      <td>NaN</td>\n",
              "      <td>NaN</td>\n",
              "      <td>NaN</td>\n",
              "      <td>NaN</td>\n",
              "      <td>...</td>\n",
              "      <td>NaN</td>\n",
              "      <td>NaN</td>\n",
              "      <td>NaN</td>\n",
              "      <td>NaN</td>\n",
              "      <td>NaN</td>\n",
              "      <td>NaN</td>\n",
              "      <td>NaN</td>\n",
              "      <td>NaN</td>\n",
              "      <td>NaN</td>\n",
              "      <td>NaN</td>\n",
              "    </tr>\n",
              "    <tr>\n",
              "      <th>10</th>\n",
              "      <td>NaN</td>\n",
              "      <td>NaN</td>\n",
              "      <td>NaN</td>\n",
              "      <td>4.0</td>\n",
              "      <td>NaN</td>\n",
              "      <td>NaN</td>\n",
              "      <td>NaN</td>\n",
              "      <td>3.0</td>\n",
              "      <td>4.0</td>\n",
              "      <td>NaN</td>\n",
              "      <td>...</td>\n",
              "      <td>5.0</td>\n",
              "      <td>NaN</td>\n",
              "      <td>5.0</td>\n",
              "      <td>NaN</td>\n",
              "      <td>NaN</td>\n",
              "      <td>NaN</td>\n",
              "      <td>NaN</td>\n",
              "      <td>NaN</td>\n",
              "      <td>NaN</td>\n",
              "      <td>NaN</td>\n",
              "    </tr>\n",
              "    <tr>\n",
              "      <th>100</th>\n",
              "      <td>NaN</td>\n",
              "      <td>NaN</td>\n",
              "      <td>NaN</td>\n",
              "      <td>NaN</td>\n",
              "      <td>NaN</td>\n",
              "      <td>NaN</td>\n",
              "      <td>NaN</td>\n",
              "      <td>NaN</td>\n",
              "      <td>NaN</td>\n",
              "      <td>NaN</td>\n",
              "      <td>...</td>\n",
              "      <td>NaN</td>\n",
              "      <td>NaN</td>\n",
              "      <td>NaN</td>\n",
              "      <td>NaN</td>\n",
              "      <td>NaN</td>\n",
              "      <td>NaN</td>\n",
              "      <td>NaN</td>\n",
              "      <td>NaN</td>\n",
              "      <td>NaN</td>\n",
              "      <td>NaN</td>\n",
              "    </tr>\n",
              "    <tr>\n",
              "      <th>1000</th>\n",
              "      <td>NaN</td>\n",
              "      <td>NaN</td>\n",
              "      <td>NaN</td>\n",
              "      <td>NaN</td>\n",
              "      <td>NaN</td>\n",
              "      <td>NaN</td>\n",
              "      <td>4.0</td>\n",
              "      <td>NaN</td>\n",
              "      <td>NaN</td>\n",
              "      <td>NaN</td>\n",
              "      <td>...</td>\n",
              "      <td>NaN</td>\n",
              "      <td>NaN</td>\n",
              "      <td>NaN</td>\n",
              "      <td>NaN</td>\n",
              "      <td>NaN</td>\n",
              "      <td>NaN</td>\n",
              "      <td>NaN</td>\n",
              "      <td>NaN</td>\n",
              "      <td>NaN</td>\n",
              "      <td>NaN</td>\n",
              "    </tr>\n",
              "    <tr>\n",
              "      <th>1001</th>\n",
              "      <td>NaN</td>\n",
              "      <td>NaN</td>\n",
              "      <td>NaN</td>\n",
              "      <td>NaN</td>\n",
              "      <td>NaN</td>\n",
              "      <td>NaN</td>\n",
              "      <td>3.0</td>\n",
              "      <td>NaN</td>\n",
              "      <td>NaN</td>\n",
              "      <td>NaN</td>\n",
              "      <td>...</td>\n",
              "      <td>3.0</td>\n",
              "      <td>NaN</td>\n",
              "      <td>NaN</td>\n",
              "      <td>NaN</td>\n",
              "      <td>NaN</td>\n",
              "      <td>NaN</td>\n",
              "      <td>NaN</td>\n",
              "      <td>4.0</td>\n",
              "      <td>NaN</td>\n",
              "      <td>5.0</td>\n",
              "    </tr>\n",
              "    <tr>\n",
              "      <th>...</th>\n",
              "      <td>...</td>\n",
              "      <td>...</td>\n",
              "      <td>...</td>\n",
              "      <td>...</td>\n",
              "      <td>...</td>\n",
              "      <td>...</td>\n",
              "      <td>...</td>\n",
              "      <td>...</td>\n",
              "      <td>...</td>\n",
              "      <td>...</td>\n",
              "      <td>...</td>\n",
              "      <td>...</td>\n",
              "      <td>...</td>\n",
              "      <td>...</td>\n",
              "      <td>...</td>\n",
              "      <td>...</td>\n",
              "      <td>...</td>\n",
              "      <td>...</td>\n",
              "      <td>...</td>\n",
              "      <td>...</td>\n",
              "      <td>...</td>\n",
              "    </tr>\n",
              "    <tr>\n",
              "      <th>995</th>\n",
              "      <td>NaN</td>\n",
              "      <td>NaN</td>\n",
              "      <td>NaN</td>\n",
              "      <td>NaN</td>\n",
              "      <td>NaN</td>\n",
              "      <td>NaN</td>\n",
              "      <td>NaN</td>\n",
              "      <td>NaN</td>\n",
              "      <td>NaN</td>\n",
              "      <td>NaN</td>\n",
              "      <td>...</td>\n",
              "      <td>NaN</td>\n",
              "      <td>NaN</td>\n",
              "      <td>NaN</td>\n",
              "      <td>NaN</td>\n",
              "      <td>NaN</td>\n",
              "      <td>NaN</td>\n",
              "      <td>NaN</td>\n",
              "      <td>NaN</td>\n",
              "      <td>NaN</td>\n",
              "      <td>NaN</td>\n",
              "    </tr>\n",
              "    <tr>\n",
              "      <th>996</th>\n",
              "      <td>NaN</td>\n",
              "      <td>NaN</td>\n",
              "      <td>NaN</td>\n",
              "      <td>NaN</td>\n",
              "      <td>NaN</td>\n",
              "      <td>NaN</td>\n",
              "      <td>NaN</td>\n",
              "      <td>5.0</td>\n",
              "      <td>NaN</td>\n",
              "      <td>NaN</td>\n",
              "      <td>...</td>\n",
              "      <td>NaN</td>\n",
              "      <td>NaN</td>\n",
              "      <td>NaN</td>\n",
              "      <td>NaN</td>\n",
              "      <td>NaN</td>\n",
              "      <td>NaN</td>\n",
              "      <td>4.0</td>\n",
              "      <td>NaN</td>\n",
              "      <td>NaN</td>\n",
              "      <td>4.0</td>\n",
              "    </tr>\n",
              "    <tr>\n",
              "      <th>997</th>\n",
              "      <td>NaN</td>\n",
              "      <td>NaN</td>\n",
              "      <td>NaN</td>\n",
              "      <td>NaN</td>\n",
              "      <td>NaN</td>\n",
              "      <td>NaN</td>\n",
              "      <td>NaN</td>\n",
              "      <td>NaN</td>\n",
              "      <td>NaN</td>\n",
              "      <td>NaN</td>\n",
              "      <td>...</td>\n",
              "      <td>NaN</td>\n",
              "      <td>NaN</td>\n",
              "      <td>NaN</td>\n",
              "      <td>NaN</td>\n",
              "      <td>NaN</td>\n",
              "      <td>NaN</td>\n",
              "      <td>NaN</td>\n",
              "      <td>NaN</td>\n",
              "      <td>NaN</td>\n",
              "      <td>NaN</td>\n",
              "    </tr>\n",
              "    <tr>\n",
              "      <th>998</th>\n",
              "      <td>NaN</td>\n",
              "      <td>NaN</td>\n",
              "      <td>NaN</td>\n",
              "      <td>NaN</td>\n",
              "      <td>NaN</td>\n",
              "      <td>NaN</td>\n",
              "      <td>NaN</td>\n",
              "      <td>NaN</td>\n",
              "      <td>NaN</td>\n",
              "      <td>NaN</td>\n",
              "      <td>...</td>\n",
              "      <td>NaN</td>\n",
              "      <td>NaN</td>\n",
              "      <td>NaN</td>\n",
              "      <td>NaN</td>\n",
              "      <td>NaN</td>\n",
              "      <td>NaN</td>\n",
              "      <td>NaN</td>\n",
              "      <td>NaN</td>\n",
              "      <td>NaN</td>\n",
              "      <td>NaN</td>\n",
              "    </tr>\n",
              "    <tr>\n",
              "      <th>999</th>\n",
              "      <td>NaN</td>\n",
              "      <td>NaN</td>\n",
              "      <td>NaN</td>\n",
              "      <td>NaN</td>\n",
              "      <td>3.0</td>\n",
              "      <td>NaN</td>\n",
              "      <td>NaN</td>\n",
              "      <td>NaN</td>\n",
              "      <td>NaN</td>\n",
              "      <td>NaN</td>\n",
              "      <td>...</td>\n",
              "      <td>NaN</td>\n",
              "      <td>NaN</td>\n",
              "      <td>NaN</td>\n",
              "      <td>4.0</td>\n",
              "      <td>4.0</td>\n",
              "      <td>NaN</td>\n",
              "      <td>NaN</td>\n",
              "      <td>1.0</td>\n",
              "      <td>NaN</td>\n",
              "      <td>3.0</td>\n",
              "    </tr>\n",
              "  </tbody>\n",
              "</table>\n",
              "<p>6040 rows × 2785 columns</p>\n",
              "</div>\n",
              "      <button class=\"colab-df-convert\" onclick=\"convertToInteractive('df-962dd666-fd68-4b72-854c-4c1c1a2e5bc0')\"\n",
              "              title=\"Convert this dataframe to an interactive table.\"\n",
              "              style=\"display:none;\">\n",
              "        \n",
              "  <svg xmlns=\"http://www.w3.org/2000/svg\" height=\"24px\"viewBox=\"0 0 24 24\"\n",
              "       width=\"24px\">\n",
              "    <path d=\"M0 0h24v24H0V0z\" fill=\"none\"/>\n",
              "    <path d=\"M18.56 5.44l.94 2.06.94-2.06 2.06-.94-2.06-.94-.94-2.06-.94 2.06-2.06.94zm-11 1L8.5 8.5l.94-2.06 2.06-.94-2.06-.94L8.5 2.5l-.94 2.06-2.06.94zm10 10l.94 2.06.94-2.06 2.06-.94-2.06-.94-.94-2.06-.94 2.06-2.06.94z\"/><path d=\"M17.41 7.96l-1.37-1.37c-.4-.4-.92-.59-1.43-.59-.52 0-1.04.2-1.43.59L10.3 9.45l-7.72 7.72c-.78.78-.78 2.05 0 2.83L4 21.41c.39.39.9.59 1.41.59.51 0 1.02-.2 1.41-.59l7.78-7.78 2.81-2.81c.8-.78.8-2.07 0-2.86zM5.41 20L4 18.59l7.72-7.72 1.47 1.35L5.41 20z\"/>\n",
              "  </svg>\n",
              "      </button>\n",
              "      \n",
              "  <style>\n",
              "    .colab-df-container {\n",
              "      display:flex;\n",
              "      flex-wrap:wrap;\n",
              "      gap: 12px;\n",
              "    }\n",
              "\n",
              "    .colab-df-convert {\n",
              "      background-color: #E8F0FE;\n",
              "      border: none;\n",
              "      border-radius: 50%;\n",
              "      cursor: pointer;\n",
              "      display: none;\n",
              "      fill: #1967D2;\n",
              "      height: 32px;\n",
              "      padding: 0 0 0 0;\n",
              "      width: 32px;\n",
              "    }\n",
              "\n",
              "    .colab-df-convert:hover {\n",
              "      background-color: #E2EBFA;\n",
              "      box-shadow: 0px 1px 2px rgba(60, 64, 67, 0.3), 0px 1px 3px 1px rgba(60, 64, 67, 0.15);\n",
              "      fill: #174EA6;\n",
              "    }\n",
              "\n",
              "    [theme=dark] .colab-df-convert {\n",
              "      background-color: #3B4455;\n",
              "      fill: #D2E3FC;\n",
              "    }\n",
              "\n",
              "    [theme=dark] .colab-df-convert:hover {\n",
              "      background-color: #434B5C;\n",
              "      box-shadow: 0px 1px 3px 1px rgba(0, 0, 0, 0.15);\n",
              "      filter: drop-shadow(0px 1px 2px rgba(0, 0, 0, 0.3));\n",
              "      fill: #FFFFFF;\n",
              "    }\n",
              "  </style>\n",
              "\n",
              "      <script>\n",
              "        const buttonEl =\n",
              "          document.querySelector('#df-962dd666-fd68-4b72-854c-4c1c1a2e5bc0 button.colab-df-convert');\n",
              "        buttonEl.style.display =\n",
              "          google.colab.kernel.accessAllowed ? 'block' : 'none';\n",
              "\n",
              "        async function convertToInteractive(key) {\n",
              "          const element = document.querySelector('#df-962dd666-fd68-4b72-854c-4c1c1a2e5bc0');\n",
              "          const dataTable =\n",
              "            await google.colab.kernel.invokeFunction('convertToInteractive',\n",
              "                                                     [key], {});\n",
              "          if (!dataTable) return;\n",
              "\n",
              "          const docLinkHtml = 'Like what you see? Visit the ' +\n",
              "            '<a target=\"_blank\" href=https://colab.research.google.com/notebooks/data_table.ipynb>data table notebook</a>'\n",
              "            + ' to learn more about interactive tables.';\n",
              "          element.innerHTML = '';\n",
              "          dataTable['output_type'] = 'display_data';\n",
              "          await google.colab.output.renderOutput(dataTable, element);\n",
              "          const docLink = document.createElement('div');\n",
              "          docLink.innerHTML = docLinkHtml;\n",
              "          element.appendChild(docLink);\n",
              "        }\n",
              "      </script>\n",
              "    </div>\n",
              "  </div>\n",
              "  "
            ],
            "text/plain": [
              "Title   $1,000,000 Duck  'Night Mother  'Til There Was You  'burbs, The  \\\n",
              "UserID                                                                    \n",
              "1                   NaN            NaN                 NaN          NaN   \n",
              "10                  NaN            NaN                 NaN          4.0   \n",
              "100                 NaN            NaN                 NaN          NaN   \n",
              "1000                NaN            NaN                 NaN          NaN   \n",
              "1001                NaN            NaN                 NaN          NaN   \n",
              "...                 ...            ...                 ...          ...   \n",
              "995                 NaN            NaN                 NaN          NaN   \n",
              "996                 NaN            NaN                 NaN          NaN   \n",
              "997                 NaN            NaN                 NaN          NaN   \n",
              "998                 NaN            NaN                 NaN          NaN   \n",
              "999                 NaN            NaN                 NaN          NaN   \n",
              "\n",
              "Title   ...And Justice for All  10 Things I Hate About You  101 Dalmatians  \\\n",
              "UserID                                                                       \n",
              "1                          NaN                         NaN             NaN   \n",
              "10                         NaN                         NaN             NaN   \n",
              "100                        NaN                         NaN             NaN   \n",
              "1000                       NaN                         NaN             4.0   \n",
              "1001                       NaN                         NaN             3.0   \n",
              "...                        ...                         ...             ...   \n",
              "995                        NaN                         NaN             NaN   \n",
              "996                        NaN                         NaN             NaN   \n",
              "997                        NaN                         NaN             NaN   \n",
              "998                        NaN                         NaN             NaN   \n",
              "999                        3.0                         NaN             NaN   \n",
              "\n",
              "Title   12 Angry Men  13th Warrior, The  187  ...  You've Got Mail  \\\n",
              "UserID                                        ...                    \n",
              "1                NaN                NaN  NaN  ...              NaN   \n",
              "10               3.0                4.0  NaN  ...              5.0   \n",
              "100              NaN                NaN  NaN  ...              NaN   \n",
              "1000             NaN                NaN  NaN  ...              NaN   \n",
              "1001             NaN                NaN  NaN  ...              3.0   \n",
              "...              ...                ...  ...  ...              ...   \n",
              "995              NaN                NaN  NaN  ...              NaN   \n",
              "996              5.0                NaN  NaN  ...              NaN   \n",
              "997              NaN                NaN  NaN  ...              NaN   \n",
              "998              NaN                NaN  NaN  ...              NaN   \n",
              "999              NaN                NaN  NaN  ...              NaN   \n",
              "\n",
              "Title   Young Doctors in Love  Young Frankenstein  Young Guns  Young Guns II  \\\n",
              "UserID                                                                         \n",
              "1                         NaN                 NaN         NaN            NaN   \n",
              "10                        NaN                 5.0         NaN            NaN   \n",
              "100                       NaN                 NaN         NaN            NaN   \n",
              "1000                      NaN                 NaN         NaN            NaN   \n",
              "1001                      NaN                 NaN         NaN            NaN   \n",
              "...                       ...                 ...         ...            ...   \n",
              "995                       NaN                 NaN         NaN            NaN   \n",
              "996                       NaN                 NaN         NaN            NaN   \n",
              "997                       NaN                 NaN         NaN            NaN   \n",
              "998                       NaN                 NaN         NaN            NaN   \n",
              "999                       NaN                 NaN         4.0            4.0   \n",
              "\n",
              "Title   Young Poisoner's Handbook, The  Young Sherlock Holmes  \\\n",
              "UserID                                                          \n",
              "1                                  NaN                    NaN   \n",
              "10                                 NaN                    NaN   \n",
              "100                                NaN                    NaN   \n",
              "1000                               NaN                    NaN   \n",
              "1001                               NaN                    NaN   \n",
              "...                                ...                    ...   \n",
              "995                                NaN                    NaN   \n",
              "996                                NaN                    4.0   \n",
              "997                                NaN                    NaN   \n",
              "998                                NaN                    NaN   \n",
              "999                                NaN                    NaN   \n",
              "\n",
              "Title   Your Friends and Neighbors  Zero Effect  eXistenZ  \n",
              "UserID                                                     \n",
              "1                              NaN          NaN       NaN  \n",
              "10                             NaN          NaN       NaN  \n",
              "100                            NaN          NaN       NaN  \n",
              "1000                           NaN          NaN       NaN  \n",
              "1001                           4.0          NaN       5.0  \n",
              "...                            ...          ...       ...  \n",
              "995                            NaN          NaN       NaN  \n",
              "996                            NaN          NaN       4.0  \n",
              "997                            NaN          NaN       NaN  \n",
              "998                            NaN          NaN       NaN  \n",
              "999                            1.0          NaN       3.0  \n",
              "\n",
              "[6040 rows x 2785 columns]"
            ]
          },
          "execution_count": 176,
          "metadata": {},
          "output_type": "execute_result"
        }
      ],
      "source": [
        "mat = pd.pivot_table(df, index='UserID', columns='Title', values='Rating', aggfunc='mean')\n",
        "mat"
      ]
    },
    {
      "cell_type": "code",
      "execution_count": null,
      "metadata": {
        "id": "5pxkQC7Osmz0"
      },
      "outputs": [],
      "source": [
        "mat.fillna(0, inplace=True)"
      ]
    },
    {
      "cell_type": "code",
      "execution_count": null,
      "metadata": {
        "colab": {
          "base_uri": "https://localhost:8080/",
          "height": 400
        },
        "id": "AG2IsjD1sm2l",
        "outputId": "d850b4cb-f69c-4a99-d914-83b535e9889a"
      },
      "outputs": [
        {
          "data": {
            "text/html": [
              "\n",
              "  <div id=\"df-e137d265-f949-468c-ac17-0428e53b3e8f\">\n",
              "    <div class=\"colab-df-container\">\n",
              "      <div>\n",
              "<style scoped>\n",
              "    .dataframe tbody tr th:only-of-type {\n",
              "        vertical-align: middle;\n",
              "    }\n",
              "\n",
              "    .dataframe tbody tr th {\n",
              "        vertical-align: top;\n",
              "    }\n",
              "\n",
              "    .dataframe thead th {\n",
              "        text-align: right;\n",
              "    }\n",
              "</style>\n",
              "<table border=\"1\" class=\"dataframe\">\n",
              "  <thead>\n",
              "    <tr style=\"text-align: right;\">\n",
              "      <th>Title</th>\n",
              "      <th>$1,000,000 Duck</th>\n",
              "      <th>'Night Mother</th>\n",
              "      <th>'Til There Was You</th>\n",
              "      <th>'burbs, The</th>\n",
              "      <th>...And Justice for All</th>\n",
              "      <th>10 Things I Hate About You</th>\n",
              "      <th>101 Dalmatians</th>\n",
              "      <th>12 Angry Men</th>\n",
              "      <th>13th Warrior, The</th>\n",
              "      <th>187</th>\n",
              "      <th>...</th>\n",
              "      <th>You've Got Mail</th>\n",
              "      <th>Young Doctors in Love</th>\n",
              "      <th>Young Frankenstein</th>\n",
              "      <th>Young Guns</th>\n",
              "      <th>Young Guns II</th>\n",
              "      <th>Young Poisoner's Handbook, The</th>\n",
              "      <th>Young Sherlock Holmes</th>\n",
              "      <th>Your Friends and Neighbors</th>\n",
              "      <th>Zero Effect</th>\n",
              "      <th>eXistenZ</th>\n",
              "    </tr>\n",
              "    <tr>\n",
              "      <th>UserID</th>\n",
              "      <th></th>\n",
              "      <th></th>\n",
              "      <th></th>\n",
              "      <th></th>\n",
              "      <th></th>\n",
              "      <th></th>\n",
              "      <th></th>\n",
              "      <th></th>\n",
              "      <th></th>\n",
              "      <th></th>\n",
              "      <th></th>\n",
              "      <th></th>\n",
              "      <th></th>\n",
              "      <th></th>\n",
              "      <th></th>\n",
              "      <th></th>\n",
              "      <th></th>\n",
              "      <th></th>\n",
              "      <th></th>\n",
              "      <th></th>\n",
              "      <th></th>\n",
              "    </tr>\n",
              "  </thead>\n",
              "  <tbody>\n",
              "    <tr>\n",
              "      <th>1</th>\n",
              "      <td>0.0</td>\n",
              "      <td>0.0</td>\n",
              "      <td>0.0</td>\n",
              "      <td>0.0</td>\n",
              "      <td>0.0</td>\n",
              "      <td>0.0</td>\n",
              "      <td>0.0</td>\n",
              "      <td>0.0</td>\n",
              "      <td>0.0</td>\n",
              "      <td>0.0</td>\n",
              "      <td>...</td>\n",
              "      <td>0.0</td>\n",
              "      <td>0.0</td>\n",
              "      <td>0.0</td>\n",
              "      <td>0.0</td>\n",
              "      <td>0.0</td>\n",
              "      <td>0.0</td>\n",
              "      <td>0.0</td>\n",
              "      <td>0.0</td>\n",
              "      <td>0.0</td>\n",
              "      <td>0.0</td>\n",
              "    </tr>\n",
              "    <tr>\n",
              "      <th>10</th>\n",
              "      <td>0.0</td>\n",
              "      <td>0.0</td>\n",
              "      <td>0.0</td>\n",
              "      <td>4.0</td>\n",
              "      <td>0.0</td>\n",
              "      <td>0.0</td>\n",
              "      <td>0.0</td>\n",
              "      <td>3.0</td>\n",
              "      <td>4.0</td>\n",
              "      <td>0.0</td>\n",
              "      <td>...</td>\n",
              "      <td>5.0</td>\n",
              "      <td>0.0</td>\n",
              "      <td>5.0</td>\n",
              "      <td>0.0</td>\n",
              "      <td>0.0</td>\n",
              "      <td>0.0</td>\n",
              "      <td>0.0</td>\n",
              "      <td>0.0</td>\n",
              "      <td>0.0</td>\n",
              "      <td>0.0</td>\n",
              "    </tr>\n",
              "    <tr>\n",
              "      <th>100</th>\n",
              "      <td>0.0</td>\n",
              "      <td>0.0</td>\n",
              "      <td>0.0</td>\n",
              "      <td>0.0</td>\n",
              "      <td>0.0</td>\n",
              "      <td>0.0</td>\n",
              "      <td>0.0</td>\n",
              "      <td>0.0</td>\n",
              "      <td>0.0</td>\n",
              "      <td>0.0</td>\n",
              "      <td>...</td>\n",
              "      <td>0.0</td>\n",
              "      <td>0.0</td>\n",
              "      <td>0.0</td>\n",
              "      <td>0.0</td>\n",
              "      <td>0.0</td>\n",
              "      <td>0.0</td>\n",
              "      <td>0.0</td>\n",
              "      <td>0.0</td>\n",
              "      <td>0.0</td>\n",
              "      <td>0.0</td>\n",
              "    </tr>\n",
              "    <tr>\n",
              "      <th>1000</th>\n",
              "      <td>0.0</td>\n",
              "      <td>0.0</td>\n",
              "      <td>0.0</td>\n",
              "      <td>0.0</td>\n",
              "      <td>0.0</td>\n",
              "      <td>0.0</td>\n",
              "      <td>4.0</td>\n",
              "      <td>0.0</td>\n",
              "      <td>0.0</td>\n",
              "      <td>0.0</td>\n",
              "      <td>...</td>\n",
              "      <td>0.0</td>\n",
              "      <td>0.0</td>\n",
              "      <td>0.0</td>\n",
              "      <td>0.0</td>\n",
              "      <td>0.0</td>\n",
              "      <td>0.0</td>\n",
              "      <td>0.0</td>\n",
              "      <td>0.0</td>\n",
              "      <td>0.0</td>\n",
              "      <td>0.0</td>\n",
              "    </tr>\n",
              "    <tr>\n",
              "      <th>1001</th>\n",
              "      <td>0.0</td>\n",
              "      <td>0.0</td>\n",
              "      <td>0.0</td>\n",
              "      <td>0.0</td>\n",
              "      <td>0.0</td>\n",
              "      <td>0.0</td>\n",
              "      <td>3.0</td>\n",
              "      <td>0.0</td>\n",
              "      <td>0.0</td>\n",
              "      <td>0.0</td>\n",
              "      <td>...</td>\n",
              "      <td>3.0</td>\n",
              "      <td>0.0</td>\n",
              "      <td>0.0</td>\n",
              "      <td>0.0</td>\n",
              "      <td>0.0</td>\n",
              "      <td>0.0</td>\n",
              "      <td>0.0</td>\n",
              "      <td>4.0</td>\n",
              "      <td>0.0</td>\n",
              "      <td>5.0</td>\n",
              "    </tr>\n",
              "  </tbody>\n",
              "</table>\n",
              "<p>5 rows × 2785 columns</p>\n",
              "</div>\n",
              "      <button class=\"colab-df-convert\" onclick=\"convertToInteractive('df-e137d265-f949-468c-ac17-0428e53b3e8f')\"\n",
              "              title=\"Convert this dataframe to an interactive table.\"\n",
              "              style=\"display:none;\">\n",
              "        \n",
              "  <svg xmlns=\"http://www.w3.org/2000/svg\" height=\"24px\"viewBox=\"0 0 24 24\"\n",
              "       width=\"24px\">\n",
              "    <path d=\"M0 0h24v24H0V0z\" fill=\"none\"/>\n",
              "    <path d=\"M18.56 5.44l.94 2.06.94-2.06 2.06-.94-2.06-.94-.94-2.06-.94 2.06-2.06.94zm-11 1L8.5 8.5l.94-2.06 2.06-.94-2.06-.94L8.5 2.5l-.94 2.06-2.06.94zm10 10l.94 2.06.94-2.06 2.06-.94-2.06-.94-.94-2.06-.94 2.06-2.06.94z\"/><path d=\"M17.41 7.96l-1.37-1.37c-.4-.4-.92-.59-1.43-.59-.52 0-1.04.2-1.43.59L10.3 9.45l-7.72 7.72c-.78.78-.78 2.05 0 2.83L4 21.41c.39.39.9.59 1.41.59.51 0 1.02-.2 1.41-.59l7.78-7.78 2.81-2.81c.8-.78.8-2.07 0-2.86zM5.41 20L4 18.59l7.72-7.72 1.47 1.35L5.41 20z\"/>\n",
              "  </svg>\n",
              "      </button>\n",
              "      \n",
              "  <style>\n",
              "    .colab-df-container {\n",
              "      display:flex;\n",
              "      flex-wrap:wrap;\n",
              "      gap: 12px;\n",
              "    }\n",
              "\n",
              "    .colab-df-convert {\n",
              "      background-color: #E8F0FE;\n",
              "      border: none;\n",
              "      border-radius: 50%;\n",
              "      cursor: pointer;\n",
              "      display: none;\n",
              "      fill: #1967D2;\n",
              "      height: 32px;\n",
              "      padding: 0 0 0 0;\n",
              "      width: 32px;\n",
              "    }\n",
              "\n",
              "    .colab-df-convert:hover {\n",
              "      background-color: #E2EBFA;\n",
              "      box-shadow: 0px 1px 2px rgba(60, 64, 67, 0.3), 0px 1px 3px 1px rgba(60, 64, 67, 0.15);\n",
              "      fill: #174EA6;\n",
              "    }\n",
              "\n",
              "    [theme=dark] .colab-df-convert {\n",
              "      background-color: #3B4455;\n",
              "      fill: #D2E3FC;\n",
              "    }\n",
              "\n",
              "    [theme=dark] .colab-df-convert:hover {\n",
              "      background-color: #434B5C;\n",
              "      box-shadow: 0px 1px 3px 1px rgba(0, 0, 0, 0.15);\n",
              "      filter: drop-shadow(0px 1px 2px rgba(0, 0, 0, 0.3));\n",
              "      fill: #FFFFFF;\n",
              "    }\n",
              "  </style>\n",
              "\n",
              "      <script>\n",
              "        const buttonEl =\n",
              "          document.querySelector('#df-e137d265-f949-468c-ac17-0428e53b3e8f button.colab-df-convert');\n",
              "        buttonEl.style.display =\n",
              "          google.colab.kernel.accessAllowed ? 'block' : 'none';\n",
              "\n",
              "        async function convertToInteractive(key) {\n",
              "          const element = document.querySelector('#df-e137d265-f949-468c-ac17-0428e53b3e8f');\n",
              "          const dataTable =\n",
              "            await google.colab.kernel.invokeFunction('convertToInteractive',\n",
              "                                                     [key], {});\n",
              "          if (!dataTable) return;\n",
              "\n",
              "          const docLinkHtml = 'Like what you see? Visit the ' +\n",
              "            '<a target=\"_blank\" href=https://colab.research.google.com/notebooks/data_table.ipynb>data table notebook</a>'\n",
              "            + ' to learn more about interactive tables.';\n",
              "          element.innerHTML = '';\n",
              "          dataTable['output_type'] = 'display_data';\n",
              "          await google.colab.output.renderOutput(dataTable, element);\n",
              "          const docLink = document.createElement('div');\n",
              "          docLink.innerHTML = docLinkHtml;\n",
              "          element.appendChild(docLink);\n",
              "        }\n",
              "      </script>\n",
              "    </div>\n",
              "  </div>\n",
              "  "
            ],
            "text/plain": [
              "Title   $1,000,000 Duck  'Night Mother  'Til There Was You  'burbs, The  \\\n",
              "UserID                                                                    \n",
              "1                   0.0            0.0                 0.0          0.0   \n",
              "10                  0.0            0.0                 0.0          4.0   \n",
              "100                 0.0            0.0                 0.0          0.0   \n",
              "1000                0.0            0.0                 0.0          0.0   \n",
              "1001                0.0            0.0                 0.0          0.0   \n",
              "\n",
              "Title   ...And Justice for All  10 Things I Hate About You  101 Dalmatians  \\\n",
              "UserID                                                                       \n",
              "1                          0.0                         0.0             0.0   \n",
              "10                         0.0                         0.0             0.0   \n",
              "100                        0.0                         0.0             0.0   \n",
              "1000                       0.0                         0.0             4.0   \n",
              "1001                       0.0                         0.0             3.0   \n",
              "\n",
              "Title   12 Angry Men  13th Warrior, The  187  ...  You've Got Mail  \\\n",
              "UserID                                        ...                    \n",
              "1                0.0                0.0  0.0  ...              0.0   \n",
              "10               3.0                4.0  0.0  ...              5.0   \n",
              "100              0.0                0.0  0.0  ...              0.0   \n",
              "1000             0.0                0.0  0.0  ...              0.0   \n",
              "1001             0.0                0.0  0.0  ...              3.0   \n",
              "\n",
              "Title   Young Doctors in Love  Young Frankenstein  Young Guns  Young Guns II  \\\n",
              "UserID                                                                         \n",
              "1                         0.0                 0.0         0.0            0.0   \n",
              "10                        0.0                 5.0         0.0            0.0   \n",
              "100                       0.0                 0.0         0.0            0.0   \n",
              "1000                      0.0                 0.0         0.0            0.0   \n",
              "1001                      0.0                 0.0         0.0            0.0   \n",
              "\n",
              "Title   Young Poisoner's Handbook, The  Young Sherlock Holmes  \\\n",
              "UserID                                                          \n",
              "1                                  0.0                    0.0   \n",
              "10                                 0.0                    0.0   \n",
              "100                                0.0                    0.0   \n",
              "1000                               0.0                    0.0   \n",
              "1001                               0.0                    0.0   \n",
              "\n",
              "Title   Your Friends and Neighbors  Zero Effect  eXistenZ  \n",
              "UserID                                                     \n",
              "1                              0.0          0.0       0.0  \n",
              "10                             0.0          0.0       0.0  \n",
              "100                            0.0          0.0       0.0  \n",
              "1000                           0.0          0.0       0.0  \n",
              "1001                           4.0          0.0       5.0  \n",
              "\n",
              "[5 rows x 2785 columns]"
            ]
          },
          "execution_count": 178,
          "metadata": {},
          "output_type": "execute_result"
        }
      ],
      "source": [
        "mat.head()"
      ]
    },
    {
      "cell_type": "code",
      "execution_count": null,
      "metadata": {
        "colab": {
          "base_uri": "https://localhost:8080/"
        },
        "id": "Puq4vwaFsm5u",
        "outputId": "5f1fd61e-92c5-447d-e669-f3fcf8cae089"
      },
      "outputs": [
        {
          "data": {
            "text/plain": [
              "(6040, 2785)"
            ]
          },
          "execution_count": 179,
          "metadata": {},
          "output_type": "execute_result"
        }
      ],
      "source": [
        "mat.shape"
      ]
    },
    {
      "cell_type": "markdown",
      "metadata": {
        "id": "5Zoj5SNqQi7m"
      },
      "source": [
        "__Findings__\n",
        "- The matrix contains UserID details along the y-direction, MovieID along the x-direction, and the cell values mean Rating for a particular (UserID, MovieID)"
      ]
    },
    {
      "cell_type": "markdown",
      "metadata": {
        "id": "nD1ddgPDLc2A"
      },
      "source": [
        "# Build a Recommender System"
      ]
    },
    {
      "cell_type": "markdown",
      "metadata": {
        "id": "y-hp5KdkQ8DE"
      },
      "source": [
        "### Based on Pearson Correlation (Item Based)\n",
        "\n",
        "- Here we will use the item-based approach to build a Recommender System"
      ]
    },
    {
      "cell_type": "markdown",
      "metadata": {
        "id": "x1jWX474Txqu"
      },
      "source": [
        "__Take User Input__"
      ]
    },
    {
      "cell_type": "code",
      "execution_count": null,
      "metadata": {
        "id": "N0iAuopcRcrg"
      },
      "outputs": [],
      "source": [
        "user_input_movie = 'Liar Liar'"
      ]
    },
    {
      "cell_type": "markdown",
      "metadata": {
        "id": "QdXeJwQCT0Dw"
      },
      "source": [
        "__Recommend Movies__"
      ]
    },
    {
      "cell_type": "code",
      "execution_count": null,
      "metadata": {
        "id": "UDqzAgfiTwfQ"
      },
      "outputs": [],
      "source": [
        "movie_vector = mat[user_input_movie]\n",
        "\n",
        "similar_movies = mat.corrwith(movie_vector)"
      ]
    },
    {
      "cell_type": "code",
      "execution_count": null,
      "metadata": {
        "colab": {
          "base_uri": "https://localhost:8080/",
          "height": 237
        },
        "id": "vS2wSlajUD41",
        "outputId": "be929b12-cd6d-4af8-e38a-d0f2dff69e0c"
      },
      "outputs": [
        {
          "data": {
            "text/html": [
              "\n",
              "  <div id=\"df-bbb9659c-62f5-46e0-8708-0a050bd2ca12\">\n",
              "    <div class=\"colab-df-container\">\n",
              "      <div>\n",
              "<style scoped>\n",
              "    .dataframe tbody tr th:only-of-type {\n",
              "        vertical-align: middle;\n",
              "    }\n",
              "\n",
              "    .dataframe tbody tr th {\n",
              "        vertical-align: top;\n",
              "    }\n",
              "\n",
              "    .dataframe thead th {\n",
              "        text-align: right;\n",
              "    }\n",
              "</style>\n",
              "<table border=\"1\" class=\"dataframe\">\n",
              "  <thead>\n",
              "    <tr style=\"text-align: right;\">\n",
              "      <th></th>\n",
              "      <th>Correlation</th>\n",
              "    </tr>\n",
              "    <tr>\n",
              "      <th>Title</th>\n",
              "      <th></th>\n",
              "    </tr>\n",
              "  </thead>\n",
              "  <tbody>\n",
              "    <tr>\n",
              "      <th>Mrs. Doubtfire</th>\n",
              "      <td>0.499927</td>\n",
              "    </tr>\n",
              "    <tr>\n",
              "      <th>Dumb &amp; Dumber</th>\n",
              "      <td>0.459601</td>\n",
              "    </tr>\n",
              "    <tr>\n",
              "      <th>Ace Ventura: Pet Detective</th>\n",
              "      <td>0.458654</td>\n",
              "    </tr>\n",
              "    <tr>\n",
              "      <th>Home Alone</th>\n",
              "      <td>0.455967</td>\n",
              "    </tr>\n",
              "    <tr>\n",
              "      <th>Wedding Singer, The</th>\n",
              "      <td>0.429222</td>\n",
              "    </tr>\n",
              "  </tbody>\n",
              "</table>\n",
              "</div>\n",
              "      <button class=\"colab-df-convert\" onclick=\"convertToInteractive('df-bbb9659c-62f5-46e0-8708-0a050bd2ca12')\"\n",
              "              title=\"Convert this dataframe to an interactive table.\"\n",
              "              style=\"display:none;\">\n",
              "        \n",
              "  <svg xmlns=\"http://www.w3.org/2000/svg\" height=\"24px\"viewBox=\"0 0 24 24\"\n",
              "       width=\"24px\">\n",
              "    <path d=\"M0 0h24v24H0V0z\" fill=\"none\"/>\n",
              "    <path d=\"M18.56 5.44l.94 2.06.94-2.06 2.06-.94-2.06-.94-.94-2.06-.94 2.06-2.06.94zm-11 1L8.5 8.5l.94-2.06 2.06-.94-2.06-.94L8.5 2.5l-.94 2.06-2.06.94zm10 10l.94 2.06.94-2.06 2.06-.94-2.06-.94-.94-2.06-.94 2.06-2.06.94z\"/><path d=\"M17.41 7.96l-1.37-1.37c-.4-.4-.92-.59-1.43-.59-.52 0-1.04.2-1.43.59L10.3 9.45l-7.72 7.72c-.78.78-.78 2.05 0 2.83L4 21.41c.39.39.9.59 1.41.59.51 0 1.02-.2 1.41-.59l7.78-7.78 2.81-2.81c.8-.78.8-2.07 0-2.86zM5.41 20L4 18.59l7.72-7.72 1.47 1.35L5.41 20z\"/>\n",
              "  </svg>\n",
              "      </button>\n",
              "      \n",
              "  <style>\n",
              "    .colab-df-container {\n",
              "      display:flex;\n",
              "      flex-wrap:wrap;\n",
              "      gap: 12px;\n",
              "    }\n",
              "\n",
              "    .colab-df-convert {\n",
              "      background-color: #E8F0FE;\n",
              "      border: none;\n",
              "      border-radius: 50%;\n",
              "      cursor: pointer;\n",
              "      display: none;\n",
              "      fill: #1967D2;\n",
              "      height: 32px;\n",
              "      padding: 0 0 0 0;\n",
              "      width: 32px;\n",
              "    }\n",
              "\n",
              "    .colab-df-convert:hover {\n",
              "      background-color: #E2EBFA;\n",
              "      box-shadow: 0px 1px 2px rgba(60, 64, 67, 0.3), 0px 1px 3px 1px rgba(60, 64, 67, 0.15);\n",
              "      fill: #174EA6;\n",
              "    }\n",
              "\n",
              "    [theme=dark] .colab-df-convert {\n",
              "      background-color: #3B4455;\n",
              "      fill: #D2E3FC;\n",
              "    }\n",
              "\n",
              "    [theme=dark] .colab-df-convert:hover {\n",
              "      background-color: #434B5C;\n",
              "      box-shadow: 0px 1px 3px 1px rgba(0, 0, 0, 0.15);\n",
              "      filter: drop-shadow(0px 1px 2px rgba(0, 0, 0, 0.3));\n",
              "      fill: #FFFFFF;\n",
              "    }\n",
              "  </style>\n",
              "\n",
              "      <script>\n",
              "        const buttonEl =\n",
              "          document.querySelector('#df-bbb9659c-62f5-46e0-8708-0a050bd2ca12 button.colab-df-convert');\n",
              "        buttonEl.style.display =\n",
              "          google.colab.kernel.accessAllowed ? 'block' : 'none';\n",
              "\n",
              "        async function convertToInteractive(key) {\n",
              "          const element = document.querySelector('#df-bbb9659c-62f5-46e0-8708-0a050bd2ca12');\n",
              "          const dataTable =\n",
              "            await google.colab.kernel.invokeFunction('convertToInteractive',\n",
              "                                                     [key], {});\n",
              "          if (!dataTable) return;\n",
              "\n",
              "          const docLinkHtml = 'Like what you see? Visit the ' +\n",
              "            '<a target=\"_blank\" href=https://colab.research.google.com/notebooks/data_table.ipynb>data table notebook</a>'\n",
              "            + ' to learn more about interactive tables.';\n",
              "          element.innerHTML = '';\n",
              "          dataTable['output_type'] = 'display_data';\n",
              "          await google.colab.output.renderOutput(dataTable, element);\n",
              "          const docLink = document.createElement('div');\n",
              "          docLink.innerHTML = docLinkHtml;\n",
              "          element.appendChild(docLink);\n",
              "        }\n",
              "      </script>\n",
              "    </div>\n",
              "  </div>\n",
              "  "
            ],
            "text/plain": [
              "                            Correlation\n",
              "Title                                  \n",
              "Mrs. Doubtfire                 0.499927\n",
              "Dumb & Dumber                  0.459601\n",
              "Ace Ventura: Pet Detective     0.458654\n",
              "Home Alone                     0.455967\n",
              "Wedding Singer, The            0.429222"
            ]
          },
          "execution_count": 318,
          "metadata": {},
          "output_type": "execute_result"
        }
      ],
      "source": [
        "sim_df = pd.DataFrame(similar_movies, columns=['Correlation'])\n",
        "sim_df.sort_values('Correlation', ascending=False, inplace=True)\n",
        "sim_df.iloc[1:, :][:5]"
      ]
    },
    {
      "cell_type": "markdown",
      "metadata": {
        "id": "aGtPSrqTUVgT"
      },
      "source": [
        "__Findings__\n",
        "\n",
        "If the user like **`Liar Liar`**, the top 5 recommendations based on Pearson Correlation are:\n",
        "- Mrs. Doubtfire (0.499927)\n",
        "- Dumb & Dumber\t(0.459601)\n",
        "- Ace Ventura: Pet Detective (0.458654)\n",
        "- Home Alone (0.455967)\n",
        "- Wedding Singer, The (0.429222)"
      ]
    },
    {
      "cell_type": "markdown",
      "metadata": {
        "id": "_rN5IHVJROme"
      },
      "source": [
        "### Based on Cosine Similarity\n",
        "- Here we will use the item-based approach to create a recommender system that uses Nearest Neighbors algorithm and Cosine Similarity"
      ]
    },
    {
      "cell_type": "code",
      "execution_count": null,
      "metadata": {
        "id": "c1gKvZXRVeWU"
      },
      "outputs": [],
      "source": [
        "from sklearn.metrics.pairwise import cosine_similarity"
      ]
    },
    {
      "cell_type": "markdown",
      "metadata": {
        "id": "uL9NLz7OVOL8"
      },
      "source": [
        "**User Similarity Matrix**"
      ]
    },
    {
      "cell_type": "code",
      "execution_count": null,
      "metadata": {
        "id": "7_yB4rpxVShR"
      },
      "outputs": [],
      "source": [
        "user_similarity = cosine_similarity(mat)\n",
        "user_sim_matrix = pd.DataFrame(user_similarity, index=mat.index, columns=mat.index)"
      ]
    },
    {
      "cell_type": "code",
      "execution_count": null,
      "metadata": {
        "colab": {
          "base_uri": "https://localhost:8080/",
          "height": 268
        },
        "id": "Cy7WV5JUWG3p",
        "outputId": "6f801405-408c-4fda-98d4-83b0ac135f75"
      },
      "outputs": [
        {
          "data": {
            "text/html": [
              "\n",
              "  <div id=\"df-5f713d0d-0614-42fb-9eb9-1f91626072d3\">\n",
              "    <div class=\"colab-df-container\">\n",
              "      <div>\n",
              "<style scoped>\n",
              "    .dataframe tbody tr th:only-of-type {\n",
              "        vertical-align: middle;\n",
              "    }\n",
              "\n",
              "    .dataframe tbody tr th {\n",
              "        vertical-align: top;\n",
              "    }\n",
              "\n",
              "    .dataframe thead th {\n",
              "        text-align: right;\n",
              "    }\n",
              "</style>\n",
              "<table border=\"1\" class=\"dataframe\">\n",
              "  <thead>\n",
              "    <tr style=\"text-align: right;\">\n",
              "      <th>UserID</th>\n",
              "      <th>1</th>\n",
              "      <th>10</th>\n",
              "      <th>100</th>\n",
              "      <th>1000</th>\n",
              "      <th>1001</th>\n",
              "      <th>1002</th>\n",
              "      <th>1003</th>\n",
              "      <th>1004</th>\n",
              "      <th>1005</th>\n",
              "      <th>1006</th>\n",
              "      <th>...</th>\n",
              "      <th>990</th>\n",
              "      <th>991</th>\n",
              "      <th>992</th>\n",
              "      <th>993</th>\n",
              "      <th>994</th>\n",
              "      <th>995</th>\n",
              "      <th>996</th>\n",
              "      <th>997</th>\n",
              "      <th>998</th>\n",
              "      <th>999</th>\n",
              "    </tr>\n",
              "    <tr>\n",
              "      <th>UserID</th>\n",
              "      <th></th>\n",
              "      <th></th>\n",
              "      <th></th>\n",
              "      <th></th>\n",
              "      <th></th>\n",
              "      <th></th>\n",
              "      <th></th>\n",
              "      <th></th>\n",
              "      <th></th>\n",
              "      <th></th>\n",
              "      <th></th>\n",
              "      <th></th>\n",
              "      <th></th>\n",
              "      <th></th>\n",
              "      <th></th>\n",
              "      <th></th>\n",
              "      <th></th>\n",
              "      <th></th>\n",
              "      <th></th>\n",
              "      <th></th>\n",
              "      <th></th>\n",
              "    </tr>\n",
              "  </thead>\n",
              "  <tbody>\n",
              "    <tr>\n",
              "      <th>1</th>\n",
              "      <td>1.000000</td>\n",
              "      <td>0.256071</td>\n",
              "      <td>0.123967</td>\n",
              "      <td>0.207800</td>\n",
              "      <td>0.143630</td>\n",
              "      <td>0.11032</td>\n",
              "      <td>0.121384</td>\n",
              "      <td>0.180497</td>\n",
              "      <td>0.103896</td>\n",
              "      <td>0.052816</td>\n",
              "      <td>...</td>\n",
              "      <td>0.079367</td>\n",
              "      <td>0.038048</td>\n",
              "      <td>0.032176</td>\n",
              "      <td>0.068074</td>\n",
              "      <td>0.070511</td>\n",
              "      <td>0.035731</td>\n",
              "      <td>0.170184</td>\n",
              "      <td>0.159267</td>\n",
              "      <td>0.122182</td>\n",
              "      <td>0.122444</td>\n",
              "    </tr>\n",
              "    <tr>\n",
              "      <th>10</th>\n",
              "      <td>0.256071</td>\n",
              "      <td>1.000000</td>\n",
              "      <td>0.260410</td>\n",
              "      <td>0.281306</td>\n",
              "      <td>0.164098</td>\n",
              "      <td>0.11325</td>\n",
              "      <td>0.142403</td>\n",
              "      <td>0.434465</td>\n",
              "      <td>0.195490</td>\n",
              "      <td>0.102789</td>\n",
              "      <td>...</td>\n",
              "      <td>0.154868</td>\n",
              "      <td>0.186783</td>\n",
              "      <td>0.084089</td>\n",
              "      <td>0.127093</td>\n",
              "      <td>0.119686</td>\n",
              "      <td>0.146984</td>\n",
              "      <td>0.305705</td>\n",
              "      <td>0.166188</td>\n",
              "      <td>0.136886</td>\n",
              "      <td>0.249292</td>\n",
              "    </tr>\n",
              "    <tr>\n",
              "      <th>100</th>\n",
              "      <td>0.123967</td>\n",
              "      <td>0.260410</td>\n",
              "      <td>1.000000</td>\n",
              "      <td>0.306067</td>\n",
              "      <td>0.078080</td>\n",
              "      <td>0.11045</td>\n",
              "      <td>0.358686</td>\n",
              "      <td>0.237850</td>\n",
              "      <td>0.172872</td>\n",
              "      <td>0.099147</td>\n",
              "      <td>...</td>\n",
              "      <td>0.098235</td>\n",
              "      <td>0.097953</td>\n",
              "      <td>0.065233</td>\n",
              "      <td>0.179835</td>\n",
              "      <td>0.273088</td>\n",
              "      <td>0.033754</td>\n",
              "      <td>0.344290</td>\n",
              "      <td>0.204302</td>\n",
              "      <td>0.116210</td>\n",
              "      <td>0.307071</td>\n",
              "    </tr>\n",
              "  </tbody>\n",
              "</table>\n",
              "<p>3 rows × 6040 columns</p>\n",
              "</div>\n",
              "      <button class=\"colab-df-convert\" onclick=\"convertToInteractive('df-5f713d0d-0614-42fb-9eb9-1f91626072d3')\"\n",
              "              title=\"Convert this dataframe to an interactive table.\"\n",
              "              style=\"display:none;\">\n",
              "        \n",
              "  <svg xmlns=\"http://www.w3.org/2000/svg\" height=\"24px\"viewBox=\"0 0 24 24\"\n",
              "       width=\"24px\">\n",
              "    <path d=\"M0 0h24v24H0V0z\" fill=\"none\"/>\n",
              "    <path d=\"M18.56 5.44l.94 2.06.94-2.06 2.06-.94-2.06-.94-.94-2.06-.94 2.06-2.06.94zm-11 1L8.5 8.5l.94-2.06 2.06-.94-2.06-.94L8.5 2.5l-.94 2.06-2.06.94zm10 10l.94 2.06.94-2.06 2.06-.94-2.06-.94-.94-2.06-.94 2.06-2.06.94z\"/><path d=\"M17.41 7.96l-1.37-1.37c-.4-.4-.92-.59-1.43-.59-.52 0-1.04.2-1.43.59L10.3 9.45l-7.72 7.72c-.78.78-.78 2.05 0 2.83L4 21.41c.39.39.9.59 1.41.59.51 0 1.02-.2 1.41-.59l7.78-7.78 2.81-2.81c.8-.78.8-2.07 0-2.86zM5.41 20L4 18.59l7.72-7.72 1.47 1.35L5.41 20z\"/>\n",
              "  </svg>\n",
              "      </button>\n",
              "      \n",
              "  <style>\n",
              "    .colab-df-container {\n",
              "      display:flex;\n",
              "      flex-wrap:wrap;\n",
              "      gap: 12px;\n",
              "    }\n",
              "\n",
              "    .colab-df-convert {\n",
              "      background-color: #E8F0FE;\n",
              "      border: none;\n",
              "      border-radius: 50%;\n",
              "      cursor: pointer;\n",
              "      display: none;\n",
              "      fill: #1967D2;\n",
              "      height: 32px;\n",
              "      padding: 0 0 0 0;\n",
              "      width: 32px;\n",
              "    }\n",
              "\n",
              "    .colab-df-convert:hover {\n",
              "      background-color: #E2EBFA;\n",
              "      box-shadow: 0px 1px 2px rgba(60, 64, 67, 0.3), 0px 1px 3px 1px rgba(60, 64, 67, 0.15);\n",
              "      fill: #174EA6;\n",
              "    }\n",
              "\n",
              "    [theme=dark] .colab-df-convert {\n",
              "      background-color: #3B4455;\n",
              "      fill: #D2E3FC;\n",
              "    }\n",
              "\n",
              "    [theme=dark] .colab-df-convert:hover {\n",
              "      background-color: #434B5C;\n",
              "      box-shadow: 0px 1px 3px 1px rgba(0, 0, 0, 0.15);\n",
              "      filter: drop-shadow(0px 1px 2px rgba(0, 0, 0, 0.3));\n",
              "      fill: #FFFFFF;\n",
              "    }\n",
              "  </style>\n",
              "\n",
              "      <script>\n",
              "        const buttonEl =\n",
              "          document.querySelector('#df-5f713d0d-0614-42fb-9eb9-1f91626072d3 button.colab-df-convert');\n",
              "        buttonEl.style.display =\n",
              "          google.colab.kernel.accessAllowed ? 'block' : 'none';\n",
              "\n",
              "        async function convertToInteractive(key) {\n",
              "          const element = document.querySelector('#df-5f713d0d-0614-42fb-9eb9-1f91626072d3');\n",
              "          const dataTable =\n",
              "            await google.colab.kernel.invokeFunction('convertToInteractive',\n",
              "                                                     [key], {});\n",
              "          if (!dataTable) return;\n",
              "\n",
              "          const docLinkHtml = 'Like what you see? Visit the ' +\n",
              "            '<a target=\"_blank\" href=https://colab.research.google.com/notebooks/data_table.ipynb>data table notebook</a>'\n",
              "            + ' to learn more about interactive tables.';\n",
              "          element.innerHTML = '';\n",
              "          dataTable['output_type'] = 'display_data';\n",
              "          await google.colab.output.renderOutput(dataTable, element);\n",
              "          const docLink = document.createElement('div');\n",
              "          docLink.innerHTML = docLinkHtml;\n",
              "          element.appendChild(docLink);\n",
              "        }\n",
              "      </script>\n",
              "    </div>\n",
              "  </div>\n",
              "  "
            ],
            "text/plain": [
              "UserID         1        10       100      1000      1001     1002      1003  \\\n",
              "UserID                                                                        \n",
              "1       1.000000  0.256071  0.123967  0.207800  0.143630  0.11032  0.121384   \n",
              "10      0.256071  1.000000  0.260410  0.281306  0.164098  0.11325  0.142403   \n",
              "100     0.123967  0.260410  1.000000  0.306067  0.078080  0.11045  0.358686   \n",
              "\n",
              "UserID      1004      1005      1006  ...       990       991       992  \\\n",
              "UserID                                ...                                 \n",
              "1       0.180497  0.103896  0.052816  ...  0.079367  0.038048  0.032176   \n",
              "10      0.434465  0.195490  0.102789  ...  0.154868  0.186783  0.084089   \n",
              "100     0.237850  0.172872  0.099147  ...  0.098235  0.097953  0.065233   \n",
              "\n",
              "UserID       993       994       995       996       997       998       999  \n",
              "UserID                                                                        \n",
              "1       0.068074  0.070511  0.035731  0.170184  0.159267  0.122182  0.122444  \n",
              "10      0.127093  0.119686  0.146984  0.305705  0.166188  0.136886  0.249292  \n",
              "100     0.179835  0.273088  0.033754  0.344290  0.204302  0.116210  0.307071  \n",
              "\n",
              "[3 rows x 6040 columns]"
            ]
          },
          "execution_count": 197,
          "metadata": {},
          "output_type": "execute_result"
        }
      ],
      "source": [
        "user_sim_matrix.head(3)"
      ]
    },
    {
      "cell_type": "markdown",
      "metadata": {
        "id": "QdJDgh8oWXQM"
      },
      "source": [
        "**Item Similarity Matrix**"
      ]
    },
    {
      "cell_type": "code",
      "execution_count": null,
      "metadata": {
        "id": "mgtkVM0rWXQN"
      },
      "outputs": [],
      "source": [
        "item_similarity = cosine_similarity(mat.T)\n",
        "item_sim_matrix = pd.DataFrame(item_similarity, index=mat.columns, columns=mat.columns)"
      ]
    },
    {
      "cell_type": "code",
      "execution_count": null,
      "metadata": {
        "colab": {
          "base_uri": "https://localhost:8080/",
          "height": 390
        },
        "id": "-GOw11phWXQN",
        "outputId": "c5447f24-46f5-47fa-a59e-8884affd0bde"
      },
      "outputs": [
        {
          "data": {
            "text/html": [
              "\n",
              "  <div id=\"df-76450c8d-9caa-43fb-8bb9-f125b8d59d9c\">\n",
              "    <div class=\"colab-df-container\">\n",
              "      <div>\n",
              "<style scoped>\n",
              "    .dataframe tbody tr th:only-of-type {\n",
              "        vertical-align: middle;\n",
              "    }\n",
              "\n",
              "    .dataframe tbody tr th {\n",
              "        vertical-align: top;\n",
              "    }\n",
              "\n",
              "    .dataframe thead th {\n",
              "        text-align: right;\n",
              "    }\n",
              "</style>\n",
              "<table border=\"1\" class=\"dataframe\">\n",
              "  <thead>\n",
              "    <tr style=\"text-align: right;\">\n",
              "      <th>Title</th>\n",
              "      <th>$1,000,000 Duck</th>\n",
              "      <th>'Night Mother</th>\n",
              "      <th>'Til There Was You</th>\n",
              "      <th>'burbs, The</th>\n",
              "      <th>...And Justice for All</th>\n",
              "      <th>10 Things I Hate About You</th>\n",
              "      <th>101 Dalmatians</th>\n",
              "      <th>12 Angry Men</th>\n",
              "      <th>13th Warrior, The</th>\n",
              "      <th>187</th>\n",
              "      <th>...</th>\n",
              "      <th>You've Got Mail</th>\n",
              "      <th>Young Doctors in Love</th>\n",
              "      <th>Young Frankenstein</th>\n",
              "      <th>Young Guns</th>\n",
              "      <th>Young Guns II</th>\n",
              "      <th>Young Poisoner's Handbook, The</th>\n",
              "      <th>Young Sherlock Holmes</th>\n",
              "      <th>Your Friends and Neighbors</th>\n",
              "      <th>Zero Effect</th>\n",
              "      <th>eXistenZ</th>\n",
              "    </tr>\n",
              "    <tr>\n",
              "      <th>Title</th>\n",
              "      <th></th>\n",
              "      <th></th>\n",
              "      <th></th>\n",
              "      <th></th>\n",
              "      <th></th>\n",
              "      <th></th>\n",
              "      <th></th>\n",
              "      <th></th>\n",
              "      <th></th>\n",
              "      <th></th>\n",
              "      <th></th>\n",
              "      <th></th>\n",
              "      <th></th>\n",
              "      <th></th>\n",
              "      <th></th>\n",
              "      <th></th>\n",
              "      <th></th>\n",
              "      <th></th>\n",
              "      <th></th>\n",
              "      <th></th>\n",
              "      <th></th>\n",
              "    </tr>\n",
              "  </thead>\n",
              "  <tbody>\n",
              "    <tr>\n",
              "      <th>$1,000,000 Duck</th>\n",
              "      <td>1.000000</td>\n",
              "      <td>0.072357</td>\n",
              "      <td>0.037011</td>\n",
              "      <td>0.079291</td>\n",
              "      <td>0.060838</td>\n",
              "      <td>0.058619</td>\n",
              "      <td>0.189843</td>\n",
              "      <td>0.094785</td>\n",
              "      <td>0.058418</td>\n",
              "      <td>0.028171</td>\n",
              "      <td>...</td>\n",
              "      <td>0.096464</td>\n",
              "      <td>0.117695</td>\n",
              "      <td>0.123579</td>\n",
              "      <td>0.062942</td>\n",
              "      <td>0.062749</td>\n",
              "      <td>0.038725</td>\n",
              "      <td>0.076474</td>\n",
              "      <td>0.044074</td>\n",
              "      <td>0.039395</td>\n",
              "      <td>0.027003</td>\n",
              "    </tr>\n",
              "    <tr>\n",
              "      <th>'Night Mother</th>\n",
              "      <td>0.072357</td>\n",
              "      <td>1.000000</td>\n",
              "      <td>0.115290</td>\n",
              "      <td>0.115545</td>\n",
              "      <td>0.159526</td>\n",
              "      <td>0.076798</td>\n",
              "      <td>0.137135</td>\n",
              "      <td>0.111413</td>\n",
              "      <td>0.046135</td>\n",
              "      <td>0.060254</td>\n",
              "      <td>...</td>\n",
              "      <td>0.085522</td>\n",
              "      <td>0.218780</td>\n",
              "      <td>0.129181</td>\n",
              "      <td>0.077667</td>\n",
              "      <td>0.037901</td>\n",
              "      <td>0.053010</td>\n",
              "      <td>0.087828</td>\n",
              "      <td>0.135962</td>\n",
              "      <td>0.074787</td>\n",
              "      <td>0.077807</td>\n",
              "    </tr>\n",
              "    <tr>\n",
              "      <th>'Til There Was You</th>\n",
              "      <td>0.037011</td>\n",
              "      <td>0.115290</td>\n",
              "      <td>1.000000</td>\n",
              "      <td>0.098756</td>\n",
              "      <td>0.066301</td>\n",
              "      <td>0.127895</td>\n",
              "      <td>0.128523</td>\n",
              "      <td>0.079115</td>\n",
              "      <td>0.066598</td>\n",
              "      <td>0.019914</td>\n",
              "      <td>...</td>\n",
              "      <td>0.154047</td>\n",
              "      <td>0.073955</td>\n",
              "      <td>0.048908</td>\n",
              "      <td>0.059325</td>\n",
              "      <td>0.049421</td>\n",
              "      <td>0.029200</td>\n",
              "      <td>0.062893</td>\n",
              "      <td>0.079187</td>\n",
              "      <td>0.079261</td>\n",
              "      <td>0.063284</td>\n",
              "    </tr>\n",
              "  </tbody>\n",
              "</table>\n",
              "<p>3 rows × 2785 columns</p>\n",
              "</div>\n",
              "      <button class=\"colab-df-convert\" onclick=\"convertToInteractive('df-76450c8d-9caa-43fb-8bb9-f125b8d59d9c')\"\n",
              "              title=\"Convert this dataframe to an interactive table.\"\n",
              "              style=\"display:none;\">\n",
              "        \n",
              "  <svg xmlns=\"http://www.w3.org/2000/svg\" height=\"24px\"viewBox=\"0 0 24 24\"\n",
              "       width=\"24px\">\n",
              "    <path d=\"M0 0h24v24H0V0z\" fill=\"none\"/>\n",
              "    <path d=\"M18.56 5.44l.94 2.06.94-2.06 2.06-.94-2.06-.94-.94-2.06-.94 2.06-2.06.94zm-11 1L8.5 8.5l.94-2.06 2.06-.94-2.06-.94L8.5 2.5l-.94 2.06-2.06.94zm10 10l.94 2.06.94-2.06 2.06-.94-2.06-.94-.94-2.06-.94 2.06-2.06.94z\"/><path d=\"M17.41 7.96l-1.37-1.37c-.4-.4-.92-.59-1.43-.59-.52 0-1.04.2-1.43.59L10.3 9.45l-7.72 7.72c-.78.78-.78 2.05 0 2.83L4 21.41c.39.39.9.59 1.41.59.51 0 1.02-.2 1.41-.59l7.78-7.78 2.81-2.81c.8-.78.8-2.07 0-2.86zM5.41 20L4 18.59l7.72-7.72 1.47 1.35L5.41 20z\"/>\n",
              "  </svg>\n",
              "      </button>\n",
              "      \n",
              "  <style>\n",
              "    .colab-df-container {\n",
              "      display:flex;\n",
              "      flex-wrap:wrap;\n",
              "      gap: 12px;\n",
              "    }\n",
              "\n",
              "    .colab-df-convert {\n",
              "      background-color: #E8F0FE;\n",
              "      border: none;\n",
              "      border-radius: 50%;\n",
              "      cursor: pointer;\n",
              "      display: none;\n",
              "      fill: #1967D2;\n",
              "      height: 32px;\n",
              "      padding: 0 0 0 0;\n",
              "      width: 32px;\n",
              "    }\n",
              "\n",
              "    .colab-df-convert:hover {\n",
              "      background-color: #E2EBFA;\n",
              "      box-shadow: 0px 1px 2px rgba(60, 64, 67, 0.3), 0px 1px 3px 1px rgba(60, 64, 67, 0.15);\n",
              "      fill: #174EA6;\n",
              "    }\n",
              "\n",
              "    [theme=dark] .colab-df-convert {\n",
              "      background-color: #3B4455;\n",
              "      fill: #D2E3FC;\n",
              "    }\n",
              "\n",
              "    [theme=dark] .colab-df-convert:hover {\n",
              "      background-color: #434B5C;\n",
              "      box-shadow: 0px 1px 3px 1px rgba(0, 0, 0, 0.15);\n",
              "      filter: drop-shadow(0px 1px 2px rgba(0, 0, 0, 0.3));\n",
              "      fill: #FFFFFF;\n",
              "    }\n",
              "  </style>\n",
              "\n",
              "      <script>\n",
              "        const buttonEl =\n",
              "          document.querySelector('#df-76450c8d-9caa-43fb-8bb9-f125b8d59d9c button.colab-df-convert');\n",
              "        buttonEl.style.display =\n",
              "          google.colab.kernel.accessAllowed ? 'block' : 'none';\n",
              "\n",
              "        async function convertToInteractive(key) {\n",
              "          const element = document.querySelector('#df-76450c8d-9caa-43fb-8bb9-f125b8d59d9c');\n",
              "          const dataTable =\n",
              "            await google.colab.kernel.invokeFunction('convertToInteractive',\n",
              "                                                     [key], {});\n",
              "          if (!dataTable) return;\n",
              "\n",
              "          const docLinkHtml = 'Like what you see? Visit the ' +\n",
              "            '<a target=\"_blank\" href=https://colab.research.google.com/notebooks/data_table.ipynb>data table notebook</a>'\n",
              "            + ' to learn more about interactive tables.';\n",
              "          element.innerHTML = '';\n",
              "          dataTable['output_type'] = 'display_data';\n",
              "          await google.colab.output.renderOutput(dataTable, element);\n",
              "          const docLink = document.createElement('div');\n",
              "          docLink.innerHTML = docLinkHtml;\n",
              "          element.appendChild(docLink);\n",
              "        }\n",
              "      </script>\n",
              "    </div>\n",
              "  </div>\n",
              "  "
            ],
            "text/plain": [
              "Title               $1,000,000 Duck  'Night Mother  'Til There Was You  \\\n",
              "Title                                                                    \n",
              "$1,000,000 Duck            1.000000       0.072357            0.037011   \n",
              "'Night Mother              0.072357       1.000000            0.115290   \n",
              "'Til There Was You         0.037011       0.115290            1.000000   \n",
              "\n",
              "Title               'burbs, The  ...And Justice for All  \\\n",
              "Title                                                     \n",
              "$1,000,000 Duck        0.079291                0.060838   \n",
              "'Night Mother          0.115545                0.159526   \n",
              "'Til There Was You     0.098756                0.066301   \n",
              "\n",
              "Title               10 Things I Hate About You  101 Dalmatians  12 Angry Men  \\\n",
              "Title                                                                          \n",
              "$1,000,000 Duck                       0.058619        0.189843      0.094785   \n",
              "'Night Mother                         0.076798        0.137135      0.111413   \n",
              "'Til There Was You                    0.127895        0.128523      0.079115   \n",
              "\n",
              "Title               13th Warrior, The       187  ...  You've Got Mail  \\\n",
              "Title                                            ...                    \n",
              "$1,000,000 Duck              0.058418  0.028171  ...         0.096464   \n",
              "'Night Mother                0.046135  0.060254  ...         0.085522   \n",
              "'Til There Was You           0.066598  0.019914  ...         0.154047   \n",
              "\n",
              "Title               Young Doctors in Love  Young Frankenstein  Young Guns  \\\n",
              "Title                                                                       \n",
              "$1,000,000 Duck                  0.117695            0.123579    0.062942   \n",
              "'Night Mother                    0.218780            0.129181    0.077667   \n",
              "'Til There Was You               0.073955            0.048908    0.059325   \n",
              "\n",
              "Title               Young Guns II  Young Poisoner's Handbook, The  \\\n",
              "Title                                                               \n",
              "$1,000,000 Duck          0.062749                        0.038725   \n",
              "'Night Mother            0.037901                        0.053010   \n",
              "'Til There Was You       0.049421                        0.029200   \n",
              "\n",
              "Title               Young Sherlock Holmes  Your Friends and Neighbors  \\\n",
              "Title                                                                   \n",
              "$1,000,000 Duck                  0.076474                    0.044074   \n",
              "'Night Mother                    0.087828                    0.135962   \n",
              "'Til There Was You               0.062893                    0.079187   \n",
              "\n",
              "Title               Zero Effect  eXistenZ  \n",
              "Title                                      \n",
              "$1,000,000 Duck        0.039395  0.027003  \n",
              "'Night Mother          0.074787  0.077807  \n",
              "'Til There Was You     0.079261  0.063284  \n",
              "\n",
              "[3 rows x 2785 columns]"
            ]
          },
          "execution_count": 196,
          "metadata": {},
          "output_type": "execute_result"
        }
      ],
      "source": [
        "item_sim_matrix.head(3)"
      ]
    },
    {
      "cell_type": "markdown",
      "metadata": {
        "id": "0y54G168W2Y3"
      },
      "source": [
        "**Create a CSR using the pivot table**"
      ]
    },
    {
      "cell_type": "code",
      "execution_count": null,
      "metadata": {
        "id": "qE2P35aAXXUM"
      },
      "outputs": [],
      "source": [
        "from scipy import sparse"
      ]
    },
    {
      "cell_type": "code",
      "execution_count": null,
      "metadata": {
        "colab": {
          "base_uri": "https://localhost:8080/"
        },
        "id": "Ip_UFzpxXbei",
        "outputId": "f1e6e3a6-4287-40e7-c874-cbe57e8a76f4"
      },
      "outputs": [
        {
          "data": {
            "text/plain": [
              "<2785x6040 sparse matrix of type '<class 'numpy.float64'>'\n",
              "\twith 983422 stored elements in Compressed Sparse Row format>"
            ]
          },
          "execution_count": 200,
          "metadata": {},
          "output_type": "execute_result"
        }
      ],
      "source": [
        "# we are taking transpose because we want item info\n",
        "csr_mat = sparse.csr_matrix(mat.T.values)\n",
        "csr_mat"
      ]
    },
    {
      "cell_type": "markdown",
      "metadata": {
        "id": "5DzqjZnuW2fx"
      },
      "source": [
        "**Take User Input**"
      ]
    },
    {
      "cell_type": "code",
      "execution_count": null,
      "metadata": {
        "id": "X45fd4q9XpZH"
      },
      "outputs": [],
      "source": [
        "user_input_movie = 'Good Will Hunting'"
      ]
    },
    {
      "cell_type": "markdown",
      "metadata": {
        "id": "jN7-QrzzW2l_"
      },
      "source": [
        "**Recommend Movies**"
      ]
    },
    {
      "cell_type": "code",
      "execution_count": null,
      "metadata": {
        "id": "huvMnQwFYiQY"
      },
      "outputs": [],
      "source": [
        "from sklearn.neighbors import NearestNeighbors"
      ]
    },
    {
      "cell_type": "code",
      "execution_count": null,
      "metadata": {
        "colab": {
          "base_uri": "https://localhost:8080/"
        },
        "id": "bj8wvc6mX09w",
        "outputId": "f139e000-098d-4343-82b8-a79301d1160e"
      },
      "outputs": [
        {
          "data": {
            "text/plain": [
              "NearestNeighbors(metric='cosine')"
            ]
          },
          "execution_count": 204,
          "metadata": {},
          "output_type": "execute_result"
        }
      ],
      "source": [
        "knn = NearestNeighbors(n_neighbors=5, metric='cosine')\n",
        "knn.fit(csr_mat)"
      ]
    },
    {
      "cell_type": "code",
      "execution_count": null,
      "metadata": {
        "id": "xBrb2u36X09x"
      },
      "outputs": [],
      "source": [
        "distances, indices = knn.kneighbors(mat[user_input_movie].values.reshape(1, -1), n_neighbors=6)"
      ]
    },
    {
      "cell_type": "code",
      "execution_count": null,
      "metadata": {
        "colab": {
          "base_uri": "https://localhost:8080/"
        },
        "id": "sMQTMV-2X09x",
        "outputId": "bd5cd2ea-fffa-41af-9a33-0b0cfcd6ae40"
      },
      "outputs": [
        {
          "data": {
            "text/plain": [
              "array([[1062, 2253, 2036, 1343, 2270,  150]])"
            ]
          },
          "execution_count": 210,
          "metadata": {},
          "output_type": "execute_result"
        }
      ],
      "source": [
        "indices"
      ]
    },
    {
      "cell_type": "code",
      "execution_count": null,
      "metadata": {
        "colab": {
          "base_uri": "https://localhost:8080/"
        },
        "id": "KLWP8SHuX09x",
        "outputId": "10df7de8-54ee-402b-dd86-c98424b063e2"
      },
      "outputs": [
        {
          "name": "stdout",
          "output_type": "stream",
          "text": [
            "Top 5 similar movies for Good Will Hunting are -->\n",
            "1. Shawshank Redemption, The (0.36823061216497455)\n",
            "2. Pulp Fiction (0.40795590248268376)\n",
            "3. Jerry Maguire (0.4182340226678971)\n",
            "4. Silence of the Lambs, The (0.42233950381716845)\n",
            "5. Apollo 13 (0.4245223717634846)\n"
          ]
        }
      ],
      "source": [
        "print(f\"Top 5 similar movies for {user_input_movie} are -->\")\n",
        "\n",
        "for idx in range(1, len(distances.flatten())):\n",
        "    print(f\"{idx}. {mat.columns[indices.flatten()[idx]]} ({distances.flatten()[idx]})\")"
      ]
    },
    {
      "cell_type": "markdown",
      "metadata": {
        "id": "dW0NECxfL2Ph"
      },
      "source": [
        "__Findings__\n",
        "\n",
        "If the user like **`Good Will Hunting`**, the top 5 recommendations for the user based on KNN + Cosine Distance are:\n",
        "- Shawshank Redemption, The\t(0.368)\n",
        "- Pulp Fiction (0.4079)\n",
        "- Jerry Maguire\t(0.418)\n",
        "- Silence of the Lambs (0.4223)\n",
        "- Apollo 13\t(0.4245)\n"
      ]
    },
    {
      "cell_type": "markdown",
      "metadata": {
        "id": "XgtTa1cIaGLB"
      },
      "source": [
        "### Based on Matrix Factorization\n",
        "\n",
        "- We will create a Recommender System using the Matrix Factorization method using Deep Learning methods"
      ]
    },
    {
      "cell_type": "code",
      "execution_count": 6,
      "metadata": {
        "id": "iOjn3VTgbK68"
      },
      "outputs": [],
      "source": [
        "from sklearn.model_selection import train_test_split\n",
        "import tensorflow as tf\n",
        "from tensorflow.keras import Input, Model\n",
        "from tensorflow.keras.layers import Embedding, Flatten, dot\n",
        "import tensorflow.keras.backend as K\n",
        "from tensorflow.keras.metrics import (\n",
        "    mean_absolute_percentage_error as MAPE,\n",
        "    mean_squared_error as MSE, \n",
        "    RootMeanSquaredError as RMSE\n",
        ")\n",
        "from tensorflow.keras.callbacks import ReduceLROnPlateau"
      ]
    },
    {
      "cell_type": "markdown",
      "metadata": {
        "id": "y2Md8fOzadop"
      },
      "source": [
        "**Assign Unique Indexes to Users and Items**"
      ]
    },
    {
      "cell_type": "code",
      "execution_count": 7,
      "metadata": {
        "id": "MygrI5NxacSg"
      },
      "outputs": [],
      "source": [
        "unique_users  = df.UserID.unique()\n",
        "unique_movies = df.MovieID.unique()"
      ]
    },
    {
      "cell_type": "code",
      "execution_count": 8,
      "metadata": {
        "id": "LLFdf5zWacSg"
      },
      "outputs": [],
      "source": [
        "userid2idx  = {o:i for i, o in enumerate(unique_users)}\n",
        "movieid2idx = {o:i for i, o in enumerate(unique_movies)}"
      ]
    },
    {
      "cell_type": "code",
      "execution_count": 9,
      "metadata": {
        "id": "bVf6BeZtacSg"
      },
      "outputs": [],
      "source": [
        "df['UserID']  = df['UserID'].apply(lambda x: userid2idx[x])\n",
        "df['MovieID'] = df['MovieID'].apply(lambda x: movieid2idx[x])"
      ]
    },
    {
      "cell_type": "markdown",
      "metadata": {
        "id": "zKPXU0GDbOvq"
      },
      "source": [
        "**Split the data to Train and Test**"
      ]
    },
    {
      "cell_type": "code",
      "execution_count": 10,
      "metadata": {
        "id": "Fwf6wCTgbavc"
      },
      "outputs": [],
      "source": [
        "df_train, df_test = train_test_split(df, test_size=0.25, random_state=42)"
      ]
    },
    {
      "cell_type": "markdown",
      "metadata": {
        "id": "U2ERgZ2Mbnth"
      },
      "source": [
        "**Defining the Model Architecture**"
      ]
    },
    {
      "cell_type": "code",
      "execution_count": 55,
      "metadata": {
        "id": "eEbGb1zcacSg"
      },
      "outputs": [],
      "source": [
        "n_items  = len(unique_movies)\n",
        "n_users  = len(unique_users)\n",
        "n_latent_dim = 64\n",
        "batch_size   = 128\n",
        "epochs       = 30\n",
        "validation_size = 0.2\n",
        "learning_rate   = 0.1"
      ]
    },
    {
      "cell_type": "code",
      "execution_count": 56,
      "metadata": {
        "colab": {
          "base_uri": "https://localhost:8080/"
        },
        "id": "ZwUEsRNWacSg",
        "outputId": "f57ea2ed-55cf-4c23-e19e-6ebc6e5d9da2"
      },
      "outputs": [
        {
          "name": "stdout",
          "output_type": "stream",
          "text": [
            "Model: \"model\"\n",
            "__________________________________________________________________________________________________\n",
            " Layer (type)                   Output Shape         Param #     Connected to                     \n",
            "==================================================================================================\n",
            " user_input (InputLayer)        [(None, 1)]          0           []                               \n",
            "                                                                                                  \n",
            " item_input (InputLayer)        [(None, 1)]          0           []                               \n",
            "                                                                                                  \n",
            " user_embedding (Embedding)     (None, 1, 64)        386560      ['user_input[0][0]']             \n",
            "                                                                                                  \n",
            " item_embedding (Embedding)     (None, 1, 64)        180864      ['item_input[0][0]']             \n",
            "                                                                                                  \n",
            " user_flat (Flatten)            (None, 64)           0           ['user_embedding[0][0]']         \n",
            "                                                                                                  \n",
            " item_flat (Flatten)            (None, 64)           0           ['item_embedding[0][0]']         \n",
            "                                                                                                  \n",
            " dot_product (Dot)              (None, 1)            0           ['user_flat[0][0]',              \n",
            "                                                                  'item_flat[0][0]']              \n",
            "                                                                                                  \n",
            "==================================================================================================\n",
            "Total params: 567,424\n",
            "Trainable params: 567,424\n",
            "Non-trainable params: 0\n",
            "__________________________________________________________________________________________________\n"
          ]
        }
      ],
      "source": [
        "K.clear_session()\n",
        "\n",
        "# user layers\n",
        "user_input     = Input(shape=(1, ), name='user_input', dtype='int64')\n",
        "user_embedding = Embedding(n_users, n_latent_dim, name='user_embedding')(user_input)\n",
        "user_vector    = Flatten(name='user_flat')(user_embedding)\n",
        "\n",
        "# item layers\n",
        "item_input     = Input(shape=(1, ), name='item_input', dtype='int64')\n",
        "item_embedding = Embedding(n_items, n_latent_dim, name='item_embedding')(item_input)\n",
        "item_vector    = Flatten(name='item_flat')(item_embedding)\n",
        "\n",
        "# output\n",
        "rating = dot([user_vector, item_vector], name='dot_product', axes=1)\n",
        "\n",
        "# final model\n",
        "model = Model([user_input, item_input], rating)\n",
        "\n",
        "# compile model\n",
        "model.compile(loss='mse', metrics=[RMSE('rmse'), 'mape'], optimizer=tf.keras.optimizers.Adagrad(learning_rate=learning_rate))\n",
        "model.summary()"
      ]
    },
    {
      "cell_type": "markdown",
      "metadata": {
        "id": "6r1xL9_8eYzX"
      },
      "source": [
        "**Train Model + Plots (Loss, RMSE, MAPE)**"
      ]
    },
    {
      "cell_type": "code",
      "execution_count": 44,
      "metadata": {
        "id": "w9GNHS37O9PM"
      },
      "outputs": [],
      "source": [
        "# https://gist.github.com/danicrg/ab3bc7c330ce152bcf643231de4820e9#file-plot_learning_callback-py\n",
        "import numpy as np \n",
        "from tensorflow import keras\n",
        "from matplotlib import pyplot as plt\n",
        "from IPython.display import clear_output\n",
        "\n",
        "class PlotLearning(keras.callbacks.Callback):\n",
        "    \"\"\"\n",
        "    Callback to plot the learning curves of the model during training.\n",
        "    \"\"\"\n",
        "    def on_train_begin(self, logs={}):\n",
        "        self.metrics = {}\n",
        "        for metric in logs:\n",
        "            self.metrics[metric] = []\n",
        "            \n",
        "\n",
        "    def on_epoch_end(self, epoch, logs={}):\n",
        "        # Storing metrics\n",
        "        for metric in logs:\n",
        "            if metric in self.metrics:\n",
        "                self.metrics[metric].append(logs.get(metric))\n",
        "            else:\n",
        "                self.metrics[metric] = [logs.get(metric)]\n",
        "        \n",
        "        # Plotting\n",
        "        metrics = [x for x in logs if 'val' not in x]\n",
        "        \n",
        "        f, axs = plt.subplots(1, len(metrics), figsize=(15,5))\n",
        "        clear_output(wait=True)\n",
        "\n",
        "        for i, metric in enumerate(metrics):\n",
        "            axs[i].plot(range(1, epoch + 2), \n",
        "                        self.metrics[metric], \n",
        "                        label=metric)\n",
        "            if logs['val_' + metric]:\n",
        "                axs[i].plot(range(1, epoch + 2), \n",
        "                            self.metrics['val_' + metric], \n",
        "                            label='val_' + metric)\n",
        "                \n",
        "            axs[i].legend()\n",
        "            axs[i].grid()\n",
        "\n",
        "        plt.tight_layout()\n",
        "        plt.show()"
      ]
    },
    {
      "cell_type": "code",
      "execution_count": 57,
      "metadata": {
        "id": "cwAJy195e8Xp"
      },
      "outputs": [],
      "source": [
        "plot_learning = PlotLearning()\n",
        "reduce_lr = ReduceLROnPlateau(monitor='val_loss', factor=0.5, patience=5, min_lr=0.001)\n",
        "callbacks = [plot_learning, reduce_lr]"
      ]
    },
    {
      "cell_type": "code",
      "execution_count": 58,
      "metadata": {
        "colab": {
          "base_uri": "https://localhost:8080/",
          "height": 262
        },
        "id": "k3VXk0m0L-Fj",
        "outputId": "b766840d-c738-472a-c54f-08f52413ae6f"
      },
      "outputs": [
        {
          "data": {
            "image/png": "[encoded data removed]",
            "text/plain": [
              "<Figure size 1080x360 with 3 Axes>"
            ]
          },
          "metadata": {
            "needs_background": "light"
          },
          "output_type": "display_data"
        },
        {
          "name": "stdout",
          "output_type": "stream",
          "text": [
            "\b\b\b\b\b\b\b\b\b\b\b\b\b\b\b\b\b\b\b\b\b\b\b\b\b\b\b\b\b\b\b\b\b\b\b\b\b\b\b\b\b\b\b\b\b\b\b\b\b\b\b\b\b\b\b\b\b\b\b\b\b\b\b\b\b\b\b\b\b\b\b\b\b\b\b\b\b\b\b\b\b\b\b\b\b\b\b\b\b\b\b\b\b\b\b\b\b\b\r4625/4625 [==============================] - 15s 3ms/step - loss: 0.4644 - rmse: 0.6814 - mape: 20.1126 - val_loss: 0.7682 - val_rmse: 0.8765 - val_mape: 26.0142 - lr: 0.0500\n"
          ]
        }
      ],
      "source": [
        "history = model.fit(\n",
        "    [df_train.UserID, df_train.MovieID], df_train.Rating,\n",
        "    batch_size=batch_size,\n",
        "    epochs=epochs,\n",
        "    validation_split=0.2,\n",
        "    callbacks=callbacks\n",
        ")"
      ]
    },
    {
      "cell_type": "markdown",
      "metadata": {
        "id": "1tAc4qEBfwbX"
      },
      "source": [
        "**Results on Test Data**"
      ]
    },
    {
      "cell_type": "code",
      "execution_count": 69,
      "metadata": {
        "colab": {
          "base_uri": "https://localhost:8080/"
        },
        "id": "g4GLAaZ1A5Le",
        "outputId": "a3ea1eb1-628e-4a08-89b8-ec26743f4d54"
      },
      "outputs": [
        {
          "name": "stdout",
          "output_type": "stream",
          "text": [
            "1927/1927 [==============================] - 4s 2ms/step - loss: 0.7697 - rmse: 0.8773 - mape: 26.0151\n"
          ]
        }
      ],
      "source": [
        "mse_loss, rmse_score, mape_score = model.evaluate(\n",
        "    x=[df_test.UserID, df_test.MovieID],\n",
        "    y=df_test.Rating,\n",
        "    batch_size=batch_size\n",
        ")"
      ]
    },
    {
      "cell_type": "code",
      "execution_count": 72,
      "metadata": {
        "colab": {
          "base_uri": "https://localhost:8080/"
        },
        "id": "w9WWFq_mCZ-R",
        "outputId": "b51f8505-819d-48a0-b932-f37ff465ee82"
      },
      "outputs": [
        {
          "name": "stdout",
          "output_type": "stream",
          "text": [
            "Loss on Test Data --> 0.77\n",
            "RMSE on Test Data --> 0.877\n",
            "MAPE on Test Data --> 26.015\n"
          ]
        }
      ],
      "source": [
        "print(f'Loss on Test Data --> {np.round(mse_loss, 3)}')\n",
        "print(f'RMSE on Test Data --> {np.round(rmse_score, 3)}')\n",
        "print(f'MAPE on Test Data --> {np.round(mape_score, 3)}')"
      ]
    },
    {
      "cell_type": "markdown",
      "metadata": {
        "id": "YtFRE0Av5Dhv"
      },
      "source": [
        "__Findings__\n",
        "- The MAPE score on test data is 26.015\n",
        "- The RMSE score is test data is 0.877"
      ]
    },
    {
      "cell_type": "markdown",
      "metadata": {
        "id": "CpYOgBlGgHQT"
      },
      "source": [
        "### Based on Pearson Correlation (User-Based)\n",
        "- Here we will use the user-based approach to build a Recommender System"
      ]
    },
    {
      "cell_type": "code",
      "execution_count": null,
      "metadata": {
        "id": "ksGWPSp_DaUn"
      },
      "outputs": [],
      "source": [
        "from scipy.stats import pearsonr"
      ]
    },
    {
      "cell_type": "markdown",
      "metadata": {
        "id": "GPADftyMM8Ii"
      },
      "source": [
        "**Ask the user to rate a few movies**"
      ]
    },
    {
      "cell_type": "code",
      "execution_count": null,
      "metadata": {
        "colab": {
          "base_uri": "https://localhost:8080/"
        },
        "id": "qNtde2IXabsi",
        "outputId": "57530f4d-ab00-4df9-a7fa-09eca98eaba1"
      },
      "outputs": [
        {
          "name": "stdout",
          "output_type": "stream",
          "text": [
            "[158, 180, 327, 56, 33, 687, 245, 329, 323, 668]\n"
          ]
        }
      ],
      "source": [
        "movie_names = ['GoodFellas', 'Good Will Hunting', 'Home Alone', \\\n",
        "               'Pulp Fiction', 'Rain Man', 'Rambo III', 'Silence of the Lambs, The', \\\n",
        "               'Batman', 'Blade Runner', 'Lord of the Rings, The']\n",
        "\n",
        "movie_ids = []\n",
        "for movie in movie_names:\n",
        "    id = df[df['Title'] == movie]['MovieID'].iloc[0]\n",
        "    movie_ids.append(id)\n",
        "\n",
        "print(movie_ids)"
      ]
    },
    {
      "cell_type": "code",
      "execution_count": null,
      "metadata": {
        "id": "G02opMvuond7"
      },
      "outputs": [],
      "source": [
        "movie_ratings = [4, 5, 4, 5, 4, 3, 5, 2, 1, 4]"
      ]
    },
    {
      "cell_type": "markdown",
      "metadata": {
        "id": "pu6X8URUNAsy"
      },
      "source": [
        "**Create dataframe for a new user's choice**"
      ]
    },
    {
      "cell_type": "code",
      "execution_count": null,
      "metadata": {
        "colab": {
          "base_uri": "https://localhost:8080/",
          "height": 363
        },
        "id": "FeFCQaeMma1x",
        "outputId": "479b5737-7260-4f90-8a74-e0c9f2161ef4"
      },
      "outputs": [
        {
          "data": {
            "text/html": [
              "\n",
              "  <div id=\"df-c8daa3d3-cfb5-46b5-a850-708bf5a5f238\">\n",
              "    <div class=\"colab-df-container\">\n",
              "      <div>\n",
              "<style scoped>\n",
              "    .dataframe tbody tr th:only-of-type {\n",
              "        vertical-align: middle;\n",
              "    }\n",
              "\n",
              "    .dataframe tbody tr th {\n",
              "        vertical-align: top;\n",
              "    }\n",
              "\n",
              "    .dataframe thead th {\n",
              "        text-align: right;\n",
              "    }\n",
              "</style>\n",
              "<table border=\"1\" class=\"dataframe\">\n",
              "  <thead>\n",
              "    <tr style=\"text-align: right;\">\n",
              "      <th></th>\n",
              "      <th>MovieID</th>\n",
              "      <th>Title</th>\n",
              "      <th>Rating</th>\n",
              "    </tr>\n",
              "  </thead>\n",
              "  <tbody>\n",
              "    <tr>\n",
              "      <th>0</th>\n",
              "      <td>158</td>\n",
              "      <td>GoodFellas</td>\n",
              "      <td>4</td>\n",
              "    </tr>\n",
              "    <tr>\n",
              "      <th>1</th>\n",
              "      <td>180</td>\n",
              "      <td>Good Will Hunting</td>\n",
              "      <td>5</td>\n",
              "    </tr>\n",
              "    <tr>\n",
              "      <th>2</th>\n",
              "      <td>327</td>\n",
              "      <td>Home Alone</td>\n",
              "      <td>4</td>\n",
              "    </tr>\n",
              "    <tr>\n",
              "      <th>3</th>\n",
              "      <td>56</td>\n",
              "      <td>Pulp Fiction</td>\n",
              "      <td>5</td>\n",
              "    </tr>\n",
              "    <tr>\n",
              "      <th>4</th>\n",
              "      <td>33</td>\n",
              "      <td>Rain Man</td>\n",
              "      <td>4</td>\n",
              "    </tr>\n",
              "    <tr>\n",
              "      <th>5</th>\n",
              "      <td>687</td>\n",
              "      <td>Rambo III</td>\n",
              "      <td>3</td>\n",
              "    </tr>\n",
              "    <tr>\n",
              "      <th>6</th>\n",
              "      <td>245</td>\n",
              "      <td>Silence of the Lambs, The</td>\n",
              "      <td>5</td>\n",
              "    </tr>\n",
              "    <tr>\n",
              "      <th>7</th>\n",
              "      <td>329</td>\n",
              "      <td>Batman</td>\n",
              "      <td>2</td>\n",
              "    </tr>\n",
              "    <tr>\n",
              "      <th>8</th>\n",
              "      <td>323</td>\n",
              "      <td>Blade Runner</td>\n",
              "      <td>1</td>\n",
              "    </tr>\n",
              "    <tr>\n",
              "      <th>9</th>\n",
              "      <td>668</td>\n",
              "      <td>Lord of the Rings, The</td>\n",
              "      <td>4</td>\n",
              "    </tr>\n",
              "  </tbody>\n",
              "</table>\n",
              "</div>\n",
              "      <button class=\"colab-df-convert\" onclick=\"convertToInteractive('df-c8daa3d3-cfb5-46b5-a850-708bf5a5f238')\"\n",
              "              title=\"Convert this dataframe to an interactive table.\"\n",
              "              style=\"display:none;\">\n",
              "        \n",
              "  <svg xmlns=\"http://www.w3.org/2000/svg\" height=\"24px\"viewBox=\"0 0 24 24\"\n",
              "       width=\"24px\">\n",
              "    <path d=\"M0 0h24v24H0V0z\" fill=\"none\"/>\n",
              "    <path d=\"M18.56 5.44l.94 2.06.94-2.06 2.06-.94-2.06-.94-.94-2.06-.94 2.06-2.06.94zm-11 1L8.5 8.5l.94-2.06 2.06-.94-2.06-.94L8.5 2.5l-.94 2.06-2.06.94zm10 10l.94 2.06.94-2.06 2.06-.94-2.06-.94-.94-2.06-.94 2.06-2.06.94z\"/><path d=\"M17.41 7.96l-1.37-1.37c-.4-.4-.92-.59-1.43-.59-.52 0-1.04.2-1.43.59L10.3 9.45l-7.72 7.72c-.78.78-.78 2.05 0 2.83L4 21.41c.39.39.9.59 1.41.59.51 0 1.02-.2 1.41-.59l7.78-7.78 2.81-2.81c.8-.78.8-2.07 0-2.86zM5.41 20L4 18.59l7.72-7.72 1.47 1.35L5.41 20z\"/>\n",
              "  </svg>\n",
              "      </button>\n",
              "      \n",
              "  <style>\n",
              "    .colab-df-container {\n",
              "      display:flex;\n",
              "      flex-wrap:wrap;\n",
              "      gap: 12px;\n",
              "    }\n",
              "\n",
              "    .colab-df-convert {\n",
              "      background-color: #E8F0FE;\n",
              "      border: none;\n",
              "      border-radius: 50%;\n",
              "      cursor: pointer;\n",
              "      display: none;\n",
              "      fill: #1967D2;\n",
              "      height: 32px;\n",
              "      padding: 0 0 0 0;\n",
              "      width: 32px;\n",
              "    }\n",
              "\n",
              "    .colab-df-convert:hover {\n",
              "      background-color: #E2EBFA;\n",
              "      box-shadow: 0px 1px 2px rgba(60, 64, 67, 0.3), 0px 1px 3px 1px rgba(60, 64, 67, 0.15);\n",
              "      fill: #174EA6;\n",
              "    }\n",
              "\n",
              "    [theme=dark] .colab-df-convert {\n",
              "      background-color: #3B4455;\n",
              "      fill: #D2E3FC;\n",
              "    }\n",
              "\n",
              "    [theme=dark] .colab-df-convert:hover {\n",
              "      background-color: #434B5C;\n",
              "      box-shadow: 0px 1px 3px 1px rgba(0, 0, 0, 0.15);\n",
              "      filter: drop-shadow(0px 1px 2px rgba(0, 0, 0, 0.3));\n",
              "      fill: #FFFFFF;\n",
              "    }\n",
              "  </style>\n",
              "\n",
              "      <script>\n",
              "        const buttonEl =\n",
              "          document.querySelector('#df-c8daa3d3-cfb5-46b5-a850-708bf5a5f238 button.colab-df-convert');\n",
              "        buttonEl.style.display =\n",
              "          google.colab.kernel.accessAllowed ? 'block' : 'none';\n",
              "\n",
              "        async function convertToInteractive(key) {\n",
              "          const element = document.querySelector('#df-c8daa3d3-cfb5-46b5-a850-708bf5a5f238');\n",
              "          const dataTable =\n",
              "            await google.colab.kernel.invokeFunction('convertToInteractive',\n",
              "                                                     [key], {});\n",
              "          if (!dataTable) return;\n",
              "\n",
              "          const docLinkHtml = 'Like what you see? Visit the ' +\n",
              "            '<a target=\"_blank\" href=https://colab.research.google.com/notebooks/data_table.ipynb>data table notebook</a>'\n",
              "            + ' to learn more about interactive tables.';\n",
              "          element.innerHTML = '';\n",
              "          dataTable['output_type'] = 'display_data';\n",
              "          await google.colab.output.renderOutput(dataTable, element);\n",
              "          const docLink = document.createElement('div');\n",
              "          docLink.innerHTML = docLinkHtml;\n",
              "          element.appendChild(docLink);\n",
              "        }\n",
              "      </script>\n",
              "    </div>\n",
              "  </div>\n",
              "  "
            ],
            "text/plain": [
              "   MovieID                      Title  Rating\n",
              "0      158                 GoodFellas       4\n",
              "1      180          Good Will Hunting       5\n",
              "2      327                 Home Alone       4\n",
              "3       56               Pulp Fiction       5\n",
              "4       33                   Rain Man       4\n",
              "5      687                  Rambo III       3\n",
              "6      245  Silence of the Lambs, The       5\n",
              "7      329                     Batman       2\n",
              "8      323               Blade Runner       1\n",
              "9      668     Lord of the Rings, The       4"
            ]
          },
          "execution_count": 237,
          "metadata": {},
          "output_type": "execute_result"
        }
      ],
      "source": [
        "user_choices = pd.DataFrame({\n",
        "    'MovieID':  movie_ids,\n",
        "    'Title'  : movie_names,\n",
        "    'Rating' : movie_ratings\n",
        "})\n",
        "user_choices"
      ]
    },
    {
      "cell_type": "markdown",
      "metadata": {
        "id": "RrNzjTq7ND5r"
      },
      "source": [
        "**Find other users who’ve watched the same movies as the new user**"
      ]
    },
    {
      "cell_type": "code",
      "execution_count": null,
      "metadata": {
        "colab": {
          "base_uri": "https://localhost:8080/"
        },
        "id": "YeYtwKb_ma1x",
        "outputId": "50323c20-bf0b-46d0-9237-3fe8fcacaa70"
      },
      "outputs": [
        {
          "data": {
            "text/plain": [
              "array([   0,    1,    2, ..., 6023, 6030, 6038])"
            ]
          },
          "execution_count": 238,
          "metadata": {},
          "output_type": "execute_result"
        }
      ],
      "source": [
        "other_users = df[df['MovieID'].isin(user_choices['MovieID'].values)]\n",
        "other_users = other_users[['UserID', 'MovieID', 'Rating']]\n",
        "other_users['UserID'].unique()"
      ]
    },
    {
      "cell_type": "code",
      "execution_count": null,
      "metadata": {
        "colab": {
          "base_uri": "https://localhost:8080/"
        },
        "id": "VCZH9aUFpRC2",
        "outputId": "5eb7c274-634a-4f1f-e00d-156d07d38d68"
      },
      "outputs": [
        {
          "name": "stdout",
          "output_type": "stream",
          "text": [
            "4441 users have watched the same movies as the new user\n"
          ]
        }
      ],
      "source": [
        "print(f\"{other_users['UserID'].nunique()} users have watched the same movies as the new user\")"
      ]
    },
    {
      "cell_type": "markdown",
      "metadata": {
        "id": "Va6DDgSQNNhJ"
      },
      "source": [
        "**Sort the old users by the count of most movies in common with the new user**"
      ]
    },
    {
      "cell_type": "code",
      "execution_count": null,
      "metadata": {
        "id": "2YVvLB3Cma1x"
      },
      "outputs": [],
      "source": [
        "common_movies = other_users.groupby(['UserID'])\n",
        "common_movies = sorted(common_movies, key = lambda x: len(x[1]), reverse=True)"
      ]
    },
    {
      "cell_type": "code",
      "execution_count": null,
      "metadata": {
        "colab": {
          "base_uri": "https://localhost:8080/",
          "height": 363
        },
        "id": "9goj73pgpnT1",
        "outputId": "ff6b44ca-cf6a-4061-962e-3d5a459fa428"
      },
      "outputs": [
        {
          "data": {
            "text/html": [
              "\n",
              "  <div id=\"df-061137b8-5de8-4cbd-8e04-1db99324c104\">\n",
              "    <div class=\"colab-df-container\">\n",
              "      <div>\n",
              "<style scoped>\n",
              "    .dataframe tbody tr th:only-of-type {\n",
              "        vertical-align: middle;\n",
              "    }\n",
              "\n",
              "    .dataframe tbody tr th {\n",
              "        vertical-align: top;\n",
              "    }\n",
              "\n",
              "    .dataframe thead th {\n",
              "        text-align: right;\n",
              "    }\n",
              "</style>\n",
              "<table border=\"1\" class=\"dataframe\">\n",
              "  <thead>\n",
              "    <tr style=\"text-align: right;\">\n",
              "      <th></th>\n",
              "      <th>UserID</th>\n",
              "      <th>MovieID</th>\n",
              "      <th>Rating</th>\n",
              "    </tr>\n",
              "  </thead>\n",
              "  <tbody>\n",
              "    <tr>\n",
              "      <th>33948</th>\n",
              "      <td>141</td>\n",
              "      <td>56</td>\n",
              "      <td>5</td>\n",
              "    </tr>\n",
              "    <tr>\n",
              "      <th>34022</th>\n",
              "      <td>141</td>\n",
              "      <td>323</td>\n",
              "      <td>5</td>\n",
              "    </tr>\n",
              "    <tr>\n",
              "      <th>34030</th>\n",
              "      <td>141</td>\n",
              "      <td>327</td>\n",
              "      <td>3</td>\n",
              "    </tr>\n",
              "    <tr>\n",
              "      <th>34035</th>\n",
              "      <td>141</td>\n",
              "      <td>329</td>\n",
              "      <td>5</td>\n",
              "    </tr>\n",
              "    <tr>\n",
              "      <th>34036</th>\n",
              "      <td>141</td>\n",
              "      <td>245</td>\n",
              "      <td>5</td>\n",
              "    </tr>\n",
              "    <tr>\n",
              "      <th>34192</th>\n",
              "      <td>141</td>\n",
              "      <td>158</td>\n",
              "      <td>5</td>\n",
              "    </tr>\n",
              "    <tr>\n",
              "      <th>34362</th>\n",
              "      <td>141</td>\n",
              "      <td>180</td>\n",
              "      <td>3</td>\n",
              "    </tr>\n",
              "    <tr>\n",
              "      <th>34423</th>\n",
              "      <td>141</td>\n",
              "      <td>33</td>\n",
              "      <td>4</td>\n",
              "    </tr>\n",
              "    <tr>\n",
              "      <th>34508</th>\n",
              "      <td>141</td>\n",
              "      <td>668</td>\n",
              "      <td>4</td>\n",
              "    </tr>\n",
              "    <tr>\n",
              "      <th>34616</th>\n",
              "      <td>141</td>\n",
              "      <td>687</td>\n",
              "      <td>2</td>\n",
              "    </tr>\n",
              "  </tbody>\n",
              "</table>\n",
              "</div>\n",
              "      <button class=\"colab-df-convert\" onclick=\"convertToInteractive('df-061137b8-5de8-4cbd-8e04-1db99324c104')\"\n",
              "              title=\"Convert this dataframe to an interactive table.\"\n",
              "              style=\"display:none;\">\n",
              "        \n",
              "  <svg xmlns=\"http://www.w3.org/2000/svg\" height=\"24px\"viewBox=\"0 0 24 24\"\n",
              "       width=\"24px\">\n",
              "    <path d=\"M0 0h24v24H0V0z\" fill=\"none\"/>\n",
              "    <path d=\"M18.56 5.44l.94 2.06.94-2.06 2.06-.94-2.06-.94-.94-2.06-.94 2.06-2.06.94zm-11 1L8.5 8.5l.94-2.06 2.06-.94-2.06-.94L8.5 2.5l-.94 2.06-2.06.94zm10 10l.94 2.06.94-2.06 2.06-.94-2.06-.94-.94-2.06-.94 2.06-2.06.94z\"/><path d=\"M17.41 7.96l-1.37-1.37c-.4-.4-.92-.59-1.43-.59-.52 0-1.04.2-1.43.59L10.3 9.45l-7.72 7.72c-.78.78-.78 2.05 0 2.83L4 21.41c.39.39.9.59 1.41.59.51 0 1.02-.2 1.41-.59l7.78-7.78 2.81-2.81c.8-.78.8-2.07 0-2.86zM5.41 20L4 18.59l7.72-7.72 1.47 1.35L5.41 20z\"/>\n",
              "  </svg>\n",
              "      </button>\n",
              "      \n",
              "  <style>\n",
              "    .colab-df-container {\n",
              "      display:flex;\n",
              "      flex-wrap:wrap;\n",
              "      gap: 12px;\n",
              "    }\n",
              "\n",
              "    .colab-df-convert {\n",
              "      background-color: #E8F0FE;\n",
              "      border: none;\n",
              "      border-radius: 50%;\n",
              "      cursor: pointer;\n",
              "      display: none;\n",
              "      fill: #1967D2;\n",
              "      height: 32px;\n",
              "      padding: 0 0 0 0;\n",
              "      width: 32px;\n",
              "    }\n",
              "\n",
              "    .colab-df-convert:hover {\n",
              "      background-color: #E2EBFA;\n",
              "      box-shadow: 0px 1px 2px rgba(60, 64, 67, 0.3), 0px 1px 3px 1px rgba(60, 64, 67, 0.15);\n",
              "      fill: #174EA6;\n",
              "    }\n",
              "\n",
              "    [theme=dark] .colab-df-convert {\n",
              "      background-color: #3B4455;\n",
              "      fill: #D2E3FC;\n",
              "    }\n",
              "\n",
              "    [theme=dark] .colab-df-convert:hover {\n",
              "      background-color: #434B5C;\n",
              "      box-shadow: 0px 1px 3px 1px rgba(0, 0, 0, 0.15);\n",
              "      filter: drop-shadow(0px 1px 2px rgba(0, 0, 0, 0.3));\n",
              "      fill: #FFFFFF;\n",
              "    }\n",
              "  </style>\n",
              "\n",
              "      <script>\n",
              "        const buttonEl =\n",
              "          document.querySelector('#df-061137b8-5de8-4cbd-8e04-1db99324c104 button.colab-df-convert');\n",
              "        buttonEl.style.display =\n",
              "          google.colab.kernel.accessAllowed ? 'block' : 'none';\n",
              "\n",
              "        async function convertToInteractive(key) {\n",
              "          const element = document.querySelector('#df-061137b8-5de8-4cbd-8e04-1db99324c104');\n",
              "          const dataTable =\n",
              "            await google.colab.kernel.invokeFunction('convertToInteractive',\n",
              "                                                     [key], {});\n",
              "          if (!dataTable) return;\n",
              "\n",
              "          const docLinkHtml = 'Like what you see? Visit the ' +\n",
              "            '<a target=\"_blank\" href=https://colab.research.google.com/notebooks/data_table.ipynb>data table notebook</a>'\n",
              "            + ' to learn more about interactive tables.';\n",
              "          element.innerHTML = '';\n",
              "          dataTable['output_type'] = 'display_data';\n",
              "          await google.colab.output.renderOutput(dataTable, element);\n",
              "          const docLink = document.createElement('div');\n",
              "          docLink.innerHTML = docLinkHtml;\n",
              "          element.appendChild(docLink);\n",
              "        }\n",
              "      </script>\n",
              "    </div>\n",
              "  </div>\n",
              "  "
            ],
            "text/plain": [
              "       UserID  MovieID  Rating\n",
              "33948     141       56       5\n",
              "34022     141      323       5\n",
              "34030     141      327       3\n",
              "34035     141      329       5\n",
              "34036     141      245       5\n",
              "34192     141      158       5\n",
              "34362     141      180       3\n",
              "34423     141       33       4\n",
              "34508     141      668       4\n",
              "34616     141      687       2"
            ]
          },
          "execution_count": 249,
          "metadata": {},
          "output_type": "execute_result"
        }
      ],
      "source": [
        "common_movies[0][1]"
      ]
    },
    {
      "cell_type": "markdown",
      "metadata": {
        "id": "7k_OnbdONQ3b"
      },
      "source": [
        "**Take the top 100 users and calculate a Similarity Score for each user using Pearson Correlation function**"
      ]
    },
    {
      "cell_type": "code",
      "execution_count": null,
      "metadata": {
        "id": "CRFmsnqsma1x"
      },
      "outputs": [],
      "source": [
        "top_users = common_movies[:100]\n",
        "\n",
        "pearson_results = {}\n",
        "\n",
        "for user_id, movies in top_users:\n",
        "\n",
        "    movie_list = movies['MovieID'].values\n",
        "\n",
        "    new_user_ratings = user_choices[user_choices['MovieID'].isin(movie_list)].sort_values(by='MovieID')['Rating'].values\n",
        "    user_ratings     = movies[movies['MovieID'].isin(movie_list)].sort_values(by='MovieID')['Rating'].values\n",
        "\n",
        "    corr = pearsonr(new_user_ratings, user_ratings)\n",
        "    pearson_results[user_id] = corr[0]\n"
      ]
    },
    {
      "cell_type": "markdown",
      "metadata": {
        "id": "u4kicMkrNUyt"
      },
      "source": [
        "**Get top 10 users with the highest similarity indices**"
      ]
    },
    {
      "cell_type": "code",
      "execution_count": null,
      "metadata": {
        "colab": {
          "base_uri": "https://localhost:8080/",
          "height": 363
        },
        "id": "A3ujw2Ltabx-",
        "outputId": "6a569045-5f93-4c5c-9b7e-ec7eb30afa97"
      },
      "outputs": [
        {
          "data": {
            "text/html": [
              "\n",
              "  <div id=\"df-13b2b08e-d638-4038-9186-e340bfc4d4d6\">\n",
              "    <div class=\"colab-df-container\">\n",
              "      <div>\n",
              "<style scoped>\n",
              "    .dataframe tbody tr th:only-of-type {\n",
              "        vertical-align: middle;\n",
              "    }\n",
              "\n",
              "    .dataframe tbody tr th {\n",
              "        vertical-align: top;\n",
              "    }\n",
              "\n",
              "    .dataframe thead th {\n",
              "        text-align: right;\n",
              "    }\n",
              "</style>\n",
              "<table border=\"1\" class=\"dataframe\">\n",
              "  <thead>\n",
              "    <tr style=\"text-align: right;\">\n",
              "      <th></th>\n",
              "      <th>UserID</th>\n",
              "      <th>Similarity_Index</th>\n",
              "    </tr>\n",
              "  </thead>\n",
              "  <tbody>\n",
              "    <tr>\n",
              "      <th>73</th>\n",
              "      <td>3010</td>\n",
              "      <td>0.815385</td>\n",
              "    </tr>\n",
              "    <tr>\n",
              "      <th>97</th>\n",
              "      <td>541</td>\n",
              "      <td>0.809040</td>\n",
              "    </tr>\n",
              "    <tr>\n",
              "      <th>51</th>\n",
              "      <td>1225</td>\n",
              "      <td>0.750000</td>\n",
              "    </tr>\n",
              "    <tr>\n",
              "      <th>39</th>\n",
              "      <td>674</td>\n",
              "      <td>0.697676</td>\n",
              "    </tr>\n",
              "    <tr>\n",
              "      <th>93</th>\n",
              "      <td>494</td>\n",
              "      <td>0.674200</td>\n",
              "    </tr>\n",
              "    <tr>\n",
              "      <th>41</th>\n",
              "      <td>684</td>\n",
              "      <td>0.609641</td>\n",
              "    </tr>\n",
              "    <tr>\n",
              "      <th>72</th>\n",
              "      <td>2716</td>\n",
              "      <td>0.592999</td>\n",
              "    </tr>\n",
              "    <tr>\n",
              "      <th>16</th>\n",
              "      <td>2222</td>\n",
              "      <td>0.565217</td>\n",
              "    </tr>\n",
              "    <tr>\n",
              "      <th>20</th>\n",
              "      <td>158</td>\n",
              "      <td>0.553399</td>\n",
              "    </tr>\n",
              "    <tr>\n",
              "      <th>7</th>\n",
              "      <td>702</td>\n",
              "      <td>0.508689</td>\n",
              "    </tr>\n",
              "  </tbody>\n",
              "</table>\n",
              "</div>\n",
              "      <button class=\"colab-df-convert\" onclick=\"convertToInteractive('df-13b2b08e-d638-4038-9186-e340bfc4d4d6')\"\n",
              "              title=\"Convert this dataframe to an interactive table.\"\n",
              "              style=\"display:none;\">\n",
              "        \n",
              "  <svg xmlns=\"http://www.w3.org/2000/svg\" height=\"24px\"viewBox=\"0 0 24 24\"\n",
              "       width=\"24px\">\n",
              "    <path d=\"M0 0h24v24H0V0z\" fill=\"none\"/>\n",
              "    <path d=\"M18.56 5.44l.94 2.06.94-2.06 2.06-.94-2.06-.94-.94-2.06-.94 2.06-2.06.94zm-11 1L8.5 8.5l.94-2.06 2.06-.94-2.06-.94L8.5 2.5l-.94 2.06-2.06.94zm10 10l.94 2.06.94-2.06 2.06-.94-2.06-.94-.94-2.06-.94 2.06-2.06.94z\"/><path d=\"M17.41 7.96l-1.37-1.37c-.4-.4-.92-.59-1.43-.59-.52 0-1.04.2-1.43.59L10.3 9.45l-7.72 7.72c-.78.78-.78 2.05 0 2.83L4 21.41c.39.39.9.59 1.41.59.51 0 1.02-.2 1.41-.59l7.78-7.78 2.81-2.81c.8-.78.8-2.07 0-2.86zM5.41 20L4 18.59l7.72-7.72 1.47 1.35L5.41 20z\"/>\n",
              "  </svg>\n",
              "      </button>\n",
              "      \n",
              "  <style>\n",
              "    .colab-df-container {\n",
              "      display:flex;\n",
              "      flex-wrap:wrap;\n",
              "      gap: 12px;\n",
              "    }\n",
              "\n",
              "    .colab-df-convert {\n",
              "      background-color: #E8F0FE;\n",
              "      border: none;\n",
              "      border-radius: 50%;\n",
              "      cursor: pointer;\n",
              "      display: none;\n",
              "      fill: #1967D2;\n",
              "      height: 32px;\n",
              "      padding: 0 0 0 0;\n",
              "      width: 32px;\n",
              "    }\n",
              "\n",
              "    .colab-df-convert:hover {\n",
              "      background-color: #E2EBFA;\n",
              "      box-shadow: 0px 1px 2px rgba(60, 64, 67, 0.3), 0px 1px 3px 1px rgba(60, 64, 67, 0.15);\n",
              "      fill: #174EA6;\n",
              "    }\n",
              "\n",
              "    [theme=dark] .colab-df-convert {\n",
              "      background-color: #3B4455;\n",
              "      fill: #D2E3FC;\n",
              "    }\n",
              "\n",
              "    [theme=dark] .colab-df-convert:hover {\n",
              "      background-color: #434B5C;\n",
              "      box-shadow: 0px 1px 3px 1px rgba(0, 0, 0, 0.15);\n",
              "      filter: drop-shadow(0px 1px 2px rgba(0, 0, 0, 0.3));\n",
              "      fill: #FFFFFF;\n",
              "    }\n",
              "  </style>\n",
              "\n",
              "      <script>\n",
              "        const buttonEl =\n",
              "          document.querySelector('#df-13b2b08e-d638-4038-9186-e340bfc4d4d6 button.colab-df-convert');\n",
              "        buttonEl.style.display =\n",
              "          google.colab.kernel.accessAllowed ? 'block' : 'none';\n",
              "\n",
              "        async function convertToInteractive(key) {\n",
              "          const element = document.querySelector('#df-13b2b08e-d638-4038-9186-e340bfc4d4d6');\n",
              "          const dataTable =\n",
              "            await google.colab.kernel.invokeFunction('convertToInteractive',\n",
              "                                                     [key], {});\n",
              "          if (!dataTable) return;\n",
              "\n",
              "          const docLinkHtml = 'Like what you see? Visit the ' +\n",
              "            '<a target=\"_blank\" href=https://colab.research.google.com/notebooks/data_table.ipynb>data table notebook</a>'\n",
              "            + ' to learn more about interactive tables.';\n",
              "          element.innerHTML = '';\n",
              "          dataTable['output_type'] = 'display_data';\n",
              "          await google.colab.output.renderOutput(dataTable, element);\n",
              "          const docLink = document.createElement('div');\n",
              "          docLink.innerHTML = docLinkHtml;\n",
              "          element.appendChild(docLink);\n",
              "        }\n",
              "      </script>\n",
              "    </div>\n",
              "  </div>\n",
              "  "
            ],
            "text/plain": [
              "    UserID  Similarity_Index\n",
              "73    3010          0.815385\n",
              "97     541          0.809040\n",
              "51    1225          0.750000\n",
              "39     674          0.697676\n",
              "93     494          0.674200\n",
              "41     684          0.609641\n",
              "72    2716          0.592999\n",
              "16    2222          0.565217\n",
              "20     158          0.553399\n",
              "7      702          0.508689"
            ]
          },
          "execution_count": 262,
          "metadata": {},
          "output_type": "execute_result"
        }
      ],
      "source": [
        "pearson_df = pd.DataFrame(columns= ['UserID', 'Similarity_Index'],\n",
        "                          data   = pearson_results.items())\n",
        "pearson_df = pearson_df.sort_values(by='Similarity_Index', ascending=False)[:10]\n",
        "pearson_df"
      ]
    },
    {
      "cell_type": "markdown",
      "metadata": {
        "id": "V8sXvHhVNZAe"
      },
      "source": [
        "**Get all the movies for these users and add Weighted movie Ratings by Multiplying the Rating to the Similarity Index**"
      ]
    },
    {
      "cell_type": "code",
      "execution_count": null,
      "metadata": {
        "colab": {
          "base_uri": "https://localhost:8080/",
          "height": 424
        },
        "id": "0aj0CVsDFa6C",
        "outputId": "33ef0ce1-96d0-408d-be89-5abafa87d37d"
      },
      "outputs": [
        {
          "data": {
            "text/html": [
              "\n",
              "  <div id=\"df-cf7664db-2c98-45b7-bc60-4d0592cdbf51\">\n",
              "    <div class=\"colab-df-container\">\n",
              "      <div>\n",
              "<style scoped>\n",
              "    .dataframe tbody tr th:only-of-type {\n",
              "        vertical-align: middle;\n",
              "    }\n",
              "\n",
              "    .dataframe tbody tr th {\n",
              "        vertical-align: top;\n",
              "    }\n",
              "\n",
              "    .dataframe thead th {\n",
              "        text-align: right;\n",
              "    }\n",
              "</style>\n",
              "<table border=\"1\" class=\"dataframe\">\n",
              "  <thead>\n",
              "    <tr style=\"text-align: right;\">\n",
              "      <th></th>\n",
              "      <th>UserID</th>\n",
              "      <th>MovieID</th>\n",
              "      <th>Rating</th>\n",
              "      <th>Similarity_Index</th>\n",
              "      <th>Weighted_Rating</th>\n",
              "    </tr>\n",
              "  </thead>\n",
              "  <tbody>\n",
              "    <tr>\n",
              "      <th>0</th>\n",
              "      <td>3010</td>\n",
              "      <td>587</td>\n",
              "      <td>3</td>\n",
              "      <td>0.815385</td>\n",
              "      <td>2.446156</td>\n",
              "    </tr>\n",
              "    <tr>\n",
              "      <th>1</th>\n",
              "      <td>3010</td>\n",
              "      <td>839</td>\n",
              "      <td>3</td>\n",
              "      <td>0.815385</td>\n",
              "      <td>2.446156</td>\n",
              "    </tr>\n",
              "    <tr>\n",
              "      <th>2</th>\n",
              "      <td>3010</td>\n",
              "      <td>114</td>\n",
              "      <td>5</td>\n",
              "      <td>0.815385</td>\n",
              "      <td>4.076926</td>\n",
              "    </tr>\n",
              "    <tr>\n",
              "      <th>3</th>\n",
              "      <td>3010</td>\n",
              "      <td>53</td>\n",
              "      <td>3</td>\n",
              "      <td>0.815385</td>\n",
              "      <td>2.446156</td>\n",
              "    </tr>\n",
              "    <tr>\n",
              "      <th>4</th>\n",
              "      <td>3010</td>\n",
              "      <td>840</td>\n",
              "      <td>2</td>\n",
              "      <td>0.815385</td>\n",
              "      <td>1.630770</td>\n",
              "    </tr>\n",
              "    <tr>\n",
              "      <th>...</th>\n",
              "      <td>...</td>\n",
              "      <td>...</td>\n",
              "      <td>...</td>\n",
              "      <td>...</td>\n",
              "      <td>...</td>\n",
              "    </tr>\n",
              "    <tr>\n",
              "      <th>9338</th>\n",
              "      <td>702</td>\n",
              "      <td>1787</td>\n",
              "      <td>2</td>\n",
              "      <td>0.508689</td>\n",
              "      <td>1.017379</td>\n",
              "    </tr>\n",
              "    <tr>\n",
              "      <th>9339</th>\n",
              "      <td>702</td>\n",
              "      <td>586</td>\n",
              "      <td>2</td>\n",
              "      <td>0.508689</td>\n",
              "      <td>1.017379</td>\n",
              "    </tr>\n",
              "    <tr>\n",
              "      <th>9340</th>\n",
              "      <td>702</td>\n",
              "      <td>831</td>\n",
              "      <td>2</td>\n",
              "      <td>0.508689</td>\n",
              "      <td>1.017379</td>\n",
              "    </tr>\n",
              "    <tr>\n",
              "      <th>9341</th>\n",
              "      <td>702</td>\n",
              "      <td>2485</td>\n",
              "      <td>1</td>\n",
              "      <td>0.508689</td>\n",
              "      <td>0.508689</td>\n",
              "    </tr>\n",
              "    <tr>\n",
              "      <th>9342</th>\n",
              "      <td>702</td>\n",
              "      <td>294</td>\n",
              "      <td>5</td>\n",
              "      <td>0.508689</td>\n",
              "      <td>2.543447</td>\n",
              "    </tr>\n",
              "  </tbody>\n",
              "</table>\n",
              "<p>9343 rows × 5 columns</p>\n",
              "</div>\n",
              "      <button class=\"colab-df-convert\" onclick=\"convertToInteractive('df-cf7664db-2c98-45b7-bc60-4d0592cdbf51')\"\n",
              "              title=\"Convert this dataframe to an interactive table.\"\n",
              "              style=\"display:none;\">\n",
              "        \n",
              "  <svg xmlns=\"http://www.w3.org/2000/svg\" height=\"24px\"viewBox=\"0 0 24 24\"\n",
              "       width=\"24px\">\n",
              "    <path d=\"M0 0h24v24H0V0z\" fill=\"none\"/>\n",
              "    <path d=\"M18.56 5.44l.94 2.06.94-2.06 2.06-.94-2.06-.94-.94-2.06-.94 2.06-2.06.94zm-11 1L8.5 8.5l.94-2.06 2.06-.94-2.06-.94L8.5 2.5l-.94 2.06-2.06.94zm10 10l.94 2.06.94-2.06 2.06-.94-2.06-.94-.94-2.06-.94 2.06-2.06.94z\"/><path d=\"M17.41 7.96l-1.37-1.37c-.4-.4-.92-.59-1.43-.59-.52 0-1.04.2-1.43.59L10.3 9.45l-7.72 7.72c-.78.78-.78 2.05 0 2.83L4 21.41c.39.39.9.59 1.41.59.51 0 1.02-.2 1.41-.59l7.78-7.78 2.81-2.81c.8-.78.8-2.07 0-2.86zM5.41 20L4 18.59l7.72-7.72 1.47 1.35L5.41 20z\"/>\n",
              "  </svg>\n",
              "      </button>\n",
              "      \n",
              "  <style>\n",
              "    .colab-df-container {\n",
              "      display:flex;\n",
              "      flex-wrap:wrap;\n",
              "      gap: 12px;\n",
              "    }\n",
              "\n",
              "    .colab-df-convert {\n",
              "      background-color: #E8F0FE;\n",
              "      border: none;\n",
              "      border-radius: 50%;\n",
              "      cursor: pointer;\n",
              "      display: none;\n",
              "      fill: #1967D2;\n",
              "      height: 32px;\n",
              "      padding: 0 0 0 0;\n",
              "      width: 32px;\n",
              "    }\n",
              "\n",
              "    .colab-df-convert:hover {\n",
              "      background-color: #E2EBFA;\n",
              "      box-shadow: 0px 1px 2px rgba(60, 64, 67, 0.3), 0px 1px 3px 1px rgba(60, 64, 67, 0.15);\n",
              "      fill: #174EA6;\n",
              "    }\n",
              "\n",
              "    [theme=dark] .colab-df-convert {\n",
              "      background-color: #3B4455;\n",
              "      fill: #D2E3FC;\n",
              "    }\n",
              "\n",
              "    [theme=dark] .colab-df-convert:hover {\n",
              "      background-color: #434B5C;\n",
              "      box-shadow: 0px 1px 3px 1px rgba(0, 0, 0, 0.15);\n",
              "      filter: drop-shadow(0px 1px 2px rgba(0, 0, 0, 0.3));\n",
              "      fill: #FFFFFF;\n",
              "    }\n",
              "  </style>\n",
              "\n",
              "      <script>\n",
              "        const buttonEl =\n",
              "          document.querySelector('#df-cf7664db-2c98-45b7-bc60-4d0592cdbf51 button.colab-df-convert');\n",
              "        buttonEl.style.display =\n",
              "          google.colab.kernel.accessAllowed ? 'block' : 'none';\n",
              "\n",
              "        async function convertToInteractive(key) {\n",
              "          const element = document.querySelector('#df-cf7664db-2c98-45b7-bc60-4d0592cdbf51');\n",
              "          const dataTable =\n",
              "            await google.colab.kernel.invokeFunction('convertToInteractive',\n",
              "                                                     [key], {});\n",
              "          if (!dataTable) return;\n",
              "\n",
              "          const docLinkHtml = 'Like what you see? Visit the ' +\n",
              "            '<a target=\"_blank\" href=https://colab.research.google.com/notebooks/data_table.ipynb>data table notebook</a>'\n",
              "            + ' to learn more about interactive tables.';\n",
              "          element.innerHTML = '';\n",
              "          dataTable['output_type'] = 'display_data';\n",
              "          await google.colab.output.renderOutput(dataTable, element);\n",
              "          const docLink = document.createElement('div');\n",
              "          docLink.innerHTML = docLinkHtml;\n",
              "          element.appendChild(docLink);\n",
              "        }\n",
              "      </script>\n",
              "    </div>\n",
              "  </div>\n",
              "  "
            ],
            "text/plain": [
              "      UserID  MovieID  Rating  Similarity_Index  Weighted_Rating\n",
              "0       3010      587       3          0.815385         2.446156\n",
              "1       3010      839       3          0.815385         2.446156\n",
              "2       3010      114       5          0.815385         4.076926\n",
              "3       3010       53       3          0.815385         2.446156\n",
              "4       3010      840       2          0.815385         1.630770\n",
              "...      ...      ...     ...               ...              ...\n",
              "9338     702     1787       2          0.508689         1.017379\n",
              "9339     702      586       2          0.508689         1.017379\n",
              "9340     702      831       2          0.508689         1.017379\n",
              "9341     702     2485       1          0.508689         0.508689\n",
              "9342     702      294       5          0.508689         2.543447\n",
              "\n",
              "[9343 rows x 5 columns]"
            ]
          },
          "execution_count": 265,
          "metadata": {},
          "output_type": "execute_result"
        }
      ],
      "source": [
        "users_rating = pearson_df.merge(df, on='UserID', how='inner')\n",
        "users_rating['Weighted_Rating'] = users_rating['Rating'] * users_rating['Similarity_Index']\n",
        "users_rating = users_rating[['UserID', 'MovieID', 'Rating', 'Similarity_Index', 'Weighted_Rating']]\n",
        "users_rating"
      ]
    },
    {
      "cell_type": "markdown",
      "metadata": {
        "id": "tzy_h2qDNfGF"
      },
      "source": [
        "**Add average recommendation score by dividing Weighted Rating by the Similarity Index. Then select movies with the highest score i.e., 5**"
      ]
    },
    {
      "cell_type": "code",
      "execution_count": null,
      "metadata": {
        "colab": {
          "base_uri": "https://localhost:8080/",
          "height": 424
        },
        "id": "IvCFivKfIXuY",
        "outputId": "dd86b71c-2e37-4d67-9162-fc3173419bfa"
      },
      "outputs": [
        {
          "data": {
            "text/html": [
              "\n",
              "  <div id=\"df-1d780d30-2621-459b-94e9-3591fe7771cf\">\n",
              "    <div class=\"colab-df-container\">\n",
              "      <div>\n",
              "<style scoped>\n",
              "    .dataframe tbody tr th:only-of-type {\n",
              "        vertical-align: middle;\n",
              "    }\n",
              "\n",
              "    .dataframe tbody tr th {\n",
              "        vertical-align: top;\n",
              "    }\n",
              "\n",
              "    .dataframe thead th {\n",
              "        text-align: right;\n",
              "    }\n",
              "</style>\n",
              "<table border=\"1\" class=\"dataframe\">\n",
              "  <thead>\n",
              "    <tr style=\"text-align: right;\">\n",
              "      <th></th>\n",
              "      <th>Avg_Rec_Score</th>\n",
              "      <th>MovieID</th>\n",
              "    </tr>\n",
              "  </thead>\n",
              "  <tbody>\n",
              "    <tr>\n",
              "      <th>4</th>\n",
              "      <td>5.0</td>\n",
              "      <td>4</td>\n",
              "    </tr>\n",
              "    <tr>\n",
              "      <th>11</th>\n",
              "      <td>5.0</td>\n",
              "      <td>11</td>\n",
              "    </tr>\n",
              "    <tr>\n",
              "      <th>24</th>\n",
              "      <td>5.0</td>\n",
              "      <td>24</td>\n",
              "    </tr>\n",
              "    <tr>\n",
              "      <th>28</th>\n",
              "      <td>5.0</td>\n",
              "      <td>28</td>\n",
              "    </tr>\n",
              "    <tr>\n",
              "      <th>120</th>\n",
              "      <td>5.0</td>\n",
              "      <td>120</td>\n",
              "    </tr>\n",
              "    <tr>\n",
              "      <th>...</th>\n",
              "      <td>...</td>\n",
              "      <td>...</td>\n",
              "    </tr>\n",
              "    <tr>\n",
              "      <th>2509</th>\n",
              "      <td>5.0</td>\n",
              "      <td>2690</td>\n",
              "    </tr>\n",
              "    <tr>\n",
              "      <th>2513</th>\n",
              "      <td>5.0</td>\n",
              "      <td>2694</td>\n",
              "    </tr>\n",
              "    <tr>\n",
              "      <th>2548</th>\n",
              "      <td>5.0</td>\n",
              "      <td>2733</td>\n",
              "    </tr>\n",
              "    <tr>\n",
              "      <th>2553</th>\n",
              "      <td>5.0</td>\n",
              "      <td>2739</td>\n",
              "    </tr>\n",
              "    <tr>\n",
              "      <th>2555</th>\n",
              "      <td>5.0</td>\n",
              "      <td>2741</td>\n",
              "    </tr>\n",
              "  </tbody>\n",
              "</table>\n",
              "<p>126 rows × 2 columns</p>\n",
              "</div>\n",
              "      <button class=\"colab-df-convert\" onclick=\"convertToInteractive('df-1d780d30-2621-459b-94e9-3591fe7771cf')\"\n",
              "              title=\"Convert this dataframe to an interactive table.\"\n",
              "              style=\"display:none;\">\n",
              "        \n",
              "  <svg xmlns=\"http://www.w3.org/2000/svg\" height=\"24px\"viewBox=\"0 0 24 24\"\n",
              "       width=\"24px\">\n",
              "    <path d=\"M0 0h24v24H0V0z\" fill=\"none\"/>\n",
              "    <path d=\"M18.56 5.44l.94 2.06.94-2.06 2.06-.94-2.06-.94-.94-2.06-.94 2.06-2.06.94zm-11 1L8.5 8.5l.94-2.06 2.06-.94-2.06-.94L8.5 2.5l-.94 2.06-2.06.94zm10 10l.94 2.06.94-2.06 2.06-.94-2.06-.94-.94-2.06-.94 2.06-2.06.94z\"/><path d=\"M17.41 7.96l-1.37-1.37c-.4-.4-.92-.59-1.43-.59-.52 0-1.04.2-1.43.59L10.3 9.45l-7.72 7.72c-.78.78-.78 2.05 0 2.83L4 21.41c.39.39.9.59 1.41.59.51 0 1.02-.2 1.41-.59l7.78-7.78 2.81-2.81c.8-.78.8-2.07 0-2.86zM5.41 20L4 18.59l7.72-7.72 1.47 1.35L5.41 20z\"/>\n",
              "  </svg>\n",
              "      </button>\n",
              "      \n",
              "  <style>\n",
              "    .colab-df-container {\n",
              "      display:flex;\n",
              "      flex-wrap:wrap;\n",
              "      gap: 12px;\n",
              "    }\n",
              "\n",
              "    .colab-df-convert {\n",
              "      background-color: #E8F0FE;\n",
              "      border: none;\n",
              "      border-radius: 50%;\n",
              "      cursor: pointer;\n",
              "      display: none;\n",
              "      fill: #1967D2;\n",
              "      height: 32px;\n",
              "      padding: 0 0 0 0;\n",
              "      width: 32px;\n",
              "    }\n",
              "\n",
              "    .colab-df-convert:hover {\n",
              "      background-color: #E2EBFA;\n",
              "      box-shadow: 0px 1px 2px rgba(60, 64, 67, 0.3), 0px 1px 3px 1px rgba(60, 64, 67, 0.15);\n",
              "      fill: #174EA6;\n",
              "    }\n",
              "\n",
              "    [theme=dark] .colab-df-convert {\n",
              "      background-color: #3B4455;\n",
              "      fill: #D2E3FC;\n",
              "    }\n",
              "\n",
              "    [theme=dark] .colab-df-convert:hover {\n",
              "      background-color: #434B5C;\n",
              "      box-shadow: 0px 1px 3px 1px rgba(0, 0, 0, 0.15);\n",
              "      filter: drop-shadow(0px 1px 2px rgba(0, 0, 0, 0.3));\n",
              "      fill: #FFFFFF;\n",
              "    }\n",
              "  </style>\n",
              "\n",
              "      <script>\n",
              "        const buttonEl =\n",
              "          document.querySelector('#df-1d780d30-2621-459b-94e9-3591fe7771cf button.colab-df-convert');\n",
              "        buttonEl.style.display =\n",
              "          google.colab.kernel.accessAllowed ? 'block' : 'none';\n",
              "\n",
              "        async function convertToInteractive(key) {\n",
              "          const element = document.querySelector('#df-1d780d30-2621-459b-94e9-3591fe7771cf');\n",
              "          const dataTable =\n",
              "            await google.colab.kernel.invokeFunction('convertToInteractive',\n",
              "                                                     [key], {});\n",
              "          if (!dataTable) return;\n",
              "\n",
              "          const docLinkHtml = 'Like what you see? Visit the ' +\n",
              "            '<a target=\"_blank\" href=https://colab.research.google.com/notebooks/data_table.ipynb>data table notebook</a>'\n",
              "            + ' to learn more about interactive tables.';\n",
              "          element.innerHTML = '';\n",
              "          dataTable['output_type'] = 'display_data';\n",
              "          await google.colab.output.renderOutput(dataTable, element);\n",
              "          const docLink = document.createElement('div');\n",
              "          docLink.innerHTML = docLinkHtml;\n",
              "          element.appendChild(docLink);\n",
              "        }\n",
              "      </script>\n",
              "    </div>\n",
              "  </div>\n",
              "  "
            ],
            "text/plain": [
              "      Avg_Rec_Score  MovieID\n",
              "4               5.0        4\n",
              "11              5.0       11\n",
              "24              5.0       24\n",
              "28              5.0       28\n",
              "120             5.0      120\n",
              "...             ...      ...\n",
              "2509            5.0     2690\n",
              "2513            5.0     2694\n",
              "2548            5.0     2733\n",
              "2553            5.0     2739\n",
              "2555            5.0     2741\n",
              "\n",
              "[126 rows x 2 columns]"
            ]
          },
          "execution_count": 272,
          "metadata": {},
          "output_type": "execute_result"
        }
      ],
      "source": [
        "grouped_ratings = users_rating.groupby('MovieID').sum()[['Similarity_Index', 'Weighted_Rating']]\n",
        "\n",
        "recommend_movies = pd.DataFrame()\n",
        "\n",
        "recommend_movies['Avg_Rec_Score'] = grouped_ratings['Weighted_Rating'] / grouped_ratings['Similarity_Index']\n",
        "recommend_movies['MovieID'] = grouped_ratings.index\n",
        "recommend_movies.reset_index(drop=True, inplace=True)\n",
        "\n",
        "recommend_movies = recommend_movies[recommend_movies['Avg_Rec_Score'] == 5]\n",
        "recommend_movies"
      ]
    },
    {
      "cell_type": "markdown",
      "metadata": {
        "id": "2N-v3vq8Nsma"
      },
      "source": [
        "**Recommend 10 movies based on the ratings given by old users who are similar to the new user**"
      ]
    },
    {
      "cell_type": "code",
      "execution_count": null,
      "metadata": {
        "colab": {
          "base_uri": "https://localhost:8080/",
          "height": 363
        },
        "id": "q4fqcrEAHaDI",
        "outputId": "539549f3-fe59-479c-8901-0076305f9bc3"
      },
      "outputs": [
        {
          "data": {
            "text/html": [
              "\n",
              "  <div id=\"df-e28eb5b4-6c5f-4310-aa82-2cbba38eb7cc\">\n",
              "    <div class=\"colab-df-container\">\n",
              "      <div>\n",
              "<style scoped>\n",
              "    .dataframe tbody tr th:only-of-type {\n",
              "        vertical-align: middle;\n",
              "    }\n",
              "\n",
              "    .dataframe tbody tr th {\n",
              "        vertical-align: top;\n",
              "    }\n",
              "\n",
              "    .dataframe thead th {\n",
              "        text-align: right;\n",
              "    }\n",
              "</style>\n",
              "<table border=\"1\" class=\"dataframe\">\n",
              "  <thead>\n",
              "    <tr style=\"text-align: right;\">\n",
              "      <th></th>\n",
              "      <th>MovieID</th>\n",
              "      <th>Title</th>\n",
              "    </tr>\n",
              "  </thead>\n",
              "  <tbody>\n",
              "    <tr>\n",
              "      <th>593302</th>\n",
              "      <td>1333</td>\n",
              "      <td>Playing by Heart</td>\n",
              "    </tr>\n",
              "    <tr>\n",
              "      <th>265745</th>\n",
              "      <td>1676</td>\n",
              "      <td>Laura</td>\n",
              "    </tr>\n",
              "    <tr>\n",
              "      <th>278869</th>\n",
              "      <td>1900</td>\n",
              "      <td>Bank Dick, The</td>\n",
              "    </tr>\n",
              "    <tr>\n",
              "      <th>925949</th>\n",
              "      <td>4</td>\n",
              "      <td>Schindler's List</td>\n",
              "    </tr>\n",
              "    <tr>\n",
              "      <th>349609</th>\n",
              "      <td>2276</td>\n",
              "      <td>Paths of Glory</td>\n",
              "    </tr>\n",
              "    <tr>\n",
              "      <th>284686</th>\n",
              "      <td>185</td>\n",
              "      <td>Primary Colors</td>\n",
              "    </tr>\n",
              "    <tr>\n",
              "      <th>529817</th>\n",
              "      <td>1199</td>\n",
              "      <td>When We Were Kings</td>\n",
              "    </tr>\n",
              "    <tr>\n",
              "      <th>33040</th>\n",
              "      <td>1875</td>\n",
              "      <td>Carnal Knowledge</td>\n",
              "    </tr>\n",
              "    <tr>\n",
              "      <th>259918</th>\n",
              "      <td>11</td>\n",
              "      <td>Wallace &amp; Gromit: The Best of Aardman Animation</td>\n",
              "    </tr>\n",
              "    <tr>\n",
              "      <th>49567</th>\n",
              "      <td>1590</td>\n",
              "      <td>On the Town</td>\n",
              "    </tr>\n",
              "  </tbody>\n",
              "</table>\n",
              "</div>\n",
              "      <button class=\"colab-df-convert\" onclick=\"convertToInteractive('df-e28eb5b4-6c5f-4310-aa82-2cbba38eb7cc')\"\n",
              "              title=\"Convert this dataframe to an interactive table.\"\n",
              "              style=\"display:none;\">\n",
              "        \n",
              "  <svg xmlns=\"http://www.w3.org/2000/svg\" height=\"24px\"viewBox=\"0 0 24 24\"\n",
              "       width=\"24px\">\n",
              "    <path d=\"M0 0h24v24H0V0z\" fill=\"none\"/>\n",
              "    <path d=\"M18.56 5.44l.94 2.06.94-2.06 2.06-.94-2.06-.94-.94-2.06-.94 2.06-2.06.94zm-11 1L8.5 8.5l.94-2.06 2.06-.94-2.06-.94L8.5 2.5l-.94 2.06-2.06.94zm10 10l.94 2.06.94-2.06 2.06-.94-2.06-.94-.94-2.06-.94 2.06-2.06.94z\"/><path d=\"M17.41 7.96l-1.37-1.37c-.4-.4-.92-.59-1.43-.59-.52 0-1.04.2-1.43.59L10.3 9.45l-7.72 7.72c-.78.78-.78 2.05 0 2.83L4 21.41c.39.39.9.59 1.41.59.51 0 1.02-.2 1.41-.59l7.78-7.78 2.81-2.81c.8-.78.8-2.07 0-2.86zM5.41 20L4 18.59l7.72-7.72 1.47 1.35L5.41 20z\"/>\n",
              "  </svg>\n",
              "      </button>\n",
              "      \n",
              "  <style>\n",
              "    .colab-df-container {\n",
              "      display:flex;\n",
              "      flex-wrap:wrap;\n",
              "      gap: 12px;\n",
              "    }\n",
              "\n",
              "    .colab-df-convert {\n",
              "      background-color: #E8F0FE;\n",
              "      border: none;\n",
              "      border-radius: 50%;\n",
              "      cursor: pointer;\n",
              "      display: none;\n",
              "      fill: #1967D2;\n",
              "      height: 32px;\n",
              "      padding: 0 0 0 0;\n",
              "      width: 32px;\n",
              "    }\n",
              "\n",
              "    .colab-df-convert:hover {\n",
              "      background-color: #E2EBFA;\n",
              "      box-shadow: 0px 1px 2px rgba(60, 64, 67, 0.3), 0px 1px 3px 1px rgba(60, 64, 67, 0.15);\n",
              "      fill: #174EA6;\n",
              "    }\n",
              "\n",
              "    [theme=dark] .colab-df-convert {\n",
              "      background-color: #3B4455;\n",
              "      fill: #D2E3FC;\n",
              "    }\n",
              "\n",
              "    [theme=dark] .colab-df-convert:hover {\n",
              "      background-color: #434B5C;\n",
              "      box-shadow: 0px 1px 3px 1px rgba(0, 0, 0, 0.15);\n",
              "      filter: drop-shadow(0px 1px 2px rgba(0, 0, 0, 0.3));\n",
              "      fill: #FFFFFF;\n",
              "    }\n",
              "  </style>\n",
              "\n",
              "      <script>\n",
              "        const buttonEl =\n",
              "          document.querySelector('#df-e28eb5b4-6c5f-4310-aa82-2cbba38eb7cc button.colab-df-convert');\n",
              "        buttonEl.style.display =\n",
              "          google.colab.kernel.accessAllowed ? 'block' : 'none';\n",
              "\n",
              "        async function convertToInteractive(key) {\n",
              "          const element = document.querySelector('#df-e28eb5b4-6c5f-4310-aa82-2cbba38eb7cc');\n",
              "          const dataTable =\n",
              "            await google.colab.kernel.invokeFunction('convertToInteractive',\n",
              "                                                     [key], {});\n",
              "          if (!dataTable) return;\n",
              "\n",
              "          const docLinkHtml = 'Like what you see? Visit the ' +\n",
              "            '<a target=\"_blank\" href=https://colab.research.google.com/notebooks/data_table.ipynb>data table notebook</a>'\n",
              "            + ' to learn more about interactive tables.';\n",
              "          element.innerHTML = '';\n",
              "          dataTable['output_type'] = 'display_data';\n",
              "          await google.colab.output.renderOutput(dataTable, element);\n",
              "          const docLink = document.createElement('div');\n",
              "          docLink.innerHTML = docLinkHtml;\n",
              "          element.appendChild(docLink);\n",
              "        }\n",
              "      </script>\n",
              "    </div>\n",
              "  </div>\n",
              "  "
            ],
            "text/plain": [
              "        MovieID                                            Title\n",
              "593302     1333                                 Playing by Heart\n",
              "265745     1676                                            Laura\n",
              "278869     1900                                   Bank Dick, The\n",
              "925949        4                                 Schindler's List\n",
              "349609     2276                                   Paths of Glory\n",
              "284686      185                                   Primary Colors\n",
              "529817     1199                               When We Were Kings\n",
              "33040      1875                                 Carnal Knowledge\n",
              "259918       11  Wallace & Gromit: The Best of Aardman Animation\n",
              "49567      1590                                      On the Town"
            ]
          },
          "execution_count": 273,
          "metadata": {},
          "output_type": "execute_result"
        }
      ],
      "source": [
        "recommendations = df[df['MovieID'].isin(recommend_movies['MovieID'])][['MovieID', 'Title']].sample(10)\n",
        "recommendations"
      ]
    }
  ],
  "metadata": {
    "accelerator": "GPU",
    "colab": {
      "collapsed_sections": [],
      "provenance": [],
      "toc_visible": true
    },
    "kernelspec": {
      "display_name": "Python 3",
      "name": "python3"
    },
    "language_info": {
      "name": "python"
    }
  },
  "nbformat": 4,
  "nbformat_minor": 0
}
